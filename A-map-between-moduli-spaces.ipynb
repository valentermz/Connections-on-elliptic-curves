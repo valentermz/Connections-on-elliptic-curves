{
 "cells": [
  {
   "cell_type": "markdown",
   "metadata": {},
   "source": [
    "# Universal family of connections over $\\mathbb{P}^1$ and the involution $\\Psi$\n",
    "\n",
    "Here we consider connections on a rank 2 trivial bundle over $\\mathbb{P}^1$, having a logarithmic singularity at $t_1$ with local exponents $\\pm \\nu$, and four additional apparent singularities over $0,1,t_2,\\infty$ with exponents $\\pm\\frac{1}{2}$.\n",
    "\n",
    "Our interest in this family is that we can then pullback these connections over the elliptic curve given by $y^2 = x(x-1)(x-t_2)$. After birational transformation we recover a connection over the elliptic curve with two logarithmic poles (each with exponents $\\pm\\nu$).\n",
    "\n",
    "This notebook contains the computations mentioned in the paper *A map between moduli spaces of connections*.\n",
    "\n",
    "### A remark about notation\n",
    "\n",
    "In the paper we use variables $\\lambda, t$ to describe points on the elliptic curve, and $(u_t, u_\\lambda, c_1, c_2)$ to describe points on the moduli space $\\operatorname{Con}^\\nu_\\mu(\\mathbb{P}^1, D)$.  \n",
    "Here we denote these variables as follows:\n",
    "\n",
    "| LaTeX | Python |\n",
    "| --- | --- |\n",
    "| $t$ | `t1` |\n",
    "| $\\lambda$ | `t2` |\n",
    "| $u_t$ | `u1` |\n",
    "| $u_\\lambda$ | `u2` |"
   ]
  },
  {
   "cell_type": "code",
   "execution_count": 1,
   "metadata": {},
   "outputs": [
    {
     "data": {
      "text/html": [
       "<style>.container { width:85% !important; }</style>"
      ],
      "text/plain": [
       "<IPython.core.display.HTML object>"
      ]
     },
     "metadata": {},
     "output_type": "display_data"
    }
   ],
   "source": [
    "from IPython.core.display import display, HTML, Math\n",
    "\n",
    "# Define the width of the cells\n",
    "display(HTML(\"<style>.container { width:85% !important; }</style>\"));\n",
    "\n",
    "def printMath(expr):\n",
    "    return display(Math(latex(expr)))"
   ]
  },
  {
   "cell_type": "code",
   "execution_count": 2,
   "metadata": {},
   "outputs": [],
   "source": [
    "%display latex"
   ]
  },
  {
   "cell_type": "code",
   "execution_count": 3,
   "metadata": {},
   "outputs": [],
   "source": [
    "var('x t1 t2 u1 u2 nu c1 c2 zeta')\n",
    "n = 2*nu  # n is the difference of of the eigenvalues nu^+ - nu^-, in this case n = 2*nu^+\n",
    "\n",
    "f = x * (x-1) * (x-t2)  # Polynomial defining the elliptic curve y = P(x)\n",
    "df = diff(f, x)  # Its derivative"
   ]
  },
  {
   "cell_type": "markdown",
   "metadata": {},
   "source": [
    "**Remark:** Here (and on the paper) we use the coordinate $\\zeta$ on the fiber which represents $[1:\\zeta]$, this is the inverse of the coordinate used in Loray-Saito."
   ]
  },
  {
   "cell_type": "markdown",
   "metadata": {},
   "source": [
    "## Universal family defined in Loray-Saito\n",
    "\n",
    "We begin by importing the the universal family and a few other formulas (modulo the above remark)."
   ]
  },
  {
   "cell_type": "code",
   "execution_count": 4,
   "metadata": {},
   "outputs": [],
   "source": [
    "Nabla0 = matrix([\n",
    "    (-1/2*n*t1*t2*x + 1/2*n*t1*x^2 + 1/2*n*t2*x - 1/2*n*x^2 - 1/4*t1*x^2 + 1/4*x^3 - 1/4*t1*t2 + 1/2*t1*x + 1/4*t2*x - 1/2*x^2, 1/2*(n + 1)*(t1 - x)*(t2 - x)),\n",
    "    (-1/2*(2*n*t2*u1*x - 2*n*u1*x^2 + n*t1*t2 - 2*n*t2*u1 - n*t1*x - n*t2*x + 2*n*u1*x + t1*u2*x + n*x^2 - u2*x^2 - t1*u2 + u2*x)*x, 1/2*n*t1*t2*x - 1/2*n*t1*x^2 - 1/2*n*t2*x + 1/2*n*x^2 + 1/4*t1*x^2 - 1/4*x^3 + 1/4*t1*t2 - 1/2*t1*x - 1/4*t2*x + 1/2*x^2)\n",
    "])/(x*(x-1)*(x-t1)*(x-t2))\n",
    "\n",
    "Theta1 = matrix([\n",
    "    (-(t1 - 1)*(t2 - x)*u1*x, (t1*u1 + t1*x - u1*x - t1)*(t2 - x)),\n",
    "    (-(u1*x + t1 - u1 - x)*(t2 - x)*u1*x, (t1 - 1)*(t2 - x)*u1*x)\n",
    "])/(x*(x-1)*(x-t1)*(x-t2))\n",
    "\n",
    "Theta2 = matrix([\n",
    "    (-(t1 - x)*(t2 - 1)*u2*x, (t2*u2 + t2*x - u2*x - t2)*(t1 - x)),\n",
    "    (-(u2*x + t2 - u2 - x)*(t1 - x)*u2*x, (t1 - x)*(t2 - 1)*u2*x)\n",
    "])/(x*(x-1)*(x-t1)*(x-t2))"
   ]
  },
  {
   "cell_type": "markdown",
   "metadata": {},
   "source": [
    "# The involution $\\psi$\n",
    "\n",
    "We begin by computing the multisection $S_\\Sigma$. It is characterized as the unique (2,2)-curve in $\\mathbb P^1_x\\times\\mathbb P^1_\\zeta$ having vertical tangencies over $x=0,1,\\lambda,\\infty$.  \n",
    "See: Figure 1 and Remark 8.1 in the paper"
   ]
  },
  {
   "cell_type": "code",
   "execution_count": 5,
   "metadata": {},
   "outputs": [],
   "source": [
    "coeff = var('a00 a01 a02 a10 a11 a12 a20 a21 a22')\n",
    "Q = a00 + a01*zeta + a02*zeta^2 + (a10 + a11*zeta + a12*zeta^2)*x + (a20 + a21*zeta + a22*zeta^2)*x^2  # generic curve of bidegree (2,2)"
   ]
  },
  {
   "cell_type": "code",
   "execution_count": 6,
   "metadata": {},
   "outputs": [],
   "source": [
    "Eqns = []\n",
    "\n",
    "poles = [0,1,t2]\n",
    "heights = [0, 1, u2]\n",
    "\n",
    "for i in range(3):\n",
    "    p = poles[i]\n",
    "    u = heights[i]\n",
    "    eq1 = Q.subs([x==poles[i], zeta==heights[i]])\n",
    "    eq2 = diff(Q, zeta).subs([x==poles[i], zeta==heights[i]])\n",
    "    Eqns.append(eq1.expand())\n",
    "    Eqns.append(eq2.expand())\n",
    "\n",
    "# conditions at x=infty\n",
    "Eqns.append(a22)\n",
    "Eqns.append(a21)\n",
    "\n",
    "# We can still have the freedom to multiply by a non-zer scalar factor\n",
    "Sols = solve(Eqns + [a20 == u2*(u2-1)], coeff)"
   ]
  },
  {
   "cell_type": "code",
   "execution_count": 7,
   "metadata": {},
   "outputs": [
    {
     "data": {
      "text/html": [
       "<html><script type=\"math/tex; mode=display\">\\newcommand{\\Bold}[1]{\\mathbf{#1}}u_{2}^{2} x^{2} - 2 \\, t_{2} u_{2} x \\zeta + t_{2} u_{2} \\zeta^{2} + t_{2} x \\zeta^{2} - u_{2} x \\zeta^{2} + t_{2} u_{2} x - u_{2}^{2} x - u_{2} x^{2} + 2 \\, u_{2} x \\zeta - t_{2} \\zeta^{2}</script></html>"
      ],
      "text/plain": [
       "u2^2*x^2 - 2*t2*u2*x*zeta + t2*u2*zeta^2 + t2*x*zeta^2 - u2*x*zeta^2 + t2*u2*x - u2^2*x - u2*x^2 + 2*u2*x*zeta - t2*zeta^2"
      ]
     },
     "execution_count": 7,
     "metadata": {},
     "output_type": "execute_result"
    }
   ],
   "source": [
    "# Final expression for S_Sigma:\n",
    "S_Sigma = Q.subs(Sols[0]).expand()\n",
    "S_Sigma"
   ]
  },
  {
   "cell_type": "markdown",
   "metadata": {},
   "source": [
    "The curve $\\Sigma$ in the moduli space of parabolic bundles consists of those bundles for which the parabolic above `t1` is on the curve `S_Sigma`. These are precisely those parabolic structures fixed by $\\psi$."
   ]
  },
  {
   "cell_type": "code",
   "execution_count": 8,
   "metadata": {},
   "outputs": [
    {
     "data": {
      "text/html": [
       "<html><script type=\"math/tex; mode=display\">\\newcommand{\\Bold}[1]{\\mathbf{#1}}t_{1} t_{2} u_{1}^{2} - 2 \\, t_{1} t_{2} u_{1} u_{2} - t_{1} u_{1}^{2} u_{2} + t_{2} u_{1}^{2} u_{2} + t_{1}^{2} u_{2}^{2} - t_{2} u_{1}^{2} - t_{1}^{2} u_{2} + t_{1} t_{2} u_{2} + 2 \\, t_{1} u_{1} u_{2} - t_{1} u_{2}^{2}</script></html>"
      ],
      "text/plain": [
       "t1*t2*u1^2 - 2*t1*t2*u1*u2 - t1*u1^2*u2 + t2*u1^2*u2 + t1^2*u2^2 - t2*u1^2 - t1^2*u2 + t1*t2*u2 + 2*t1*u1*u2 - t1*u2^2"
      ]
     },
     "execution_count": 8,
     "metadata": {},
     "output_type": "execute_result"
    }
   ],
   "source": [
    "# Expression for Sigma:\n",
    "Sigma = S_Sigma.subs([x==t1, zeta==u1])\n",
    "Sigma"
   ]
  },
  {
   "cell_type": "markdown",
   "metadata": {},
   "source": [
    "Alternatively, we can think of $\\Sigma$ as follows:\n",
    "\n",
    "In the moduli space $\\mathbb{P}^1_{u_\\lambda} \\times \\mathbb{P}^1_{u_t}$, we have an involution $\\psi$. The set of fixed points of this involution is the elliptic curve $\\Sigma$. The projection $\\Sigma \\mapsto \\mathbb{P}^1_{u_\\lambda}$ ramifies over $u_\\lambda = 0,1,\\lambda,\\infty$. The height of the tangencies between $\\Sigma$ and the vertical lines ocurr at $0,1,t,\\infty$, respectively. Thus we can obtain an equation for $\\Sigma$ from the equation for $S_\\Sigma$ after substituting:\n",
    "\n",
    "* `u2 --> t1`, since the height of the tangency over $u_\\lambda=\\lambda$ is at $u_t=t$,\n",
    "* `x --> u2, zeta --> u1`, since these are the variables in the ambient space $\\mathbb{P}^1\\times\\mathbb{P}^1$."
   ]
  },
  {
   "cell_type": "code",
   "execution_count": 9,
   "metadata": {},
   "outputs": [
    {
     "data": {
      "text/html": [
       "<html><script type=\"math/tex; mode=display\">\\newcommand{\\Bold}[1]{\\mathbf{#1}}t_{1} t_{2} u_{1}^{2} - 2 \\, t_{1} t_{2} u_{1} u_{2} - t_{1} u_{1}^{2} u_{2} + t_{2} u_{1}^{2} u_{2} + t_{1}^{2} u_{2}^{2} - t_{2} u_{1}^{2} - t_{1}^{2} u_{2} + t_{1} t_{2} u_{2} + 2 \\, t_{1} u_{1} u_{2} - t_{1} u_{2}^{2}</script></html>"
      ],
      "text/plain": [
       "t1*t2*u1^2 - 2*t1*t2*u1*u2 - t1*u1^2*u2 + t2*u1^2*u2 + t1^2*u2^2 - t2*u1^2 - t1^2*u2 + t1*t2*u2 + 2*t1*u1*u2 - t1*u2^2"
      ]
     },
     "execution_count": 9,
     "metadata": {},
     "output_type": "execute_result"
    }
   ],
   "source": [
    "# Verify that we get the same expression:\n",
    "S_Sigma.subs(u2==t1).subs([x==u2, zeta==u1]).factor()"
   ]
  },
  {
   "cell_type": "markdown",
   "metadata": {},
   "source": [
    "### The special sections $S_\\Sigma^+$, $S_\\Sigma^-$ and the section $\\sigma_\\psi$\n",
    "\n",
    "We have $S_\\Sigma$ given implicitly as the zero locus of a bidegree (2,2) curve. We want to write $\\zeta$ as a function of $x$ over this curve.  \n",
    "Note that this ramifies into two branches: $S_\\Sigma^+$ and $S_\\Sigma^-$. Once we pullback to the elliptic curve we will obtain two unramified sections."
   ]
  },
  {
   "cell_type": "code",
   "execution_count": 10,
   "metadata": {},
   "outputs": [],
   "source": [
    "Sols = solve(S_Sigma, zeta)  # symbolically solves in terms of a ramified function `sqrt_Delta`"
   ]
  },
  {
   "cell_type": "code",
   "execution_count": 11,
   "metadata": {},
   "outputs": [],
   "source": [
    "sqrt_Delta = (zeta.subs(Sols[1]) - zeta.subs(Sols[0])).simplify_rational().numerator()/2\n",
    "Delta = (sqrt_Delta^2).factor()\n",
    "alpha = (zeta.subs(Sols[1]).numerator() - sqrt_Delta).factor()\n",
    "beta = zeta.subs(Sols[1]).denominator().factor()"
   ]
  },
  {
   "cell_type": "code",
   "execution_count": 12,
   "metadata": {},
   "outputs": [
    {
     "data": {
      "text/latex": [
       "$$\\frac{{\\left(t_{2} - 1\\right)} u_{2} x + \\sqrt{{\\left(t_{2} - u_{2}\\right)} {\\left(t_{2} - x\\right)} {\\left(u_{2} - 1\\right)} u_{2} {\\left(x - 1\\right)} x}}{t_{2} u_{2} + t_{2} x - u_{2} x - t_{2}}$$"
      ],
      "text/plain": [
       "<IPython.core.display.Math object>"
      ]
     },
     "metadata": {},
     "output_type": "display_data"
    },
    {
     "name": "stdout",
     "output_type": "stream",
     "text": [
      "\n"
     ]
    },
    {
     "data": {
      "text/latex": [
       "$$\\frac{{\\left(t_{2} - 1\\right)} u_{2} x - \\sqrt{{\\left(t_{2} - u_{2}\\right)} {\\left(t_{2} - x\\right)} {\\left(u_{2} - 1\\right)} u_{2} {\\left(x - 1\\right)} x}}{t_{2} u_{2} + t_{2} x - u_{2} x - t_{2}}$$"
      ],
      "text/plain": [
       "<IPython.core.display.Math object>"
      ]
     },
     "metadata": {},
     "output_type": "display_data"
    }
   ],
   "source": [
    "# Equations for the sections S+_Sigma and S-_Sigma:\n",
    "printMath((alpha + sqrt(Delta))/beta)\n",
    "print ''\n",
    "printMath((alpha - sqrt(Delta))/beta)"
   ]
  },
  {
   "cell_type": "markdown",
   "metadata": {},
   "source": [
    "The section $\\sigma_\\psi$ is the rational part of the $S_\\Sigma^{\\pm}$.  \n",
    "It is the unique fractional linear transformation that takes the values $0,1,u_\\lambda$ at $0,1,\\lambda$, respectively."
   ]
  },
  {
   "cell_type": "code",
   "execution_count": 13,
   "metadata": {},
   "outputs": [],
   "source": [
    "sigma_psi = alpha/beta"
   ]
  },
  {
   "cell_type": "code",
   "execution_count": 14,
   "metadata": {
    "scrolled": true
   },
   "outputs": [
    {
     "name": "stdout",
     "output_type": "stream",
     "text": [
      "0\n",
      "1\n",
      "u2\n"
     ]
    }
   ],
   "source": [
    "# Verify that sigma_psi takes the right values:\n",
    "print sigma_psi.subs(x==0)\n",
    "print sigma_psi.subs(x==1).simplify_rational()\n",
    "print sigma_psi.subs(x==t2).simplify_rational()"
   ]
  },
  {
   "cell_type": "markdown",
   "metadata": {},
   "source": [
    "Thus we have proved that the $(+2)$-section $\\sigma_\\psi$ is given by:  \n",
    "$ \\displaystyle \\sigma_\\psi = \\frac{(t_2-1)u_2x}{(t_2-u_2)x + t_2u_2 -t_2} . $"
   ]
  },
  {
   "cell_type": "markdown",
   "metadata": {},
   "source": [
    "### Formula for $\\psi$ acting on $\\mathbb{P}_x \\times \\mathbb{P}_\\zeta$\n",
    "\n",
    "Finally, we can compute the action of $\\psi$ in coordinates. On the generic fiber, say over a point $x$, it is the unique automorphism of the projective line that fixes both points on $S_\\Sigma$ and maps $\\sigma_\\psi(x)$ to $\\infty$.\n",
    "\n",
    "A simple argument shows that if $S_\\Sigma^\\pm = A \\pm \\sqrt{B}$, then $\\sigma_\\psi = \\frac{A\\zeta + B - A^2}{\\zeta - A}$."
   ]
  },
  {
   "cell_type": "code",
   "execution_count": 15,
   "metadata": {},
   "outputs": [
    {
     "data": {
      "text/html": [
       "<html><script type=\"math/tex; mode=display\">\\newcommand{\\Bold}[1]{\\mathbf{#1}}\\frac{{\\left(u_{2} x - t_{2} \\zeta + t_{2} - u_{2} - x + \\zeta\\right)} u_{2} x}{t_{2} u_{2} x - t_{2} u_{2} \\zeta - t_{2} x \\zeta + u_{2} x \\zeta - u_{2} x + t_{2} \\zeta}</script></html>"
      ],
      "text/plain": [
       "(u2*x - t2*zeta + t2 - u2 - x + zeta)*u2*x/(t2*u2*x - t2*u2*zeta - t2*x*zeta + u2*x*zeta - u2*x + t2*zeta)"
      ]
     },
     "execution_count": 15,
     "metadata": {},
     "output_type": "execute_result"
    }
   ],
   "source": [
    "A = alpha/beta\n",
    "B = Delta/beta^2\n",
    "psi = ((A*zeta + B - A^2)/(zeta - A)).simplify_rational().factor()\n",
    "\n",
    "psi"
   ]
  },
  {
   "cell_type": "markdown",
   "metadata": {},
   "source": [
    "### $\\psi$ on the moduli space of parabolic bundles\n",
    "\n",
    "On the moduli space, $\\psi$ acts as $(u_t, u_\\lambda) \\mapsto (\\bar{u}_t, u_\\lambda)$. The formula for $\\bar{u}_t$ is given by:"
   ]
  },
  {
   "cell_type": "code",
   "execution_count": 16,
   "metadata": {
    "scrolled": false
   },
   "outputs": [
    {
     "data": {
      "text/html": [
       "<html><script type=\"math/tex; mode=display\">\\newcommand{\\Bold}[1]{\\mathbf{#1}}\\frac{{\\left(t_{2} u_{1} - t_{1} u_{2} + t_{1} - t_{2} - u_{1} + u_{2}\\right)} t_{1} u_{2}}{t_{1} t_{2} u_{1} - t_{1} t_{2} u_{2} - t_{1} u_{1} u_{2} + t_{2} u_{1} u_{2} - t_{2} u_{1} + t_{1} u_{2}}</script></html>"
      ],
      "text/plain": [
       "(t2*u1 - t1*u2 + t1 - t2 - u1 + u2)*t1*u2/(t1*t2*u1 - t1*t2*u2 - t1*u1*u2 + t2*u1*u2 - t2*u1 + t1*u2)"
      ]
     },
     "execution_count": 16,
     "metadata": {},
     "output_type": "execute_result"
    }
   ],
   "source": [
    "u1_bar = psi.subs([x==t1, zeta==u1])\n",
    "u1_bar"
   ]
  },
  {
   "cell_type": "markdown",
   "metadata": {},
   "source": [
    "# The action of $\\psi$ on the Universal Family "
   ]
  },
  {
   "cell_type": "markdown",
   "metadata": {},
   "source": [
    "### Tangencies with $\\sigma_\\infty$ (ie the *apparent map*)"
   ]
  },
  {
   "cell_type": "code",
   "execution_count": 17,
   "metadata": {},
   "outputs": [],
   "source": [
    "# Copied from Loray Saito\n",
    "APPinfty = (n+1)/2*(x-t1)*(x-t2) + \\\n",
    "            c1*((u1-t1)*x + (1-u1)*t1)*(x-t2) + \\\n",
    "            c2*((u2-t2)*x + (1-u2)*t2)*(x-t1)"
   ]
  },
  {
   "cell_type": "markdown",
   "metadata": {},
   "source": [
    "### Tangencies with $\\sigma_\\psi$: the map $\\operatorname{App}_\\psi$"
   ]
  },
  {
   "cell_type": "code",
   "execution_count": 18,
   "metadata": {},
   "outputs": [
    {
     "name": "stdout",
     "output_type": "stream",
     "text": [
      "4*c1*t1*t2^2*u1*u2^2 - 4*c1*t2^2*u1^2*u2^2 + 4*c2*t1*t2^2*u2^3 - 4*c2*t1*t2*u2^4 + 8*c1*t1*t2^2*u1*u2*x - 8*c1*t2^2*u1^2*u2*x - 4*c1*t1*t2^2*u2^2*x + 4*c2*t1*t2^2*u2^2*x - 8*c1*t1*t2*u1*u2^2*x + 4*c1*t2^2*u1*u2^2*x + 8*c1*t2*u1^2*u2^2*x - 8*c2*t1*t2*u2^3*x - 4*c2*t2^2*u2^3*x + 4*c2*t1*u2^4*x + 4*c2*t2*u2^4*x - 4*c1*t2^2*u1^2*x^2 + 8*c1*t2*u1^2*u2*x^2 - 4*c2*t2^2*u2^2*x^2 - 4*c1*u1^2*u2^2*x^2 + 8*c2*t2*u2^3*x^2 - 4*c2*u2^4*x^2 - 8*c1*t1*t2^2*u1*u2 + 8*c1*t2^2*u1^2*u2 - 8*c2*t1*t2^2*u2^2 + 4*nu*t1*t2^2*u2^2 - 8*nu*t2^2*u1*u2^2 + 8*c2*t1*t2*u2^3 - 4*c1*t1*t2^2*u1*x + 8*c1*t2^2*u1^2*x - 4*c2*t1*t2^2*u2*x + 8*nu*t1*t2^2*u2*x - 16*nu*t2^2*u1*u2*x - 8*c1*t2*u1^2*u2*x + 8*c1*t1*t2*u2^2*x + 8*c2*t1*t2*u2^2*x - 8*nu*t1*t2*u2^2*x + 8*c2*t2^2*u2^2*x + 4*nu*t2^2*u2^2*x + 4*c1*t1*u1*u2^2*x - 8*c1*t2*u1*u2^2*x + 16*nu*t2*u1*u2^2*x - 4*c2*t1*u2^3*x - 8*c2*t2*u2^3*x + 4*c1*t2^2*u1*x^2 - 8*nu*t2^2*u1*x^2 + 4*c2*t2^2*u2*x^2 - 8*c1*t2*u1*u2*x^2 + 16*nu*t2*u1*u2*x^2 - 8*c2*t2*u2^2*x^2 + 4*c1*u1*u2^2*x^2 - 8*nu*u1*u2^2*x^2 + 4*c2*u2^3*x^2 + 4*c1*t1*t2^2*u1 - 4*c1*t2^2*u1^2 + 4*c2*t1*t2^2*u2 - 8*nu*t1*t2^2*u2 + 16*nu*t2^2*u1*u2 - 4*c2*t1*t2*u2^2 + 2*t1*t2^2*u2^2 - 2*t1*t2*u2^3 - 4*nu*t1*t2^2*x - 4*c1*t2^2*u1*x + 16*nu*t2^2*u1*x - 4*c2*t2^2*u2*x + 8*c1*t2*u1*u2*x - 16*nu*t2*u1*u2*x - 4*c1*t1*u2^2*x + 4*nu*t1*u2^2*x + 4*c2*t2*u2^2*x - 8*nu*t2*u2^2*x - 2*t1*t2*u2^2*x - 2*t2^2*u2^2*x + 2*t1*u2^3*x + 2*t2*u2^3*x + 4*nu*t2^2*x^2 - 8*nu*t2*u2*x^2 + 4*nu*u2^2*x^2 + 2*t2*u2^2*x^2 - 2*u2^3*x^2 + 4*nu*t1*t2^2 - 8*nu*t2^2*u1 - 2*t1*t2^2*u2 + 2*t1*t2*u2^2 - 4*nu*t2^2*x + 8*nu*t2*u2*x + 2*t1*t2*u2*x + 2*t2^2*u2*x - 2*t1*u2^2*x - 2*t2*u2^2*x - 2*t2*u2*x^2 + 2*u2^2*x^2\n"
     ]
    }
   ],
   "source": [
    "Nabla = Nabla0 + c1*Theta1 + c2*Theta2\n",
    "\n",
    "sigma0 = vector([1, sigma_psi])\n",
    "sigma1 = diff(sigma0, x) + Nabla*sigma0\n",
    "\n",
    "APPpsi = matrix([sigma0, sigma1]).determinant().numerator().factor()\n",
    "\n",
    "print APPpsi"
   ]
  },
  {
   "cell_type": "markdown",
   "metadata": {},
   "source": [
    "Below we display the coefficients of $\\operatorname{App}_\\psi$, with respect to $x$."
   ]
  },
  {
   "cell_type": "code",
   "execution_count": 19,
   "metadata": {},
   "outputs": [
    {
     "data": {
      "text/html": [
       "<html><script type=\"math/tex; mode=display\">\\newcommand{\\Bold}[1]{\\mathbf{#1}}-2 \\, {\\left(2 \\, c_{1} t_{2} u_{1}^{2} - 2 \\, c_{1} u_{1}^{2} u_{2} + 2 \\, c_{2} t_{2} u_{2}^{2} - 2 \\, c_{2} u_{2}^{3} - 2 \\, c_{1} t_{2} u_{1} + 4 \\, \\nu t_{2} u_{1} - 2 \\, c_{2} t_{2} u_{2} + 2 \\, c_{1} u_{1} u_{2} - 4 \\, \\nu u_{1} u_{2} + 2 \\, c_{2} u_{2}^{2} - 2 \\, \\nu t_{2} + 2 \\, \\nu u_{2} - u_{2}^{2} + u_{2}\\right)} {\\left(t_{2} - u_{2}\\right)}</script></html>"
      ],
      "text/plain": [
       "-2*(2*c1*t2*u1^2 - 2*c1*u1^2*u2 + 2*c2*t2*u2^2 - 2*c2*u2^3 - 2*c1*t2*u1 + 4*nu*t2*u1 - 2*c2*t2*u2 + 2*c1*u1*u2 - 4*nu*u1*u2 + 2*c2*u2^2 - 2*nu*t2 + 2*nu*u2 - u2^2 + u2)*(t2 - u2)"
      ]
     },
     "execution_count": 19,
     "metadata": {},
     "output_type": "execute_result"
    }
   ],
   "source": [
    "diff(diff(APPpsi/2, x), x).factor()  # quadratic term"
   ]
  },
  {
   "cell_type": "code",
   "execution_count": 20,
   "metadata": {},
   "outputs": [
    {
     "data": {
      "text/html": [
       "<html><script type=\"math/tex; mode=display\">\\newcommand{\\Bold}[1]{\\mathbf{#1}}8 \\, c_{1} t_{1} t_{2}^{2} u_{1} u_{2} - 8 \\, c_{1} t_{2}^{2} u_{1}^{2} u_{2} - 4 \\, c_{1} t_{1} t_{2}^{2} u_{2}^{2} + 4 \\, c_{2} t_{1} t_{2}^{2} u_{2}^{2} - 8 \\, c_{1} t_{1} t_{2} u_{1} u_{2}^{2} + 4 \\, c_{1} t_{2}^{2} u_{1} u_{2}^{2} + 8 \\, c_{1} t_{2} u_{1}^{2} u_{2}^{2} - 8 \\, c_{2} t_{1} t_{2} u_{2}^{3} - 4 \\, c_{2} t_{2}^{2} u_{2}^{3} + 4 \\, c_{2} t_{1} u_{2}^{4} + 4 \\, c_{2} t_{2} u_{2}^{4} - 4 \\, c_{1} t_{1} t_{2}^{2} u_{1} + 8 \\, c_{1} t_{2}^{2} u_{1}^{2} - 4 \\, c_{2} t_{1} t_{2}^{2} u_{2} + 8 \\, \\nu t_{1} t_{2}^{2} u_{2} - 16 \\, \\nu t_{2}^{2} u_{1} u_{2} - 8 \\, c_{1} t_{2} u_{1}^{2} u_{2} + 8 \\, c_{1} t_{1} t_{2} u_{2}^{2} + 8 \\, c_{2} t_{1} t_{2} u_{2}^{2} - 8 \\, \\nu t_{1} t_{2} u_{2}^{2} + 8 \\, c_{2} t_{2}^{2} u_{2}^{2} + 4 \\, \\nu t_{2}^{2} u_{2}^{2} + 4 \\, c_{1} t_{1} u_{1} u_{2}^{2} - 8 \\, c_{1} t_{2} u_{1} u_{2}^{2} + 16 \\, \\nu t_{2} u_{1} u_{2}^{2} - 4 \\, c_{2} t_{1} u_{2}^{3} - 8 \\, c_{2} t_{2} u_{2}^{3} - 4 \\, \\nu t_{1} t_{2}^{2} - 4 \\, c_{1} t_{2}^{2} u_{1} + 16 \\, \\nu t_{2}^{2} u_{1} - 4 \\, c_{2} t_{2}^{2} u_{2} + 8 \\, c_{1} t_{2} u_{1} u_{2} - 16 \\, \\nu t_{2} u_{1} u_{2} - 4 \\, c_{1} t_{1} u_{2}^{2} + 4 \\, \\nu t_{1} u_{2}^{2} + 4 \\, c_{2} t_{2} u_{2}^{2} - 8 \\, \\nu t_{2} u_{2}^{2} - 2 \\, t_{1} t_{2} u_{2}^{2} - 2 \\, t_{2}^{2} u_{2}^{2} + 2 \\, t_{1} u_{2}^{3} + 2 \\, t_{2} u_{2}^{3} - 4 \\, \\nu t_{2}^{2} + 8 \\, \\nu t_{2} u_{2} + 2 \\, t_{1} t_{2} u_{2} + 2 \\, t_{2}^{2} u_{2} - 2 \\, t_{1} u_{2}^{2} - 2 \\, t_{2} u_{2}^{2}</script></html>"
      ],
      "text/plain": [
       "8*c1*t1*t2^2*u1*u2 - 8*c1*t2^2*u1^2*u2 - 4*c1*t1*t2^2*u2^2 + 4*c2*t1*t2^2*u2^2 - 8*c1*t1*t2*u1*u2^2 + 4*c1*t2^2*u1*u2^2 + 8*c1*t2*u1^2*u2^2 - 8*c2*t1*t2*u2^3 - 4*c2*t2^2*u2^3 + 4*c2*t1*u2^4 + 4*c2*t2*u2^4 - 4*c1*t1*t2^2*u1 + 8*c1*t2^2*u1^2 - 4*c2*t1*t2^2*u2 + 8*nu*t1*t2^2*u2 - 16*nu*t2^2*u1*u2 - 8*c1*t2*u1^2*u2 + 8*c1*t1*t2*u2^2 + 8*c2*t1*t2*u2^2 - 8*nu*t1*t2*u2^2 + 8*c2*t2^2*u2^2 + 4*nu*t2^2*u2^2 + 4*c1*t1*u1*u2^2 - 8*c1*t2*u1*u2^2 + 16*nu*t2*u1*u2^2 - 4*c2*t1*u2^3 - 8*c2*t2*u2^3 - 4*nu*t1*t2^2 - 4*c1*t2^2*u1 + 16*nu*t2^2*u1 - 4*c2*t2^2*u2 + 8*c1*t2*u1*u2 - 16*nu*t2*u1*u2 - 4*c1*t1*u2^2 + 4*nu*t1*u2^2 + 4*c2*t2*u2^2 - 8*nu*t2*u2^2 - 2*t1*t2*u2^2 - 2*t2^2*u2^2 + 2*t1*u2^3 + 2*t2*u2^3 - 4*nu*t2^2 + 8*nu*t2*u2 + 2*t1*t2*u2 + 2*t2^2*u2 - 2*t1*u2^2 - 2*t2*u2^2"
      ]
     },
     "execution_count": 20,
     "metadata": {},
     "output_type": "execute_result"
    }
   ],
   "source": [
    "diff(APPpsi, x).subs(x==0).factor()  # linear term"
   ]
  },
  {
   "cell_type": "code",
   "execution_count": 21,
   "metadata": {},
   "outputs": [
    {
     "data": {
      "text/html": [
       "<html><script type=\"math/tex; mode=display\">\\newcommand{\\Bold}[1]{\\mathbf{#1}}2 \\, {\\left(2 \\, c_{1} t_{1} t_{2} u_{1} u_{2} - 2 \\, c_{1} t_{2} u_{1}^{2} u_{2} + 2 \\, c_{2} t_{1} t_{2} u_{2}^{2} - 2 \\, c_{2} t_{1} u_{2}^{3} - 2 \\, c_{1} t_{1} t_{2} u_{1} + 2 \\, c_{1} t_{2} u_{1}^{2} - 2 \\, c_{2} t_{1} t_{2} u_{2} + 2 \\, \\nu t_{1} t_{2} u_{2} - 4 \\, \\nu t_{2} u_{1} u_{2} + 2 \\, c_{2} t_{1} u_{2}^{2} - 2 \\, \\nu t_{1} t_{2} + 4 \\, \\nu t_{2} u_{1} + t_{1} t_{2} u_{2} - t_{1} u_{2}^{2}\\right)} t_{2} {\\left(u_{2} - 1\\right)}</script></html>"
      ],
      "text/plain": [
       "2*(2*c1*t1*t2*u1*u2 - 2*c1*t2*u1^2*u2 + 2*c2*t1*t2*u2^2 - 2*c2*t1*u2^3 - 2*c1*t1*t2*u1 + 2*c1*t2*u1^2 - 2*c2*t1*t2*u2 + 2*nu*t1*t2*u2 - 4*nu*t2*u1*u2 + 2*c2*t1*u2^2 - 2*nu*t1*t2 + 4*nu*t2*u1 + t1*t2*u2 - t1*u2^2)*t2*(u2 - 1)"
      ]
     },
     "execution_count": 21,
     "metadata": {},
     "output_type": "execute_result"
    }
   ],
   "source": [
    "APPpsi.subs(x==0).factor()  # constant term"
   ]
  },
  {
   "cell_type": "markdown",
   "metadata": {},
   "source": [
    "### Action of $\\Psi$ on the coefficients $(c_1,c_2)$\n",
    "\n",
    "We seek for a matrix T with the following properties:\n",
    "\n",
    "If $\\nabla = \\nabla_0(u) + c_1\\Theta_1(u) + c_2\\Theta_2(u)$, then $\\Psi(\\nabla) = \\nabla_0(\\bar u) + k_1\\Theta_1(\\bar u) + k_2\\Theta_2(\\bar u)$,\n",
    "\n",
    "where $(1, k_1, k_2) := \\mathrm{T}\\cdot(1, c_1, c_2)^{\\operatorname{T}}$."
   ]
  },
  {
   "cell_type": "code",
   "execution_count": 22,
   "metadata": {},
   "outputs": [],
   "source": [
    "var('T10 T11 T12 T20 T21 T22')\n",
    "T = matrix([(1, 0 ,0), (T10, T11, T12), (T20, T21, T22)])\n",
    "\n",
    "k0, k1, k2 = list(T*vector([1, c1, c2]))\n",
    "\n",
    "new_APP = APPpsi.subs(u1==u1_bar).subs([c1==k1, c2==k2])  # This should have the same zeros as APPinfty"
   ]
  },
  {
   "cell_type": "code",
   "execution_count": 23,
   "metadata": {
    "scrolled": true
   },
   "outputs": [],
   "source": [
    "# Extract coefficients wrt x for new_APP and APPinfty\n",
    "s0 = new_APP.subs(x==0)\n",
    "s1 = diff(new_APP, x).subs(x==0)\n",
    "s2 = diff(diff(new_APP/2, x), x)\n",
    "\n",
    "a0 = APPinfty.subs(x==0)\n",
    "a1 = diff(APPinfty, x).subs(x==0)\n",
    "a2 = diff(diff(APPinfty/2, x), x)\n",
    "\n",
    "# Lift denominators to make the variables a_i and s_i polynomial\n",
    "denom1 = a2.denominator()\n",
    "denom2 = s2.denominator()\n",
    "\n",
    "a0 = (a0*denom1).simplify_rational()\n",
    "a1 = (a1*denom1).simplify_rational()\n",
    "a2 = (a2*denom1).simplify_rational()\n",
    "\n",
    "s0 = (s0*denom2).simplify_rational()\n",
    "s1 = (s1*denom2).simplify_rational()\n",
    "s2 = (s2*denom2).simplify_rational()\n",
    "\n",
    "# new_APP and APP_infty have the same roots iff Eqn1 = Eqn2 = 0\n",
    "Eqn1 = s2*a1 - a2*s1\n",
    "Eqn2 = s2*a0 - a2*s0"
   ]
  },
  {
   "cell_type": "markdown",
   "metadata": {},
   "source": [
    "I want the above equations to be zero **for any** value of $c_1,c_2$.  \n",
    "The expressions `Eqn1` and `Eqn2` are quadratic in $c_1,c_2$, but we'll truncate the quadratic part first, solve the system and then show that the solutions found are in fact the general solution. This is just for computational convenience."
   ]
  },
  {
   "cell_type": "code",
   "execution_count": 24,
   "metadata": {},
   "outputs": [],
   "source": [
    "# Linear terms\n",
    "\n",
    "E1_00 = Eqn1.subs([c1==0, c2==0])\n",
    "E1_10 = diff(Eqn1, c1).subs([c1==0, c2==0])\n",
    "E1_01 = diff(Eqn1, c2).subs([c1==0, c2==0])\n",
    "E2_00 = Eqn2.subs([c1==0, c2==0])\n",
    "E2_10 = diff(Eqn2, c1).subs([c1==0, c2==0])\n",
    "E2_01 = diff(Eqn2, c2).subs([c1==0, c2==0])\n",
    "\n",
    "# Solve column by column\n",
    "S0 = solve([E1_00, E2_00], [T10, T20])\n",
    "S1 = solve([E1_10.subs(S0), E2_10.subs(S0)], [T11, T21])\n",
    "S2 = solve([E1_01.subs(S0).subs(S1), E2_01.subs(S0).subs(S1)], [T12, T22])"
   ]
  },
  {
   "cell_type": "code",
   "execution_count": 25,
   "metadata": {},
   "outputs": [
    {
     "name": "stdout",
     "output_type": "stream",
     "text": [
      "0\n",
      "0\n"
     ]
    }
   ],
   "source": [
    "# Verify that we got a complete solution\n",
    "print Eqn1.subs(S0).subs(S1).subs(S2).simplify_rational()\n",
    "print Eqn2.subs(S0).subs(S1).subs(S2).simplify_rational()"
   ]
  },
  {
   "cell_type": "markdown",
   "metadata": {},
   "source": [
    "Finally, we get the matrix representing the change of basis dictated by $\\Psi$:"
   ]
  },
  {
   "cell_type": "code",
   "execution_count": 26,
   "metadata": {
    "scrolled": false
   },
   "outputs": [
    {
     "data": {
      "text/html": [
       "<html><script type=\"math/tex; mode=display\">\\newcommand{\\Bold}[1]{\\mathbf{#1}}\\left(\\begin{array}{rrr}\n",
       "1 & 0 & 0 \\\\\n",
       "\\frac{2 \\, {\\left(t_{1} t_{2} u_{1} - t_{1} t_{2} u_{2} - t_{1} u_{1} u_{2} + t_{2} u_{1} u_{2} - t_{2} u_{1} + t_{1} u_{2}\\right)} {\\left(t_{1} t_{2} - t_{1} u_{2} + t_{2} u_{2} - t_{2}\\right)} \\nu}{{\\left(t_{1} - t_{2}\\right)} {\\left(t_{1} - 1\\right)} t_{1} {\\left(t_{2} - u_{2}\\right)} {\\left(u_{2} - 1\\right)} u_{2}} & \\frac{{\\left(t_{1} t_{2} u_{1} - t_{1} t_{2} u_{2} - t_{1} u_{1} u_{2} + t_{2} u_{1} u_{2} - t_{2} u_{1} + t_{1} u_{2}\\right)}^{2}}{{\\left(t_{1} - t_{2}\\right)} {\\left(t_{1} - 1\\right)} t_{1} {\\left(t_{2} - u_{2}\\right)} {\\left(u_{2} - 1\\right)} u_{2}} & 0 \\\\\n",
       "-\\frac{{\\left(2 \\, t_{2}^{2} u_{1} - 2 \\, t_{1} t_{2} u_{2} + t_{1} u_{2}^{2} - t_{2} u_{2}^{2} + t_{1} t_{2} - t_{2}^{2} - 2 \\, t_{2} u_{1} + 2 \\, t_{2} u_{2}\\right)} \\nu}{{\\left(t_{1} - t_{2}\\right)} {\\left(t_{2} - u_{2}\\right)} {\\left(u_{2} - 1\\right)} u_{2}} & -\\frac{t_{2}^{2} u_{1}^{2} - 2 \\, t_{1} t_{2} u_{1} u_{2} + t_{1} t_{2} u_{2}^{2} + t_{1} u_{1} u_{2}^{2} - t_{2} u_{1} u_{2}^{2} + t_{1} t_{2} u_{1} - t_{2}^{2} u_{1} - t_{2} u_{1}^{2} + 2 \\, t_{2} u_{1} u_{2} - t_{1} u_{2}^{2}}{{\\left(t_{1} - t_{2}\\right)} {\\left(t_{2} - u_{2}\\right)} {\\left(u_{2} - 1\\right)} u_{2}} & 1\n",
       "\\end{array}\\right)</script></html>"
      ],
      "text/plain": [
       "[                                                                                                                                                          1                                                                                                                                                           0                                                                                                                                                           0]\n",
       "[                2*(t1*t2*u1 - t1*t2*u2 - t1*u1*u2 + t2*u1*u2 - t2*u1 + t1*u2)*(t1*t2 - t1*u2 + t2*u2 - t2)*nu/((t1 - t2)*(t1 - 1)*t1*(t2 - u2)*(u2 - 1)*u2)                                                 (t1*t2*u1 - t1*t2*u2 - t1*u1*u2 + t2*u1*u2 - t2*u1 + t1*u2)^2/((t1 - t2)*(t1 - 1)*t1*(t2 - u2)*(u2 - 1)*u2)                                                                                                                                                           0]\n",
       "[                                      -(2*t2^2*u1 - 2*t1*t2*u2 + t1*u2^2 - t2*u2^2 + t1*t2 - t2^2 - 2*t2*u1 + 2*t2*u2)*nu/((t1 - t2)*(t2 - u2)*(u2 - 1)*u2) -(t2^2*u1^2 - 2*t1*t2*u1*u2 + t1*t2*u2^2 + t1*u1*u2^2 - t2*u1*u2^2 + t1*t2*u1 - t2^2*u1 - t2*u1^2 + 2*t2*u1*u2 - t1*u2^2)/((t1 - t2)*(t2 - u2)*(u2 - 1)*u2)                                                                                                                                                           1]"
      ]
     },
     "execution_count": 26,
     "metadata": {},
     "output_type": "execute_result"
    }
   ],
   "source": [
    "TT = T.subs(S0).subs(S1).subs(S2).simplify_rational().factor()\n",
    "TT"
   ]
  },
  {
   "cell_type": "code",
   "execution_count": 27,
   "metadata": {
    "scrolled": true
   },
   "outputs": [
    {
     "name": "stdout",
     "output_type": "stream",
     "text": [
      "[1 0 0]\n",
      "[0 1 0]\n",
      "[0 0 1]\n"
     ]
    }
   ],
   "source": [
    "# Since Psi is an involution, the following should be the identity matrix\n",
    "print (TT * (TT.subs(u1==u1_bar))).simplify_rational().factor()"
   ]
  },
  {
   "cell_type": "markdown",
   "metadata": {},
   "source": [
    "To export the formula for `TT`, run the following cell. "
   ]
  },
  {
   "cell_type": "raw",
   "metadata": {},
   "source": [
    "for row in TT:\n",
    "    print row, '\\n'"
   ]
  },
  {
   "cell_type": "markdown",
   "metadata": {},
   "source": [
    "### Locus where `T` has -1 as eigenvalue"
   ]
  },
  {
   "cell_type": "code",
   "execution_count": 28,
   "metadata": {},
   "outputs": [
    {
     "data": {
      "text/html": [
       "<html><script type=\"math/tex; mode=display\">\\newcommand{\\Bold}[1]{\\mathbf{#1}}\\frac{{\\left(t_{1} t_{2} u_{1}^{2} - 2 \\, t_{1} t_{2} u_{1} u_{2} - t_{1} u_{1}^{2} u_{2} + t_{2} u_{1}^{2} u_{2} + t_{1}^{2} u_{2}^{2} - t_{2} u_{1}^{2} - t_{1}^{2} u_{2} + t_{1} t_{2} u_{2} + 2 \\, t_{1} u_{1} u_{2} - t_{1} u_{2}^{2}\\right)} {\\left(t_{1} t_{2} - t_{1} u_{2} + t_{2} u_{2} - t_{2}\\right)}}{{\\left(t_{1} - t_{2}\\right)} {\\left(t_{1} - 1\\right)} t_{1} {\\left(t_{2} - u_{2}\\right)} {\\left(u_{2} - 1\\right)} u_{2}}</script></html>"
      ],
      "text/plain": [
       "(t1*t2*u1^2 - 2*t1*t2*u1*u2 - t1*u1^2*u2 + t2*u1^2*u2 + t1^2*u2^2 - t2*u1^2 - t1^2*u2 + t1*t2*u2 + 2*t1*u1*u2 - t1*u2^2)*(t1*t2 - t1*u2 + t2*u2 - t2)/((t1 - t2)*(t1 - 1)*t1*(t2 - u2)*(u2 - 1)*u2)"
      ]
     },
     "execution_count": 28,
     "metadata": {},
     "output_type": "execute_result"
    }
   ],
   "source": [
    "(TT[1,1] + 1).simplify_rational().factor()  # - Sigma * Lambda / delta"
   ]
  },
  {
   "cell_type": "markdown",
   "metadata": {},
   "source": [
    "Since `TT[1,1] = -Pi^2/delta` we can also express the above as follows:"
   ]
  },
  {
   "cell_type": "code",
   "execution_count": 29,
   "metadata": {},
   "outputs": [],
   "source": [
    "Pi = (t1*t2*u1 - t1*t2*u2 - t1*u1*u2 + t2*u1*u2 - t2*u1 + t1*u2)\n",
    "Lambda = t1*t2 - t1*u2 + t2*u2 - t2\n",
    "delta = (t1 - t2)*(t1 - 1)*t1*(u2 - t2)*(u2 - 1)*u2"
   ]
  },
  {
   "cell_type": "code",
   "execution_count": 30,
   "metadata": {},
   "outputs": [
    {
     "data": {
      "text/html": [
       "<html><script type=\"math/tex; mode=display\">\\newcommand{\\Bold}[1]{\\mathbf{#1}}0</script></html>"
      ],
      "text/plain": [
       "0"
      ]
     },
     "execution_count": 30,
     "metadata": {},
     "output_type": "execute_result"
    }
   ],
   "source": [
    "expr = Pi^2 - delta - Lambda*Sigma\n",
    "expr.expand()"
   ]
  },
  {
   "cell_type": "code",
   "execution_count": 31,
   "metadata": {},
   "outputs": [
    {
     "data": {
      "text/html": [
       "<html><script type=\"math/tex; mode=display\">\\newcommand{\\Bold}[1]{\\mathbf{#1}}-{\\left(t_{1} t_{2} u_{1}^{2} - 2 \\, t_{1} t_{2} u_{1} u_{2} - t_{1} u_{1}^{2} u_{2} + t_{2} u_{1}^{2} u_{2} + t_{1}^{2} u_{2}^{2} - t_{2} u_{1}^{2} - t_{1}^{2} u_{2} + t_{1} t_{2} u_{2} + 2 \\, t_{1} u_{1} u_{2} - t_{1} u_{2}^{2}\\right)} {\\left(t_{1} t_{2} - t_{1} u_{2} + t_{2} u_{2} - t_{2}\\right)}</script></html>"
      ],
      "text/plain": [
       "-(t1*t2*u1^2 - 2*t1*t2*u1*u2 - t1*u1^2*u2 + t2*u1^2*u2 + t1^2*u2^2 - t2*u1^2 - t1^2*u2 + t1*t2*u2 + 2*t1*u1*u2 - t1*u2^2)*(t1*t2 - t1*u2 + t2*u2 - t2)"
      ]
     },
     "execution_count": 31,
     "metadata": {},
     "output_type": "execute_result"
    }
   ],
   "source": [
    "(delta- Pi^2).factor()"
   ]
  },
  {
   "cell_type": "markdown",
   "metadata": {},
   "source": [
    "## The action of $\\Psi$ on Higgs bundles\n",
    "\n",
    "The moduli space of parabolic Higgs bundles is identified with the cotangent space of $\\operatorname{Bun}(\\mathbb{P}^1, D)$. In fact, the variables are such that under this identification we have  \n",
    "$ \\displaystyle du_1 \\mapsto \\Theta_1, \\quad du_2 \\mapsto \\Theta_2. $\n",
    "\n",
    "Let us consider $\\psi$ as an automorphism on $\\mathbb{P}^1_{u_t}\\times\\mathbb{P}^1_{u_\\lambda}$ and compute its differential."
   ]
  },
  {
   "cell_type": "code",
   "execution_count": 32,
   "metadata": {},
   "outputs": [
    {
     "data": {
      "text/html": [
       "<html><script type=\"math/tex; mode=display\">\\newcommand{\\Bold}[1]{\\mathbf{#1}}\\left(\\begin{array}{rr}\n",
       "\\frac{{\\left(t_{1} t_{2} u_{1} - t_{1} t_{2} u_{2} - t_{1} u_{1} u_{2} + t_{2} u_{1} u_{2} - t_{2} u_{1} + t_{1} u_{2}\\right)}^{2}}{{\\left(t_{1} - t_{2}\\right)} {\\left(t_{1} - 1\\right)} t_{1} {\\left(t_{2} - u_{2}\\right)} {\\left(u_{2} - 1\\right)} u_{2}} & 0 \\\\\n",
       "-\\frac{t_{2}^{2} u_{1}^{2} - 2 \\, t_{1} t_{2} u_{1} u_{2} + t_{1} t_{2} u_{2}^{2} + t_{1} u_{1} u_{2}^{2} - t_{2} u_{1} u_{2}^{2} + t_{1} t_{2} u_{1} - t_{2}^{2} u_{1} - t_{2} u_{1}^{2} + 2 \\, t_{2} u_{1} u_{2} - t_{1} u_{2}^{2}}{{\\left(t_{1} - t_{2}\\right)} {\\left(t_{2} - u_{2}\\right)} {\\left(u_{2} - 1\\right)} u_{2}} & 1\n",
       "\\end{array}\\right)</script></html>"
      ],
      "text/plain": [
       "[                                                (t1*t2*u1 - t1*t2*u2 - t1*u1*u2 + t2*u1*u2 - t2*u1 + t1*u2)^2/((t1 - t2)*(t1 - 1)*t1*(t2 - u2)*(u2 - 1)*u2)                                                                                                                                                           0]\n",
       "[-(t2^2*u1^2 - 2*t1*t2*u1*u2 + t1*t2*u2^2 + t1*u1*u2^2 - t2*u1*u2^2 + t1*t2*u1 - t2^2*u1 - t2*u1^2 + 2*t2*u1*u2 - t1*u2^2)/((t1 - t2)*(t2 - u2)*(u2 - 1)*u2)                                                                                                                                                           1]"
      ]
     },
     "execution_count": 32,
     "metadata": {},
     "output_type": "execute_result"
    }
   ],
   "source": [
    "dpsi = matrix([\n",
    "    (diff(u1_bar, u1), diff(u2, u1)),\n",
    "    (diff(u1_bar, u2), diff(u2, u2)),\n",
    "])\n",
    "\n",
    "dpsi.subs(u1==u1_bar).simplify_rational().factor()"
   ]
  },
  {
   "cell_type": "markdown",
   "metadata": {},
   "source": [
    "Note that this agrees with the bottom-right 2x2 minor of `TT` above.\n",
    "\n",
    "Thus, we conlcude that the involution $\\Psi$ on $\\operatorname{Higgs}(\\mathbb{P}^1, D)$ corresponds precisely to the map $T^*\\operatorname{Bun}(\\mathbb{P}^1, D) \\to T^*\\operatorname{Bun}(\\mathbb{P}^1, D)$ induced by $\\psi$."
   ]
  },
  {
   "cell_type": "markdown",
   "metadata": {},
   "source": [
    "# Base change matrix\n",
    "\n",
    "Below we compute the *base change matrix* `B`, going from the standard basis $\\nabla_0$, $\\Theta_i$ to the equivariant versions $\\nabla_0^\\psi$, $\\Theta_i^\\psi$.  \n",
    "The inverse of the base change is given by  \n",
    "$ \\displaystyle \\mathrm{B}^{-1} = \\frac{1}{2}\\left( \\nabla_0 + \\Psi(\\nabla_0 \\circ \\psi)\\right) $."
   ]
  },
  {
   "cell_type": "code",
   "execution_count": 33,
   "metadata": {},
   "outputs": [],
   "source": [
    "# The \"base change matrix\" B, going from the standard basis Nabla_0, Theta_i to the equivariant versions \\hat Nabla_0, \\hat Theta_i\n",
    "B_inv = (identity_matrix(3) + TT.subs(u1==u1_bar))/2\n",
    "B = (~B_inv).simplify_rational().factor()"
   ]
  },
  {
   "cell_type": "code",
   "execution_count": 34,
   "metadata": {},
   "outputs": [
    {
     "name": "stdout",
     "output_type": "stream",
     "text": [
      "(1, 0, 0) \n",
      "\n",
      "(2*(t1*t2*u1 - t1*t2*u2 - t1*u1*u2 + t2*u1*u2 - t2*u1 + t1*u2)*nu/(t1*t2*u1^2 - 2*t1*t2*u1*u2 - t1*u1^2*u2 + t2*u1^2*u2 + t1^2*u2^2 - t2*u1^2 - t1^2*u2 + t1*t2*u2 + 2*t1*u1*u2 - t1*u2^2), 2*(t1*t2*u1 - t1*t2*u2 - t1*u1*u2 + t2*u1*u2 - t2*u1 + t1*u2)^2/((t1*t2*u1^2 - 2*t1*t2*u1*u2 - t1*u1^2*u2 + t2*u1^2*u2 + t1^2*u2^2 - t2*u1^2 - t1^2*u2 + t1*t2*u2 + 2*t1*u1*u2 - t1*u2^2)*(t1*t2 - t1*u2 + t2*u2 - t2)), 0) \n",
      "\n",
      "(-1/2*(2*t1*t2^2*u1^2*u2 - 3*t1*t2*u1^2*u2^2 - 2*t1^2*t2*u2^3 + 2*t1*t2*u1*u2^3 + t1*u1^2*u2^3 - t2*u1^2*u2^3 + t1^2*u2^4 - t1*t2^2*u1^2 - 2*t1*t2^2*u1*u2 + t1*t2*u1^2*u2 - t2^2*u1^2*u2 + 3*t1^2*t2*u2^2 + 3*t2*u1^2*u2^2 - t1^2*u2^3 + t1*t2*u2^3 - 2*t1*u1*u2^3 - t1*u2^4 + t2^2*u1^2 - t1^2*t2*u2 + t1*t2^2*u2 + 2*t1*t2*u1*u2 - 2*t2*u1^2*u2 - 3*t1*t2*u2^2 + 2*t1*u2^3)*nu/((t1*t2*u1^2 - 2*t1*t2*u1*u2 - t1*u1^2*u2 + t2*u1^2*u2 + t1^2*u2^2 - t2*u1^2 - t1^2*u2 + t1*t2*u2 + 2*t1*u1*u2 - t1*u2^2)*(t2 - u2)*(u2 - 1)*u2), -(t2^2*u1^2 - 2*t1*t2*u1*u2 + t1*t2*u2^2 + t1*u1*u2^2 - t2*u1*u2^2 + t1*t2*u1 - t2^2*u1 - t2*u1^2 + 2*t2*u1*u2 - t1*u2^2)*(t1 - 1)*t1/((t1*t2*u1^2 - 2*t1*t2*u1*u2 - t1*u1^2*u2 + t2*u1^2*u2 + t1^2*u2^2 - t2*u1^2 - t1^2*u2 + t1*t2*u2 + 2*t1*u1*u2 - t1*u2^2)*(t1*t2 - t1*u2 + t2*u2 - t2)), 1) \n",
      "\n"
     ]
    }
   ],
   "source": [
    "for row in B:\n",
    "    print row, '\\n'"
   ]
  },
  {
   "cell_type": "markdown",
   "metadata": {},
   "source": [
    "### Determinant of `B`"
   ]
  },
  {
   "cell_type": "code",
   "execution_count": 35,
   "metadata": {},
   "outputs": [
    {
     "data": {
      "text/html": [
       "<html><script type=\"math/tex; mode=display\">\\newcommand{\\Bold}[1]{\\mathbf{#1}}\\frac{2 \\, {\\left(t_{1} t_{2} u_{1} - t_{1} t_{2} u_{2} - t_{1} u_{1} u_{2} + t_{2} u_{1} u_{2} - t_{2} u_{1} + t_{1} u_{2}\\right)}^{2}}{{\\left(t_{1} t_{2} u_{1}^{2} - 2 \\, t_{1} t_{2} u_{1} u_{2} - t_{1} u_{1}^{2} u_{2} + t_{2} u_{1}^{2} u_{2} + t_{1}^{2} u_{2}^{2} - t_{2} u_{1}^{2} - t_{1}^{2} u_{2} + t_{1} t_{2} u_{2} + 2 \\, t_{1} u_{1} u_{2} - t_{1} u_{2}^{2}\\right)} {\\left(t_{1} t_{2} - t_{1} u_{2} + t_{2} u_{2} - t_{2}\\right)}}</script></html>"
      ],
      "text/plain": [
       "2*(t1*t2*u1 - t1*t2*u2 - t1*u1*u2 + t2*u1*u2 - t2*u1 + t1*u2)^2/((t1*t2*u1^2 - 2*t1*t2*u1*u2 - t1*u1^2*u2 + t2*u1^2*u2 + t1^2*u2^2 - t2*u1^2 - t1^2*u2 + t1*t2*u2 + 2*t1*u1*u2 - t1*u2^2)*(t1*t2 - t1*u2 + t2*u2 - t2))"
      ]
     },
     "execution_count": 35,
     "metadata": {},
     "output_type": "execute_result"
    }
   ],
   "source": [
    "B.determinant().simplify_rational().factor()  # conic Pi / (ramification_locus Sigma * tangent line Lambda)"
   ]
  },
  {
   "cell_type": "markdown",
   "metadata": {},
   "source": [
    "# The 2-form $\\omega_{\\mathbb{P}^1} = dc_1\\wedge du_1 + dc_2\\wedge du_2$\n",
    "\n",
    "We want to verify that the 2-form $\\omega_{\\mathbb{P}^1}$ is invariant under the involution $\\Psi:$\n",
    "\n",
    "$$ \\Psi \\;\\colon\\; (u_1,u_2) \\mapsto (\\bar{u}_1, u_2), \\quad (c_1, c_2) \\mapsto (\\bar{c}_1, \\bar{c}_2), $$\n",
    "\n",
    "where $(1, \\bar{c}_1, \\bar{c}_2) = \\mathrm{T}(1,c_1,c_2)$.\n",
    "\n",
    "Let us begin with $\\bar{\\omega} = d\\bar{c}_1\\wedge d\\bar{u}_1 + d\\bar{c}_2\\wedge du_2$ and pull it back via $\\Psi$."
   ]
  },
  {
   "cell_type": "code",
   "execution_count": 36,
   "metadata": {},
   "outputs": [],
   "source": [
    "c1_bar = (TT*vector([1, c1, c2]))[1].simplify_rational()\n",
    "c2_bar = (TT*vector([1, c1, c2]))[2].simplify_rational()"
   ]
  },
  {
   "cell_type": "markdown",
   "metadata": {},
   "source": [
    "**Note:** We will store a differential 1-form $\\alpha = \\sum_i a_i dx_i$ as a dictionary `A` where:  \n",
    "* The keys of `A` are strings: `'dx1', 'dx2', ..., 'dxn'`,\n",
    "* The values are `A['dx1'] = a_1, ..., A['dxn'] = a_n`.\n",
    "\n",
    "We define similar dictionaries for 2-forms, with keys of the form: `'dx1^dx2'`."
   ]
  },
  {
   "cell_type": "code",
   "execution_count": 37,
   "metadata": {},
   "outputs": [],
   "source": [
    "# Compute dc1_bar\n",
    "# Save differential as a dictionary:\n",
    "dc1_bar = {}\n",
    "dc1_bar['dc1'] = diff(c1_bar, c1).simplify_rational().factor()\n",
    "dc1_bar['dc2'] = diff(c1_bar, c2).simplify_rational()           # = 0\n",
    "dc1_bar['du1'] = diff(c1_bar, u1).simplify_rational().factor()\n",
    "dc1_bar['du2'] = diff(c1_bar, u2).simplify_rational().factor()\n",
    "\n",
    "# Compute dc2_bar\n",
    "# Save differential as a dictionary:\n",
    "dc2_bar = {}\n",
    "dc2_bar['dc1'] = diff(c2_bar, c1).simplify_rational().factor()\n",
    "dc2_bar['dc2'] = diff(c2_bar, c2).simplify_rational().factor()\n",
    "dc2_bar['du1'] = diff(c2_bar, u1).simplify_rational().factor()\n",
    "dc2_bar['du2'] = diff(c2_bar, u2).simplify_rational().factor()\n",
    "\n",
    "# Compute du1_bar\n",
    "# Save differential as a dictionary:\n",
    "du1_bar = {}\n",
    "du1_bar['dc1'] = 0\n",
    "du1_bar['dc2'] = 0\n",
    "du1_bar['du1'] = diff(u1_bar, u1).simplify_rational().factor()\n",
    "du1_bar['du2'] = diff(u1_bar, u2).simplify_rational().factor()\n",
    "\n",
    "# Save du2 as a dictionary:\n",
    "du2 = {'dc1': 0, 'dc2': 0, 'du1': 0, 'du2': 1}"
   ]
  },
  {
   "cell_type": "code",
   "execution_count": 38,
   "metadata": {},
   "outputs": [],
   "source": [
    "keys = ['dc1^du1', 'dc1^du2', 'dc2^du1', 'dc2^du2', 'dc1^dc2', 'du1^du2']\n",
    "pullback_omega = {key: 0 for key in keys}\n",
    "\n",
    "# Coming from dc1_bar^du1_bar\n",
    "pullback_omega['dc1^du1'] += dc1_bar['dc1'] * du1_bar['du1']\n",
    "pullback_omega['dc1^du2'] += dc1_bar['dc1'] * du1_bar['du2']\n",
    "pullback_omega['dc2^du1'] += dc1_bar['dc2'] * du1_bar['du1']\n",
    "pullback_omega['dc2^du2'] += dc1_bar['dc2'] * du1_bar['du2']\n",
    "pullback_omega['du1^du2'] += dc1_bar['du1'] * du1_bar['du2']\n",
    "pullback_omega['du1^du2'] += - dc1_bar['du2'] * du1_bar['du1']\n",
    "\n",
    "# Coming from dc2_bar^du2\n",
    "pullback_omega['dc1^du2'] += dc2_bar['dc1'] * du2['du2']\n",
    "pullback_omega['dc2^du2'] += dc2_bar['dc2'] * du2['du2']\n",
    "pullback_omega['du1^du2'] += dc2_bar['du1'] * du2['du2']"
   ]
  },
  {
   "cell_type": "code",
   "execution_count": 39,
   "metadata": {},
   "outputs": [],
   "source": [
    "# Simplify the above terms:\n",
    "for key in keys:\n",
    "    try:\n",
    "        pullback_omega[key] = omega[key].simplify_rational()\n",
    "    except:\n",
    "        next\n",
    "\n",
    "try:\n",
    "    pullback_omega['du1^du2'] = pullback_omega['du1^du2'].simplify_rational().factor()\n",
    "except:\n",
    "    pass"
   ]
  },
  {
   "cell_type": "code",
   "execution_count": 40,
   "metadata": {
    "scrolled": false
   },
   "outputs": [
    {
     "name": "stdout",
     "output_type": "stream",
     "text": [
      "dc1^du1 term:\n",
      "1 \n",
      "\n",
      "dc1^du2 term:\n",
      "0 \n",
      "\n",
      "dc2^du1 term:\n",
      "0 \n",
      "\n",
      "dc2^du2 term:\n",
      "1 \n",
      "\n",
      "dc1^dc2 term:\n",
      "0 \n",
      "\n",
      "du1^du2 term:\n",
      "0 \n",
      "\n"
     ]
    }
   ],
   "source": [
    "# Print the pullback of omega by Psi\n",
    "for key in keys:\n",
    "    print '{} term:\\n'.format(key), pullback_omega[key], '\\n'"
   ]
  },
  {
   "cell_type": "markdown",
   "metadata": {},
   "source": [
    "This confirms that the symplectic 2-form $\\omega_{\\mathbb{P}^1}$ is invariant under the involution $\\psi$."
   ]
  },
  {
   "cell_type": "markdown",
   "metadata": {},
   "source": [
    "# Fixed points of $\\Psi$ on the Universal Family\n",
    "\n",
    "The fixed points of $\\Psi$ are those connections with underlying bundle in $\\Sigma$ and such that\n",
    "$$ \\left(\\mathrm{T} - \\mathrm{Id}\\right) \\begin{pmatrix}1\\\\ c_1 \\\\c_2\\end{pmatrix} \\;=\\; 0. $$\n",
    "\n",
    "The interesting part of this linear system is on the bottom left 2x2 minor."
   ]
  },
  {
   "cell_type": "code",
   "execution_count": 41,
   "metadata": {},
   "outputs": [],
   "source": [
    "minor = matrix([\n",
    "    [TT[1,0], TT[1,1] - 1],\n",
    "    [TT[2,0], TT[2,1]]\n",
    "])"
   ]
  },
  {
   "cell_type": "code",
   "execution_count": 42,
   "metadata": {},
   "outputs": [
    {
     "data": {
      "text/html": [
       "<html><script type=\"math/tex; mode=display\">\\newcommand{\\Bold}[1]{\\mathbf{#1}}\\frac{{\\left(t_{1} t_{2} u_{1}^{2} - 2 \\, t_{1} t_{2} u_{1} u_{2} - t_{1} u_{1}^{2} u_{2} + t_{2} u_{1}^{2} u_{2} + t_{1}^{2} u_{2}^{2} - t_{2} u_{1}^{2} - t_{1}^{2} u_{2} + t_{1} t_{2} u_{2} + 2 \\, t_{1} u_{1} u_{2} - t_{1} u_{2}^{2}\\right)} {\\left(2 \\, t_{1} t_{2}^{2} u_{2} - 3 \\, t_{1} t_{2} u_{2}^{2} + t_{1} u_{2}^{3} - t_{2} u_{2}^{3} - t_{1} t_{2}^{2} + t_{1} t_{2} u_{2} - t_{2}^{2} u_{2} + 3 \\, t_{2} u_{2}^{2} + t_{2}^{2} - 2 \\, t_{2} u_{2}\\right)} \\nu}{{\\left(t_{1} - t_{2}\\right)} {\\left(t_{1} - 1\\right)} t_{1} {\\left(t_{2} - u_{2}\\right)}^{2} {\\left(u_{2} - 1\\right)}^{2} u_{2}^{2}}</script></html>"
      ],
      "text/plain": [
       "(t1*t2*u1^2 - 2*t1*t2*u1*u2 - t1*u1^2*u2 + t2*u1^2*u2 + t1^2*u2^2 - t2*u1^2 - t1^2*u2 + t1*t2*u2 + 2*t1*u1*u2 - t1*u2^2)*(2*t1*t2^2*u2 - 3*t1*t2*u2^2 + t1*u2^3 - t2*u2^3 - t1*t2^2 + t1*t2*u2 - t2^2*u2 + 3*t2*u2^2 + t2^2 - 2*t2*u2)*nu/((t1 - t2)*(t1 - 1)*t1*(t2 - u2)^2*(u2 - 1)^2*u2^2)"
      ]
     },
     "execution_count": 42,
     "metadata": {},
     "output_type": "execute_result"
    }
   ],
   "source": [
    "minor.determinant().simplify_rational().factor()  # First factor of numerator is Sigma"
   ]
  },
  {
   "cell_type": "code",
   "execution_count": 43,
   "metadata": {},
   "outputs": [
    {
     "data": {
      "text/html": [
       "<html><script type=\"math/tex; mode=display\">\\newcommand{\\Bold}[1]{\\mathbf{#1}}{\\left(t_{1} t_{2} u_{1}^{2} - 2 \\, t_{1} t_{2} u_{1} u_{2} - t_{1} u_{1}^{2} u_{2} + t_{2} u_{1}^{2} u_{2} + t_{1}^{2} u_{2}^{2} - t_{2} u_{1}^{2} - t_{1}^{2} u_{2} + t_{1} t_{2} u_{2} + 2 \\, t_{1} u_{1} u_{2} - t_{1} u_{2}^{2}\\right)} {\\left(t_{1} t_{2} - t_{1} u_{2} + t_{2} u_{2} - t_{2}\\right)}</script></html>"
      ],
      "text/plain": [
       "(t1*t2*u1^2 - 2*t1*t2*u1*u2 - t1*u1^2*u2 + t2*u1^2*u2 + t1^2*u2^2 - t2*u1^2 - t1^2*u2 + t1*t2*u2 + 2*t1*u1*u2 - t1*u2^2)*(t1*t2 - t1*u2 + t2*u2 - t2)"
      ]
     },
     "execution_count": 43,
     "metadata": {},
     "output_type": "execute_result"
    }
   ],
   "source": [
    "# Along Sigma, T[1,1] is identically -1\n",
    "(1 + TT[1,1]).numerator().factor() # First factor is the polynomial defining Sigma"
   ]
  },
  {
   "cell_type": "markdown",
   "metadata": {},
   "source": [
    "Therefore the system reduces to a single equation `T[1,0] + (T[1,1] - 1)*c1`.  \n",
    "Moreover, the last equation is simply `T[1,0] - 2*c1`, and its unique solution `c1 = T[1,0]/2`."
   ]
  },
  {
   "cell_type": "markdown",
   "metadata": {},
   "source": [
    "# The map into the moduli space $\\operatorname{Bun}(C,T) = \\mathbb{P}^1_z\\times\\mathbb{P}^1_w$.\n",
    "\n",
    "The map $\\mathbb{P}^1_{u_1} \\times \\mathbb{P}^1_{u_2} \\longrightarrow \\mathbb{P}^1_z \\times \\mathbb{P}^1_w$ was computed by Fernández-Vargas, we import his formulas here.\n",
    "\n",
    "**Remark:** Note that in fact we have the following:\n",
    "\n",
    "* `z` is the x-coordinate of the second point of intersection of `S_Sigma` with the horizontal line $\\zeta=\\infty$, or equivalent the unique pole of $\\sigma_\\psi$.\n",
    "\n",
    "* `w` has the same formula as `u1*u1_bar` after multiplying by `t2/(t1*u2)`."
   ]
  },
  {
   "cell_type": "code",
   "execution_count": 44,
   "metadata": {},
   "outputs": [],
   "source": [
    "z = t2*(u2-1)/(u2-t2)\n",
    "w = (t2*u1 - u2*t1 - t2 + u2 - u1 + t1)*t2*u1/(t2*u2*u1 - t2*u2*t1 + t2*u1*t1 - u2*u1*t1 - t2*u1 + u2*t1)"
   ]
  },
  {
   "cell_type": "markdown",
   "metadata": {},
   "source": [
    "The above functions work as a substitute of the elementary symmetric polynomials on `u1, u1_bar`:"
   ]
  },
  {
   "cell_type": "code",
   "execution_count": 45,
   "metadata": {},
   "outputs": [
    {
     "data": {
      "text/html": [
       "<html><script type=\"math/tex; mode=display\">\\newcommand{\\Bold}[1]{\\mathbf{#1}}0</script></html>"
      ],
      "text/plain": [
       "0"
      ]
     },
     "execution_count": 45,
     "metadata": {},
     "output_type": "execute_result"
    }
   ],
   "source": [
    "sigma_1 = (z*w + (z-w)*t1 - t2) / (z - t2)\n",
    "(sigma_1 - (u1+u1_bar)).simplify_rational().factor()"
   ]
  },
  {
   "cell_type": "code",
   "execution_count": 46,
   "metadata": {},
   "outputs": [
    {
     "data": {
      "text/html": [
       "<html><script type=\"math/tex; mode=display\">\\newcommand{\\Bold}[1]{\\mathbf{#1}}0</script></html>"
      ],
      "text/plain": [
       "0"
      ]
     },
     "execution_count": 46,
     "metadata": {},
     "output_type": "execute_result"
    }
   ],
   "source": [
    "sigma_2 = w*t1*(z-1)/(z-t2)\n",
    "(sigma_2 - (u1*u1_bar)).simplify_rational().factor()"
   ]
  },
  {
   "cell_type": "markdown",
   "metadata": {},
   "source": [
    "## The canonical basis"
   ]
  },
  {
   "cell_type": "markdown",
   "metadata": {},
   "source": [
    "The base change from the canonical basis to the original is given by combining the firs column of `CO` (defining the $\\Psi$-invariant Lagrangian section $\\nabla_0^\\psi$, and the differential of $\\phi$ multiplied by 1/2.  \n",
    "See: Section 9.4 in the paper."
   ]
  },
  {
   "cell_type": "code",
   "execution_count": 47,
   "metadata": {},
   "outputs": [],
   "source": [
    "# differential of Phi (ie transpose of Jacobian matrix)\n",
    "dphi = matrix([\n",
    "    (diff(z, u1), diff(w, u1)),\n",
    "    (diff(z, u2), diff(w, u2))\n",
    "]).simplify_rational().factor()"
   ]
  },
  {
   "cell_type": "code",
   "execution_count": 48,
   "metadata": {},
   "outputs": [],
   "source": [
    "# Base change: Canonical -> Original\n",
    "CO = matrix([\n",
    "    (1, 0, 0),\n",
    "    (B_inv[1,0], dphi[0][0]/2, dphi[0][1]/2),\n",
    "    (B_inv[2,0], dphi[1][0]/2, dphi[1][1]/2)\n",
    "]).simplify_rational().factor()"
   ]
  },
  {
   "cell_type": "markdown",
   "metadata": {},
   "source": [
    "The above definition implies that, with respect to the canonical basis, the map $\\hat\\Phi$ between moduli spaces of Higgs bundles coincides fiberwise with the inverse of the natural action $d\\Phi \\colon T^*\\operatorname{Bun}(C,T) \\to T^*\\operatorname{Bun}(\\mathbb{P}^1,D)$ induced by $\\Phi$ on the cotangent bundles."
   ]
  },
  {
   "cell_type": "markdown",
   "metadata": {},
   "source": [
    "### Rewriting the canonical basis as a combination of the equivariant one (with $\\psi$-invariant coefficients)"
   ]
  },
  {
   "cell_type": "code",
   "execution_count": 49,
   "metadata": {},
   "outputs": [],
   "source": [
    "# Base change: Canonical -> Equivariant\n",
    "CE = (B*CO).simplify_rational().factor()  # canonical -> original -> equivariant"
   ]
  },
  {
   "cell_type": "code",
   "execution_count": 50,
   "metadata": {
    "scrolled": true
   },
   "outputs": [
    {
     "data": {
      "text/html": [
       "<html><script type=\"math/tex; mode=display\">\\newcommand{\\Bold}[1]{\\mathbf{#1}}\\left(\\begin{array}{rrr}\n",
       "1 & 0 & 0 \\\\\n",
       "0 & 0 & \\frac{Z - t_{2}}{Z - t_{1}} \\\\\n",
       "0 & -\\frac{{\\left(Z - t_{2}\\right)}^{2}}{2 \\, {\\left(t_{2} - 1\\right)} t_{2}} & \\frac{{\\left(W t_{1} - W t_{2} - t_{1} t_{2} + t_{2}\\right)} {\\left(Z - t_{2}\\right)}}{2 \\, {\\left(Z - t_{1}\\right)} {\\left(t_{2} - 1\\right)} t_{2}}\n",
       "\\end{array}\\right)</script></html>"
      ],
      "text/plain": [
       "[                                                             1                                                              0                                                              0]\n",
       "[                                                             0                                                              0                                              (Z - t2)/(Z - t1)]\n",
       "[                                                             0                                  -1/2*(Z - t2)^2/((t2 - 1)*t2) 1/2*(W*t1 - W*t2 - t1*t2 + t2)*(Z - t2)/((Z - t1)*(t2 - 1)*t2)]"
      ]
     },
     "execution_count": 50,
     "metadata": {},
     "output_type": "execute_result"
    }
   ],
   "source": [
    "# Rewrite it in terms of z,w\n",
    "var('Z W')\n",
    "Sol1 = solve([z-Z, w-W], [u1, u2])[1]\n",
    "CE_zw_vars = CE.subs(Sol1).simplify_rational().factor()\n",
    "CE_zw_vars"
   ]
  },
  {
   "cell_type": "markdown",
   "metadata": {},
   "source": [
    "The above defines the bundles $\\Theta_z$, $\\Theta_w$ in terms of $\\Theta_1,\\Theta_2$ using $\\psi$-invariant coefficients. Explicityly,\n",
    "\n",
    "$$\\Theta_z = \\frac{(z-\\lambda)^2}{\\lambda(1-\\lambda)} \\, \\Theta_2^\\psi, \\quad\n",
    "\\Theta_w = \\frac{2(z-\\lambda)}{z-t} \\, \\Theta_1^\\psi + \\frac{(wt-w\\lambda-t\\lambda+\\lambda) (z-\\lambda)}{(z-t)(\\lambda-1)\\lambda} \\, \\Theta_2^\\psi . $$"
   ]
  },
  {
   "cell_type": "markdown",
   "metadata": {},
   "source": [
    "# The 2-form $\\omega_C = dk_1\\wedge dz + dk_2\\wedge dw$ under pullback by $\\Phi$\n",
    "\n",
    "\n",
    "Below we prove that $\\Phi^*\\omega_C = 2\\omega_{\\mathbb{P}^1}$.  \n",
    "The comutations are easier if we first pullback the Liouville 1-form $\\eta_C = k_1 dz + k_2 dw$, and then take the exterior derivative."
   ]
  },
  {
   "cell_type": "code",
   "execution_count": 51,
   "metadata": {},
   "outputs": [],
   "source": [
    "del k1\n",
    "del k2\n",
    "\n",
    "OC = ~CO.simplify_rational().factor()\n",
    "\n",
    "k1 = (OC*vector([1, c1, c2]))[1].simplify_rational()\n",
    "k2 = (OC*vector([1, c1, c2]))[2].simplify_rational()"
   ]
  },
  {
   "cell_type": "markdown",
   "metadata": {},
   "source": [
    "**Note:** As before, we will store a differential 1-form $\\alpha = \\sum_i a_i dx_i$ as a dictionary `A` where:  \n",
    "* The keys of `A` are strings: `'dx1', 'dx2', ..., 'dxn'`,\n",
    "* The values are `A['dx1'] = a_1, ..., A['dxn'] = a_n`.\n",
    "\n",
    "We define similar dictionaries for 2-forms, with keys of the form: `'dx1^dx2'`."
   ]
  },
  {
   "cell_type": "code",
   "execution_count": 52,
   "metadata": {},
   "outputs": [],
   "source": [
    "# Compute dz\n",
    "# Save differential as a dictionary:\n",
    "dz = {}\n",
    "dz['dc1'] = 0\n",
    "dz['dc2'] = 0\n",
    "dz['du1'] = diff(z, u1).simplify_rational().factor()\n",
    "dz['du2'] = diff(z, u2).simplify_rational().factor()\n",
    "\n",
    "# Compute dw\n",
    "# Save differential as a dictionary:\n",
    "dw = {}\n",
    "dw['dc1'] = 0\n",
    "dw['dc2'] = 0\n",
    "dw['du1'] = diff(w, u1).simplify_rational().factor()\n",
    "dw['du2'] = diff(w, u2).simplify_rational().factor()\n",
    "\n",
    "# Compute 1-form eta and save as dictionary:\n",
    "keys = ['du1', 'du2']\n",
    "pullback_eta = {key: 0 for key in keys}\n",
    "\n",
    "pullback_eta['du1'] += k1 * dz['du1']\n",
    "pullback_eta['du2'] += k1 * dz['du2']\n",
    "pullback_eta['du1'] += k2 * dw['du1']\n",
    "pullback_eta['du2'] += k2 * dw['du2']"
   ]
  },
  {
   "cell_type": "code",
   "execution_count": 53,
   "metadata": {},
   "outputs": [],
   "source": [
    "# Simplify the above terms:\n",
    "for key in keys:\n",
    "    try:\n",
    "        pullback_eta[key] = pullback_eta[key].simplify_rational()\n",
    "    except:\n",
    "        next\n",
    "for key in keys:\n",
    "    try:\n",
    "        pullback_eta[key] = pullback_eta[key].factor()\n",
    "    except:\n",
    "        next"
   ]
  },
  {
   "cell_type": "markdown",
   "metadata": {},
   "source": [
    "**Note:** It is not true that $\\Phi^*\\eta_C = 2\\eta_{\\mathbb{P}^1}$, only $\\omega_C$ is invariant up to a factor.\n",
    "\n",
    "We now take the exterior derivative of $\\Phi^*\\eta_C$"
   ]
  },
  {
   "cell_type": "code",
   "execution_count": 54,
   "metadata": {},
   "outputs": [
    {
     "name": "stdout",
     "output_type": "stream",
     "text": [
      "dc1^du1 term:\n",
      "2\n",
      "\n",
      "dc2^du1 term:\n",
      "0\n",
      "\n",
      "du1^du2 term:\n",
      "0\n",
      "\n",
      "dc1^du2 term:\n",
      "0\n",
      "\n",
      "dc2^du2 term:\n",
      "2\n"
     ]
    }
   ],
   "source": [
    "print 'dc1^du1 term:'\n",
    "print diff(pullback_eta['du1'], c1).simplify_rational().factor()\n",
    "\n",
    "print '\\n' + 'dc2^du1 term:'\n",
    "print diff(pullback_eta['du1'], c2).simplify_rational().factor()\n",
    "\n",
    "print '\\n' + 'du1^du2 term:'\n",
    "print (diff(pullback_eta['du2'], u1) - diff(pullback_eta['du1'], u2)).simplify_rational().factor()\n",
    "\n",
    "print '\\n' + 'dc1^du2 term:'\n",
    "print diff(pullback_eta['du2'], c1).simplify_rational().factor()\n",
    "\n",
    "print '\\n' + 'dc2^du2 term:'\n",
    "print diff(pullback_eta['du2'], c2).simplify_rational().factor()"
   ]
  },
  {
   "cell_type": "markdown",
   "metadata": {},
   "source": [
    "The above shows that the 1-form $\\eta_C$ satisfies: $d(\\Phi^*\\eta_C) = 2\\omega_{\\mathbb{P}^1}$.\n",
    "\n",
    "We conclude that\n",
    "\n",
    "$$\\Phi^*\\omega_c = \\Phi^*(d\\eta_C) = d(\\Phi^*\\eta_C) = 2\\omega_{\\mathbb{P}^1} . $$\n",
    "\n",
    "This shows that the map $\\Phi$ between moduli spaces of connections is symplectic up to a constant factor of 2."
   ]
  }
 ],
 "metadata": {
  "kernelspec": {
   "display_name": "SageMath 8.7",
   "language": "",
   "name": "sagemath"
  },
  "language_info": {
   "codemirror_mode": {
    "name": "ipython",
    "version": 2
   },
   "file_extension": ".py",
   "mimetype": "text/x-python",
   "name": "python",
   "nbconvert_exporter": "python",
   "pygments_lexer": "ipython2",
   "version": "2.7.15"
  }
 },
 "nbformat": 4,
 "nbformat_minor": 2
}
