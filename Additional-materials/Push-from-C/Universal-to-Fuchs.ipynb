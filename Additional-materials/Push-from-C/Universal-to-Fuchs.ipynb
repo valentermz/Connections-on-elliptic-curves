{
 "cells": [
  {
   "cell_type": "markdown",
   "metadata": {},
   "source": [
    "# From Universal Family on the elliptic curve $C$ to a Fuchsian system on $\\mathbb{P}^1$\n",
    "\n",
    "Let $C$ be the elliptic curve is given by $y^2 = P(x)$, where $P(x) = x(x-1)(x-\\lambda)$., and let $\\pi$ be the projection $\\pi(x,y) = x$. A Universal Family of these connections has been described by Fassarella and Loray: [arXiv: 1707.00820](https://arxiv.org/abs/1707.00820).\n",
    "\n",
    "Here we push such a rank 2 connection $\\nabla$ from the elliptic curve onto $\\mathbb{P}^1$. The resulting connection $\\pi_{\\ast}\\nabla$ is a rank 4 connection defined on the bundle $\\mathcal{O}^{\\oplus 2}\\oplus\\mathcal{O}(-2)^{\\oplus 2}$. The aim of these notebook is to start from the Universal Family and arrive to a family of rank 4 Fuchsian systems on the Riemann Sphere."
   ]
  },
  {
   "cell_type": "code",
   "execution_count": 1,
   "metadata": {},
   "outputs": [
    {
     "data": {
      "text/html": [
       "<style>.container { width:95% !important; }</style>"
      ],
      "text/plain": [
       "<IPython.core.display.HTML object>"
      ]
     },
     "metadata": {},
     "output_type": "display_data"
    }
   ],
   "source": [
    "from IPython.core.display import display, HTML, Math\n",
    "# Define the width of the cells\n",
    "display(HTML(\"<style>.container { width:95% !important; }</style>\"))\n",
    "\n",
    "def DM(expression):\n",
    "    \"\"\"Short for DisplayMath: converts symbolic expression into latex and displays it nicely\"\"\"\n",
    "    return display(Math(latex(expression)))"
   ]
  },
  {
   "cell_type": "markdown",
   "metadata": {},
   "source": [
    "## Variables"
   ]
  },
  {
   "cell_type": "code",
   "execution_count": 2,
   "metadata": {
    "scrolled": true
   },
   "outputs": [
    {
     "data": {
      "text/plain": [
       "(x, y, L, t, r, n1, n2, z1, z2, c1, c2)"
      ]
     },
     "execution_count": 2,
     "metadata": {},
     "output_type": "execute_result"
    }
   ],
   "source": [
    "# We use the following variables:\n",
    "var('x y L t r n1 n2 z1 z2 c1 c2')"
   ]
  },
  {
   "cell_type": "code",
   "execution_count": 27,
   "metadata": {},
   "outputs": [],
   "source": [
    "P = x*(x-1)*(x-L)\n",
    "dP = diff(P, x)\n",
    "rval = [r==sqrt(P.subs(x==t))]"
   ]
  },
  {
   "cell_type": "code",
   "execution_count": 4,
   "metadata": {},
   "outputs": [
    {
     "name": "stdout",
     "output_type": "stream",
     "text": [
      "[L == (1219/84), t == (3/7), n1 == (11/17), n2 == (-13/53), z1 == (-31/24), z2 == (1/71), c1 == (-37/11), c2 == (17/31), r == (13/7)]\n"
     ]
    }
   ],
   "source": [
    "# Some concrete values that can be used for testing\n",
    "vals = [L == 1219/84, t == 3/7, n1 == 11/17, n2 == -13/53, z1 == -31/24, z2 == 1/71, c1 == -37/11, c2 == 17/31]\n",
    "vals.append(r == r.subs(rval).subs(vals))\n",
    "print vals"
   ]
  },
  {
   "cell_type": "markdown",
   "metadata": {},
   "source": [
    "| Variable | Meaning |\n",
    "| :---: | --- |\n",
    "| `(x,y)` | Coordinates on $\\mathbb{C}^2$ |\n",
    "| `P` | The polynomial $x(x-1)(x-\\lambda)$ defining the curve $C$ |\n",
    "| `L` | The number $\\lambda$ defining the curve |\n",
    "| `(t,r)` | The coordinates of the point $t_1$ |\n",
    "| `n1, n2` | Stand for $\\eta_i$, the exponents of the singularities over $t_i$ |\n",
    "| `z1, z2` | Coordinates used in the Fasarella-Loray model |\n",
    "| `c1, c2` | Coordinates used in the Fasarella-Loray model |"
   ]
  },
  {
   "cell_type": "markdown",
   "metadata": {},
   "source": [
    "## Expressions from Table 1\n",
    "\n",
    "These were manually copied from the paper."
   ]
  },
  {
   "cell_type": "code",
   "execution_count": 5,
   "metadata": {},
   "outputs": [],
   "source": [
    "a0 = (1/4)*((((L+(x-L-1)*t)*x*(n1+n2)-((L+1)*x^2+(-L-(L+1)*t)*x+t*L)))/((x-t)*y) + ((L+(t-L-1)*x)*t*(n1-n2))/((x-t)*r) - (2*x*(n1*z1+n2*z2))/(y) + ((L-t+1)*(n1*z1-n2*z2))/(r))\n",
    "b0 = (1/4)*((2*(n1*z1+n2*z2)-(L+1-x)*(n1+n2+1)+2*x)/(y) - (2*(t*(n2-n1)+n1*z1-n2*z2))/(r))\n",
    "g0 = (x/4)*((2*(L-x*(1+L-t))*(n1*z1+n2*z2))/(y*(x-t)) + (L*(n1+n2-1))/(y) + (2*r*(n1*z1-n2*z2))/((x-t)*t))\n",
    "a1 = (-(2*z1*x*((t-z1)*x+t*(z1-1)+L*(1-t)))/(2*y*(x-t)) - ((t*L+(2*t-z1)*(t-L-1)*z1)*x)/(2*r*(x-t)) + (t*((t-2*z1)*L-(t-L-1)*z1^2))/(2*r*(x-t)))\n",
    "b1 = (x*(t-z1)*(x+z1-L-1)+t*(z1-L)*(z1-1))/(y*(x-t)) + ((z1-t)^2*x+t*((2*t-z1)*z1+L-t*(L+1)))/(r*(x-t))\n",
    "g1 = z1*x*((x*(z1*(1-t)+L*(z1-1))+L*(t-z1))/(y*(x-t)) - (r*z1)/(t*(x-t)))\n",
    "a2 = -((2*z2*x*((t-z2)*x+t*(z2-1)+L*(1-t)))/(y*(2*(x-t))) - ((t*L+(2*t-z2)*(t-L-1)*z2)*x)/(r*(2*(x-t))) + (t*((t-2*z2)*L-(t-L-1)*z2^2))/(r*(2*(x-t))))\n",
    "b2 = (x*(t-z2)*(x+z2-L-1)+t*(z2-L)*(z2-1))/(y*(x-t)) - ((z2-t)^2*x+t*((2*t-z2)*z2+L-t*(L+1)))/(r*(x-t))\n",
    "g2 = z2*x*((x*(z2*(1-t)+L*(z2-1))+L*(t-z2))/(y*(x-t)) + (r*z2)/(t*(x-t)))\n",
    "\n",
    "Table1 = [a0, b0, g0, a1, b1, g1, a2, b2, g2]\n",
    "names = [r'\\alpha', r'\\beta', r'\\gamma', r'\\alpha_1', r'\\beta_1', r'\\gamma_1', r'\\alpha_2', r'\\beta_2', r'\\gamma_2']\n",
    "\n",
    "a = a0 + c1*a1 + c2*a2\n",
    "b = b0 + c1*b1 + c2*b2\n",
    "g = g0 + c1*g1 + c2*g2"
   ]
  },
  {
   "cell_type": "markdown",
   "metadata": {},
   "source": [
    "### Pretty print to compare to arXiv paper"
   ]
  },
  {
   "cell_type": "raw",
   "metadata": {},
   "source": [
    "for k in range(len(Table1)):\n",
    "    display(Math(names[k] + ':'))\n",
    "    DM(Table1[k])\n",
    "    print '\\n'"
   ]
  },
  {
   "cell_type": "markdown",
   "metadata": {},
   "source": [
    "# Residues of original connection $\\nabla$ on $C$\n",
    "\n",
    "The above expressions define the universal family\n",
    "\n",
    "$\\nabla = \\nabla_0 + c_1\\Theta_1 + c_2\\Theta_2 = \\pmatrix{\n",
    "    a & b \\\\\n",
    "    g & -a \\\\\n",
    "}\\frac{dx}{y}$."
   ]
  },
  {
   "cell_type": "code",
   "execution_count": 6,
   "metadata": {},
   "outputs": [],
   "source": [
    "Nabla = matrix([[a, b], [g, -a]]).simplify_rational().factor()"
   ]
  },
  {
   "cell_type": "markdown",
   "metadata": {},
   "source": [
    "Remark: The form $\\frac{1}{y}\\frac{dx}{y}$, at $p=0,1,\\lambda$, has residue $\\frac{2}{P'(p)}$. Thus the residue of $\\nabla$ at $p$ is given by $\\lim_{(x,y)\\to(p,0)}(yM)\\frac{2}{P'(p)}$."
   ]
  },
  {
   "cell_type": "code",
   "execution_count": 7,
   "metadata": {
    "scrolled": true
   },
   "outputs": [],
   "source": [
    "sing = [0, 1, L, 't1', 't2']\n",
    "ResNabla = ['']*5\n",
    "\n",
    "# Residues at the apparent singularities\n",
    "for p in sing[:3]:\n",
    "    res = (y*Nabla*(2/dP)).simplify_rational().subs(x==p, y==0).simplify_rational().factor()\n",
    "    ResNabla[sing.index(p)] = res\n",
    "\n",
    "# Residues at x=t\n",
    "rest1 = ((x-t)*Nabla/y).simplify_rational().subs(x==t, y==r).simplify_rational().factor().subs(rval).simplify_rational().factor()\n",
    "rest2 = ((x-t)*Nabla/y).simplify_rational().subs(x==t, y==-r).simplify_rational().factor().subs(rval).simplify_rational().factor()\n",
    "\n",
    "ResNabla[3] = rest1\n",
    "ResNabla[4] = rest2"
   ]
  },
  {
   "cell_type": "markdown",
   "metadata": {},
   "source": [
    "### Display the residues"
   ]
  },
  {
   "cell_type": "code",
   "execution_count": 47,
   "metadata": {
    "scrolled": false
   },
   "outputs": [
    {
     "name": "stdout",
     "output_type": "stream",
     "text": [
      "Residue at 0 :\n"
     ]
    },
    {
     "data": {
      "text/latex": [
       "$$\\left(\\begin{array}{rr}\n",
       "\\frac{1}{2} & \\frac{4 \\, L c_{1} z_{1} - 4 \\, c_{1} z_{1}^{2} + 4 \\, L c_{2} z_{2} - 4 \\, c_{2} z_{2}^{2} - 4 \\, L c_{1} - 4 \\, L c_{2} - L n_{1} - L n_{2} + 4 \\, c_{1} z_{1} + 2 \\, n_{1} z_{1} + 4 \\, c_{2} z_{2} + 2 \\, n_{2} z_{2} - L - n_{1} - n_{2} - 1}{2 \\, L} \\\\\n",
       "0 & -\\frac{1}{2}\n",
       "\\end{array}\\right)$$"
      ],
      "text/plain": [
       "<IPython.core.display.Math object>"
      ]
     },
     "metadata": {},
     "output_type": "display_data"
    },
    {
     "name": "stdout",
     "output_type": "stream",
     "text": [
      "Eigenvalues: [-1/2, 1/2]\n",
      "Parabolic structure: (1/2, [(1, 0)], 1) \n",
      "\n",
      "Residue at 1 :\n"
     ]
    },
    {
     "data": {
      "text/latex": [
       "$$\\left(\\begin{array}{rr}\n",
       "\\frac{4 \\, L c_{1} z_{1} - 4 \\, c_{1} z_{1}^{2} + 4 \\, L c_{2} z_{2} - 4 \\, c_{2} z_{2}^{2} - L n_{1} - L n_{2} + 2 \\, n_{1} z_{1} + 2 \\, n_{2} z_{2} + 1}{2 \\, {\\left(L - 1\\right)}} & -\\frac{4 \\, L c_{1} z_{1} - 4 \\, c_{1} z_{1}^{2} + 4 \\, L c_{2} z_{2} - 4 \\, c_{2} z_{2}^{2} - L n_{1} - L n_{2} + 2 \\, n_{1} z_{1} + 2 \\, n_{2} z_{2} - L + 2}{2 \\, {\\left(L - 1\\right)}} \\\\\n",
       "\\frac{4 \\, L c_{1} z_{1} - 4 \\, c_{1} z_{1}^{2} + 4 \\, L c_{2} z_{2} - 4 \\, c_{2} z_{2}^{2} - L n_{1} - L n_{2} + 2 \\, n_{1} z_{1} + 2 \\, n_{2} z_{2} + L}{2 \\, {\\left(L - 1\\right)}} & -\\frac{4 \\, L c_{1} z_{1} - 4 \\, c_{1} z_{1}^{2} + 4 \\, L c_{2} z_{2} - 4 \\, c_{2} z_{2}^{2} - L n_{1} - L n_{2} + 2 \\, n_{1} z_{1} + 2 \\, n_{2} z_{2} + 1}{2 \\, {\\left(L - 1\\right)}}\n",
       "\\end{array}\\right)$$"
      ],
      "text/plain": [
       "<IPython.core.display.Math object>"
      ]
     },
     "metadata": {},
     "output_type": "display_data"
    },
    {
     "name": "stdout",
     "output_type": "stream",
     "text": [
      "Eigenvalues: [-1/2, 1/2]\n",
      "Parabolic structure: (1/2, [(1, 1)], 1) \n",
      "\n",
      "Residue at L :\n"
     ]
    },
    {
     "data": {
      "text/latex": [
       "$$\\left(\\begin{array}{rr}\n",
       "\\frac{4 \\, c_{1} z_{1}^{2} + 4 \\, c_{2} z_{2}^{2} - 4 \\, c_{1} z_{1} - 2 \\, n_{1} z_{1} - 4 \\, c_{2} z_{2} - 2 \\, n_{2} z_{2} - L + n_{1} + n_{2}}{2 \\, {\\left(L - 1\\right)}} & -\\frac{4 \\, c_{1} z_{1}^{2} + 4 \\, c_{2} z_{2}^{2} - 4 \\, c_{1} z_{1} - 2 \\, n_{1} z_{1} - 4 \\, c_{2} z_{2} - 2 \\, n_{2} z_{2} - 2 \\, L + n_{1} + n_{2} + 1}{2 \\, {\\left(L - 1\\right)} L} \\\\\n",
       "\\frac{{\\left(4 \\, c_{1} z_{1}^{2} + 4 \\, c_{2} z_{2}^{2} - 4 \\, c_{1} z_{1} - 2 \\, n_{1} z_{1} - 4 \\, c_{2} z_{2} - 2 \\, n_{2} z_{2} + n_{1} + n_{2} - 1\\right)} L}{2 \\, {\\left(L - 1\\right)}} & -\\frac{4 \\, c_{1} z_{1}^{2} + 4 \\, c_{2} z_{2}^{2} - 4 \\, c_{1} z_{1} - 2 \\, n_{1} z_{1} - 4 \\, c_{2} z_{2} - 2 \\, n_{2} z_{2} - L + n_{1} + n_{2}}{2 \\, {\\left(L - 1\\right)}}\n",
       "\\end{array}\\right)$$"
      ],
      "text/plain": [
       "<IPython.core.display.Math object>"
      ]
     },
     "metadata": {},
     "output_type": "display_data"
    },
    {
     "name": "stdout",
     "output_type": "stream",
     "text": [
      "Eigenvalues: [-1/2, 1/2]\n",
      "Parabolic structure: (1/2, [(1, L)], 1) \n",
      "\n",
      "Residue at t :\n"
     ]
    },
    {
     "data": {
      "text/latex": [
       "$$\\left(\\begin{array}{rr}\n",
       "-2 \\, c_{1} z_{1} + \\frac{1}{2} \\, n_{1} & 2 \\, c_{1} \\\\\n",
       "-{\\left(2 \\, c_{1} z_{1} - n_{1}\\right)} z_{1} & 2 \\, c_{1} z_{1} - \\frac{1}{2} \\, n_{1}\n",
       "\\end{array}\\right)$$"
      ],
      "text/plain": [
       "<IPython.core.display.Math object>"
      ]
     },
     "metadata": {},
     "output_type": "display_data"
    },
    {
     "name": "stdout",
     "output_type": "stream",
     "text": [
      "Eigenvalues: [-1/2*n1, 1/2*n1]\n",
      "Parabolic structure: (1/2*n1, [(1, z1)], 1) \n",
      "\n",
      "Residue at infty :\n"
     ]
    },
    {
     "data": {
      "text/latex": [
       "$$\\left(\\begin{array}{rr}\n",
       "-2 \\, c_{2} z_{2} + \\frac{1}{2} \\, n_{2} & 2 \\, c_{2} \\\\\n",
       "-{\\left(2 \\, c_{2} z_{2} - n_{2}\\right)} z_{2} & 2 \\, c_{2} z_{2} - \\frac{1}{2} \\, n_{2}\n",
       "\\end{array}\\right)$$"
      ],
      "text/plain": [
       "<IPython.core.display.Math object>"
      ]
     },
     "metadata": {},
     "output_type": "display_data"
    },
    {
     "name": "stdout",
     "output_type": "stream",
     "text": [
      "Eigenvalues: [-1/2*n2, 1/2*n2]\n",
      "Parabolic structure: (1/2*n2, [(1, z2)], 1) \n",
      "\n"
     ]
    }
   ],
   "source": [
    "for p in range(5):\n",
    "    print 'Residue at {}'.format(sing[p]), ':'\n",
    "    DM(ResNabla[p])\n",
    "    print 'Eigenvalues:', ResNabla[p].eigenvalues()\n",
    "    print 'Parabolic structure:', ResNabla[p].eigenvectors_right()[-1], '\\n'"
   ]
  },
  {
   "cell_type": "markdown",
   "metadata": {},
   "source": [
    "### Remark:\n",
    "\n",
    "Each residue is a matrix in $\\mathfrak{sl}_2\\mathbb{C}$ with eigenvalues $\\pm\\theta$. The square of such a matrix is diagonalizable with eigenvalue $\\theta^2$ with multiplicity 2. This means that the squares are always scalar matrices."
   ]
  },
  {
   "cell_type": "markdown",
   "metadata": {},
   "source": [
    "# Pushing $\\nabla$ to $\\mathbb{P}^1$\n",
    "\n",
    "Let $\\nabla = d + M\\frac{dx}{y}$ and rewrite $M\\frac{dx}{y}$ as\n",
    "\n",
    "$M\\frac{dx}{y} = \\left(\\frac{M_1}{y} + M_2\\right)\\frac{dx}{y} = \\left(\\frac{M_1}{P} + y\\frac{M_2}{P}\\right)dx$, where $P = x(x-1)(x-\\lambda)$. Note that $dy = y\\frac{P'}{2}\\frac{dx}{P}$.\n",
    "\n",
    "With respect to the basis $\\binom{1}{0}, \\binom{0}{1}, \\binom{y}{0}, \\binom{0}{y}$ we have that $\\pi_*\\nabla$ is given by:\n",
    "\n",
    "$\\pi_{\\ast} \\nabla = d + \\pmatrix{\n",
    "        A_1 & B_1 & A_2P & B_2P \\\\\n",
    "        C_1 & -A_1 & C_2P & - A_2P \\\\\n",
    "        A_2 & B_2 & A_1 + P'/2 & B_1 \\\\\n",
    "        C_2 & -A_2 & C_1 & -A_1 + P'/2\n",
    "    } \\frac{dx}{P},$\n",
    "\n",
    "where \n",
    "\n",
    "$M_i = \\pmatrix{\n",
    "A_i & B_i \\\\\n",
    "C_i & -A_i \\\\\n",
    "}$.\n",
    "\n",
    "The entries of above are rational functions on $x$ with a poles only at $x=t$ and $x=\\infty$. Note that $\\pi_{\\ast}\\nabla$ is defined on $\\mathcal{O}^{\\oplus 2}\\oplus\\mathcal{O}(-2)^{\\oplus 2}$."
   ]
  },
  {
   "cell_type": "code",
   "execution_count": 9,
   "metadata": {},
   "outputs": [],
   "source": [
    "A1 = (a*y).simplify_rational().subs(y==0).simplify_rational().factor()\n",
    "A2 = (a - A1/y).simplify_rational().factor()\n",
    "B1 = (b*y).simplify_rational().subs(y==0).simplify_rational().factor()\n",
    "B2 = (b - B1/y).simplify_rational().factor()\n",
    "C1 = (g*y).simplify_rational().subs(y==0).simplify_rational().factor()\n",
    "C2 = (g - C1/y).simplify_rational().factor()"
   ]
  },
  {
   "cell_type": "code",
   "execution_count": 10,
   "metadata": {},
   "outputs": [
    {
     "name": "stdout",
     "output_type": "stream",
     "text": [
      "True\n"
     ]
    }
   ],
   "source": [
    "# Sanity check:\n",
    "print (diff(A2, y), diff(B2, y), diff(C2, y)) == (0, 0 ,0)"
   ]
  },
  {
   "cell_type": "code",
   "execution_count": 13,
   "metadata": {},
   "outputs": [],
   "source": [
    "M1 = matrix([[A1, B1], [C1, -A1]])\n",
    "M2 = matrix([[A2, B2], [C2, -A2]])\n",
    "\n",
    "PM = (block_matrix([[M1, M2*P], [M2, M1 + (dP/2)*identity_matrix(2)]])/P).simplify_rational()"
   ]
  },
  {
   "cell_type": "markdown",
   "metadata": {},
   "source": [
    "## Residues of $\\pi_*\\nabla$"
   ]
  },
  {
   "cell_type": "code",
   "execution_count": 14,
   "metadata": {},
   "outputs": [],
   "source": [
    "sing = [0, 1, L, t, 'infty']\n",
    "ResPM = ['']*5\n",
    "\n",
    "# Residues at p = 0,1,L\n",
    "for p in sing[:4]:\n",
    "    res = ((x-p)*PM).simplify_rational().subs(x==p).simplify_rational().factor()\n",
    "    ResPM[sing.index(p)] = res\n",
    "\n",
    "# Coordinate around infinity\n",
    "w = var('w')  # w = 1/x\n",
    "Z = diagonal_matrix([1, 1, 1/x^2, 1/x^2])  # Since the bundle is O+O+O(-2)+O(-2)\n",
    "dZ = diagonal_matrix([0, 0, -2/x^3, -2/x^3])\n",
    "\n",
    "# transform PM by Z and substitute x = 1/w, dx = -1/w^2 dw\n",
    "PMw = ((-1/w^2)*((~Z)*(PM)*Z + (~Z)*dZ)).simplify_rational().subs(x==1/w).simplify_rational().factor()\n",
    "\n",
    "# Residue at p = infty\n",
    "ResPM[4] = (w*PMw).simplify_rational().subs(w==0).simplify_rational().factor()"
   ]
  },
  {
   "cell_type": "markdown",
   "metadata": {},
   "source": [
    "### A remark about the parabolic structure\n",
    "\n",
    "Recall that we wrote $M\\frac{dx}{y} = \\left(\\frac{M_1}{y} + M_2\\right)\\frac{dx}{y}$. The residue of $\\frac{dx}{y^2}$ at $x=0,1,\\lambda$ is $\\frac{2}{P'(p)}$, and so we have that\n",
    "\n",
    "$\\operatorname{Res}_{x=p}\\nabla = \\frac{2}{P'(p)}M_1(p)$.\n",
    "\n",
    "From this follows that for $p=0,1,\\lambda$ we have the following:\n",
    "\n",
    "$\\operatorname{Res}_{x=p}\\pi_{\\ast}\\nabla = \\pmatrix{\n",
    "\\frac{1}{2}\\operatorname{Res}_{x=p}\\nabla & 0 \\\\\n",
    "\\ast & \\frac{1}{2}\\left(\\operatorname{Res}_{x=p}\\nabla + \\mathrm{Id}\\right)\n",
    "}$.\n",
    "\n",
    "The parabolic structure on $\\nabla$ is $\\ell_p = (1,p)$, therefore the eigenvalue of $\\pi_*\\nabla$ corresponding to $\\frac{3}{4}$ is $(0, 0, 1, p)$."
   ]
  },
  {
   "cell_type": "markdown",
   "metadata": {},
   "source": [
    "Let's confirm that our residues indeed have the above block structure:"
   ]
  },
  {
   "cell_type": "code",
   "execution_count": 15,
   "metadata": {},
   "outputs": [
    {
     "name": "stdout",
     "output_type": "stream",
     "text": [
      "True True True\n",
      "True True True\n",
      "True True True\n"
     ]
    }
   ],
   "source": [
    "# Sanity check:\n",
    "for k in range(3):\n",
    "    block = ResPM[k].matrix_from_rows_and_columns([0,1],[2,3])\n",
    "    diff1 = (ResPM[k].matrix_from_rows_and_columns([0,1],[0,1]) - ResNabla[k]/2)\n",
    "    diff2 = (ResPM[k].matrix_from_rows_and_columns([2,3],[2,3]) - (ResNabla[k] + identity_matrix(2))/2).simplify_rational()\n",
    "    print block == 0, diff1 == 0, diff2 == 0"
   ]
  },
  {
   "cell_type": "markdown",
   "metadata": {},
   "source": [
    "### Display the residues"
   ]
  },
  {
   "cell_type": "raw",
   "metadata": {
    "scrolled": false
   },
   "source": [
    "for p in range(5):\n",
    "    print 'Residue at {}'.format(sing[p]), ':'\n",
    "    DM(ResPM[p])\n",
    "    print 'Eigenvalues:', ResPM[p].subs(rval).simplify_rational().eigenvalues(), '\\n'"
   ]
  },
  {
   "cell_type": "markdown",
   "metadata": {},
   "source": [
    "# Elementary Transformations\n",
    "\n",
    "### Algorithm:\n",
    "For p = 0, 1, L we do the following:\n",
    "\n",
    "* Start with a connection $d + Mdx$,\n",
    "* Find the eigenvector $v$ corresponding to 3/4 for the residue at $p$,\n",
    "* Find a constant matrix $B$ that brings $v$ to one of the standar basis vectors $e_k$, for example $e_k=e_4$,\n",
    "* Define $T = \\operatorname{diag}(1, 1, 1, 1/(x-p))$ (in the case k=4),\n",
    "* Perform the following birational transformations:\n",
    "\n",
    "    $ M \\longmapsto M'=B^{-1}MB$\n",
    "    \n",
    "    $ M' \\longmapsto M''=T^{-1}M'T + T^{-1}dT$\n",
    "    \n",
    "    $ M'' \\longmapsto M'''=BM''B^{-1}$.\n",
    "\n",
    "The residue of $M'''$ should have spectrum $\\frac{1}{4}, -\\frac{1}{4}, \\frac{1}{4}, -\\frac{1}{4}$."
   ]
  },
  {
   "cell_type": "markdown",
   "metadata": {},
   "source": [
    "We keep track of how these transformations modify a section $\\sigma = (s_0,s_1,s_2,s_3)$. At the end we will be interested in knowing which $\\sigma$ is transformed into $(0,0,0,1)$."
   ]
  },
  {
   "cell_type": "code",
   "execution_count": 16,
   "metadata": {},
   "outputs": [
    {
     "data": {
      "text/plain": [
       "(s0, s1, s2, s3)"
      ]
     },
     "execution_count": 16,
     "metadata": {},
     "output_type": "execute_result"
    }
   ],
   "source": [
    "var('s0 s1 s2 s3')"
   ]
  },
  {
   "cell_type": "markdown",
   "metadata": {
    "collapsed": true
   },
   "source": [
    "### Step 1: $x=0$"
   ]
  },
  {
   "cell_type": "code",
   "execution_count": 17,
   "metadata": {},
   "outputs": [
    {
     "name": "stdout",
     "output_type": "stream",
     "text": [
      "Old eigenvalues: [-1/4, 1/4, 1/4, 3/4]\n",
      "Old eigenvector: (3/4, [(0, 0, 1, 0)], 1)\n",
      "Let k=3\n",
      "B well defined\n",
      "Elementary transformation OK\n",
      "New eigenvalues: [-1/4, -1/4, 1/4, 1/4]\n",
      "New sigma: (s0, s1, s2*x, s3)\n"
     ]
    }
   ],
   "source": [
    "p = 0\n",
    "M = PM\n",
    "sigma = vector([s0, s1, s2, s3])\n",
    "\n",
    "res = ((x-p)*M).simplify_rational().subs(x==p).simplify_rational().factor()\n",
    "print 'Old eigenvalues:', res.eigenvalues()\n",
    "print 'Old eigenvector:', res.eigenvectors_right()[-1]\n",
    "print 'Let k=3'\n",
    "\n",
    "B = identity_matrix(4)\n",
    "if (~B*res*B*vector([0,0,1,0])).simplify_rational() == vector([0,0,3/4,0]):\n",
    "    print 'B well defined'\n",
    "else:\n",
    "    print 'Warning: error defining B'\n",
    "\n",
    "T = diagonal_matrix([1, 1, 1/(x-p), 1])\n",
    "dT = diagonal_matrix([0, 0, -1/(x-p)^2, 0])\n",
    "\n",
    "M1 = (B*(~T*(~B*M*B)*T + ~T*dT)*~B).simplify_rational()\n",
    "\n",
    "try:\n",
    "    res_new = ((x-p)*M1).simplify_rational().subs(x==p).simplify_rational()\n",
    "    print 'Elementary transformation OK'\n",
    "    print 'New eigenvalues:', res_new.eigenvalues()\n",
    "except ValueError:\n",
    "    print 'Warning: division by zero'\n",
    "    \n",
    "sigma1 = (B*~T*~B*sigma).simplify_rational()\n",
    "print 'New sigma:', sigma1"
   ]
  },
  {
   "cell_type": "raw",
   "metadata": {},
   "source": [
    "# Eigenvectors of the new residue:\n",
    "print (x*M1).simplify_rational().subs(x==0).simplify_rational().factor().subs(rval).simplify_rational().eigenvectors_right()\n",
    "print (x*M1).simplify_rational().subs(x==0).simplify_rational().factor().subs(rval).simplify_rational().eigenvectors_left()"
   ]
  },
  {
   "cell_type": "markdown",
   "metadata": {},
   "source": [
    "### Step 2: $x=1$"
   ]
  },
  {
   "cell_type": "code",
   "execution_count": 18,
   "metadata": {},
   "outputs": [
    {
     "name": "stdout",
     "output_type": "stream",
     "text": [
      "Old eigenvalues: [3/4, 1/4, 1/4, -1/4]\n",
      "Old eigenvector: (3/4, [(0, 0, 1, 1)], 1)\n",
      "Let k=4\n",
      "B well defined\n",
      "Elementary transformation OK\n",
      "New eigenvalues: [-1/4, -1/4, 1/4, 1/4]\n",
      "New sigma: (s0, s1, (s2 + s3)*x - 2*s3, s3*x - s3)\n"
     ]
    }
   ],
   "source": [
    "p = 1\n",
    "M = M1\n",
    "sigma = sigma1\n",
    "\n",
    "res = ((x-p)*M).simplify_rational().subs(x==p).simplify_rational().factor()\n",
    "print 'Old eigenvalues:', res.eigenvalues()\n",
    "print 'Old eigenvector:', res.eigenvectors_right()[0]\n",
    "print 'Let k=4'\n",
    "\n",
    "B = matrix([[1,0,0,0],[0,1,0,0],[0,0,1,1],[0,0,0,1]])\n",
    "if (~B*res*B*vector([0,0,0,1])).simplify_rational() == vector([0,0,0,3/4]):\n",
    "    print 'B well defined'\n",
    "else:\n",
    "    print 'Warning: error defining B'\n",
    "\n",
    "T = diagonal_matrix([1, 1, 1, 1/(x-p)])\n",
    "dT = diagonal_matrix([0, 0, 0, -1/(x-p)^2])\n",
    "\n",
    "M2 = (B*(~T*(~B*M*B)*T + ~T*dT)*~B).simplify_rational()\n",
    "\n",
    "try:\n",
    "    res_new = ((x-p)*M2).simplify_rational().subs(x==p).simplify_rational()\n",
    "    print 'Elementary transformation OK'\n",
    "    print 'New eigenvalues:', res_new.eigenvalues()\n",
    "except ValueError:\n",
    "    print 'Warning: division by zero'\n",
    "    \n",
    "sigma2 = (B*~T*~B*sigma).simplify_rational()\n",
    "print 'New sigma:', sigma2"
   ]
  },
  {
   "cell_type": "raw",
   "metadata": {
    "collapsed": true
   },
   "source": [
    "# Eigenvectors of the new residue:\n",
    "print ((x-1)*M2).simplify_rational().subs(x==1).simplify_rational().factor().subs(rval).simplify_rational().eigenvectors_right()\n",
    "print ((x-1)*M2).simplify_rational().subs(x==1).simplify_rational().factor().subs(rval).simplify_rational().eigenvectors_left()"
   ]
  },
  {
   "cell_type": "markdown",
   "metadata": {},
   "source": [
    "### Step 3: $x=\\lambda$"
   ]
  },
  {
   "cell_type": "code",
   "execution_count": 19,
   "metadata": {},
   "outputs": [
    {
     "name": "stdout",
     "output_type": "stream",
     "text": [
      "Old eigenvalues: [3/4, 1/4, 1/4, -1/4]\n",
      "Old eigenvector: (3/4, [(0, 0, 1, 1)], 1)\n",
      "Let k=4\n",
      "B well defined\n",
      "Elementary transformation OK\n",
      "New eigenvalues: [-1/4, -1/4, 1/4, 1/4]\n",
      "New sigma: (s0, s1, s3*x^2 + (L - 1)*s3 - ((L + 1)*s3 - s2)*x, -(L + 1)*s3*x + s3*x^2 + L*s3)\n"
     ]
    }
   ],
   "source": [
    "p = L\n",
    "M = M2\n",
    "sigma = sigma2\n",
    "\n",
    "res = ((x-p)*M).simplify_rational().subs(x==p).simplify_rational().factor()\n",
    "print 'Old eigenvalues:', res.eigenvalues()\n",
    "print 'Old eigenvector:', res.eigenvectors_right()[0]\n",
    "print 'Let k=4'\n",
    "\n",
    "B = matrix([[1,0,0,0],[0,1,0,0],[0,0,1,1],[0,0,0,1]])\n",
    "if (~B*res*B*vector([0,0,0,1])).simplify_rational() == vector([0,0,0,3/4]):\n",
    "    print 'B well defined'\n",
    "else:\n",
    "    print 'Warning: error defining B'\n",
    "\n",
    "T = diagonal_matrix([1, 1, 1, 1/(x-p)])\n",
    "dT = diagonal_matrix([0, 0, 0, -1/(x-p)^2])\n",
    "\n",
    "M3 = (B*(~T*(~B*M*B)*T + ~T*dT)*~B).simplify_rational()\n",
    "\n",
    "try:\n",
    "    res_new = ((x-p)*M3).simplify_rational().subs(x==p).simplify_rational()\n",
    "    print 'Elementary transformation OK'\n",
    "    print 'New eigenvalues:', res_new.eigenvalues()\n",
    "except ValueError:\n",
    "    print 'Warning: division by zero'\n",
    "    \n",
    "sigma3 = (B*~T*~B*sigma).simplify_rational()\n",
    "print 'New sigma:', sigma3"
   ]
  },
  {
   "cell_type": "raw",
   "metadata": {
    "collapsed": true
   },
   "source": [
    "# Eigenvectors of the new residue:\n",
    "print ((x-L)*M3).simplify_rational().subs(x==L).simplify_rational().factor().subs(rval).simplify_rational().eigenvectors_right()\n",
    "print ((x-L)*M3).simplify_rational().subs(x==L).simplify_rational().factor().subs(rval).simplify_rational().eigenvectors_left()"
   ]
  },
  {
   "cell_type": "markdown",
   "metadata": {},
   "source": [
    "# Final output\n",
    "\n",
    "We conjugate the last matrix, M3, by a constant matrix to simplify the whole system at infinity."
   ]
  },
  {
   "cell_type": "code",
   "execution_count": 28,
   "metadata": {},
   "outputs": [],
   "source": [
    "B = matrix([[1,0,0,0],[0,1,0,0],[0,0,1,1],[0,0,0,1]])  # the same B that appeared while performing elementary transformations\n",
    "Prm = matrix([[0, 0, 1, 0], [0, 1, 0, 0], [1, 0 ,0, 0], [0, 0, 0, 1]])  # a permutation matrix\n",
    "\n",
    "Mfinal = (~Prm*~B*M3*B*Prm).simplify_rational().factor()\n",
    "\n",
    "sigma_final = (~Prm*~B*sigma3).simplify_rational()"
   ]
  },
  {
   "cell_type": "markdown",
   "metadata": {},
   "source": [
    "### The special section"
   ]
  },
  {
   "cell_type": "code",
   "execution_count": 29,
   "metadata": {},
   "outputs": [
    {
     "data": {
      "text/plain": [
       "(s2*x - s3, s1, s0, -(L + 1)*s3*x + s3*x^2 + L*s3)"
      ]
     },
     "execution_count": 29,
     "metadata": {},
     "output_type": "execute_result"
    }
   ],
   "source": [
    "sigma_final"
   ]
  },
  {
   "cell_type": "code",
   "execution_count": 31,
   "metadata": {},
   "outputs": [
    {
     "data": {
      "text/plain": [
       "(0, 0, 0, 1)"
      ]
     },
     "execution_count": 31,
     "metadata": {},
     "output_type": "execute_result"
    }
   ],
   "source": [
    "sigma_final.subs([s0==0, s1==0, s2 == 1/P, s3 == x/P]).simplify_rational()"
   ]
  },
  {
   "cell_type": "markdown",
   "metadata": {},
   "source": [
    "## The residues of `Mfinal`"
   ]
  },
  {
   "cell_type": "code",
   "execution_count": 32,
   "metadata": {},
   "outputs": [],
   "source": [
    "A = ['']*5\n",
    "\n",
    "# Residues at p = 0,1,L,t\n",
    "for p in sing[:4]:\n",
    "    res = ((x-p)*Mfinal).simplify_rational().subs(x==p).simplify_rational().factor()\n",
    "    A[sing.index(p)] = res\n",
    "    \n",
    "# Residue at p = infty\n",
    "A[4] = ((-1/w)*Mfinal).simplify_rational().subs(x==1/w).simplify_rational().subs(w==0).simplify_rational().factor()"
   ]
  },
  {
   "cell_type": "markdown",
   "metadata": {},
   "source": [
    "### Display the residues"
   ]
  },
  {
   "cell_type": "raw",
   "metadata": {
    "scrolled": false
   },
   "source": [
    "for p in range(5):\n",
    "    print 'A_{}'.format(sing[p]), ':'\n",
    "    DM(A[p])\n",
    "    #print 'Eigenvalues:', A[p].subs(rval).eigenvalues(), '\\n'"
   ]
  },
  {
   "cell_type": "markdown",
   "metadata": {},
   "source": [
    "### $M_\\text{final}$ defines a Fuchsian system A(x) = $\\sum\\frac{A_k}{x-t_k}$ "
   ]
  },
  {
   "cell_type": "code",
   "execution_count": 33,
   "metadata": {},
   "outputs": [
    {
     "data": {
      "text/plain": [
       "True"
      ]
     },
     "execution_count": 33,
     "metadata": {},
     "output_type": "execute_result"
    }
   ],
   "source": [
    "Mfinal == sum(A[k]/(x-sing[k]) for k in range(4)).simplify_rational().factor()"
   ]
  },
  {
   "cell_type": "code",
   "execution_count": 34,
   "metadata": {
    "scrolled": true
   },
   "outputs": [
    {
     "data": {
      "text/plain": [
       "True"
      ]
     },
     "execution_count": 34,
     "metadata": {},
     "output_type": "execute_result"
    }
   ],
   "source": [
    "# Sanity check:\n",
    "sum(residue for residue in A).simplify_rational() == matrix(4)"
   ]
  },
  {
   "cell_type": "markdown",
   "metadata": {},
   "source": [
    "### Verify that all residues are diagonalizable"
   ]
  },
  {
   "cell_type": "code",
   "execution_count": 35,
   "metadata": {},
   "outputs": [
    {
     "name": "stdout",
     "output_type": "stream",
     "text": [
      "dim of eigenspace of 1/4 at p_0: 2\n",
      "dim of eigenspace of -1/4 at p_0: 2 \n",
      "\n",
      "dim of eigenspace of 1/4 at p_1: 2\n",
      "dim of eigenspace of -1/4 at p_1: 2 \n",
      "\n",
      "dim of eigenspace of 1/4 at p_2: 2\n",
      "dim of eigenspace of -1/4 at p_2: 2 \n",
      "\n",
      "dim of eigenspace of 0 at infty: 2\n"
     ]
    }
   ],
   "source": [
    "for k in range(3):\n",
    "    foo = (A[k].subs(r==sqrt(t*(t-1)*(t-L))).simplify_rational() - (1/4)*identity_matrix(4))\n",
    "    bar = (A[k].subs(r==sqrt(t*(t-1)*(t-L))).simplify_rational() + (1/4)*identity_matrix(4))\n",
    "    print 'dim of eigenspace of 1/4 at p_{}:'.format(k), foo.rank()\n",
    "    print 'dim of eigenspace of -1/4 at p_{}:'.format(k), bar.rank(), '\\n'\n",
    "    \n",
    "print 'dim of eigenspace of 0 at infty:', A[-1].rank()"
   ]
  },
  {
   "cell_type": "markdown",
   "metadata": {},
   "source": [
    "### The squares of the residues at $0,1,L$ are scalar matrices\n",
    "\n",
    "Indeed, they are all diagonalizable with single eigenvalue $\\frac{1}{16}$, thus scalar.\n",
    "\n",
    "This forces the determinant in the apparent map to have a double zero at $x=0,1,\\lambda$."
   ]
  },
  {
   "cell_type": "markdown",
   "metadata": {},
   "source": [
    "### The flag around infinity"
   ]
  },
  {
   "cell_type": "markdown",
   "metadata": {},
   "source": [
    "**Remark:** We have the following:\n",
    "\n",
    "If we let $\\nabla = d + \\left(\\frac{A_\\infty}{w} + R_0 + \\ldots\\right)dw$, and $v_1 = (0,0,0,1)$, we have that\n",
    "\n",
    "$A_\\infty R_0 v_1 = fv_1$.\n",
    "\n",
    "We conclude from this that:\n",
    "\n",
    "* up to order one, $v_2,v_3,v_3$ are in the span of $v_1$,\n",
    "\n",
    "* up to order two, $v_3,v_4$ are in the span of $v_1, v_2$.\n",
    "\n",
    "This is what causes the determinant in the apparent map to have a zero of order 5 at $w=0$."
   ]
  },
  {
   "cell_type": "code",
   "execution_count": 36,
   "metadata": {},
   "outputs": [],
   "source": [
    "Mw = ((-1/w^2)*Mfinal).subs(x==1/w).simplify_rational()"
   ]
  },
  {
   "cell_type": "code",
   "execution_count": 37,
   "metadata": {},
   "outputs": [],
   "source": [
    "R0 = (Mw - A[-1]/w).simplify_rational().subs(w==0).simplify_rational()"
   ]
  },
  {
   "cell_type": "code",
   "execution_count": 38,
   "metadata": {},
   "outputs": [
    {
     "data": {
      "text/plain": [
       "0"
      ]
     },
     "execution_count": 38,
     "metadata": {},
     "output_type": "execute_result"
    }
   ],
   "source": [
    "R0[0][-1]"
   ]
  },
  {
   "cell_type": "markdown",
   "metadata": {},
   "source": [
    "# Export the final expressions for A\n",
    "\n",
    "## Export each A[k] as a list"
   ]
  },
  {
   "cell_type": "raw",
   "metadata": {
    "scrolled": true
   },
   "source": [
    "for k in range(5):\n",
    "    print 'A[{}] ='.format(k), list(A[k]), '\\n'"
   ]
  },
  {
   "cell_type": "markdown",
   "metadata": {},
   "source": [
    "## Export the whole system A(x) as a list"
   ]
  },
  {
   "cell_type": "raw",
   "metadata": {
    "scrolled": true
   },
   "source": [
    "list(Mfinal)"
   ]
  },
  {
   "cell_type": "markdown",
   "metadata": {},
   "source": [
    "# Play with concrete values for the variables"
   ]
  },
  {
   "cell_type": "code",
   "execution_count": 39,
   "metadata": {
    "scrolled": true
   },
   "outputs": [
    {
     "name": "stdout",
     "output_type": "stream",
     "text": [
      "[L == (1219/84), t == (3/7), n1 == (11/17), n2 == (-13/53), z1 == (-31/24), z2 == (1/71), c1 == (-37/11), c2 == (17/31), r == (13/7)]\n"
     ]
    }
   ],
   "source": [
    "vals = [L == 1219/84, t == 3/7, n1 == 11/17, n2 == -13/53, z1 == -31/24, z2 == 1/71, c1 == -37/11, c2 == 17/31]\n",
    "vals.append(r == r.subs(rval).subs(vals))\n",
    "print vals"
   ]
  },
  {
   "cell_type": "code",
   "execution_count": 41,
   "metadata": {
    "scrolled": false
   },
   "outputs": [
    {
     "name": "stdout",
     "output_type": "stream",
     "text": [
      "A_0 :\n"
     ]
    },
    {
     "data": {
      "text/latex": [
       "$$\\left(\\begin{array}{rrrr}\n",
       "\\frac{43803607016773}{2676329650368} & \\frac{116505822233316727}{28274530646254464} & 0 & \\frac{301941672229267}{271870486983216} \\\\\n",
       "0 & -\\frac{1}{4} & 0 & 0 \\\\\n",
       "\\frac{116505822233316727}{1948367985467904} & \\frac{20461096723663}{2746166535184} & \\frac{1}{4} & \\frac{116505822233316727}{28274530646254464} \\\\\n",
       "-\\frac{1022871856875395}{4241730011904} & -\\frac{116505822233316727}{1948367985467904} & 0 & -\\frac{43803607016773}{2676329650368}\n",
       "\\end{array}\\right)$$"
      ],
      "text/plain": [
       "<IPython.core.display.Math object>"
      ]
     },
     "metadata": {},
     "output_type": "display_data"
    },
    {
     "name": "stdout",
     "output_type": "stream",
     "text": [
      "Eigenvalues: [-1/4, -1/4, 1/4, 1/4] \n",
      "\n",
      "Eigenvectors: [(-1/4, [(1, 0, 116505822233316727/31401933911843768, -54212208414395935/3623300066751204), (0, 1, 6958241213362341102391724170226065/443937471371041971195528770290176, -116505822233316727/31401933911843768)], 2), (1/4, [(1, 0, 0, -1219/84), (0, 0, 1, 0)], 2)] \n",
      "\n",
      "A_1 :\n"
     ]
    },
    {
     "data": {
      "text/latex": [
       "$$\\left(\\begin{array}{rrrr}\n",
       "\\frac{1}{4} & -\\frac{4209324210945011}{5265232532157312} & \\frac{4209324210945011}{5265232532157312} & \\frac{50134550808881}{30683173264320} \\\\\n",
       "0 & -\\frac{139771369032473}{28126242158960} & \\frac{146802929572213}{28126242158960} & -\\frac{4209324210945011}{5265232532157312} \\\\\n",
       "0 & -\\frac{132739808492733}{28126242158960} & \\frac{139771369032473}{28126242158960} & -\\frac{4209324210945011}{5265232532157312} \\\\\n",
       "0 & 0 & 0 & -\\frac{1}{4}\n",
       "\\end{array}\\right)$$"
      ],
      "text/plain": [
       "<IPython.core.display.Math object>"
      ]
     },
     "metadata": {},
     "output_type": "display_data"
    },
    {
     "name": "stdout",
     "output_type": "stream",
     "text": [
      "Eigenvalues: [-1/4, -1/4, 1/4, 1/4] \n",
      "\n",
      "Eigenvectors: [(-1/4, [(1, 0, -277038384673313494882125419630400/6353606770946316150210105945793489, -1808706651803098148299021133207040/6353606770946316150210105945793489), (0, 1, 5787390975292206287147865460308049/6353606770946316150210105945793489, 277038384673313494882125419630400/6353606770946316150210105945793489)], 2), (1/4, [(1, 0, 0, 0), (0, 1, 1, 0)], 2)] \n",
      "\n",
      "A_L :\n"
     ]
    },
    {
     "data": {
      "text/latex": [
       "$$\\left(\\begin{array}{rrrr}\n",
       "\\frac{1}{4} & -\\frac{108640973765796269}{534859871391646944} & \\frac{15520139109399467}{5265232532157312} & -\\frac{11769656922002403}{362144704588094285} \\\\\n",
       "0 & \\frac{7421127542939}{7670793316080} & -\\frac{18082695988591}{1736783392320} & -\\frac{15520139109399467}{5265232532157312} \\\\\n",
       "0 & \\frac{65371781103713}{779224754358460} & -\\frac{7421127542939}{7670793316080} & -\\frac{108640973765796269}{534859871391646944} \\\\\n",
       "0 & 0 & 0 & -\\frac{1}{4}\n",
       "\\end{array}\\right)$$"
      ],
      "text/plain": [
       "<IPython.core.display.Math object>"
      ]
     },
     "metadata": {},
     "output_type": "display_data"
    },
    {
     "name": "stdout",
     "output_type": "stream",
     "text": [
      "Eigenvalues: [-1/4, -1/4, 1/4, 1/4] \n",
      "\n",
      "Eigenvectors: [(-1/4, [(1, 0, -1021464266780213559442978661908800/6256384937738653322441041859418769, 3607967761238349461116284872019840/6256384937738653322441041859418769), (0, 1, 539265068915585781833291108614231956/7626533239103418400055630026631479411, 1021464266780213559442978661908800/6256384937738653322441041859418769)], 2), (1/4, [(1, 0, 0, 0), (0, 1, 84/1219, 0)], 2)] \n",
      "\n",
      "A_t :\n"
     ]
    },
    {
     "data": {
      "text/latex": [
       "$$\\left(\\begin{array}{rrrr}\n",
       "-\\frac{43803607016773}{2676329650368} & -\\frac{21220741673}{6806002632} & -\\frac{43456967665957}{11597428484928} & -\\frac{24052158534539}{8868621782592} \\\\\n",
       "\\frac{60258431832703}{2676329650368} & \\frac{2226074243}{523538664} & \\frac{4631987926651}{892109883456} & \\frac{43456967665957}{11597428484928} \\\\\n",
       "-\\frac{27999130835}{1570615992} & -\\frac{960}{341} & -\\frac{2226074243}{523538664} & -\\frac{21220741673}{6806002632} \\\\\n",
       "\\frac{782805959604019}{8028988951104} & \\frac{27999130835}{1570615992} & \\frac{60258431832703}{2676329650368} & \\frac{43803607016773}{2676329650368}\n",
       "\\end{array}\\right)$$"
      ],
      "text/plain": [
       "<IPython.core.display.Math object>"
      ]
     },
     "metadata": {},
     "output_type": "display_data"
    },
    {
     "name": "stdout",
     "output_type": "stream",
     "text": [
      "Eigenvalues: [-13/106, 13/106, -11/34, 11/34] \n",
      "\n",
      "Eigenvectors: [(-13/106, [(1, -13/206, -923/206, 169/618)], 1), (13/106, [(1, -395395/170921, -1663246/170921, 5140135/512763)], 1), (-11/34, [(1, -234611/171617, 196248/171617, -3049943/514851)], 1), (11/34, [(1, -403/289, 312/289, -5239/867)], 1)] \n",
      "\n",
      "A_infty :\n"
     ]
    },
    {
     "data": {
      "text/latex": [
       "$$\\left(\\begin{array}{rrrr}\n",
       "-\\frac{1}{2} & 0 & 0 & 0 \\\\\n",
       "-\\frac{60258431832703}{2676329650368} & 0 & 0 & 0 \\\\\n",
       "-\\frac{4810150849584071}{114609881498112} & 0 & 0 & 0 \\\\\n",
       "\\frac{10764547181827801}{74937230210304} & \\frac{4810150849584071}{114609881498112} & -\\frac{60258431832703}{2676329650368} & \\frac{1}{2}\n",
       "\\end{array}\\right)$$"
      ],
      "text/plain": [
       "<IPython.core.display.Math object>"
      ]
     },
     "metadata": {},
     "output_type": "display_data"
    },
    {
     "name": "stdout",
     "output_type": "stream",
     "text": [
      "Eigenvalues: [-1/2, 1/2, 0, 0] \n",
      "\n",
      "Eigenvectors: [(-1/2, [(1, 60258431832703/1338164825184, 4810150849584071/57304940749056, -10764547181827801/74937230210304)], 1), (1/2, [(0, 0, 0, 1)], 1), (0, [(0, 1, 0, -4810150849584071/57304940749056), (0, 0, 1, 60258431832703/1338164825184)], 2)] \n",
      "\n"
     ]
    }
   ],
   "source": [
    "for p in range(5):\n",
    "    print 'A_{}'.format(sing[p]), ':'\n",
    "    res = A[p].subs(vals).simplify_rational().factor()\n",
    "    DM(res)\n",
    "    print 'Eigenvalues:', res.eigenvalues(), '\\n'\n",
    "    print 'Eigenvectors:', res.eigenvectors_right(), '\\n'"
   ]
  },
  {
   "cell_type": "markdown",
   "metadata": {},
   "source": [
    "### Some brackets"
   ]
  },
  {
   "cell_type": "code",
   "execution_count": 42,
   "metadata": {},
   "outputs": [
    {
     "data": {
      "text/plain": [
       "[   -1888585154532535819247410914149501/10258610501699413047182854914048 -41192039656915950620815123160010785/1693418756462818734986528143988736             81139027588873951970976733597/17614372427368497677168363520   -9643550977164653568304955649100657/372179946475344776920116075601920]\n",
       "[         -2463292131391226747599200959411/27917118564131203865700802560    -5061894660803623238519850747088561/51293052508497065235914274570240                                            18082695988591/3473566784640            -81139027588873951970976733597/17614372427368497677168363520]\n",
       "[         2936782234989863225137188356111/123300606991579483740178544640   -3659766546805724894376157387384753/372179946475344776920116075601920     5061894660803623238519850747088561/51293052508497065235914274570240 -41192039656915950620815123160010785/1693418756462818734986528143988736]\n",
       "[                                        -1022871856875395/8483460023808         -2936782234989863225137188356111/123300606991579483740178544640          -2463292131391226747599200959411/27917118564131203865700802560     1888585154532535819247410914149501/10258610501699413047182854914048]"
      ]
     },
     "execution_count": 42,
     "metadata": {},
     "output_type": "execute_result"
    }
   ],
   "source": [
    "(A[0].subs(vals)*A[2].subs(vals) - A[2].subs(vals)*A[0].subs(vals)).simplify_rational()"
   ]
  },
  {
   "cell_type": "code",
   "execution_count": 43,
   "metadata": {
    "scrolled": true
   },
   "outputs": [
    {
     "data": {
      "text/plain": [
       "[                                                                   0       2945140634578357142350642125479/238576888766246651871869279232    -31496727277418899650702335336881/5725845330389919644924862701568 1323124155647131112060377945710889/372179946475344776920116075601920]\n",
       "[                                                                   0           -45137689881854474474638303057/926872139729007971530183680                106503232652113566460678657/1140531755203865428462080     31496727277418899650702335336881/5725845330389919644924862701568]\n",
       "[                                                                   0              -320459947270632892192373733/38619672488708665480424320            45137689881854474474638303057/926872139729007971530183680       2945140634578357142350642125479/238576888766246651871869279232]\n",
       "[                                                                   0                                                                    0                                                                    0                                                                    0]"
      ]
     },
     "execution_count": 43,
     "metadata": {},
     "output_type": "execute_result"
    }
   ],
   "source": [
    "(A[1].subs(vals)*A[2].subs(vals) - A[2].subs(vals)*A[1].subs(vals)).simplify_rational()"
   ]
  },
  {
   "cell_type": "code",
   "execution_count": 44,
   "metadata": {
    "scrolled": false
   },
   "outputs": [
    {
     "data": {
      "text/plain": [
       "[  11064377899041756159013933025447/183520683666343578362976368640  75256142769150882768504356600581/7157306662987399556156078376960  24204449255039021058680486429449/7807970905077163152170267320320    2262617380312700729676982163131/101356194573895636416153615360]\n",
       "[    1392295552525475987773461411841/16259420702186305548155412480   10514951997281666818670951085991/550562050999030735088929105920        92540811705214174963222448101/2709903450364384258025902080 -24204449255039021058680486429449/7807970905077163152170267320320]\n",
       "[ -6257410717986548194190365444793/1651686152997092205266787317760           174688657638523742637895607/161549897593612304896986240  -10514951997281666818670951085991/550562050999030735088929105920  75256142769150882768504356600581/7157306662987399556156078376960]\n",
       "[                                   782805959604019/16057977902208   6257410717986548194190365444793/1651686152997092205266787317760     1392295552525475987773461411841/16259420702186305548155412480  -11064377899041756159013933025447/183520683666343578362976368640]"
      ]
     },
     "execution_count": 44,
     "metadata": {},
     "output_type": "execute_result"
    }
   ],
   "source": [
    "(A[3].subs(vals)*A[2].subs(vals) - A[2].subs(vals)*A[3].subs(vals)).simplify_rational()"
   ]
  },
  {
   "cell_type": "code",
   "execution_count": 45,
   "metadata": {},
   "outputs": [
    {
     "data": {
      "text/plain": [
       "[ -6304296875259119412616174306418309/27544595157646661904220044361728 -9704411304171475392111788609132017/119359912349802201584953525567488         -352942797611155521167921039437/25223988239603170241959747584          -207757121980212900432955842563/9644466091612976857219903488]\n",
       "[          380633865553562832080651339533/1738158336445173339068596224     850251403036498695611507257244047/9181531719215553968073348120576                                          -4631987926651/1784219766912          352942797611155521167921039437/25223988239603170241959747584]\n",
       "[  -1312613431549970043904474552356487/2118815012126666300324618797056          -441887661224974150150685747387/2694111419957615600960489472    -850251403036498695611507257244047/9181531719215553968073348120576 -9704411304171475392111788609132017/119359912349802201584953525567488]\n",
       "[           403016746843413374177634372109/200556731128289231430991872    1312613431549970043904474552356487/2118815012126666300324618797056           380633865553562832080651339533/1738158336445173339068596224   6304296875259119412616174306418309/27544595157646661904220044361728]"
      ]
     },
     "execution_count": 45,
     "metadata": {},
     "output_type": "execute_result"
    }
   ],
   "source": [
    "(A[0].subs(vals)*A[3].subs(vals) - A[3].subs(vals)*A[0].subs(vals)).simplify_rational()"
   ]
  },
  {
   "cell_type": "code",
   "execution_count": 46,
   "metadata": {},
   "outputs": [
    {
     "data": {
      "text/plain": [
       "[     62600469942349437454887731423/492709718248069865095618560 -1660316369650278243388468259707/70457489709473990708673454080  2687300545125378706350619466873/35228744854736995354336727040        3054119847572798241250660307/74213852392088954724741120]\n",
       "[   -275939659873780356020928067577/956436511893312091067965440     73483519012353858545299768453/5419806900728768516051804160     -21040023529666583878035305597/159406085315552015177994240 -2687300545125378706350619466873/35228744854736995354336727040]\n",
       "[   -256647296793929209692332652857/956436511893312091067965440         -153653031239005391855167049/1590318926270178555179520    -73483519012353858545299768453/5419806900728768516051804160 -1660316369650278243388468259707/70457489709473990708673454080]\n",
       "[                               -782805959604019/16057977902208     256647296793929209692332652857/956436511893312091067965440    -275939659873780356020928067577/956436511893312091067965440     -62600469942349437454887731423/492709718248069865095618560]"
      ]
     },
     "execution_count": 46,
     "metadata": {},
     "output_type": "execute_result"
    }
   ],
   "source": [
    "(A[1].subs(vals)*A[3].subs(vals) - A[3].subs(vals)*A[1].subs(vals)).simplify_rational()"
   ]
  }
 ],
 "metadata": {
  "kernelspec": {
   "display_name": "SageMath 8.7.beta3",
   "language": "",
   "name": "sagemath"
  },
  "language_info": {
   "codemirror_mode": {
    "name": "ipython",
    "version": 2
   },
   "file_extension": ".py",
   "mimetype": "text/x-python",
   "name": "python",
   "nbconvert_exporter": "python",
   "pygments_lexer": "ipython2",
   "version": "2.7.15"
  }
 },
 "nbformat": 4,
 "nbformat_minor": 1
}
