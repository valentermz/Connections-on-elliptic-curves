{
 "cells": [
  {
   "cell_type": "markdown",
   "metadata": {},
   "source": [
    "# Universal family of connections over $\\mathbb{P}^1$\n",
    "\n",
    "Here we consider connections on a rank 2 trivial bundle over $\\mathbb{P}^1$, having a logarithmic singularity at $t_1$ with exponent $\\eta$, and four additional singularities over $0,1,t_2,\\infty$ all with exponent $\\frac{1}{2}$.\n",
    "\n",
    "Our interest in this family is that we can then pullback these connections over the elliptic curve given by $y^2 = x(x-1)(x-t_2)$. After birational transformation we recover a connection over the elliptic curve with two logarithmic poles (each of exponent $\\eta$).\n",
    "\n",
    "This notebook tries to follow and build on the computations done by Loray and Saito (with some small conventions that differ)."
   ]
  },
  {
   "cell_type": "code",
   "execution_count": 1,
   "metadata": {},
   "outputs": [
    {
     "data": {
      "text/html": [
       "<style>.container { width:85% !important; }</style>"
      ],
      "text/plain": [
       "<IPython.core.display.HTML object>"
      ]
     },
     "metadata": {},
     "output_type": "display_data"
    }
   ],
   "source": [
    "from IPython.core.display import display, HTML, Math\n",
    "\n",
    "# Define the width of the cells\n",
    "display(HTML(\"<style>.container { width:85% !important; }</style>\"));\n",
    "\n",
    "def printMath(expr):\n",
    "    return display(Math(latex(expr)))"
   ]
  },
  {
   "cell_type": "code",
   "execution_count": 2,
   "metadata": {},
   "outputs": [],
   "source": [
    "%display latex"
   ]
  },
  {
   "cell_type": "code",
   "execution_count": 3,
   "metadata": {},
   "outputs": [
    {
     "data": {
      "text/html": [
       "<html><script type=\"math/tex; mode=display\">\\newcommand{\\Bold}[1]{\\mathbf{#1}}\\left(x, t_{1}, t_{2}, u_{1}, u_{2}, n, c_{1}, c_{2}\\right)</script></html>"
      ],
      "text/plain": [
       "(x, t1, t2, u1, u2, n, c1, c2)"
      ]
     },
     "execution_count": 3,
     "metadata": {},
     "output_type": "execute_result"
    }
   ],
   "source": [
    "var('x t1 t2 u1 u2 n c1 c2')  # t2 = lambda; t1 = t"
   ]
  },
  {
   "cell_type": "markdown",
   "metadata": {},
   "source": [
    "**Remark 1:** `n = 2*nu_1`, with respect to the variable `nu_1` used in LS (ie. for me, `n` is the exponent $\\eta = \\nu_1^+ - \\nu_1^-$).  \n",
    "**Remark 2:** My coordinate $z$ on the fiber represents $[1:z]$, this is the inverse of LS."
   ]
  },
  {
   "cell_type": "code",
   "execution_count": 4,
   "metadata": {},
   "outputs": [],
   "source": [
    "var('alpha0 alpha1 alpha2 alpha3 beta0 beta1 beta2 beta3 gamma0 gamma1 gamma2 gamma3')\n",
    "parameters = [alpha0, alpha1, alpha2, alpha3, beta0, beta1, beta2, beta3, gamma0, gamma1, gamma2, gamma3]"
   ]
  },
  {
   "cell_type": "code",
   "execution_count": 5,
   "metadata": {},
   "outputs": [],
   "source": [
    "f = x * (x-1) * (x-t2)  # Polynomial defining the elliptic curve y = P(x)\n",
    "df = diff(f, x)"
   ]
  },
  {
   "cell_type": "code",
   "execution_count": 6,
   "metadata": {},
   "outputs": [],
   "source": [
    "test_vals = [t1 == 3/7, t2 == 1219/84, n == 11/17, u1 == -31/24, u2 == 1/71]"
   ]
  },
  {
   "cell_type": "markdown",
   "metadata": {},
   "source": [
    "$\\nabla = d + \\frac{M}{x(x-1)(x-t_1)(x-t_2)}dx, \\quad M=\\pmatrix{\n",
    "    \\alpha & \\beta \\\\\n",
    "    \\gamma & -\\alpha \\\\\n",
    "}$"
   ]
  },
  {
   "cell_type": "code",
   "execution_count": 7,
   "metadata": {},
   "outputs": [],
   "source": [
    "alpha = alpha0 + alpha1*x + alpha2*x^2 + alpha3*x^3\n",
    "beta = beta0 + beta1*x + beta2*x^2 + beta3*x^3\n",
    "gamma = gamma0 + gamma1*x + gamma2*x^2 + gamma3*x^3"
   ]
  },
  {
   "cell_type": "code",
   "execution_count": 8,
   "metadata": {},
   "outputs": [],
   "source": [
    "M = matrix([[alpha, beta], [gamma, -alpha]])"
   ]
  },
  {
   "cell_type": "code",
   "execution_count": 9,
   "metadata": {},
   "outputs": [],
   "source": [
    "Sing = [[x==0], [x==1], [x==t1], [x==t2], ['x == infinity']]\n",
    "D = x*(x-1)*(x-t1)*(x-t2)\n",
    "disc = diff(D, x)"
   ]
  },
  {
   "cell_type": "code",
   "execution_count": 10,
   "metadata": {},
   "outputs": [],
   "source": [
    "Res = ['']*5\n",
    "\n",
    "for k in range(4):\n",
    "    Res[k] = (M/disc).subs(Sing[k])\n",
    "    \n",
    "Res[-1] = -sum(res for res in Res[:-1]).simplify_rational()"
   ]
  },
  {
   "cell_type": "markdown",
   "metadata": {},
   "source": [
    "### Linear conditions on the parabolic structure and eigenvalues"
   ]
  },
  {
   "cell_type": "code",
   "execution_count": 11,
   "metadata": {},
   "outputs": [],
   "source": [
    "Eq = [0]*10"
   ]
  },
  {
   "cell_type": "code",
   "execution_count": 12,
   "metadata": {},
   "outputs": [],
   "source": [
    "V0 = Res[0]*vector([1, 0]) - (1/4)*vector([1, 0])\n",
    "Eq[0] = V0[0].simplify_rational().numerator()\n",
    "Eq[1] = V0[1].simplify_rational().numerator()"
   ]
  },
  {
   "cell_type": "code",
   "execution_count": 13,
   "metadata": {},
   "outputs": [],
   "source": [
    "V1 = Res[1]*vector([1, 1]) - (1/4)*vector([1, 1])\n",
    "Eq[2] = V1[0].simplify_rational().numerator()\n",
    "Eq[3] = V1[1].simplify_rational().numerator()"
   ]
  },
  {
   "cell_type": "code",
   "execution_count": 14,
   "metadata": {},
   "outputs": [],
   "source": [
    "Vt1 = Res[2]*vector([1, u1]) - (n/2)*vector([1, u1])\n",
    "Eq[4] = Vt1[0].simplify_rational().numerator()\n",
    "Eq[5] = Vt1[1].simplify_rational().numerator()"
   ]
  },
  {
   "cell_type": "code",
   "execution_count": 15,
   "metadata": {},
   "outputs": [],
   "source": [
    "Vt2 = Res[3]*vector([1, u2]) - (1/4)*vector([1, u2])\n",
    "Eq[6] = Vt2[0].simplify_rational().numerator()\n",
    "Eq[7] = Vt2[1].simplify_rational().numerator()"
   ]
  },
  {
   "cell_type": "code",
   "execution_count": 16,
   "metadata": {},
   "outputs": [],
   "source": [
    "Vinfty = Res[4]*vector([0, 1]) - (1/4)*vector([0, 1])\n",
    "Eq[8] = Vinfty[0].simplify_rational().numerator()\n",
    "Eq[9] = Vinfty[1].simplify_rational().numerator()"
   ]
  },
  {
   "cell_type": "raw",
   "metadata": {},
   "source": [
    "# Print the linear equations\n",
    "for e in Eq:\n",
    "    if e != 0:\n",
    "        printMath(e.factor()), '\\n'"
   ]
  },
  {
   "cell_type": "code",
   "execution_count": 17,
   "metadata": {},
   "outputs": [],
   "source": [
    "free_vars = [variable for variable in parameters if (variable != beta1 and variable != beta2)]"
   ]
  },
  {
   "cell_type": "code",
   "execution_count": 18,
   "metadata": {
    "scrolled": true
   },
   "outputs": [],
   "source": [
    "Sols = solve(Eq, free_vars)  # beta1, beta2 are free"
   ]
  },
  {
   "cell_type": "markdown",
   "metadata": {},
   "source": [
    "## Definition of $\\nabla_0$\n",
    "\n",
    "In order to define $\\nabla_0$, we seek for two conditions:\n",
    "\n",
    "* $\\beta(x) = C(x-t_1)(x-t_2)$,  \n",
    "* The residue over each $t_i$ is lower-triangular."
   ]
  },
  {
   "cell_type": "code",
   "execution_count": 19,
   "metadata": {},
   "outputs": [],
   "source": [
    "# Equations defining Nabla0\n",
    "Eq2 = [0]*4\n",
    "\n",
    "# Position of second parabolic over L,t:\n",
    "Eq2[0] = Res[2][0][1].subs(Sols).simplify_rational().numerator()\n",
    "Eq2[1] = Res[3][0][1].subs(Sols).simplify_rational().numerator()\n",
    "\n",
    "# Condition on the Apparent map:\n",
    "Eq2[2] = beta.subs(Sols).subs(x==t1).simplify_rational().numerator()\n",
    "Eq2[3] = beta.subs(Sols).subs(x==t2).simplify_rational().numerator()"
   ]
  },
  {
   "cell_type": "code",
   "execution_count": 20,
   "metadata": {},
   "outputs": [
    {
     "name": "stdout",
     "output_type": "stream",
     "text": [
      "[beta1 == -1/2*(n + 1)*t1 - 1/2*(n + 1)*t2, beta2 == 1/2*n + 1/2]\n"
     ]
    }
   ],
   "source": [
    "print solve(Eq2, [beta1, beta2])[0]"
   ]
  },
  {
   "cell_type": "code",
   "execution_count": 21,
   "metadata": {},
   "outputs": [],
   "source": [
    "nabla0 = solve(Eq + [beta1 - (-1/2*(n + 1)*t1 - 1/2*(n + 1)*t2), beta2 - (1/2*n + 1/2)], parameters)\n",
    "Nabla0 = M.subs(nabla0).simplify_rational().factor()"
   ]
  },
  {
   "cell_type": "raw",
   "metadata": {},
   "source": [
    "# Print the value of the parameters defining Nabla0\n",
    "for v in parameters:\n",
    "    if v.subs(nabla0) == 0:\n",
    "        print '{} = 0\\n'.format(v)\n",
    "    else:\n",
    "        print '{} ='.format(v), v.subs(nabla0).simplify_rational().factor(), '\\n'"
   ]
  },
  {
   "cell_type": "code",
   "execution_count": 22,
   "metadata": {},
   "outputs": [
    {
     "data": {
      "text/html": [
       "<html><script type=\"math/tex; mode=display\">\\newcommand{\\Bold}[1]{\\mathbf{#1}}\\frac{1}{2} \\, {\\left(n + 1\\right)} {\\left(t_{1} - x\\right)} {\\left(t_{2} - x\\right)}</script></html>"
      ],
      "text/plain": [
       "1/2*(n + 1)*(t1 - x)*(t2 - x)"
      ]
     },
     "execution_count": 22,
     "metadata": {},
     "output_type": "execute_result"
    }
   ],
   "source": [
    "# Apparent singularities are the zeros of beta:\n",
    "Nabla0[0][1]"
   ]
  },
  {
   "cell_type": "code",
   "execution_count": 23,
   "metadata": {},
   "outputs": [
    {
     "name": "stdout",
     "output_type": "stream",
     "text": [
      "Residue at x == 0:\n"
     ]
    },
    {
     "data": {
      "text/latex": [
       "$$\\left(\\begin{array}{rr}\n",
       "\\frac{1}{4} & -\\frac{1}{2} \\, n - \\frac{1}{2} \\\\\n",
       "0 & -\\frac{1}{4}\n",
       "\\end{array}\\right)$$"
      ],
      "text/plain": [
       "<IPython.core.display.Math object>"
      ]
     },
     "metadata": {},
     "output_type": "display_data"
    },
    {
     "name": "stdout",
     "output_type": "stream",
     "text": [
      "[(-1/4, [(1, 1/(n + 1))], 1), (1/4, [(1, 0)], 1)]\n",
      "\n",
      "Residue at x == 1:\n"
     ]
    },
    {
     "data": {
      "text/latex": [
       "$$\\left(\\begin{array}{rr}\n",
       "-\\frac{1}{2} \\, n - \\frac{1}{4} & \\frac{1}{2} \\, n + \\frac{1}{2} \\\\\n",
       "-\\frac{1}{2} \\, n & \\frac{1}{2} \\, n + \\frac{1}{4}\n",
       "\\end{array}\\right)$$"
      ],
      "text/plain": [
       "<IPython.core.display.Math object>"
      ]
     },
     "metadata": {},
     "output_type": "display_data"
    },
    {
     "name": "stdout",
     "output_type": "stream",
     "text": [
      "[(-1/4, [(1, n/(n + 1))], 1), (1/4, [(1, 1)], 1)]\n",
      "\n",
      "Residue at x == t1:\n"
     ]
    },
    {
     "data": {
      "text/latex": [
       "$$\\left(\\begin{array}{rr}\n",
       "\\frac{1}{2} \\, n & 0 \\\\\n",
       "n u_{1} & -\\frac{1}{2} \\, n\n",
       "\\end{array}\\right)$$"
      ],
      "text/plain": [
       "<IPython.core.display.Math object>"
      ]
     },
     "metadata": {},
     "output_type": "display_data"
    },
    {
     "name": "stdout",
     "output_type": "stream",
     "text": [
      "[(-1/2*n, [(0, 1)], 1), (1/2*n, [(1, u1)], 1)]\n",
      "\n",
      "Residue at x == t2:\n"
     ]
    },
    {
     "data": {
      "text/latex": [
       "$$\\left(\\begin{array}{rr}\n",
       "\\frac{1}{4} & 0 \\\\\n",
       "\\frac{1}{2} \\, u_{2} & -\\frac{1}{4}\n",
       "\\end{array}\\right)$$"
      ],
      "text/plain": [
       "<IPython.core.display.Math object>"
      ]
     },
     "metadata": {},
     "output_type": "display_data"
    },
    {
     "name": "stdout",
     "output_type": "stream",
     "text": [
      "[(-1/4, [(0, 1)], 1), (1/4, [(1, u2)], 1)]\n",
      "\n",
      "Residue at x == infinity:\n"
     ]
    },
    {
     "data": {
      "text/latex": [
       "$$\\left(\\begin{array}{rr}\n",
       "-\\frac{1}{4} & 0 \\\\\n",
       "-n u_{1} + \\frac{1}{2} \\, n - \\frac{1}{2} \\, u_{2} & \\frac{1}{4}\n",
       "\\end{array}\\right)$$"
      ],
      "text/plain": [
       "<IPython.core.display.Math object>"
      ]
     },
     "metadata": {},
     "output_type": "display_data"
    },
    {
     "name": "stdout",
     "output_type": "stream",
     "text": [
      "[(-1/4, [(1, 2*n*u1 - n + u2)], 1), (1/4, [(0, 1)], 1)]\n",
      "\n"
     ]
    }
   ],
   "source": [
    "# Display the residues of Nabla0\n",
    "for res in Res:\n",
    "    print 'Residue at {}:'.format(str(Sing[Res.index(res)][0]))\n",
    "    residue = res.subs(nabla0).simplify_rational().factor()\n",
    "    printMath(residue)\n",
    "    print residue.eigenvectors_right()\n",
    "    print ''"
   ]
  },
  {
   "cell_type": "markdown",
   "metadata": {},
   "source": [
    "## Definition of $\\Theta_1$"
   ]
  },
  {
   "cell_type": "code",
   "execution_count": 24,
   "metadata": {},
   "outputs": [],
   "source": [
    "to_zero =[alpha0==0, alpha1==0, alpha2==0, alpha3 ==0, beta0==0, beta1==0, beta2==0, beta3==0, gamma0==0, gamma1==0, gamma2==0, gamma3==0]"
   ]
  },
  {
   "cell_type": "code",
   "execution_count": 25,
   "metadata": {},
   "outputs": [],
   "source": [
    "EqHom = [eq - eq.subs(to_zero) for eq in Eq]"
   ]
  },
  {
   "cell_type": "code",
   "execution_count": 26,
   "metadata": {},
   "outputs": [],
   "source": [
    "SolsHom = solve(EqHom, free_vars)"
   ]
  },
  {
   "cell_type": "code",
   "execution_count": 27,
   "metadata": {},
   "outputs": [],
   "source": [
    "# From Loray-Saito's paper:\n",
    "Eq3 = [0]*2\n",
    "Eq3[0] = Res[0][0][1].subs(SolsHom) - (1 - u1)\n",
    "Eq3[1] = Res[2][0][1].subs(SolsHom) + 1"
   ]
  },
  {
   "cell_type": "code",
   "execution_count": 28,
   "metadata": {},
   "outputs": [
    {
     "name": "stdout",
     "output_type": "stream",
     "text": [
      "[beta1 == t1*t2 - (t1 + t2)*u1 + t1, beta2 == -t1 + u1]\n"
     ]
    }
   ],
   "source": [
    "print solve(Eq3, [beta1, beta2])[0]"
   ]
  },
  {
   "cell_type": "code",
   "execution_count": 29,
   "metadata": {},
   "outputs": [],
   "source": [
    "theta1 = solve(EqHom + [beta1 - (t1*t2 - (t1 + t2)*u1 + t1), beta2 - (-t1 + u1)], parameters)\n",
    "Theta1 = M.subs(theta1).simplify_rational().factor()"
   ]
  },
  {
   "cell_type": "raw",
   "metadata": {
    "scrolled": false
   },
   "source": [
    "# Display the residues of Theta1\n",
    "for res in Res[:-1]:\n",
    "    print 'Residue at {}:'.format(str(Sing[Res.index(res)][0]))\n",
    "    residue = res.subs(theta1).simplify_rational().factor()\n",
    "    printMath(residue)\n",
    "    #print residue.eigenvectors_right()\n",
    "    print ''"
   ]
  },
  {
   "cell_type": "code",
   "execution_count": 30,
   "metadata": {},
   "outputs": [
    {
     "data": {
      "text/html": [
       "<html><script type=\"math/tex; mode=display\">\\newcommand{\\Bold}[1]{\\mathbf{#1}}\\left[x = -\\frac{t_{1} u_{1} - t_{1}}{t_{1} - u_{1}}, x = t_{2}\\right]</script></html>"
      ],
      "text/plain": [
       "[x == -(t1*u1 - t1)/(t1 - u1), x == t2]"
      ]
     },
     "execution_count": 30,
     "metadata": {},
     "output_type": "execute_result"
    }
   ],
   "source": [
    "# The \"apparent map\" is as expected\n",
    "solve(Theta1[0][1], x)"
   ]
  },
  {
   "cell_type": "markdown",
   "metadata": {},
   "source": [
    "## Definition of $\\Theta_2$"
   ]
  },
  {
   "cell_type": "code",
   "execution_count": 31,
   "metadata": {},
   "outputs": [],
   "source": [
    "# From Loray-Saito's paper:\n",
    "Eq4 = [0]*2\n",
    "Eq4[0] = Res[0][0][1].subs(SolsHom) - (1 - u2)\n",
    "Eq4[1] = Res[3][0][1].subs(SolsHom) + 1"
   ]
  },
  {
   "cell_type": "code",
   "execution_count": 32,
   "metadata": {},
   "outputs": [
    {
     "name": "stdout",
     "output_type": "stream",
     "text": [
      "[beta1 == (t1 + 1)*t2 - (t1 + t2)*u2, beta2 == -t2 + u2]\n"
     ]
    }
   ],
   "source": [
    "print solve(Eq4, [beta1,beta2])[0]"
   ]
  },
  {
   "cell_type": "code",
   "execution_count": 33,
   "metadata": {},
   "outputs": [],
   "source": [
    "theta2 = solve(EqHom + [beta1 - ((t1 + 1)*t2 - (t1 + t2)*u2), beta2 - (-t2 + u2)], parameters)\n",
    "Theta2 = M.subs(theta2).simplify_rational().factor()"
   ]
  },
  {
   "cell_type": "raw",
   "metadata": {},
   "source": [
    "# Display the residues of Theta2\n",
    "for res in Res[:-1]:\n",
    "    print 'Residue at {}:'.format(str(Sing[Res.index(res)][0]))\n",
    "    residue = res.subs(theta2).simplify_rational().factor()\n",
    "    printMath(residue)\n",
    "    #print residue.eigenvectors_right()\n",
    "    print ''"
   ]
  },
  {
   "cell_type": "code",
   "execution_count": 34,
   "metadata": {},
   "outputs": [
    {
     "data": {
      "text/html": [
       "<html><script type=\"math/tex; mode=display\">\\newcommand{\\Bold}[1]{\\mathbf{#1}}\\left[x = -\\frac{t_{2} u_{2} - t_{2}}{t_{2} - u_{2}}, x = t_{1}\\right]</script></html>"
      ],
      "text/plain": [
       "[x == -(t2*u2 - t2)/(t2 - u2), x == t1]"
      ]
     },
     "execution_count": 34,
     "metadata": {},
     "output_type": "execute_result"
    }
   ],
   "source": [
    "# The \"apparent map\" is as expected\n",
    "solve(Theta2[0][1], x)"
   ]
  },
  {
   "cell_type": "markdown",
   "metadata": {},
   "source": [
    "## The apparent map and the variables `a` and `b`"
   ]
  },
  {
   "cell_type": "code",
   "execution_count": 35,
   "metadata": {},
   "outputs": [],
   "source": [
    "APP = (n+1)/2*(x-t1)*(x-t2) + \\\n",
    "    c1*((u1-t1)*x + (1-u1)*t1)*(x-t2) + \\\n",
    "    c2*((u2-t2)*x + (1-u2)*t2)*(x-t1)"
   ]
  },
  {
   "cell_type": "code",
   "execution_count": 36,
   "metadata": {},
   "outputs": [],
   "source": [
    "a0 = APP.subs(x==0)\n",
    "a1 = diff(APP, x).subs(x==0)\n",
    "a2 = diff(diff(APP/2, x), x)"
   ]
  },
  {
   "cell_type": "code",
   "execution_count": 37,
   "metadata": {},
   "outputs": [],
   "source": [
    "b0 = t2*(t2-1)*u1 - t1*(t1-1)*u2 + t1*t2*(t1-t2)\n",
    "b1 = t1*t2*((t2-1)*u1 - (t1-1)*u2 + (t1-t2))\n",
    "b2 = t1*t2*(t1*(t2-1)*u1 - t2*(t1-1)*u2 + (t1-t2))"
   ]
  },
  {
   "cell_type": "markdown",
   "metadata": {},
   "source": [
    "# The map into the moduli space $\\operatorname{Bun}_0(C,T) = \\mathbb{P}^1_z\\times\\mathbb{P}^1_w$.\n",
    "\n",
    "The map $\\mathbb{P}^1_{u_1} \\times \\mathbb{P}^1_{u_2} \\longrightarrow \\mathbb{P}^1_z \\times \\mathbb{P}^1_w$ is given by:"
   ]
  },
  {
   "cell_type": "code",
   "execution_count": 38,
   "metadata": {},
   "outputs": [
    {
     "data": {
      "text/latex": [
       "$$-\\frac{t_{2} {\\left(u_{2} - 1\\right)}}{t_{2} - u_{2}}$$"
      ],
      "text/plain": [
       "<IPython.core.display.Math object>"
      ]
     },
     "metadata": {},
     "output_type": "display_data"
    },
    {
     "data": {
      "text/latex": [
       "$$\\frac{{\\left(t_{2} u_{1} - t_{1} u_{2} + t_{1} - t_{2} - u_{1} + u_{2}\\right)} t_{2} u_{1}}{t_{1} t_{2} u_{1} - t_{1} t_{2} u_{2} - t_{1} u_{1} u_{2} + t_{2} u_{1} u_{2} - t_{2} u_{1} + t_{1} u_{2}}$$"
      ],
      "text/plain": [
       "<IPython.core.display.Math object>"
      ]
     },
     "metadata": {},
     "output_type": "display_data"
    }
   ],
   "source": [
    "z = t2*(u2-1)/(u2-t2)\n",
    "w = (t2*u1 - u2*t1 - t2 + u2 - u1 + t1)*t2*u1/(t2*u2*u1 - t2*u2*t1 + t2*u1*t1 - u2*u1*t1 - t2*u1 + u2*t1)\n",
    "\n",
    "printMath(z)\n",
    "printMath(w)"
   ]
  },
  {
   "cell_type": "markdown",
   "metadata": {},
   "source": [
    "The involution $\\tau$ is defined as $\\tau(u_1,u_2) = (\\bar{u}_1, u_2) \\iff w(u_1,u_2) = w(\\bar{u}_1, u_2)$. The value of $\\bar{u}_1$ is given by the following formula:\n"
   ]
  },
  {
   "cell_type": "code",
   "execution_count": 39,
   "metadata": {},
   "outputs": [
    {
     "data": {
      "text/html": [
       "<html><script type=\"math/tex; mode=display\">\\newcommand{\\Bold}[1]{\\mathbf{#1}}\\frac{{\\left(t_{2} u_{1} - t_{1} u_{2} + t_{1} - t_{2} - u_{1} + u_{2}\\right)} t_{1} u_{2}}{t_{1} t_{2} u_{1} - t_{1} t_{2} u_{2} - t_{1} u_{1} u_{2} + t_{2} u_{1} u_{2} - t_{2} u_{1} + t_{1} u_{2}}</script></html>"
      ],
      "text/plain": [
       "(t2*u1 - t1*u2 + t1 - t2 - u1 + u2)*t1*u2/(t1*t2*u1 - t1*t2*u2 - t1*u1*u2 + t2*u1*u2 - t2*u1 + t1*u2)"
      ]
     },
     "execution_count": 39,
     "metadata": {},
     "output_type": "execute_result"
    }
   ],
   "source": [
    "u1_bar = (t2*u1 - u2*t1 - t2 + u2 - u1 + t1)*u2*t1/(t2*u2*u1 - t2*u2*t1 + t2*u1*t1 - u2*u1*t1 - t2*u1 + u2*t1)\n",
    "u1_bar"
   ]
  },
  {
   "cell_type": "code",
   "execution_count": 40,
   "metadata": {},
   "outputs": [
    {
     "name": "stdout",
     "output_type": "stream",
     "text": [
      "0\n"
     ]
    }
   ],
   "source": [
    "# We can verify it is the right expression\n",
    "print w - w.subs(u1==u1_bar).simplify_rational().factor()"
   ]
  },
  {
   "cell_type": "code",
   "execution_count": 41,
   "metadata": {},
   "outputs": [
    {
     "name": "stdout",
     "output_type": "stream",
     "text": [
      "u1\n"
     ]
    }
   ],
   "source": [
    "# We can verify that tau is indeed an involution\n",
    "print u1_bar.subs(u1==u1_bar).simplify_rational()"
   ]
  },
  {
   "cell_type": "markdown",
   "metadata": {},
   "source": [
    "### The special sections $S^+$, $S^-$ and the section $\\sigma$\n",
    "\n",
    "There are two sections $S$, which become the canonical sections of the bundle $E = L \\oplus L^{-1}$ after pulling to the elliptic curve."
   ]
  },
  {
   "cell_type": "code",
   "execution_count": 42,
   "metadata": {},
   "outputs": [],
   "source": [
    "y = var('y')\n",
    "v2 = var('v2')  # represents sqrt(u2*(u2-1)*(u2-t2))"
   ]
  },
  {
   "cell_type": "code",
   "execution_count": 43,
   "metadata": {},
   "outputs": [],
   "source": [
    "Splus = (t2*u2*x - u2*x + v2*y)/(t2*u2 + t2*x - u2*x - t2)\n",
    "Sminus = (t2*u2*x - u2*x - v2*y)/(t2*u2 + t2*x - u2*x - t2)"
   ]
  },
  {
   "cell_type": "code",
   "execution_count": 44,
   "metadata": {},
   "outputs": [
    {
     "data": {
      "text/html": [
       "<html><script type=\"math/tex; mode=display\">\\newcommand{\\Bold}[1]{\\mathbf{#1}}\\frac{{\\left(t_{2} - 1\\right)} u_{2} x}{t_{2} u_{2} + t_{2} x - u_{2} x - t_{2}}</script></html>"
      ],
      "text/plain": [
       "(t2 - 1)*u2*x/(t2*u2 + t2*x - u2*x - t2)"
      ]
     },
     "execution_count": 44,
     "metadata": {},
     "output_type": "execute_result"
    }
   ],
   "source": [
    "# We search for the section sigma which satisfies: (sigma - Splus)/(sigma - Sminus) == -1\n",
    "sigma = (Splus + Sminus)/2\n",
    "sigma = sigma.simplify_rational().factor()\n",
    "sigma"
   ]
  },
  {
   "cell_type": "markdown",
   "metadata": {},
   "source": [
    "**Note:** The section $\\sigma$ doesn't depend on $u_1$."
   ]
  },
  {
   "cell_type": "code",
   "execution_count": 45,
   "metadata": {},
   "outputs": [
    {
     "name": "stdout",
     "output_type": "stream",
     "text": [
      "0\n",
      "1\n",
      "u2 \n",
      "\n",
      "(t2 - 1)*u2/(t2 - u2)\n"
     ]
    }
   ],
   "source": [
    "# The section sigma takes the following values at the torsion points:\n",
    "print sigma.subs(x==0)\n",
    "print sigma.subs(x==1).simplify_rational()\n",
    "print sigma.subs(x==t2).simplify_rational(), '\\n'\n",
    "\n",
    "# And at infinity:\n",
    "print (diff(sigma.numerator(), x)/diff(sigma.denominator(), x)).simplify_rational().factor()"
   ]
  },
  {
   "cell_type": "markdown",
   "metadata": {},
   "source": [
    "### Tangencies with $\\sigma$"
   ]
  },
  {
   "cell_type": "code",
   "execution_count": 46,
   "metadata": {},
   "outputs": [],
   "source": [
    "Nabla = Nabla0 + c1*Theta1 + c2*Theta2\n",
    "\n",
    "sigma0 = vector([1, sigma])\n",
    "sigma1 = diff(sigma0, x) + (Nabla/(x*(x-1)*(x-t1)*(x-t2)))*sigma0\n",
    "\n",
    "APPsigma = matrix([sigma0, sigma1]).determinant().numerator().factor()"
   ]
  },
  {
   "cell_type": "markdown",
   "metadata": {},
   "source": [
    "# The involution $\\tau$"
   ]
  },
  {
   "cell_type": "markdown",
   "metadata": {},
   "source": [
    "We seek for a matrix T with the following properties:\n",
    "\n",
    "If $\\nabla = \\nabla_0(u) + c_1\\Theta_1(u) + c_2\\Theta_2(u)$, then $\\tau^*\\nabla = \\nabla_0(\\bar u) + k_1\\Theta_1(\\bar u) + k_2\\Theta_2(\\bar u)$,\n",
    "\n",
    "where $(1, k_1, k_2) := T\\cdot(1, c_1, c_2)^{\\operatorname{T}}$."
   ]
  },
  {
   "cell_type": "code",
   "execution_count": 47,
   "metadata": {},
   "outputs": [
    {
     "data": {
      "text/html": [
       "<html><script type=\"math/tex; mode=display\">\\newcommand{\\Bold}[1]{\\mathbf{#1}}\\left(\\begin{array}{rrr}\n",
       "1 & 0 & 0 \\\\\n",
       "\\tau_{10} & \\tau_{11} & \\tau_{12} \\\\\n",
       "\\tau_{20} & \\tau_{21} & \\tau_{22}\n",
       "\\end{array}\\right)</script></html>"
      ],
      "text/plain": [
       "[    1     0     0]\n",
       "[tau10 tau11 tau12]\n",
       "[tau20 tau21 tau22]"
      ]
     },
     "execution_count": 47,
     "metadata": {},
     "output_type": "execute_result"
    }
   ],
   "source": [
    "var('tau10 tau11 tau12 tau20 tau21 tau22')\n",
    "T = matrix([(1, 0 ,0), (tau10, tau11, tau12), (tau20, tau21, tau22)])\n",
    "T"
   ]
  },
  {
   "cell_type": "code",
   "execution_count": 48,
   "metadata": {},
   "outputs": [],
   "source": [
    "k0, k1, k2 = list(T*vector([1, c1, c2]))"
   ]
  },
  {
   "cell_type": "code",
   "execution_count": 49,
   "metadata": {},
   "outputs": [],
   "source": [
    "new_APP = APPsigma.subs(u1==u1_bar).subs([c1==k1, c2==k2])  # This should have the same zeros as APP"
   ]
  },
  {
   "cell_type": "code",
   "execution_count": 50,
   "metadata": {},
   "outputs": [],
   "source": [
    "s0 = new_APP.subs(x==0)\n",
    "s1 = diff(new_APP, x).subs(x==0)\n",
    "s2 = diff(diff(new_APP/2, x), x)"
   ]
  },
  {
   "cell_type": "code",
   "execution_count": 51,
   "metadata": {
    "scrolled": true
   },
   "outputs": [],
   "source": [
    "# Lift denominators to make the variables a_i and s_i polynomial\n",
    "denom1 = a2.denominator()\n",
    "denom2 = s2.denominator()\n",
    "\n",
    "a0 = (a0*denom1).simplify_rational()\n",
    "a1 = (a1*denom1).simplify_rational()\n",
    "a2 = (a2*denom1).simplify_rational()\n",
    "\n",
    "s0 = (s0*denom2).simplify_rational()\n",
    "s1 = (s1*denom2).simplify_rational()\n",
    "s2 = (s2*denom2).simplify_rational()"
   ]
  },
  {
   "cell_type": "code",
   "execution_count": 52,
   "metadata": {},
   "outputs": [],
   "source": [
    "Eqn1 = s2*a1 - a2*s1\n",
    "Eqn2 = s2*a0 - a2*s0"
   ]
  },
  {
   "cell_type": "markdown",
   "metadata": {},
   "source": [
    "I want the above equations to be zero **for any** value of $c_1,c_2$.  \n",
    "The expressions `Eqn1` and `Eqn2` are quadratic in $c_1,c_2$, but we'll truncate the quadratic part first, solve the system and then show that the solutions found are general enough."
   ]
  },
  {
   "cell_type": "code",
   "execution_count": 53,
   "metadata": {},
   "outputs": [],
   "source": [
    "# Linear terms\n",
    "\n",
    "E1_00 = Eqn1.subs([c1==0, c2==0])\n",
    "E1_10 = diff(Eqn1, c1).subs([c1==0, c2==0])\n",
    "E1_01 = diff(Eqn1, c2).subs([c1==0, c2==0])\n",
    "E2_00 = Eqn2.subs([c1==0, c2==0])\n",
    "E2_10 = diff(Eqn2, c1).subs([c1==0, c2==0])\n",
    "E2_01 = diff(Eqn2, c2).subs([c1==0, c2==0])"
   ]
  },
  {
   "cell_type": "code",
   "execution_count": 54,
   "metadata": {},
   "outputs": [
    {
     "name": "stdout",
     "output_type": "stream",
     "text": [
      "CPU times: user 12.2 s, sys: 80 ms, total: 12.3 s\n",
      "Wall time: 10.3 s\n"
     ]
    }
   ],
   "source": [
    "%%time\n",
    "\n",
    "# Solve column by column\n",
    "S0 = solve([E1_00, E2_00], [tau10, tau20])\n",
    "S1 = solve([E1_10.subs(S0), E2_10.subs(S0)], [tau11, tau21])\n",
    "S2 = solve([E1_01.subs(S0).subs(S1), E2_01.subs(S0).subs(S1)], [tau12, tau22])"
   ]
  },
  {
   "cell_type": "code",
   "execution_count": 55,
   "metadata": {},
   "outputs": [
    {
     "name": "stdout",
     "output_type": "stream",
     "text": [
      "0\n",
      "0\n"
     ]
    }
   ],
   "source": [
    "# Verify that we got a complete solution\n",
    "print Eqn1.subs(S0).subs(S1).subs(S2).simplify_rational()\n",
    "print Eqn2.subs(S0).subs(S1).subs(S2).simplify_rational()"
   ]
  },
  {
   "cell_type": "markdown",
   "metadata": {},
   "source": [
    "Finally, we get the matrix representing the change of basis dictated by $\\tau$:"
   ]
  },
  {
   "cell_type": "code",
   "execution_count": 56,
   "metadata": {},
   "outputs": [],
   "source": [
    "TT = T.subs(S0).subs(S1).subs(S2).simplify_rational().factor()"
   ]
  },
  {
   "cell_type": "code",
   "execution_count": 57,
   "metadata": {
    "scrolled": true
   },
   "outputs": [
    {
     "data": {
      "text/html": [
       "<html><script type=\"math/tex; mode=display\">\\newcommand{\\Bold}[1]{\\mathbf{#1}}\\left(\\begin{array}{rrr}\n",
       "1 & 0 & 0 \\\\\n",
       "\\frac{{\\left(t_{1} t_{2} u_{1} - t_{1} t_{2} u_{2} - t_{1} u_{1} u_{2} + t_{2} u_{1} u_{2} - t_{2} u_{1} + t_{1} u_{2}\\right)} {\\left(t_{1} t_{2} - t_{1} u_{2} + t_{2} u_{2} - t_{2}\\right)} n}{{\\left(t_{1} - t_{2}\\right)} {\\left(t_{1} - 1\\right)} t_{1} {\\left(t_{2} - u_{2}\\right)} {\\left(u_{2} - 1\\right)} u_{2}} & \\frac{{\\left(t_{1} t_{2} u_{1} - t_{1} t_{2} u_{2} - t_{1} u_{1} u_{2} + t_{2} u_{1} u_{2} - t_{2} u_{1} + t_{1} u_{2}\\right)}^{2}}{{\\left(t_{1} - t_{2}\\right)} {\\left(t_{1} - 1\\right)} t_{1} {\\left(t_{2} - u_{2}\\right)} {\\left(u_{2} - 1\\right)} u_{2}} & 0 \\\\\n",
       "-\\frac{{\\left(2 \\, t_{2}^{2} u_{1} - 2 \\, t_{1} t_{2} u_{2} + t_{1} u_{2}^{2} - t_{2} u_{2}^{2} + t_{1} t_{2} - t_{2}^{2} - 2 \\, t_{2} u_{1} + 2 \\, t_{2} u_{2}\\right)} n}{2 \\, {\\left(t_{1} - t_{2}\\right)} {\\left(t_{2} - u_{2}\\right)} {\\left(u_{2} - 1\\right)} u_{2}} & -\\frac{t_{2}^{2} u_{1}^{2} - 2 \\, t_{1} t_{2} u_{1} u_{2} + t_{1} t_{2} u_{2}^{2} + t_{1} u_{1} u_{2}^{2} - t_{2} u_{1} u_{2}^{2} + t_{1} t_{2} u_{1} - t_{2}^{2} u_{1} - t_{2} u_{1}^{2} + 2 \\, t_{2} u_{1} u_{2} - t_{1} u_{2}^{2}}{{\\left(t_{1} - t_{2}\\right)} {\\left(t_{2} - u_{2}\\right)} {\\left(u_{2} - 1\\right)} u_{2}} & 1\n",
       "\\end{array}\\right)</script></html>"
      ],
      "text/plain": [
       "[                                                                                                                                                          1                                                                                                                                                           0                                                                                                                                                           0]\n",
       "[                   (t1*t2*u1 - t1*t2*u2 - t1*u1*u2 + t2*u1*u2 - t2*u1 + t1*u2)*(t1*t2 - t1*u2 + t2*u2 - t2)*n/((t1 - t2)*(t1 - 1)*t1*(t2 - u2)*(u2 - 1)*u2)                                                 (t1*t2*u1 - t1*t2*u2 - t1*u1*u2 + t2*u1*u2 - t2*u1 + t1*u2)^2/((t1 - t2)*(t1 - 1)*t1*(t2 - u2)*(u2 - 1)*u2)                                                                                                                                                           0]\n",
       "[                                   -1/2*(2*t2^2*u1 - 2*t1*t2*u2 + t1*u2^2 - t2*u2^2 + t1*t2 - t2^2 - 2*t2*u1 + 2*t2*u2)*n/((t1 - t2)*(t2 - u2)*(u2 - 1)*u2) -(t2^2*u1^2 - 2*t1*t2*u1*u2 + t1*t2*u2^2 + t1*u1*u2^2 - t2*u1*u2^2 + t1*t2*u1 - t2^2*u1 - t2*u1^2 + 2*t2*u1*u2 - t1*u2^2)/((t1 - t2)*(t2 - u2)*(u2 - 1)*u2)                                                                                                                                                           1]"
      ]
     },
     "execution_count": 57,
     "metadata": {},
     "output_type": "execute_result"
    }
   ],
   "source": [
    "TT"
   ]
  },
  {
   "cell_type": "code",
   "execution_count": 58,
   "metadata": {
    "scrolled": true
   },
   "outputs": [
    {
     "data": {
      "text/html": [
       "<html><script type=\"math/tex; mode=display\">\\newcommand{\\Bold}[1]{\\mathbf{#1}}\\left(\\begin{array}{rrr}\n",
       "1 & 0 & 0 \\\\\n",
       "0 & 1 & 0 \\\\\n",
       "0 & 0 & 1\n",
       "\\end{array}\\right)</script></html>"
      ],
      "text/plain": [
       "[1 0 0]\n",
       "[0 1 0]\n",
       "[0 0 1]"
      ]
     },
     "execution_count": 58,
     "metadata": {},
     "output_type": "execute_result"
    }
   ],
   "source": [
    "# Since tau is an involution, the following should be the identity matrix\n",
    "(TT * (TT.subs(u1==u1_bar))).simplify_rational().factor()"
   ]
  },
  {
   "cell_type": "raw",
   "metadata": {},
   "source": [
    "# Export TT\n",
    "for row in TT:\n",
    "    print list(row)"
   ]
  },
  {
   "cell_type": "markdown",
   "metadata": {},
   "source": [
    "# The 2-form $\\omega = dc_1\\wedge du_1 + dc_2\\wedge du_2$\n",
    "\n",
    "We want to check if this two form is invariant under the involution\n",
    "\n",
    "$$ \\tau \\;\\colon\\; u_1 \\mapsto \\bar{u}_1, \\quad (c_1, c_2) \\mapsto (\\bar{c}_1, \\bar{c}_2), $$\n",
    "\n",
    "where $(1, \\bar{c}_1, \\bar{c}_2) = TT(1,c_1,c_2)$.\n",
    "\n",
    "Let us begin with $\\bar{\\omega} = d\\bar{c}_1\\wedge d\\bar{u}_1 + d\\bar{c}_2\\wedge du_2$ and pull it back with $\\tau$."
   ]
  },
  {
   "cell_type": "code",
   "execution_count": 59,
   "metadata": {},
   "outputs": [],
   "source": [
    "c1_bar = (TT*vector([1, c1, c2]))[1].simplify_rational()\n",
    "c2_bar = (TT*vector([1, c1, c2]))[2].simplify_rational()"
   ]
  },
  {
   "cell_type": "code",
   "execution_count": 60,
   "metadata": {},
   "outputs": [],
   "source": [
    "# Compute dc1_bar\n",
    "\n",
    "# Save differential as a dictionary:\n",
    "dc1_bar = {}\n",
    "dc1_bar['dc1'] = diff(c1_bar, c1).simplify_rational().factor()\n",
    "dc1_bar['dc2'] = diff(c1_bar, c2).simplify_rational()           # = 0\n",
    "dc1_bar['du1'] = diff(c1_bar, u1).simplify_rational().factor()\n",
    "dc1_bar['du2'] = diff(c1_bar, u2).simplify_rational().factor()"
   ]
  },
  {
   "cell_type": "code",
   "execution_count": 61,
   "metadata": {},
   "outputs": [],
   "source": [
    "# Compute dc2_bar\n",
    "\n",
    "# Save differential as a dictionary:\n",
    "dc2_bar = {}\n",
    "dc2_bar['dc1'] = diff(c2_bar, c1).simplify_rational().factor()\n",
    "dc2_bar['dc2'] = diff(c2_bar, c2).simplify_rational().factor()\n",
    "dc2_bar['du1'] = diff(c2_bar, u1).simplify_rational().factor()\n",
    "dc2_bar['du2'] = diff(c2_bar, u2).simplify_rational().factor()"
   ]
  },
  {
   "cell_type": "code",
   "execution_count": 62,
   "metadata": {},
   "outputs": [],
   "source": [
    "# Compute du1_bar\n",
    "\n",
    "# Save differential as a dictionary:\n",
    "du1_bar = {}\n",
    "du1_bar['dc1'] = 0\n",
    "du1_bar['dc2'] = 0\n",
    "du1_bar['du1'] = diff(u1_bar, u1).simplify_rational().factor()\n",
    "du1_bar['du2'] = diff(u1_bar, u2).simplify_rational().factor()"
   ]
  },
  {
   "cell_type": "code",
   "execution_count": 63,
   "metadata": {},
   "outputs": [],
   "source": [
    "# Save du2 as a dictionary:\n",
    "du2 = {'dc1': 0, 'dc2': 0, 'du1': 0, 'du2': 1}"
   ]
  },
  {
   "cell_type": "code",
   "execution_count": 64,
   "metadata": {},
   "outputs": [],
   "source": [
    "keys = ['dc1^du1', 'dc1^du2', 'dc2^du1', 'dc2^du2', 'dc1^dc2', 'du1^du2']\n",
    "omega = {key: 0 for key in keys}\n",
    "\n",
    "# Coming from dc1_bar^du1_bar\n",
    "omega['dc1^du1'] += dc1_bar['dc1'] * du1_bar['du1']\n",
    "omega['dc1^du2'] += dc1_bar['dc1'] * du1_bar['du2']\n",
    "omega['dc2^du1'] += dc1_bar['dc2'] * du1_bar['du1']\n",
    "omega['dc2^du2'] += dc1_bar['dc2'] * du1_bar['du2']\n",
    "omega['du1^du2'] += dc1_bar['du1'] * du1_bar['du2']\n",
    "omega['du1^du2'] += - dc1_bar['du2'] * du1_bar['du1']\n",
    "\n",
    "# Coming from dc2_bar^du2\n",
    "omega['dc1^du2'] += dc2_bar['dc1'] * du2['du2']\n",
    "omega['dc2^du2'] += dc2_bar['dc2'] * du2['du2']\n",
    "omega['du1^du2'] += dc2_bar['du1'] * du2['du2']"
   ]
  },
  {
   "cell_type": "code",
   "execution_count": 65,
   "metadata": {},
   "outputs": [],
   "source": [
    "# Simplify the above terms:\n",
    "for key in keys:\n",
    "    try:\n",
    "        omega[key] = omega[key].simplify_rational()\n",
    "    except:\n",
    "        next"
   ]
  },
  {
   "cell_type": "code",
   "execution_count": 66,
   "metadata": {
    "scrolled": true
   },
   "outputs": [
    {
     "name": "stdout",
     "output_type": "stream",
     "text": [
      "dc1^du1 term:\n",
      "1 \n",
      "\n",
      "dc1^du2 term:\n",
      "0 \n",
      "\n",
      "dc2^du1 term:\n",
      "0 \n",
      "\n",
      "dc2^du2 term:\n",
      "1 \n",
      "\n",
      "dc1^dc2 term:\n",
      "0 \n",
      "\n",
      "du1^du2 term:\n",
      "0 \n",
      "\n"
     ]
    }
   ],
   "source": [
    "# Print the pullback of omega by tau\n",
    "for key in keys:\n",
    "    print '{} term:\\n'.format(key), omega[key], '\\n'"
   ]
  },
  {
   "cell_type": "markdown",
   "metadata": {},
   "source": [
    "This confirms that the symplectic 2-form $\\omega$ is invariant under the involution $\\tau$."
   ]
  }
 ],
 "metadata": {
  "kernelspec": {
   "display_name": "SageMath 8.7.beta3",
   "language": "",
   "name": "sagemath"
  },
  "language_info": {
   "codemirror_mode": {
    "name": "ipython",
    "version": 2
   },
   "file_extension": ".py",
   "mimetype": "text/x-python",
   "name": "python",
   "nbconvert_exporter": "python",
   "pygments_lexer": "ipython2",
   "version": "2.7.15"
  }
 },
 "nbformat": 4,
 "nbformat_minor": 2
}
