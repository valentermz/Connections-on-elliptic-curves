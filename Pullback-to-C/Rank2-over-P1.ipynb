{
 "cells": [
  {
   "cell_type": "markdown",
   "metadata": {
    "deletable": true,
    "editable": true
   },
   "source": [
    "# Universal family of connections over $\\mathbb{P}^1$ and the involution $\\tau_*$\n",
    "\n",
    "Here we consider connections on a rank 2 trivial bundle over $\\mathbb{P}^1$, having a logarithmic singularity at $t_1$ with local exponents $\\pm \\nu$, and four additional apparent singularities over $0,1,t_2,\\infty$ with exponents $\\pm\\frac{1}{2}$.\n",
    "\n",
    "Our interest in this family is that we can then pullback these connections over the elliptic curve given by $y^2 = x(x-1)(x-t_2)$. After birational transformation we recover a connection over the elliptic curve with two logarithmic poles (each with exponents $\\pm\\nu$).\n",
    "\n",
    "This notebook contains the computations mentioned in the paper *A map between moduli spaces*."
   ]
  },
  {
   "cell_type": "code",
   "execution_count": 1,
   "metadata": {
    "collapsed": false,
    "deletable": true,
    "editable": true
   },
   "outputs": [
    {
     "data": {
      "text/html": [
       "<style>.container { width:85% !important; }</style>"
      ],
      "text/plain": [
       "<IPython.core.display.HTML object>"
      ]
     },
     "metadata": {},
     "output_type": "display_data"
    }
   ],
   "source": [
    "from IPython.core.display import display, HTML, Math\n",
    "\n",
    "# Define the width of the cells\n",
    "display(HTML(\"<style>.container { width:85% !important; }</style>\"));\n",
    "\n",
    "def printMath(expr):\n",
    "    return display(Math(latex(expr)))"
   ]
  },
  {
   "cell_type": "code",
   "execution_count": 2,
   "metadata": {
    "collapsed": true,
    "deletable": true,
    "editable": true
   },
   "outputs": [],
   "source": [
    "%display latex"
   ]
  },
  {
   "cell_type": "code",
   "execution_count": 3,
   "metadata": {
    "collapsed": true,
    "deletable": true,
    "editable": true
   },
   "outputs": [],
   "source": [
    "var('x t1 t2 u1 u2 nu c1 c2 zeta')  # t2 = lambda, t1 = t\n",
    "n = 2*nu  # n is the difference of of the eigenvalues, in this case 2*nu^+\n",
    "\n",
    "f = x * (x-1) * (x-t2)  # Polynomial defining the elliptic curve y = P(x)\n",
    "df = diff(f, x)  # ITs derivative"
   ]
  },
  {
   "cell_type": "markdown",
   "metadata": {
    "deletable": true,
    "editable": true
   },
   "source": [
    "**Remark:** My coordinate $\\zeta$ on the fiber represents $[1:\\zeta]$, this is the inverse of Loray-Saito."
   ]
  },
  {
   "cell_type": "markdown",
   "metadata": {
    "deletable": true,
    "editable": true
   },
   "source": [
    "## Universal family defined in Loray-Saito\n",
    "\n",
    "We begin by importing the the universal family and a few other formulas.  \n",
    "<!-- Note that the matrices below are polynomial and need to be divided by `x*(x-1)*(x-t1)*(x-t2)`. -->"
   ]
  },
  {
   "cell_type": "code",
   "execution_count": 4,
   "metadata": {
    "collapsed": true,
    "deletable": true,
    "editable": true
   },
   "outputs": [],
   "source": [
    "Nabla0 = matrix([\n",
    "    (-1/2*n*t1*t2*x + 1/2*n*t1*x^2 + 1/2*n*t2*x - 1/2*n*x^2 - 1/4*t1*x^2 + 1/4*x^3 - 1/4*t1*t2 + 1/2*t1*x + 1/4*t2*x - 1/2*x^2, 1/2*(n + 1)*(t1 - x)*(t2 - x)),\n",
    "    (-1/2*(2*n*t2*u1*x - 2*n*u1*x^2 + n*t1*t2 - 2*n*t2*u1 - n*t1*x - n*t2*x + 2*n*u1*x + t1*u2*x + n*x^2 - u2*x^2 - t1*u2 + u2*x)*x, 1/2*n*t1*t2*x - 1/2*n*t1*x^2 - 1/2*n*t2*x + 1/2*n*x^2 + 1/4*t1*x^2 - 1/4*x^3 + 1/4*t1*t2 - 1/2*t1*x - 1/4*t2*x + 1/2*x^2)\n",
    "])/(x*(x-1)*(x-t1)*(x-t2))\n",
    "\n",
    "Theta1 = matrix([\n",
    "    (-(t1 - 1)*(t2 - x)*u1*x, (t1*u1 + t1*x - u1*x - t1)*(t2 - x)),\n",
    "    (-(u1*x + t1 - u1 - x)*(t2 - x)*u1*x, (t1 - 1)*(t2 - x)*u1*x)\n",
    "])/(x*(x-1)*(x-t1)*(x-t2))\n",
    "\n",
    "Theta2 = matrix([\n",
    "    (-(t1 - x)*(t2 - 1)*u2*x, (t2*u2 + t2*x - u2*x - t2)*(t1 - x)),\n",
    "    (-(u2*x + t2 - u2 - x)*(t1 - x)*u2*x, (t1 - x)*(t2 - 1)*u2*x)\n",
    "])/(x*(x-1)*(x-t1)*(x-t2))"
   ]
  },
  {
   "cell_type": "markdown",
   "metadata": {
    "deletable": true,
    "editable": true
   },
   "source": [
    "# The involution $\\tau_*$\n",
    "\n",
    "We begin by computing the multisection $S_\\Sigma$. It is characterized as the unique (2,2)-curve in $\\mathbb P^1_x\\times\\mathbb P^1_\\zeta$ having vertical tangencies over $x=0,1,\\lambda,\\infty$."
   ]
  },
  {
   "cell_type": "code",
   "execution_count": 5,
   "metadata": {
    "collapsed": true,
    "deletable": true,
    "editable": true
   },
   "outputs": [],
   "source": [
    "coeff = var('a00 a01 a02 a10 a11 a12 a20 a21 a22')\n",
    "Q = a00 + a01*zeta + a02*zeta^2 + (a10 + a11*zeta + a12*zeta^2)*x + (a20 + a21*zeta + a22*zeta^2)*x^2"
   ]
  },
  {
   "cell_type": "code",
   "execution_count": 6,
   "metadata": {
    "collapsed": true,
    "deletable": true,
    "editable": true
   },
   "outputs": [],
   "source": [
    "Eqns = []\n",
    "\n",
    "poles = [0,1,t2]\n",
    "heights = [0, 1, u2]\n",
    "\n",
    "for i in range(3):\n",
    "    p = poles[i]\n",
    "    u = heights[i]\n",
    "    eq1 = Q.subs([x==poles[i], zeta==heights[i]])\n",
    "    eq2 = diff(Q, zeta).subs([x==poles[i], zeta==heights[i]])\n",
    "    Eqns.append(eq1.expand())\n",
    "    Eqns.append(eq2.expand())\n",
    "\n",
    "# conditions at x=infty\n",
    "Eqns.append(a22)\n",
    "Eqns.append(a21)\n",
    "\n",
    "# We can still have the freedom to multiply by a non-zer scalar factor\n",
    "Sols = solve(Eqns + [a20 == u2*(u2-1)], coeff)"
   ]
  },
  {
   "cell_type": "code",
   "execution_count": 7,
   "metadata": {
    "collapsed": false,
    "deletable": true,
    "editable": true
   },
   "outputs": [
    {
     "data": {
      "text/html": [
       "<html><script type=\"math/tex; mode=display\">\\newcommand{\\Bold}[1]{\\mathbf{#1}}u_{2}^{2} x^{2} - 2 \\, t_{2} u_{2} x \\zeta + t_{2} u_{2} \\zeta^{2} + t_{2} x \\zeta^{2} - u_{2} x \\zeta^{2} + t_{2} u_{2} x - u_{2}^{2} x - u_{2} x^{2} + 2 \\, u_{2} x \\zeta - t_{2} \\zeta^{2}</script></html>"
      ],
      "text/plain": [
       "u2^2*x^2 - 2*t2*u2*x*zeta + t2*u2*zeta^2 + t2*x*zeta^2 - u2*x*zeta^2 + t2*u2*x - u2^2*x - u2*x^2 + 2*u2*x*zeta - t2*zeta^2"
      ]
     },
     "execution_count": 7,
     "metadata": {},
     "output_type": "execute_result"
    }
   ],
   "source": [
    "S_Sigma = Q.subs(Sols[0]).expand()\n",
    "S_Sigma"
   ]
  },
  {
   "cell_type": "markdown",
   "metadata": {
    "deletable": true,
    "editable": true
   },
   "source": [
    "The curve $\\Sigma$ in the moduli space of parabolic bundles consists of those bundles for which the parabolic above `t1` is on the curve `S_Sigma`. These are precisely those parabolic structures fixed by $\\tau_*$."
   ]
  },
  {
   "cell_type": "code",
   "execution_count": 8,
   "metadata": {
    "collapsed": false,
    "deletable": true,
    "editable": true
   },
   "outputs": [
    {
     "data": {
      "text/html": [
       "<html><script type=\"math/tex; mode=display\">\\newcommand{\\Bold}[1]{\\mathbf{#1}}t_{1} t_{2} u_{1}^{2} - 2 \\, t_{1} t_{2} u_{1} u_{2} - t_{1} u_{1}^{2} u_{2} + t_{2} u_{1}^{2} u_{2} + t_{1}^{2} u_{2}^{2} - t_{2} u_{1}^{2} - t_{1}^{2} u_{2} + t_{1} t_{2} u_{2} + 2 \\, t_{1} u_{1} u_{2} - t_{1} u_{2}^{2}</script></html>"
      ],
      "text/plain": [
       "t1*t2*u1^2 - 2*t1*t2*u1*u2 - t1*u1^2*u2 + t2*u1^2*u2 + t1^2*u2^2 - t2*u1^2 - t1^2*u2 + t1*t2*u2 + 2*t1*u1*u2 - t1*u2^2"
      ]
     },
     "execution_count": 8,
     "metadata": {},
     "output_type": "execute_result"
    }
   ],
   "source": [
    "Sigma = S_Sigma.subs([x==t1, zeta==u1])\n",
    "Sigma"
   ]
  },
  {
   "cell_type": "markdown",
   "metadata": {
    "deletable": true,
    "editable": true
   },
   "source": [
    "Alternatively, we can think of $\\Sigma$ as follows:\n",
    "\n",
    "In the moduli space $\\mathbb{P}^1_{u_\\lambda} \\times \\mathbb{P}^1_{u_t}$, we have an involution $\\tau$. The set of fixed points of this involution is the conic $\\Sigma$. The projection $\\Sigma \\mapsto \\mathbb{P}^1_{u_\\lambda}$ ramifies over $u_\\lambda = 0,1,\\lambda,\\infty$. The height of the tangencies between $\\Sigma$ and the vertical lines ocurr at $0,1,t,\\infty$, respectively. Thus we can obtain an equation for $\\Sigma$ from the equation for $S_\\Sigma$ after substituting:\n",
    "\n",
    "* `u2 --> t1`, since the height of the tangency over $u_\\lambda=\\lambda$ is at $u_t=t$,\n",
    "* `x --> u2, zeta --> u1`, since these are the variables in the ambient space $\\mathbb{P}^1\\times\\mathbb{P}^1$."
   ]
  },
  {
   "cell_type": "code",
   "execution_count": 9,
   "metadata": {
    "collapsed": false,
    "deletable": true,
    "editable": true,
    "scrolled": true
   },
   "outputs": [
    {
     "data": {
      "text/html": [
       "<html><script type=\"math/tex; mode=display\">\\newcommand{\\Bold}[1]{\\mathbf{#1}}t_{1} t_{2} u_{1}^{2} - 2 \\, t_{1} t_{2} u_{1} u_{2} - t_{1} u_{1}^{2} u_{2} + t_{2} u_{1}^{2} u_{2} + t_{1}^{2} u_{2}^{2} - t_{2} u_{1}^{2} - t_{1}^{2} u_{2} + t_{1} t_{2} u_{2} + 2 \\, t_{1} u_{1} u_{2} - t_{1} u_{2}^{2}</script></html>"
      ],
      "text/plain": [
       "t1*t2*u1^2 - 2*t1*t2*u1*u2 - t1*u1^2*u2 + t2*u1^2*u2 + t1^2*u2^2 - t2*u1^2 - t1^2*u2 + t1*t2*u2 + 2*t1*u1*u2 - t1*u2^2"
      ]
     },
     "execution_count": 9,
     "metadata": {},
     "output_type": "execute_result"
    }
   ],
   "source": [
    "S_Sigma.subs(u2==t1).subs([x==u2, zeta==u1]).factor()"
   ]
  },
  {
   "cell_type": "markdown",
   "metadata": {
    "deletable": true,
    "editable": true
   },
   "source": [
    "### The special sections $S_\\Sigma^+$, $S_\\Sigma^-$ and the section $\\sigma_\\tau$"
   ]
  },
  {
   "cell_type": "code",
   "execution_count": 10,
   "metadata": {
    "collapsed": true,
    "deletable": true,
    "editable": true
   },
   "outputs": [],
   "source": [
    "Sols = solve(S_Sigma, zeta)  # symbolically solves in terms of a ramified function `sqrt_Delta`"
   ]
  },
  {
   "cell_type": "code",
   "execution_count": 11,
   "metadata": {
    "collapsed": true,
    "deletable": true,
    "editable": true
   },
   "outputs": [],
   "source": [
    "sqrt_Delta = (zeta.subs(Sols[1]) - zeta.subs(Sols[0])).simplify_rational().numerator()/2\n",
    "Delta = (sqrt_Delta^2).factor()\n",
    "alpha = (zeta.subs(Sols[1]).numerator() - sqrt_Delta).factor()\n",
    "beta = zeta.subs(Sols[1]).denominator().factor()"
   ]
  },
  {
   "cell_type": "code",
   "execution_count": 12,
   "metadata": {
    "collapsed": false,
    "deletable": true,
    "editable": true
   },
   "outputs": [
    {
     "data": {
      "text/latex": [
       "$$\\frac{{\\left(t_{2} - 1\\right)} u_{2} x + \\sqrt{{\\left(t_{2} - u_{2}\\right)} {\\left(t_{2} - x\\right)} {\\left(u_{2} - 1\\right)} u_{2} {\\left(x - 1\\right)} x}}{t_{2} u_{2} + t_{2} x - u_{2} x - t_{2}}$$"
      ],
      "text/plain": [
       "<IPython.core.display.Math object>"
      ]
     },
     "metadata": {},
     "output_type": "display_data"
    },
    {
     "name": "stdout",
     "output_type": "stream",
     "text": [
      "\n"
     ]
    },
    {
     "data": {
      "text/latex": [
       "$$\\frac{{\\left(t_{2} - 1\\right)} u_{2} x - \\sqrt{{\\left(t_{2} - u_{2}\\right)} {\\left(t_{2} - x\\right)} {\\left(u_{2} - 1\\right)} u_{2} {\\left(x - 1\\right)} x}}{t_{2} u_{2} + t_{2} x - u_{2} x - t_{2}}$$"
      ],
      "text/plain": [
       "<IPython.core.display.Math object>"
      ]
     },
     "metadata": {},
     "output_type": "display_data"
    }
   ],
   "source": [
    "printMath((alpha + sqrt(Delta))/beta)\n",
    "print ''\n",
    "printMath((alpha - sqrt(Delta))/beta)"
   ]
  },
  {
   "cell_type": "markdown",
   "metadata": {
    "deletable": true,
    "editable": true
   },
   "source": [
    "The section $\\sigma_\\tau$ is the rational part of the $S_\\Sigma^{\\pm}$.  \n",
    "It is the unique fractional linear transformation that takes the values $0,1,u_\\lambda$ at $0,1,\\lambda$, respectively."
   ]
  },
  {
   "cell_type": "code",
   "execution_count": 13,
   "metadata": {
    "collapsed": true,
    "deletable": true,
    "editable": true
   },
   "outputs": [],
   "source": [
    "sigma_tau = alpha/beta"
   ]
  },
  {
   "cell_type": "code",
   "execution_count": 14,
   "metadata": {
    "collapsed": false,
    "deletable": true,
    "editable": true,
    "scrolled": true
   },
   "outputs": [
    {
     "name": "stdout",
     "output_type": "stream",
     "text": [
      "0\n",
      "1\n",
      "u2\n"
     ]
    }
   ],
   "source": [
    "# Verify that sigma takes the right values:\n",
    "print sigma_tau.subs(x==0)\n",
    "print sigma_tau.subs(x==1).simplify_rational()\n",
    "print sigma_tau.subs(x==t2).simplify_rational()"
   ]
  },
  {
   "cell_type": "markdown",
   "metadata": {
    "deletable": true,
    "editable": true
   },
   "source": [
    "### Formula for $\\tau_*$\n",
    "\n",
    "Finally, we can compute the action of $\\tau_*$ in coordinates. On the generic fiber, it is the unique automorphism of the projective line that fixes both points on $S_\\Sigma$ and maps $\\sigma_\\tau(x)$ to $\\infty$.\n",
    "\n",
    "A simple argument shows that if $S_\\Sigma^\\pm = A \\pm \\sqrt{B}$, then $\\sigma_\\tau = \\frac{A\\zeta + B - A^2}{\\zeta - A}$."
   ]
  },
  {
   "cell_type": "code",
   "execution_count": 15,
   "metadata": {
    "collapsed": false,
    "deletable": true,
    "editable": true
   },
   "outputs": [
    {
     "data": {
      "text/html": [
       "<html><script type=\"math/tex; mode=display\">\\newcommand{\\Bold}[1]{\\mathbf{#1}}\\frac{{\\left(u_{2} x - t_{2} \\zeta + t_{2} - u_{2} - x + \\zeta\\right)} u_{2} x}{t_{2} u_{2} x - t_{2} u_{2} \\zeta - t_{2} x \\zeta + u_{2} x \\zeta - u_{2} x + t_{2} \\zeta}</script></html>"
      ],
      "text/plain": [
       "(u2*x - t2*zeta + t2 - u2 - x + zeta)*u2*x/(t2*u2*x - t2*u2*zeta - t2*x*zeta + u2*x*zeta - u2*x + t2*zeta)"
      ]
     },
     "execution_count": 15,
     "metadata": {},
     "output_type": "execute_result"
    }
   ],
   "source": [
    "A = alpha/beta\n",
    "B = Delta/beta^2\n",
    "tau_star = ((A*zeta + B - A^2)/(zeta - A)).simplify_rational().factor()\n",
    "\n",
    "tau_star"
   ]
  },
  {
   "cell_type": "markdown",
   "metadata": {
    "deletable": true,
    "editable": true
   },
   "source": [
    "### $\\tau$ on the moduli space of parabolic bundles\n",
    "\n",
    "On the moduli space, $\\tau$ acts as $(u_t, u_\\lambda) \\mapsto (\\bar{u}_t, u_\\lambda)$. The formula for $\\bar{u}_t$ is given by:"
   ]
  },
  {
   "cell_type": "code",
   "execution_count": 16,
   "metadata": {
    "collapsed": true,
    "deletable": true,
    "editable": true
   },
   "outputs": [],
   "source": [
    "u1_bar = tau_star.subs([x==t1, zeta==u1])"
   ]
  },
  {
   "cell_type": "markdown",
   "metadata": {
    "deletable": true,
    "editable": true
   },
   "source": [
    "# The action of $\\tau_*$ on the Universal Family "
   ]
  },
  {
   "cell_type": "markdown",
   "metadata": {
    "deletable": true,
    "editable": true
   },
   "source": [
    "### Tangencies with $\\sigma_\\infty$ (ie the *apparent map*)"
   ]
  },
  {
   "cell_type": "code",
   "execution_count": 17,
   "metadata": {
    "collapsed": true,
    "deletable": true,
    "editable": true
   },
   "outputs": [],
   "source": [
    "# Copied from Loray Saito\n",
    "APPinfty = (n+1)/2*(x-t1)*(x-t2) + \\\n",
    "            c1*((u1-t1)*x + (1-u1)*t1)*(x-t2) + \\\n",
    "            c2*((u2-t2)*x + (1-u2)*t2)*(x-t1)"
   ]
  },
  {
   "cell_type": "code",
   "execution_count": 18,
   "metadata": {
    "collapsed": true,
    "deletable": true,
    "editable": true
   },
   "outputs": [],
   "source": [
    "a0 = APPinfty.subs(x==0)\n",
    "a1 = diff(APPinfty, x).subs(x==0)\n",
    "a2 = diff(diff(APPinfty/2, x), x)"
   ]
  },
  {
   "cell_type": "markdown",
   "metadata": {
    "deletable": true,
    "editable": true
   },
   "source": [
    "### Tangencies with $\\sigma_\\tau$"
   ]
  },
  {
   "cell_type": "code",
   "execution_count": 19,
   "metadata": {
    "collapsed": false,
    "deletable": true,
    "editable": true
   },
   "outputs": [
    {
     "name": "stdout",
     "output_type": "stream",
     "text": [
      "4*c1*t1*t2^2*u1*u2^2 - 4*c1*t2^2*u1^2*u2^2 + 4*c2*t1*t2^2*u2^3 - 4*c2*t1*t2*u2^4 + 8*c1*t1*t2^2*u1*u2*x - 8*c1*t2^2*u1^2*u2*x - 4*c1*t1*t2^2*u2^2*x + 4*c2*t1*t2^2*u2^2*x - 8*c1*t1*t2*u1*u2^2*x + 4*c1*t2^2*u1*u2^2*x + 8*c1*t2*u1^2*u2^2*x - 8*c2*t1*t2*u2^3*x - 4*c2*t2^2*u2^3*x + 4*c2*t1*u2^4*x + 4*c2*t2*u2^4*x - 4*c1*t2^2*u1^2*x^2 + 8*c1*t2*u1^2*u2*x^2 - 4*c2*t2^2*u2^2*x^2 - 4*c1*u1^2*u2^2*x^2 + 8*c2*t2*u2^3*x^2 - 4*c2*u2^4*x^2 - 8*c1*t1*t2^2*u1*u2 + 8*c1*t2^2*u1^2*u2 - 8*c2*t1*t2^2*u2^2 + 4*nu*t1*t2^2*u2^2 - 8*nu*t2^2*u1*u2^2 + 8*c2*t1*t2*u2^3 - 4*c1*t1*t2^2*u1*x + 8*c1*t2^2*u1^2*x - 4*c2*t1*t2^2*u2*x + 8*nu*t1*t2^2*u2*x - 16*nu*t2^2*u1*u2*x - 8*c1*t2*u1^2*u2*x + 8*c1*t1*t2*u2^2*x + 8*c2*t1*t2*u2^2*x - 8*nu*t1*t2*u2^2*x + 8*c2*t2^2*u2^2*x + 4*nu*t2^2*u2^2*x + 4*c1*t1*u1*u2^2*x - 8*c1*t2*u1*u2^2*x + 16*nu*t2*u1*u2^2*x - 4*c2*t1*u2^3*x - 8*c2*t2*u2^3*x + 4*c1*t2^2*u1*x^2 - 8*nu*t2^2*u1*x^2 + 4*c2*t2^2*u2*x^2 - 8*c1*t2*u1*u2*x^2 + 16*nu*t2*u1*u2*x^2 - 8*c2*t2*u2^2*x^2 + 4*c1*u1*u2^2*x^2 - 8*nu*u1*u2^2*x^2 + 4*c2*u2^3*x^2 + 4*c1*t1*t2^2*u1 - 4*c1*t2^2*u1^2 + 4*c2*t1*t2^2*u2 - 8*nu*t1*t2^2*u2 + 16*nu*t2^2*u1*u2 - 4*c2*t1*t2*u2^2 + 2*t1*t2^2*u2^2 - 2*t1*t2*u2^3 - 4*nu*t1*t2^2*x - 4*c1*t2^2*u1*x + 16*nu*t2^2*u1*x - 4*c2*t2^2*u2*x + 8*c1*t2*u1*u2*x - 16*nu*t2*u1*u2*x - 4*c1*t1*u2^2*x + 4*nu*t1*u2^2*x + 4*c2*t2*u2^2*x - 8*nu*t2*u2^2*x - 2*t1*t2*u2^2*x - 2*t2^2*u2^2*x + 2*t1*u2^3*x + 2*t2*u2^3*x + 4*nu*t2^2*x^2 - 8*nu*t2*u2*x^2 + 4*nu*u2^2*x^2 + 2*t2*u2^2*x^2 - 2*u2^3*x^2 + 4*nu*t1*t2^2 - 8*nu*t2^2*u1 - 2*t1*t2^2*u2 + 2*t1*t2*u2^2 - 4*nu*t2^2*x + 8*nu*t2*u2*x + 2*t1*t2*u2*x + 2*t2^2*u2*x - 2*t1*u2^2*x - 2*t2*u2^2*x - 2*t2*u2*x^2 + 2*u2^2*x^2\n"
     ]
    }
   ],
   "source": [
    "Nabla = Nabla0 + c1*Theta1 + c2*Theta2\n",
    "\n",
    "sigma0 = vector([1, sigma_tau])\n",
    "sigma1 = diff(sigma0, x) + Nabla*sigma0\n",
    "\n",
    "APPsigma = matrix([sigma0, sigma1]).determinant().numerator().factor()\n",
    "\n",
    "print APPsigma"
   ]
  },
  {
   "cell_type": "markdown",
   "metadata": {
    "deletable": true,
    "editable": true
   },
   "source": [
    "### Action of $\\tau_*$ on the coefficients $(c_1,c_2)$\n",
    "\n",
    "We seek for a matrix T with the following properties:\n",
    "\n",
    "If $\\nabla = \\nabla_0(u) + c_1\\Theta_1(u) + c_2\\Theta_2(u)$, then $\\tau^*\\nabla = \\nabla_0(\\bar u) + k_1\\Theta_1(\\bar u) + k_2\\Theta_2(\\bar u)$,\n",
    "\n",
    "where $(1, k_1, k_2) := T\\cdot(1, c_1, c_2)^{\\operatorname{T}}$."
   ]
  },
  {
   "cell_type": "code",
   "execution_count": 20,
   "metadata": {
    "collapsed": true,
    "deletable": true,
    "editable": true
   },
   "outputs": [],
   "source": [
    "var('T10 T11 T12 T20 T21 T22')\n",
    "T = matrix([(1, 0 ,0), (T10, T11, T12), (T20, T21, T22)])\n",
    "\n",
    "k0, k1, k2 = list(T*vector([1, c1, c2]))\n",
    "\n",
    "new_APP = APPsigma.subs(u1==u1_bar).subs([c1==k1, c2==k2])  # This should have the same zeros as APP\n",
    "\n",
    "s0 = new_APP.subs(x==0)\n",
    "s1 = diff(new_APP, x).subs(x==0)\n",
    "s2 = diff(diff(new_APP/2, x), x)"
   ]
  },
  {
   "cell_type": "code",
   "execution_count": 21,
   "metadata": {
    "collapsed": true,
    "deletable": true,
    "editable": true,
    "scrolled": true
   },
   "outputs": [],
   "source": [
    "# Lift denominators to make the variables a_i and s_i polynomial\n",
    "denom1 = a2.denominator()\n",
    "denom2 = s2.denominator()\n",
    "\n",
    "a0 = (a0*denom1).simplify_rational()\n",
    "a1 = (a1*denom1).simplify_rational()\n",
    "a2 = (a2*denom1).simplify_rational()\n",
    "\n",
    "s0 = (s0*denom2).simplify_rational()\n",
    "s1 = (s1*denom2).simplify_rational()\n",
    "s2 = (s2*denom2).simplify_rational()\n",
    "\n",
    "Eqn1 = s2*a1 - a2*s1\n",
    "Eqn2 = s2*a0 - a2*s0"
   ]
  },
  {
   "cell_type": "markdown",
   "metadata": {
    "deletable": true,
    "editable": true
   },
   "source": [
    "I want the above equations to be zero **for any** value of $c_1,c_2$.  \n",
    "The expressions `Eqn1` and `Eqn2` are quadratic in $c_1,c_2$, but we'll truncate the quadratic part first, solve the system and then show that the solutions found are in fact the general solution."
   ]
  },
  {
   "cell_type": "code",
   "execution_count": 22,
   "metadata": {
    "collapsed": true,
    "deletable": true,
    "editable": true
   },
   "outputs": [],
   "source": [
    "# Linear terms\n",
    "\n",
    "E1_00 = Eqn1.subs([c1==0, c2==0])\n",
    "E1_10 = diff(Eqn1, c1).subs([c1==0, c2==0])\n",
    "E1_01 = diff(Eqn1, c2).subs([c1==0, c2==0])\n",
    "E2_00 = Eqn2.subs([c1==0, c2==0])\n",
    "E2_10 = diff(Eqn2, c1).subs([c1==0, c2==0])\n",
    "E2_01 = diff(Eqn2, c2).subs([c1==0, c2==0])\n",
    "\n",
    "# Solve column by column\n",
    "S0 = solve([E1_00, E2_00], [T10, T20])\n",
    "S1 = solve([E1_10.subs(S0), E2_10.subs(S0)], [T11, T21])\n",
    "S2 = solve([E1_01.subs(S0).subs(S1), E2_01.subs(S0).subs(S1)], [T12, T22])"
   ]
  },
  {
   "cell_type": "code",
   "execution_count": 23,
   "metadata": {
    "collapsed": false,
    "deletable": true,
    "editable": true
   },
   "outputs": [
    {
     "name": "stdout",
     "output_type": "stream",
     "text": [
      "0\n",
      "0\n"
     ]
    }
   ],
   "source": [
    "# Verify that we got a complete solution\n",
    "print Eqn1.subs(S0).subs(S1).subs(S2).simplify_rational()\n",
    "print Eqn2.subs(S0).subs(S1).subs(S2).simplify_rational()"
   ]
  },
  {
   "cell_type": "markdown",
   "metadata": {
    "deletable": true,
    "editable": true
   },
   "source": [
    "Finally, we get the matrix representing the change of basis dictated by $\\tau$:"
   ]
  },
  {
   "cell_type": "code",
   "execution_count": 24,
   "metadata": {
    "collapsed": true,
    "deletable": true,
    "editable": true
   },
   "outputs": [],
   "source": [
    "TT = T.subs(S0).subs(S1).subs(S2).simplify_rational().factor()"
   ]
  },
  {
   "cell_type": "code",
   "execution_count": 25,
   "metadata": {
    "collapsed": false,
    "deletable": true,
    "editable": true,
    "scrolled": true
   },
   "outputs": [
    {
     "data": {
      "text/html": [
       "<html><script type=\"math/tex; mode=display\">\\newcommand{\\Bold}[1]{\\mathbf{#1}}\\left(\\begin{array}{rrr}\n",
       "1 & 0 & 0 \\\\\n",
       "\\frac{2 \\, {\\left(t_{1} t_{2} u_{1} - t_{1} t_{2} u_{2} - t_{1} u_{1} u_{2} + t_{2} u_{1} u_{2} - t_{2} u_{1} + t_{1} u_{2}\\right)} {\\left(t_{1} t_{2} - t_{1} u_{2} + t_{2} u_{2} - t_{2}\\right)} \\nu}{{\\left(t_{1} - t_{2}\\right)} {\\left(t_{1} - 1\\right)} t_{1} {\\left(t_{2} - u_{2}\\right)} {\\left(u_{2} - 1\\right)} u_{2}} & \\frac{{\\left(t_{1} t_{2} u_{1} - t_{1} t_{2} u_{2} - t_{1} u_{1} u_{2} + t_{2} u_{1} u_{2} - t_{2} u_{1} + t_{1} u_{2}\\right)}^{2}}{{\\left(t_{1} - t_{2}\\right)} {\\left(t_{1} - 1\\right)} t_{1} {\\left(t_{2} - u_{2}\\right)} {\\left(u_{2} - 1\\right)} u_{2}} & 0 \\\\\n",
       "-\\frac{{\\left(2 \\, t_{2}^{2} u_{1} - 2 \\, t_{1} t_{2} u_{2} + t_{1} u_{2}^{2} - t_{2} u_{2}^{2} + t_{1} t_{2} - t_{2}^{2} - 2 \\, t_{2} u_{1} + 2 \\, t_{2} u_{2}\\right)} \\nu}{{\\left(t_{1} - t_{2}\\right)} {\\left(t_{2} - u_{2}\\right)} {\\left(u_{2} - 1\\right)} u_{2}} & -\\frac{t_{2}^{2} u_{1}^{2} - 2 \\, t_{1} t_{2} u_{1} u_{2} + t_{1} t_{2} u_{2}^{2} + t_{1} u_{1} u_{2}^{2} - t_{2} u_{1} u_{2}^{2} + t_{1} t_{2} u_{1} - t_{2}^{2} u_{1} - t_{2} u_{1}^{2} + 2 \\, t_{2} u_{1} u_{2} - t_{1} u_{2}^{2}}{{\\left(t_{1} - t_{2}\\right)} {\\left(t_{2} - u_{2}\\right)} {\\left(u_{2} - 1\\right)} u_{2}} & 1\n",
       "\\end{array}\\right)</script></html>"
      ],
      "text/plain": [
       "[                                                                                                                                                          1                                                                                                                                                           0                                                                                                                                                           0]\n",
       "[                2*(t1*t2*u1 - t1*t2*u2 - t1*u1*u2 + t2*u1*u2 - t2*u1 + t1*u2)*(t1*t2 - t1*u2 + t2*u2 - t2)*nu/((t1 - t2)*(t1 - 1)*t1*(t2 - u2)*(u2 - 1)*u2)                                                 (t1*t2*u1 - t1*t2*u2 - t1*u1*u2 + t2*u1*u2 - t2*u1 + t1*u2)^2/((t1 - t2)*(t1 - 1)*t1*(t2 - u2)*(u2 - 1)*u2)                                                                                                                                                           0]\n",
       "[                                      -(2*t2^2*u1 - 2*t1*t2*u2 + t1*u2^2 - t2*u2^2 + t1*t2 - t2^2 - 2*t2*u1 + 2*t2*u2)*nu/((t1 - t2)*(t2 - u2)*(u2 - 1)*u2) -(t2^2*u1^2 - 2*t1*t2*u1*u2 + t1*t2*u2^2 + t1*u1*u2^2 - t2*u1*u2^2 + t1*t2*u1 - t2^2*u1 - t2*u1^2 + 2*t2*u1*u2 - t1*u2^2)/((t1 - t2)*(t2 - u2)*(u2 - 1)*u2)                                                                                                                                                           1]"
      ]
     },
     "execution_count": 25,
     "metadata": {},
     "output_type": "execute_result"
    }
   ],
   "source": [
    "TT"
   ]
  },
  {
   "cell_type": "code",
   "execution_count": 26,
   "metadata": {
    "collapsed": false,
    "deletable": true,
    "editable": true,
    "scrolled": true
   },
   "outputs": [
    {
     "name": "stdout",
     "output_type": "stream",
     "text": [
      "[1 0 0]\n",
      "[0 1 0]\n",
      "[0 0 1]\n"
     ]
    }
   ],
   "source": [
    "# Since tau is an involution, the following should be the identity matrix\n",
    "print (TT * (TT.subs(u1==u1_bar))).simplify_rational().factor()"
   ]
  },
  {
   "cell_type": "markdown",
   "metadata": {
    "deletable": true,
    "editable": true
   },
   "source": [
    "### Locus where `T` has -1 as eigenvalue"
   ]
  },
  {
   "cell_type": "code",
   "execution_count": 27,
   "metadata": {
    "collapsed": false,
    "deletable": true,
    "editable": true
   },
   "outputs": [
    {
     "data": {
      "text/html": [
       "<html><script type=\"math/tex; mode=display\">\\newcommand{\\Bold}[1]{\\mathbf{#1}}-\\frac{{\\left(t_{1} t_{2} u_{1}^{2} - 2 \\, t_{1} t_{2} u_{1} u_{2} - t_{1} u_{1}^{2} u_{2} + t_{2} u_{1}^{2} u_{2} + t_{1}^{2} u_{2}^{2} - t_{2} u_{1}^{2} - t_{1}^{2} u_{2} + t_{1} t_{2} u_{2} + 2 \\, t_{1} u_{1} u_{2} - t_{1} u_{2}^{2}\\right)} {\\left(t_{1} t_{2} - t_{1} u_{2} + t_{2} u_{2} - t_{2}\\right)}}{{\\left(t_{1} - t_{2}\\right)} {\\left(t_{1} - 1\\right)} t_{1} {\\left(t_{2} - u_{2}\\right)} {\\left(u_{2} - 1\\right)} u_{2}}</script></html>"
      ],
      "text/plain": [
       "-(t1*t2*u1^2 - 2*t1*t2*u1*u2 - t1*u1^2*u2 + t2*u1^2*u2 + t1^2*u2^2 - t2*u1^2 - t1^2*u2 + t1*t2*u2 + 2*t1*u1*u2 - t1*u2^2)*(t1*t2 - t1*u2 + t2*u2 - t2)/((t1 - t2)*(t1 - 1)*t1*(t2 - u2)*(u2 - 1)*u2)"
      ]
     },
     "execution_count": 27,
     "metadata": {},
     "output_type": "execute_result"
    }
   ],
   "source": [
    "(-1 - TT[1,1]).simplify_rational().factor()  # numerator = Sigma * Lambda"
   ]
  },
  {
   "cell_type": "markdown",
   "metadata": {},
   "source": [
    "## The action of $\\tau$ on Higgs bundles\n",
    "\n",
    "The moduli space of parabolic Higgs bundles is identified with the cotangent space of $\\operatorname{Bun}(\\mathbb{P}^1, D)$. In fact, the variables are such that under this identification we have\n",
    "$$ du_1 \\mapsto \\Theta_1, \\quad du_2 \\mapsto \\Theta_2. $$\n",
    "\n",
    "The involution $\\hat\\tau$ on $\\operatorname{Higgs}(\\mathbb{P}^1, D)$ corresponds precisely to $d\\tau \\colon T^*\\operatorname{Bun}(\\mathbb{P}^1, D) \\to T^*\\operatorname{Bun}(\\mathbb{P}^1, D)$."
   ]
  },
  {
   "cell_type": "code",
   "execution_count": 28,
   "metadata": {
    "collapsed": false
   },
   "outputs": [
    {
     "data": {
      "text/html": [
       "<html><script type=\"math/tex; mode=display\">\\newcommand{\\Bold}[1]{\\mathbf{#1}}\\left(\\begin{array}{rr}\n",
       "\\frac{{\\left(t_{1} t_{2} u_{1} - t_{1} t_{2} u_{2} - t_{1} u_{1} u_{2} + t_{2} u_{1} u_{2} - t_{2} u_{1} + t_{1} u_{2}\\right)}^{2}}{{\\left(t_{1} - t_{2}\\right)} {\\left(t_{1} - 1\\right)} t_{1} {\\left(t_{2} - u_{2}\\right)} {\\left(u_{2} - 1\\right)} u_{2}} & 0 \\\\\n",
       "-\\frac{t_{2}^{2} u_{1}^{2} - 2 \\, t_{1} t_{2} u_{1} u_{2} + t_{1} t_{2} u_{2}^{2} + t_{1} u_{1} u_{2}^{2} - t_{2} u_{1} u_{2}^{2} + t_{1} t_{2} u_{1} - t_{2}^{2} u_{1} - t_{2} u_{1}^{2} + 2 \\, t_{2} u_{1} u_{2} - t_{1} u_{2}^{2}}{{\\left(t_{1} - t_{2}\\right)} {\\left(t_{2} - u_{2}\\right)} {\\left(u_{2} - 1\\right)} u_{2}} & 1\n",
       "\\end{array}\\right)</script></html>"
      ],
      "text/plain": [
       "[                                                (t1*t2*u1 - t1*t2*u2 - t1*u1*u2 + t2*u1*u2 - t2*u1 + t1*u2)^2/((t1 - t2)*(t1 - 1)*t1*(t2 - u2)*(u2 - 1)*u2)                                                                                                                                                           0]\n",
       "[-(t2^2*u1^2 - 2*t1*t2*u1*u2 + t1*t2*u2^2 + t1*u1*u2^2 - t2*u1*u2^2 + t1*t2*u1 - t2^2*u1 - t2*u1^2 + 2*t2*u1*u2 - t1*u2^2)/((t1 - t2)*(t2 - u2)*(u2 - 1)*u2)                                                                                                                                                           1]"
      ]
     },
     "execution_count": 28,
     "metadata": {},
     "output_type": "execute_result"
    }
   ],
   "source": [
    "dtau = matrix([\n",
    "    (diff(u1_bar, u1), diff(u2, u1)),\n",
    "    (diff(u1_bar, u2), diff(u2, u2)),\n",
    "])\n",
    "\n",
    "dtau.subs(u1==u1_bar).simplify_rational().factor()"
   ]
  },
  {
   "cell_type": "markdown",
   "metadata": {
    "deletable": true,
    "editable": true
   },
   "source": [
    "# Base change matrix\n",
    "\n",
    "Let us compute the matrix `B` which appears in 'Universal Family Invariant' to verify we got the same result."
   ]
  },
  {
   "cell_type": "code",
   "execution_count": 38,
   "metadata": {
    "collapsed": true,
    "deletable": true,
    "editable": true
   },
   "outputs": [],
   "source": [
    "# The \"base change matrix\" B, going from the standard basis Nabla_0, Theta_i to the equivariant versions \\hat Nabla_0, \\hat Theta_i\n",
    "B_inv = (identity_matrix(3) + TT.subs(u1==u1_bar))/2\n",
    "B = ~B_inv.simplify_rational().factor()"
   ]
  },
  {
   "cell_type": "code",
   "execution_count": 28,
   "metadata": {
    "collapsed": false,
    "deletable": true,
    "editable": true
   },
   "outputs": [
    {
     "name": "stdout",
     "output_type": "stream",
     "text": [
      "[                                                                                                                                                                                                                                                                                                                                                                                                                                                                                                                                                                                                                      1                                                                                                                                                                                                                                                                                                                                                                                                                                                                                                                                                                                                                       0                                                                                                                                                                                                                                                                                                                                                                                                                                                                                                                                                                                                                       0]\n",
      "[                                                                                                                                                                                                                                                                                                                                                                                                                              2*(t1*t2*u1 - t1*t2*u2 - t1*u1*u2 + t2*u1*u2 - t2*u1 + t1*u2)*nu/(t1*t2*u1^2 - 2*t1*t2*u1*u2 - t1*u1^2*u2 + t2*u1^2*u2 + t1^2*u2^2 - t2*u1^2 - t1^2*u2 + t1*t2*u2 + 2*t1*u1*u2 - t1*u2^2)                                                                                                                                                                                                                                                                                                                                                                                                 2*(t1*t2*u1 - t1*t2*u2 - t1*u1*u2 + t2*u1*u2 - t2*u1 + t1*u2)^2/((t1*t2*u1^2 - 2*t1*t2*u1*u2 - t1*u1^2*u2 + t2*u1^2*u2 + t1^2*u2^2 - t2*u1^2 - t1^2*u2 + t1*t2*u2 + 2*t1*u1*u2 - t1*u2^2)*(t1*t2 - t1*u2 + t2*u2 - t2))                                                                                                                                                                                                                                                                                                                                                                                                                                                                                                                                                                                                                       0]\n",
      "[-(t2^2*u1^2 - 2*t1*t2*u1*u2 + t1*t2*u2^2 + t1*u1*u2^2 - t2*u1*u2^2 + t1*t2*u1 - t2^2*u1 - t2*u1^2 + 2*t2*u1*u2 - t1*u2^2)*nu*(t1 - 1)*t1/((t1*t2*u1^2 - 2*t1*t2*u1*u2 - t1*u1^2*u2 + t2*u1^2*u2 + t1^2*u2^2 - t2*u1^2 - t1^2*u2 + t1*t2*u2 + 2*t1*u1*u2 - t1*u2^2)*(t1*t2*u1 - t1*t2*u2 - t1*u1*u2 + t2*u1*u2 - t2*u1 + t1*u2)) - 1/2*(2*t1*t2^2*u1*u2 - 3*t1*t2*u1*u2^2 + t1*t2*u2^3 + t1*u1*u2^3 - t2*u1*u2^3 - t1*t2^2*u1 - t1*t2^2*u2 + t1*t2*u1*u2 - t2^2*u1*u2 + 3*t2*u1*u2^2 - t1*u2^3 + t2^2*u1 + t1*t2*u2 - 2*t2*u1*u2)*nu/((t1*t2*u1 - t1*t2*u2 - t1*u1*u2 + t2*u1*u2 - t2*u1 + t1*u2)*(t2 - u2)*(u2 - 1)*u2)                                                                                                                                                                                                                                                                                                                           -(t2^2*u1^2 - 2*t1*t2*u1*u2 + t1*t2*u2^2 + t1*u1*u2^2 - t2*u1*u2^2 + t1*t2*u1 - t2^2*u1 - t2*u1^2 + 2*t2*u1*u2 - t1*u2^2)*(t1 - 1)*t1/((t1*t2*u1^2 - 2*t1*t2*u1*u2 - t1*u1^2*u2 + t2*u1^2*u2 + t1^2*u2^2 - t2*u1^2 - t1^2*u2 + t1*t2*u2 + 2*t1*u1*u2 - t1*u2^2)*(t1*t2 - t1*u2 + t2*u2 - t2))                                                                                                                                                                                                                                                                                                                                                                                                                                                                                                                                                                                                                       1]\n"
     ]
    }
   ],
   "source": [
    "print B"
   ]
  },
  {
   "cell_type": "markdown",
   "metadata": {
    "deletable": true,
    "editable": true
   },
   "source": [
    "### Determinant of `B`"
   ]
  },
  {
   "cell_type": "code",
   "execution_count": 29,
   "metadata": {
    "collapsed": false,
    "deletable": true,
    "editable": true
   },
   "outputs": [
    {
     "data": {
      "text/html": [
       "<html><script type=\"math/tex; mode=display\">\\newcommand{\\Bold}[1]{\\mathbf{#1}}\\frac{2 \\, {\\left(t_{1} t_{2} u_{1} - t_{1} t_{2} u_{2} - t_{1} u_{1} u_{2} + t_{2} u_{1} u_{2} - t_{2} u_{1} + t_{1} u_{2}\\right)}^{2}}{{\\left(t_{1} t_{2} u_{1}^{2} - 2 \\, t_{1} t_{2} u_{1} u_{2} - t_{1} u_{1}^{2} u_{2} + t_{2} u_{1}^{2} u_{2} + t_{1}^{2} u_{2}^{2} - t_{2} u_{1}^{2} - t_{1}^{2} u_{2} + t_{1} t_{2} u_{2} + 2 \\, t_{1} u_{1} u_{2} - t_{1} u_{2}^{2}\\right)} {\\left(t_{1} t_{2} - t_{1} u_{2} + t_{2} u_{2} - t_{2}\\right)}}</script></html>"
      ],
      "text/plain": [
       "2*(t1*t2*u1 - t1*t2*u2 - t1*u1*u2 + t2*u1*u2 - t2*u1 + t1*u2)^2/((t1*t2*u1^2 - 2*t1*t2*u1*u2 - t1*u1^2*u2 + t2*u1^2*u2 + t1^2*u2^2 - t2*u1^2 - t1^2*u2 + t1*t2*u2 + 2*t1*u1*u2 - t1*u2^2)*(t1*t2 - t1*u2 + t2*u2 - t2))"
      ]
     },
     "execution_count": 29,
     "metadata": {},
     "output_type": "execute_result"
    }
   ],
   "source": [
    "B.determinant().simplify_rational().factor()  # conic Pi / (ramification_locus Sigma * tangent line Lambda)"
   ]
  },
  {
   "cell_type": "markdown",
   "metadata": {
    "deletable": true,
    "editable": true
   },
   "source": [
    "# The 2-form $\\omega = dc_1\\wedge du_1 + dc_2\\wedge du_2$\n",
    "\n",
    "We want to verify that the 2-form $\\omega$ is invariant under the involution $\\tau_*:$\n",
    "\n",
    "$$ \\tau_* \\;\\colon\\; (u_1,u_2) \\mapsto (\\bar{u}_1, u2), \\quad (c_1, c_2) \\mapsto (\\bar{c}_1, \\bar{c}_2), $$\n",
    "\n",
    "where $(1, \\bar{c}_1, \\bar{c}_2) = \\mathrm{T}(1,c_1,c_2)$.\n",
    "\n",
    "Let us begin with $\\bar{\\omega} = d\\bar{c}_1\\wedge d\\bar{u}_1 + d\\bar{c}_2\\wedge du_2$ and pull it back with $\\tau$."
   ]
  },
  {
   "cell_type": "code",
   "execution_count": 30,
   "metadata": {
    "collapsed": true,
    "deletable": true,
    "editable": true
   },
   "outputs": [],
   "source": [
    "c1_bar = (TT*vector([1, c1, c2]))[1].simplify_rational()\n",
    "c2_bar = (TT*vector([1, c1, c2]))[2].simplify_rational()"
   ]
  },
  {
   "cell_type": "code",
   "execution_count": 31,
   "metadata": {
    "collapsed": true,
    "deletable": true,
    "editable": true
   },
   "outputs": [],
   "source": [
    "# Compute dc1_bar\n",
    "\n",
    "# Save differential as a dictionary:\n",
    "dc1_bar = {}\n",
    "dc1_bar['dc1'] = diff(c1_bar, c1).simplify_rational().factor()\n",
    "dc1_bar['dc2'] = diff(c1_bar, c2).simplify_rational()           # = 0\n",
    "dc1_bar['du1'] = diff(c1_bar, u1).simplify_rational().factor()\n",
    "dc1_bar['du2'] = diff(c1_bar, u2).simplify_rational().factor()"
   ]
  },
  {
   "cell_type": "code",
   "execution_count": 32,
   "metadata": {
    "collapsed": true,
    "deletable": true,
    "editable": true
   },
   "outputs": [],
   "source": [
    "# Compute dc2_bar\n",
    "\n",
    "# Save differential as a dictionary:\n",
    "dc2_bar = {}\n",
    "dc2_bar['dc1'] = diff(c2_bar, c1).simplify_rational().factor()\n",
    "dc2_bar['dc2'] = diff(c2_bar, c2).simplify_rational().factor()\n",
    "dc2_bar['du1'] = diff(c2_bar, u1).simplify_rational().factor()\n",
    "dc2_bar['du2'] = diff(c2_bar, u2).simplify_rational().factor()"
   ]
  },
  {
   "cell_type": "code",
   "execution_count": 33,
   "metadata": {
    "collapsed": true,
    "deletable": true,
    "editable": true
   },
   "outputs": [],
   "source": [
    "# Compute du1_bar\n",
    "\n",
    "# Save differential as a dictionary:\n",
    "du1_bar = {}\n",
    "du1_bar['dc1'] = 0\n",
    "du1_bar['dc2'] = 0\n",
    "du1_bar['du1'] = diff(u1_bar, u1).simplify_rational().factor()\n",
    "du1_bar['du2'] = diff(u1_bar, u2).simplify_rational().factor()"
   ]
  },
  {
   "cell_type": "code",
   "execution_count": 34,
   "metadata": {
    "collapsed": true,
    "deletable": true,
    "editable": true
   },
   "outputs": [],
   "source": [
    "# Save du2 as a dictionary:\n",
    "du2 = {'dc1': 0, 'dc2': 0, 'du1': 0, 'du2': 1}"
   ]
  },
  {
   "cell_type": "code",
   "execution_count": 35,
   "metadata": {
    "collapsed": true,
    "deletable": true,
    "editable": true
   },
   "outputs": [],
   "source": [
    "keys = ['dc1^du1', 'dc1^du2', 'dc2^du1', 'dc2^du2', 'dc1^dc2', 'du1^du2']\n",
    "omega = {key: 0 for key in keys}\n",
    "\n",
    "# Coming from dc1_bar^du1_bar\n",
    "omega['dc1^du1'] += dc1_bar['dc1'] * du1_bar['du1']\n",
    "omega['dc1^du2'] += dc1_bar['dc1'] * du1_bar['du2']\n",
    "omega['dc2^du1'] += dc1_bar['dc2'] * du1_bar['du1']\n",
    "omega['dc2^du2'] += dc1_bar['dc2'] * du1_bar['du2']\n",
    "omega['du1^du2'] += dc1_bar['du1'] * du1_bar['du2']\n",
    "omega['du1^du2'] += - dc1_bar['du2'] * du1_bar['du1']\n",
    "\n",
    "# Coming from dc2_bar^du2\n",
    "omega['dc1^du2'] += dc2_bar['dc1'] * du2['du2']\n",
    "omega['dc2^du2'] += dc2_bar['dc2'] * du2['du2']\n",
    "omega['du1^du2'] += dc2_bar['du1'] * du2['du2']"
   ]
  },
  {
   "cell_type": "code",
   "execution_count": 36,
   "metadata": {
    "collapsed": true,
    "deletable": true,
    "editable": true
   },
   "outputs": [],
   "source": [
    "# Simplify the above terms:\n",
    "for key in keys:\n",
    "    try:\n",
    "        omega[key] = omega[key].simplify_rational()\n",
    "    except:\n",
    "        next"
   ]
  },
  {
   "cell_type": "code",
   "execution_count": 37,
   "metadata": {
    "collapsed": false,
    "deletable": true,
    "editable": true,
    "scrolled": true
   },
   "outputs": [
    {
     "name": "stdout",
     "output_type": "stream",
     "text": [
      "dc1^du1 term:\n",
      "1 \n",
      "\n",
      "dc1^du2 term:\n",
      "0 \n",
      "\n",
      "dc2^du1 term:\n",
      "0 \n",
      "\n",
      "dc2^du2 term:\n",
      "1 \n",
      "\n",
      "dc1^dc2 term:\n",
      "0 \n",
      "\n",
      "du1^du2 term:\n",
      "0 \n",
      "\n"
     ]
    }
   ],
   "source": [
    "# Print the pullback of omega by tau\n",
    "for key in keys:\n",
    "    print '{} term:\\n'.format(key), omega[key], '\\n'"
   ]
  },
  {
   "cell_type": "markdown",
   "metadata": {
    "deletable": true,
    "editable": true
   },
   "source": [
    "This confirms that the symplectic 2-form $\\omega$ is invariant under the involution $\\tau$."
   ]
  },
  {
   "cell_type": "markdown",
   "metadata": {
    "deletable": true,
    "editable": true
   },
   "source": [
    "# Fixed points of $\\tau_*$ on the Universal Family\n",
    "\n",
    "The fixed points of $\\tau_*$ are those connections with underlying bundle in $\\Sigma$ and such that\n",
    "$$ \\left(\\mathrm{T} - \\mathrm{Id}\\right) \\begin{pmatrix}1\\\\ c_1 \\\\c_2\\end{pmatrix} \\;=\\; 0. $$\n",
    "\n",
    "The interesting part of this linear system is on the bottom left 2x2 minor."
   ]
  },
  {
   "cell_type": "code",
   "execution_count": 100,
   "metadata": {
    "collapsed": true,
    "deletable": true,
    "editable": true
   },
   "outputs": [],
   "source": [
    "minor = matrix([\n",
    "    [TT[1,0], TT[1,1] - 1],\n",
    "    [TT[2,0], TT[2,1]]\n",
    "])"
   ]
  },
  {
   "cell_type": "code",
   "execution_count": 101,
   "metadata": {
    "collapsed": false,
    "deletable": true,
    "editable": true
   },
   "outputs": [
    {
     "data": {
      "text/html": [
       "<html><script type=\"math/tex; mode=display\">\\newcommand{\\Bold}[1]{\\mathbf{#1}}\\frac{{\\left(t_{1} t_{2} u_{1}^{2} - 2 \\, t_{1} t_{2} u_{1} u_{2} - t_{1} u_{1}^{2} u_{2} + t_{2} u_{1}^{2} u_{2} + t_{1}^{2} u_{2}^{2} - t_{2} u_{1}^{2} - t_{1}^{2} u_{2} + t_{1} t_{2} u_{2} + 2 \\, t_{1} u_{1} u_{2} - t_{1} u_{2}^{2}\\right)} {\\left(2 \\, t_{1} t_{2}^{2} u_{2} - 3 \\, t_{1} t_{2} u_{2}^{2} + t_{1} u_{2}^{3} - t_{2} u_{2}^{3} - t_{1} t_{2}^{2} + t_{1} t_{2} u_{2} - t_{2}^{2} u_{2} + 3 \\, t_{2} u_{2}^{2} + t_{2}^{2} - 2 \\, t_{2} u_{2}\\right)} \\nu}{{\\left(t_{1} - t_{2}\\right)} {\\left(t_{1} - 1\\right)} t_{1} {\\left(t_{2} - u_{2}\\right)}^{2} {\\left(u_{2} - 1\\right)}^{2} u_{2}^{2}}</script></html>"
      ],
      "text/plain": [
       "(t1*t2*u1^2 - 2*t1*t2*u1*u2 - t1*u1^2*u2 + t2*u1^2*u2 + t1^2*u2^2 - t2*u1^2 - t1^2*u2 + t1*t2*u2 + 2*t1*u1*u2 - t1*u2^2)*(2*t1*t2^2*u2 - 3*t1*t2*u2^2 + t1*u2^3 - t2*u2^3 - t1*t2^2 + t1*t2*u2 - t2^2*u2 + 3*t2*u2^2 + t2^2 - 2*t2*u2)*nu/((t1 - t2)*(t1 - 1)*t1*(t2 - u2)^2*(u2 - 1)^2*u2^2)"
      ]
     },
     "execution_count": 101,
     "metadata": {},
     "output_type": "execute_result"
    }
   ],
   "source": [
    "minor.determinant().simplify_rational().factor()  # First factor of numerator is Sigma"
   ]
  },
  {
   "cell_type": "code",
   "execution_count": 40,
   "metadata": {
    "collapsed": false,
    "deletable": true,
    "editable": true
   },
   "outputs": [
    {
     "data": {
      "text/html": [
       "<html><script type=\"math/tex; mode=display\">\\newcommand{\\Bold}[1]{\\mathbf{#1}}{\\left(t_{1} t_{2} u_{1}^{2} - 2 \\, t_{1} t_{2} u_{1} u_{2} - t_{1} u_{1}^{2} u_{2} + t_{2} u_{1}^{2} u_{2} + t_{1}^{2} u_{2}^{2} - t_{2} u_{1}^{2} - t_{1}^{2} u_{2} + t_{1} t_{2} u_{2} + 2 \\, t_{1} u_{1} u_{2} - t_{1} u_{2}^{2}\\right)} {\\left(t_{1} t_{2} - t_{1} u_{2} + t_{2} u_{2} - t_{2}\\right)}</script></html>"
      ],
      "text/plain": [
       "(t1*t2*u1^2 - 2*t1*t2*u1*u2 - t1*u1^2*u2 + t2*u1^2*u2 + t1^2*u2^2 - t2*u1^2 - t1^2*u2 + t1*t2*u2 + 2*t1*u1*u2 - t1*u2^2)*(t1*t2 - t1*u2 + t2*u2 - t2)"
      ]
     },
     "execution_count": 40,
     "metadata": {},
     "output_type": "execute_result"
    }
   ],
   "source": [
    "# Along Sigma T[1,1] is identically -1\n",
    "(1 + TT[1,1]).numerator().factor() # First factor is Sigma"
   ]
  },
  {
   "cell_type": "markdown",
   "metadata": {
    "deletable": true,
    "editable": true
   },
   "source": [
    "Therefore the system reduces to a single equation `T[1,0] + (T[1,1] - 1)*c1`.  \n",
    "Moreover, the last equation is simply `T[1,0] - 2*c1`, and its unique solution `c1 = T[1,0]/2`."
   ]
  },
  {
   "cell_type": "markdown",
   "metadata": {
    "deletable": true,
    "editable": true
   },
   "source": [
    "# The map into the moduli space $\\operatorname{Bun}(C,T) = \\mathbb{P}^1_z\\times\\mathbb{P}^1_w$.\n",
    "\n",
    "The map $\\mathbb{P}^1_{u_1} \\times \\mathbb{P}^1_{u_2} \\longrightarrow \\mathbb{P}^1_z \\times \\mathbb{P}^1_w$ was computed by Fernández-Vargas, we import his formulas here.\n",
    "\n",
    "**Remark:** Note that in fact we have the following:\n",
    "\n",
    "* `z` is the x-coordinate of the second point of intersection of `S_Sigma` with the horizontal line $\\zeta=\\infty$, or equivalent the unique pole of $\\sigma_\\tau$.\n",
    "\n",
    "* `w` has the same formula as `u1*u1_bar` after multiplying by `t2/(t1*u2)`."
   ]
  },
  {
   "cell_type": "code",
   "execution_count": 31,
   "metadata": {
    "collapsed": true,
    "deletable": true,
    "editable": true
   },
   "outputs": [],
   "source": [
    "z = t2*(u2-1)/(u2-t2)\n",
    "w = (t2*u1 - u2*t1 - t2 + u2 - u1 + t1)*t2*u1/(t2*u2*u1 - t2*u2*t1 + t2*u1*t1 - u2*u1*t1 - t2*u1 + u2*t1)"
   ]
  },
  {
   "cell_type": "markdown",
   "metadata": {},
   "source": [
    "### Action of $\\Phi$ on moduli space of parabolic Higgs bundles"
   ]
  },
  {
   "cell_type": "code",
   "execution_count": 40,
   "metadata": {
    "collapsed": false
   },
   "outputs": [],
   "source": [
    "dPhi = matrix([\n",
    "    (diff(w, u1), diff(z, u1)),\n",
    "    (diff(w, u2), diff(z, u2))\n",
    "]).simplify_rational().factor()"
   ]
  },
  {
   "cell_type": "code",
   "execution_count": 41,
   "metadata": {
    "collapsed": false
   },
   "outputs": [
    {
     "data": {
      "text/html": [
       "<html><script type=\"math/tex; mode=display\">\\newcommand{\\Bold}[1]{\\mathbf{#1}}\\left(\\begin{array}{rr}\n",
       "\\frac{{\\left(t_{1} t_{2} u_{1}^{2} - 2 \\, t_{1} t_{2} u_{1} u_{2} - t_{1} u_{1}^{2} u_{2} + t_{2} u_{1}^{2} u_{2} + t_{1}^{2} u_{2}^{2} - t_{2} u_{1}^{2} - t_{1}^{2} u_{2} + t_{1} t_{2} u_{2} + 2 \\, t_{1} u_{1} u_{2} - t_{1} u_{2}^{2}\\right)} {\\left(t_{2} - 1\\right)} t_{2}}{{\\left(t_{1} t_{2} u_{1} - t_{1} t_{2} u_{2} - t_{1} u_{1} u_{2} + t_{2} u_{1} u_{2} - t_{2} u_{1} + t_{1} u_{2}\\right)}^{2}} & 0 \\\\\n",
       "-\\frac{{\\left(t_{1} - t_{2}\\right)} {\\left(t_{1} - u_{1}\\right)} {\\left(t_{2} - 1\\right)} t_{2} {\\left(u_{1} - 1\\right)} u_{1}}{{\\left(t_{1} t_{2} u_{1} - t_{1} t_{2} u_{2} - t_{1} u_{1} u_{2} + t_{2} u_{1} u_{2} - t_{2} u_{1} + t_{1} u_{2}\\right)}^{2}} & -\\frac{{\\left(t_{2} - 1\\right)} t_{2}}{{\\left(t_{2} - u_{2}\\right)}^{2}}\n",
       "\\end{array}\\right)</script></html>"
      ],
      "text/plain": [
       "[(t1*t2*u1^2 - 2*t1*t2*u1*u2 - t1*u1^2*u2 + t2*u1^2*u2 + t1^2*u2^2 - t2*u1^2 - t1^2*u2 + t1*t2*u2 + 2*t1*u1*u2 - t1*u2^2)*(t2 - 1)*t2/(t1*t2*u1 - t1*t2*u2 - t1*u1*u2 + t2*u1*u2 - t2*u1 + t1*u2)^2                                                                                                                                                                                                  0]\n",
       "[                                                                                        -(t1 - t2)*(t1 - u1)*(t2 - 1)*t2*(u1 - 1)*u1/(t1*t2*u1 - t1*t2*u2 - t1*u1*u2 + t2*u1*u2 - t2*u1 + t1*u2)^2                                                                                                                                                                           -(t2 - 1)*t2/(t2 - u2)^2]"
      ]
     },
     "execution_count": 41,
     "metadata": {},
     "output_type": "execute_result"
    }
   ],
   "source": [
    "dPhi"
   ]
  },
  {
   "cell_type": "code",
   "execution_count": null,
   "metadata": {
    "collapsed": true
   },
   "outputs": [],
   "source": [
    "# Change of coordinates from the equivariant basis to the basis (dw, dz)\n",
    "alpha = (dPhi[0,0]/Binv[1,1]).simplify_rational().factor()\n",
    "beta = (dPhi[1,0] - alpha*Binv[2,1]).simplify_rational().factor()\n",
    "gamma = dPhi[1,1]"
   ]
  },
  {
   "cell_type": "code",
   "execution_count": 67,
   "metadata": {
    "collapsed": false
   },
   "outputs": [
    {
     "data": {
      "text/html": [
       "<html><script type=\"math/tex; mode=display\">\\newcommand{\\Bold}[1]{\\mathbf{#1}}\\left(\\begin{array}{rr}\n",
       "\\frac{2 \\, {\\left(t_{2} - 1\\right)} t_{2}}{t_{1} t_{2} - t_{1} u_{2} + t_{2} u_{2} - t_{2}} & 0 \\\\\n",
       "-\\frac{{\\left(t_{1}^{2} u_{1} - t_{1} u_{1}^{2} + t_{2} u_{1}^{2} - t_{1}^{2} u_{2} - t_{2} u_{1} + t_{1} u_{2}\\right)} {\\left(t_{2} - 1\\right)} t_{2}}{{\\left(t_{1} t_{2} u_{1} - t_{1} t_{2} u_{2} - t_{1} u_{1} u_{2} + t_{2} u_{1} u_{2} - t_{2} u_{1} + t_{1} u_{2}\\right)} {\\left(t_{1} t_{2} - t_{1} u_{2} + t_{2} u_{2} - t_{2}\\right)}} & -\\frac{{\\left(t_{2} - 1\\right)} t_{2}}{{\\left(t_{2} - u_{2}\\right)}^{2}}\n",
       "\\end{array}\\right)</script></html>"
      ],
      "text/plain": [
       "[                                                                                                                     2*(t2 - 1)*t2/(t1*t2 - t1*u2 + t2*u2 - t2)                                                                                                                                                               0]\n",
       "[-(t1^2*u1 - t1*u1^2 + t2*u1^2 - t1^2*u2 - t2*u1 + t1*u2)*(t2 - 1)*t2/((t1*t2*u1 - t1*t2*u2 - t1*u1*u2 + t2*u1*u2 - t2*u1 + t1*u2)*(t1*t2 - t1*u2 + t2*u2 - t2))                                                                                                                                        -(t2 - 1)*t2/(t2 - u2)^2]"
      ]
     },
     "execution_count": 67,
     "metadata": {},
     "output_type": "execute_result"
    }
   ],
   "source": [
    "CB = matrix([\n",
    "    (alpha, 0),\n",
    "    (beta, gamma)\n",
    "])\n",
    "CB"
   ]
  },
  {
   "cell_type": "code",
   "execution_count": 83,
   "metadata": {
    "collapsed": false
   },
   "outputs": [
    {
     "data": {
      "text/html": [
       "<html><script type=\"math/tex; mode=display\">\\newcommand{\\Bold}[1]{\\mathbf{#1}}0</script></html>"
      ],
      "text/plain": [
       "0"
      ]
     },
     "execution_count": 83,
     "metadata": {},
     "output_type": "execute_result"
    }
   ],
   "source": [
    "# The matrix CB is invariant under tau\n",
    "(beta - beta.subs(u1==u1_bar)).simplify_rational()"
   ]
  },
  {
   "cell_type": "code",
   "execution_count": null,
   "metadata": {
    "collapsed": true
   },
   "outputs": [],
   "source": [
    "# Rewrite it in terms of z,w\n",
    "var('Z W')\n",
    "Sol1 = solve([z-Z, w-W], [u1, u2])[1]\n",
    "CB_zw_vars = CB.subs(Sol1).simplify_rational().factor()\n",
    "CB_zw_vars"
   ]
  },
  {
   "cell_type": "code",
   "execution_count": 91,
   "metadata": {
    "collapsed": false
   },
   "outputs": [
    {
     "data": {
      "text/html": [
       "<html><script type=\"math/tex; mode=display\">\\newcommand{\\Bold}[1]{\\mathbf{#1}}\\left(\\begin{array}{rr}\n",
       "\\frac{Z - t_{1}}{2 \\, {\\left(Z - t_{2}\\right)}} & 0 \\\\\n",
       "\\frac{W t_{1} - W t_{2} - t_{1} t_{2} + t_{2}}{2 \\, {\\left(Z - t_{2}\\right)}^{2}} & -\\frac{{\\left(t_{2} - 1\\right)} t_{2}}{{\\left(Z - t_{2}\\right)}^{2}}\n",
       "\\end{array}\\right)</script></html>"
      ],
      "text/plain": [
       "[                    1/2*(Z - t1)/(Z - t2)                                         0]\n",
       "[1/2*(W*t1 - W*t2 - t1*t2 + t2)/(Z - t2)^2                   -(t2 - 1)*t2/(Z - t2)^2]"
      ]
     },
     "execution_count": 91,
     "metadata": {},
     "output_type": "execute_result"
    }
   ],
   "source": [
    "CB_inv = (~CB_zw_vars).simplify_rational().factor()  # These are the coefficients that appear in the formula for omega_C\n",
    "CB_inv"
   ]
  },
  {
   "cell_type": "code",
   "execution_count": 68,
   "metadata": {
    "collapsed": true
   },
   "outputs": [],
   "source": [
    "B_minor = matrix([\n",
    "    (B[1,1], B[1,2]),\n",
    "    (B[2,1], B[2,2])\n",
    "])"
   ]
  },
  {
   "cell_type": "code",
   "execution_count": 76,
   "metadata": {
    "collapsed": false,
    "scrolled": true
   },
   "outputs": [
    {
     "data": {
      "text/html": [
       "<html><script type=\"math/tex; mode=display\">\\newcommand{\\Bold}[1]{\\mathbf{#1}}\\left(\\begin{array}{rr}\n",
       "\\frac{{\\left(t_{1} t_{2} u_{1} - t_{1} t_{2} u_{2} - t_{1} u_{1} u_{2} + t_{2} u_{1} u_{2} - t_{2} u_{1} + t_{1} u_{2}\\right)}^{2}}{{\\left(t_{1} t_{2} u_{1}^{2} - 2 \\, t_{1} t_{2} u_{1} u_{2} - t_{1} u_{1}^{2} u_{2} + t_{2} u_{1}^{2} u_{2} + t_{1}^{2} u_{2}^{2} - t_{2} u_{1}^{2} - t_{1}^{2} u_{2} + t_{1} t_{2} u_{2} + 2 \\, t_{1} u_{1} u_{2} - t_{1} u_{2}^{2}\\right)} {\\left(t_{2} - 1\\right)} t_{2}} & 0 \\\\\n",
       "-\\frac{{\\left(t_{1} - t_{2}\\right)} {\\left(t_{1} - u_{1}\\right)} {\\left(t_{2} - u_{2}\\right)}^{2} {\\left(u_{1} - 1\\right)} u_{1}}{{\\left(t_{1} t_{2} u_{1}^{2} - 2 \\, t_{1} t_{2} u_{1} u_{2} - t_{1} u_{1}^{2} u_{2} + t_{2} u_{1}^{2} u_{2} + t_{1}^{2} u_{2}^{2} - t_{2} u_{1}^{2} - t_{1}^{2} u_{2} + t_{1} t_{2} u_{2} + 2 \\, t_{1} u_{1} u_{2} - t_{1} u_{2}^{2}\\right)} {\\left(t_{2} - 1\\right)} t_{2}} & -\\frac{{\\left(t_{2} - u_{2}\\right)}^{2}}{{\\left(t_{2} - 1\\right)} t_{2}}\n",
       "\\end{array}\\right)</script></html>"
      ],
      "text/plain": [
       "[(t1*t2*u1 - t1*t2*u2 - t1*u1*u2 + t2*u1*u2 - t2*u1 + t1*u2)^2/((t1*t2*u1^2 - 2*t1*t2*u1*u2 - t1*u1^2*u2 + t2*u1^2*u2 + t1^2*u2^2 - t2*u1^2 - t1^2*u2 + t1*t2*u2 + 2*t1*u1*u2 - t1*u2^2)*(t2 - 1)*t2)                                                                                                                                                                                                    0]\n",
       "[                 -(t1 - t2)*(t1 - u1)*(t2 - u2)^2*(u1 - 1)*u1/((t1*t2*u1^2 - 2*t1*t2*u1*u2 - t1*u1^2*u2 + t2*u1^2*u2 + t1^2*u2^2 - t2*u1^2 - t1^2*u2 + t1*t2*u2 + 2*t1*u1*u2 - t1*u2^2)*(t2 - 1)*t2)                                                                                                                                                                           -(t2 - u2)^2/((t2 - 1)*t2)]"
      ]
     },
     "execution_count": 76,
     "metadata": {},
     "output_type": "execute_result"
    }
   ],
   "source": [
    "comp = ((~CB)*B_minor).simplify_rational().factor()  # denominater includes Sigma\n",
    "comp"
   ]
  },
  {
   "cell_type": "code",
   "execution_count": 77,
   "metadata": {
    "collapsed": false,
    "scrolled": true
   },
   "outputs": [
    {
     "data": {
      "text/html": [
       "<html><script type=\"math/tex; mode=display\">\\newcommand{\\Bold}[1]{\\mathbf{#1}}\\left(\\begin{array}{rr}\n",
       "\\frac{{\\left(t_{1} t_{2} u_{1} - t_{1} t_{2} u_{2} - t_{1} u_{1} u_{2} + t_{2} u_{1} u_{2} - t_{2} u_{1} + t_{1} u_{2}\\right)}^{2}}{{\\left(t_{1} t_{2} u_{1}^{2} - 2 \\, t_{1} t_{2} u_{1} u_{2} - t_{1} u_{1}^{2} u_{2} + t_{2} u_{1}^{2} u_{2} + t_{1}^{2} u_{2}^{2} - t_{2} u_{1}^{2} - t_{1}^{2} u_{2} + t_{1} t_{2} u_{2} + 2 \\, t_{1} u_{1} u_{2} - t_{1} u_{2}^{2}\\right)} {\\left(t_{2} - 1\\right)} t_{2}} & 0 \\\\\n",
       "-\\frac{{\\left(t_{1} - t_{2}\\right)} {\\left(t_{1} - u_{1}\\right)} {\\left(t_{2} - u_{2}\\right)}^{2} {\\left(u_{1} - 1\\right)} u_{1}}{{\\left(t_{1} t_{2} u_{1}^{2} - 2 \\, t_{1} t_{2} u_{1} u_{2} - t_{1} u_{1}^{2} u_{2} + t_{2} u_{1}^{2} u_{2} + t_{1}^{2} u_{2}^{2} - t_{2} u_{1}^{2} - t_{1}^{2} u_{2} + t_{1} t_{2} u_{2} + 2 \\, t_{1} u_{1} u_{2} - t_{1} u_{2}^{2}\\right)} {\\left(t_{2} - 1\\right)} t_{2}} & -\\frac{{\\left(t_{2} - u_{2}\\right)}^{2}}{{\\left(t_{2} - 1\\right)} t_{2}}\n",
       "\\end{array}\\right)</script></html>"
      ],
      "text/plain": [
       "[(t1*t2*u1 - t1*t2*u2 - t1*u1*u2 + t2*u1*u2 - t2*u1 + t1*u2)^2/((t1*t2*u1^2 - 2*t1*t2*u1*u2 - t1*u1^2*u2 + t2*u1^2*u2 + t1^2*u2^2 - t2*u1^2 - t1^2*u2 + t1*t2*u2 + 2*t1*u1*u2 - t1*u2^2)*(t2 - 1)*t2)                                                                                                                                                                                                    0]\n",
       "[                 -(t1 - t2)*(t1 - u1)*(t2 - u2)^2*(u1 - 1)*u1/((t1*t2*u1^2 - 2*t1*t2*u1*u2 - t1*u1^2*u2 + t2*u1^2*u2 + t1^2*u2^2 - t2*u1^2 - t1^2*u2 + t1*t2*u2 + 2*t1*u1*u2 - t1*u2^2)*(t2 - 1)*t2)                                                                                                                                                                           -(t2 - u2)^2/((t2 - 1)*t2)]"
      ]
     },
     "execution_count": 77,
     "metadata": {},
     "output_type": "execute_result"
    }
   ],
   "source": [
    "(~dPhi).simplify_rational().factor()"
   ]
  },
  {
   "cell_type": "markdown",
   "metadata": {},
   "source": [
    "We conclude that $\\hat\\Phi$ coincides fiberwise with the inverse of the natural action $d\\Phi \\colon T^*\\operatorname{Bun}(C,T) \\to T^*\\operatorname{Bun}(\\mathbb{P}^1,D)$ that $\\Phi$ induces on the cotangent bundle."
   ]
  }
 ],
 "metadata": {
  "kernelspec": {
   "display_name": "SageMath 8.1",
   "language": "",
   "name": "sagemath"
  },
  "language_info": {
   "codemirror_mode": {
    "name": "ipython",
    "version": 2
   },
   "file_extension": ".py",
   "mimetype": "text/x-python",
   "name": "python",
   "nbconvert_exporter": "python",
   "pygments_lexer": "ipython2",
   "version": "2.7.14"
  }
 },
 "nbformat": 4,
 "nbformat_minor": 2
}
