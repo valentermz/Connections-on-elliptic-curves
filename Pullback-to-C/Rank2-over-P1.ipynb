{
 "cells": [
  {
   "cell_type": "markdown",
   "metadata": {},
   "source": [
    "# Universal family of connections over $\\mathbb{P}^1$ and the involution $\\tau_*$\n",
    "\n",
    "Here we consider connections on a rank 2 trivial bundle over $\\mathbb{P}^1$, having a logarithmic singularity at $t_1$ with local exponents $\\pm \\nu$, and four additional apparent singularities over $0,1,t_2,\\infty$ with exponents $\\pm\\frac{1}{2}$.\n",
    "\n",
    "Our interest in this family is that we can then pullback these connections over the elliptic curve given by $y^2 = x(x-1)(x-t_2)$. After birational transformation we recover a connection over the elliptic curve with two logarithmic poles (each with exponents $\\pm\\nu$).\n",
    "\n",
    "This notebook contains the computations mentioned in the paper *A map between moduli spaces*."
   ]
  },
  {
   "cell_type": "code",
   "execution_count": 2,
   "metadata": {},
   "outputs": [
    {
     "data": {
      "text/html": [
       "<style>.container { width:95% !important; }</style>"
      ],
      "text/plain": [
       "<IPython.core.display.HTML object>"
      ]
     },
     "metadata": {},
     "output_type": "display_data"
    }
   ],
   "source": [
    "from IPython.core.display import display, HTML, Math\n",
    "\n",
    "# Define the width of the cells\n",
    "display(HTML(\"<style>.container { width:95% !important; }</style>\"));\n",
    "\n",
    "def printMath(expr):\n",
    "    return display(Math(latex(expr)))"
   ]
  },
  {
   "cell_type": "code",
   "execution_count": 3,
   "metadata": {},
   "outputs": [],
   "source": [
    "%display latex"
   ]
  },
  {
   "cell_type": "code",
   "execution_count": 6,
   "metadata": {},
   "outputs": [],
   "source": [
    "var('x t1 t2 u1 u2 nu c1 c2 zeta')  # t2 = lambda, t1 = t\n",
    "n = 2*nu  # n is the difference of of the eigenvalues, in this case 2*nu^+\n",
    "\n",
    "f = x * (x-1) * (x-t2)  # Polynomial defining the elliptic curve y = P(x)\n",
    "df = diff(f, x)  # ITs derivative"
   ]
  },
  {
   "cell_type": "markdown",
   "metadata": {},
   "source": [
    "**Remark:** My coordinate $\\zeta$ on the fiber represents $[1:\\zeta]$, this is the inverse of Loray-Saito."
   ]
  },
  {
   "cell_type": "markdown",
   "metadata": {},
   "source": [
    "## Universal family defined in Loray-Saito\n",
    "\n",
    "We begin by importing the the universal family and a few other formulas.  \n",
    "<!-- Note that the matrices below are polynomial and need to be divided by `x*(x-1)*(x-t1)*(x-t2)`. -->"
   ]
  },
  {
   "cell_type": "code",
   "execution_count": 117,
   "metadata": {},
   "outputs": [],
   "source": [
    "Nabla0 = matrix([\n",
    "    (-1/2*n*t1*t2*x + 1/2*n*t1*x^2 + 1/2*n*t2*x - 1/2*n*x^2 - 1/4*t1*x^2 + 1/4*x^3 - 1/4*t1*t2 + 1/2*t1*x + 1/4*t2*x - 1/2*x^2, 1/2*(n + 1)*(t1 - x)*(t2 - x)),\n",
    "    (-1/2*(2*n*t2*u1*x - 2*n*u1*x^2 + n*t1*t2 - 2*n*t2*u1 - n*t1*x - n*t2*x + 2*n*u1*x + t1*u2*x + n*x^2 - u2*x^2 - t1*u2 + u2*x)*x, 1/2*n*t1*t2*x - 1/2*n*t1*x^2 - 1/2*n*t2*x + 1/2*n*x^2 + 1/4*t1*x^2 - 1/4*x^3 + 1/4*t1*t2 - 1/2*t1*x - 1/4*t2*x + 1/2*x^2)\n",
    "])/(x*(x-1)*(x-t1)*(x-t2))\n",
    "\n",
    "Theta1 = matrix([\n",
    "    (-(t1 - 1)*(t2 - x)*u1*x, (t1*u1 + t1*x - u1*x - t1)*(t2 - x)),\n",
    "    (-(u1*x + t1 - u1 - x)*(t2 - x)*u1*x, (t1 - 1)*(t2 - x)*u1*x)\n",
    "])/(x*(x-1)*(x-t1)*(x-t2))\n",
    "\n",
    "Theta2 = matrix([\n",
    "    (-(t1 - x)*(t2 - 1)*u2*x, (t2*u2 + t2*x - u2*x - t2)*(t1 - x)),\n",
    "    (-(u2*x + t2 - u2 - x)*(t1 - x)*u2*x, (t1 - x)*(t2 - 1)*u2*x)\n",
    "])/(x*(x-1)*(x-t1)*(x-t2))"
   ]
  },
  {
   "cell_type": "markdown",
   "metadata": {},
   "source": [
    "# The involution $\\tau_*$\n",
    "\n",
    "We begin by computing the multisection $S_\\Sigma$. It is characterized as the unique (2,2)-curve in $\\mathbb P^1_x\\times\\mathbb P^1_\\zeta$ having vertical tangencies over $x=0,1,\\lambda,\\infty$."
   ]
  },
  {
   "cell_type": "code",
   "execution_count": 30,
   "metadata": {},
   "outputs": [],
   "source": [
    "coeff = var('a00 a01 a02 a10 a11 a12 a20 a21 a22')\n",
    "Q = a00 + a01*zeta + a02*zeta^2 + (a10 + a11*zeta + a12*zeta^2)*x + (a20 + a21*zeta + a22*zeta^2)*x^2"
   ]
  },
  {
   "cell_type": "code",
   "execution_count": 34,
   "metadata": {},
   "outputs": [],
   "source": [
    "Eqns = []\n",
    "\n",
    "poles = [0,1,t2]\n",
    "heights = [0, 1, u2]\n",
    "\n",
    "for i in range(3):\n",
    "    p = poles[i]\n",
    "    u = heights[i]\n",
    "    eq1 = Q.subs([x==poles[i], zeta==heights[i]])\n",
    "    eq2 = diff(Q, zeta).subs([x==poles[i], zeta==heights[i]])\n",
    "    Eqns.append(eq1.expand())\n",
    "    Eqns.append(eq2.expand())\n",
    "\n",
    "# conditions at x=infty\n",
    "Eqns.append(a22)\n",
    "Eqns.append(a21)\n",
    "\n",
    "# We can still have the freedom to multiply by a non-zer scalar factor\n",
    "Sols = solve(Eqns + [a20 == u2*(u2-1)], coeff)"
   ]
  },
  {
   "cell_type": "code",
   "execution_count": 36,
   "metadata": {},
   "outputs": [
    {
     "data": {
      "text/html": [
       "<html><script type=\"math/tex; mode=display\">\\newcommand{\\Bold}[1]{\\mathbf{#1}}u_{2}^{2} x^{2} - 2 \\, t_{2} u_{2} x \\zeta + t_{2} u_{2} \\zeta^{2} + t_{2} x \\zeta^{2} - u_{2} x \\zeta^{2} + t_{2} u_{2} x - u_{2}^{2} x - u_{2} x^{2} + 2 \\, u_{2} x \\zeta - t_{2} \\zeta^{2}</script></html>"
      ],
      "text/plain": [
       "u2^2*x^2 - 2*t2*u2*x*zeta + t2*u2*zeta^2 + t2*x*zeta^2 - u2*x*zeta^2 + t2*u2*x - u2^2*x - u2*x^2 + 2*u2*x*zeta - t2*zeta^2"
      ]
     },
     "execution_count": 36,
     "metadata": {},
     "output_type": "execute_result"
    }
   ],
   "source": [
    "S_Sigma = Q.subs(Sols[0]).expand()\n",
    "S_Sigma"
   ]
  },
  {
   "cell_type": "markdown",
   "metadata": {},
   "source": [
    "The curve $\\Sigma$ in the moduli space of parabolic bundles consists of those bundles for which the parabolic above `t1` is on the curve `S_Sigma`."
   ]
  },
  {
   "cell_type": "code",
   "execution_count": 37,
   "metadata": {},
   "outputs": [],
   "source": [
    "Sigma = S_Sigma.subs([x==t1, zeta==u1])"
   ]
  },
  {
   "cell_type": "markdown",
   "metadata": {},
   "source": [
    "### The special sections $S_\\Sigma^+$, $S_\\Sigma^-$ and the section $\\sigma_\\tau$"
   ]
  },
  {
   "cell_type": "code",
   "execution_count": 40,
   "metadata": {},
   "outputs": [],
   "source": [
    "Sols = solve(S_Sigma, zeta)  # symbolically solves in terms of a ramified function `sqrt_Delta`"
   ]
  },
  {
   "cell_type": "code",
   "execution_count": 65,
   "metadata": {},
   "outputs": [],
   "source": [
    "sqrt_Delta = (zeta.subs(Sols[1]) - zeta.subs(Sols[0])).simplify_rational().numerator()/2\n",
    "Delta = (sqrt_Delta^2).factor()\n",
    "alpha = (zeta.subs(Sols[1]).numerator() - sqrt_Delta).factor()\n",
    "beta = zeta.subs(Sols[1]).denominator().factor()"
   ]
  },
  {
   "cell_type": "code",
   "execution_count": 73,
   "metadata": {},
   "outputs": [
    {
     "data": {
      "text/latex": [
       "$$\\frac{{\\left(t_{2} - 1\\right)} u_{2} x + \\sqrt{{\\left(t_{2} - u_{2}\\right)} {\\left(t_{2} - x\\right)} {\\left(u_{2} - 1\\right)} u_{2} {\\left(x - 1\\right)} x}}{t_{2} u_{2} + t_{2} x - u_{2} x - t_{2}}$$"
      ],
      "text/plain": [
       "<IPython.core.display.Math object>"
      ]
     },
     "metadata": {},
     "output_type": "display_data"
    },
    {
     "name": "stdout",
     "output_type": "stream",
     "text": [
      "\n"
     ]
    },
    {
     "data": {
      "text/latex": [
       "$$\\frac{{\\left(t_{2} - 1\\right)} u_{2} x - \\sqrt{{\\left(t_{2} - u_{2}\\right)} {\\left(t_{2} - x\\right)} {\\left(u_{2} - 1\\right)} u_{2} {\\left(x - 1\\right)} x}}{t_{2} u_{2} + t_{2} x - u_{2} x - t_{2}}$$"
      ],
      "text/plain": [
       "<IPython.core.display.Math object>"
      ]
     },
     "metadata": {},
     "output_type": "display_data"
    }
   ],
   "source": [
    "printMath((alpha + sqrt(Delta))/beta)\n",
    "print ''\n",
    "printMath((alpha - sqrt(Delta))/beta)"
   ]
  },
  {
   "cell_type": "markdown",
   "metadata": {},
   "source": [
    "The section $\\sigma_\\tau$ is the rational part of the $S_\\Sigma^{\\pm}$.  \n",
    "It is the unique fractional linear transformation that takes the values $0,1,u_\\lambda$ at $0,1,\\lambda$, respectively."
   ]
  },
  {
   "cell_type": "code",
   "execution_count": 70,
   "metadata": {},
   "outputs": [],
   "source": [
    "sigma_tau = alpha/beta"
   ]
  },
  {
   "cell_type": "code",
   "execution_count": 71,
   "metadata": {
    "scrolled": true
   },
   "outputs": [
    {
     "name": "stdout",
     "output_type": "stream",
     "text": [
      "0\n",
      "1\n",
      "u2\n"
     ]
    }
   ],
   "source": [
    "# Verify that sigma takes the right values:\n",
    "print sigma_tau.subs(x==0)\n",
    "print sigma_tau.subs(x==1).simplify_rational()\n",
    "print sigma_tau.subs(x==t2).simplify_rational()"
   ]
  },
  {
   "cell_type": "markdown",
   "metadata": {},
   "source": [
    "### Formula for $\\tau_*$\n",
    "\n",
    "Finally, we can compute the action of $\\tau_*$ in coordinates. On the generic fiber, it is the unique automorphism of the projective line that fixes both points on $S_\\Sigma$ and maps $\\sigma_\\tau(x)$ to $\\infty$.\n",
    "\n",
    "A simple argument shows that if $S_\\Sigma^\\pm = A \\pm \\sqrt{B}$, then $\\sigma_\\tau = \\frac{A\\zeta + B - A^2}{\\zeta - A}$."
   ]
  },
  {
   "cell_type": "code",
   "execution_count": 106,
   "metadata": {},
   "outputs": [
    {
     "data": {
      "text/html": [
       "<html><script type=\"math/tex; mode=display\">\\newcommand{\\Bold}[1]{\\mathbf{#1}}\\frac{{\\left(u_{2} x - t_{2} \\zeta + t_{2} - u_{2} - x + \\zeta\\right)} u_{2} x}{t_{2} u_{2} x - t_{2} u_{2} \\zeta - t_{2} x \\zeta + u_{2} x \\zeta - u_{2} x + t_{2} \\zeta}</script></html>"
      ],
      "text/plain": [
       "(u2*x - t2*zeta + t2 - u2 - x + zeta)*u2*x/(t2*u2*x - t2*u2*zeta - t2*x*zeta + u2*x*zeta - u2*x + t2*zeta)"
      ]
     },
     "execution_count": 106,
     "metadata": {},
     "output_type": "execute_result"
    }
   ],
   "source": [
    "A = alpha/beta\n",
    "B = Delta/beta^2\n",
    "tau_star = ((A*zeta + B - A^2)/(zeta - A)).simplify_rational().factor()\n",
    "\n",
    "tau_star"
   ]
  },
  {
   "cell_type": "markdown",
   "metadata": {},
   "source": [
    "### $\\tau$ on the moduli space of parabolic bundles\n",
    "\n",
    "On the moduli space, $\\tau$ acts as $(u_t, u_\\lambda) \\mapsto (\\bar{u}_t, u_\\lambda)$. The formula for $\\bar{u}_t$ is given by:"
   ]
  },
  {
   "cell_type": "code",
   "execution_count": 107,
   "metadata": {},
   "outputs": [],
   "source": [
    "u1_bar = tau_star.subs([x==t1, zeta==u1])"
   ]
  },
  {
   "cell_type": "markdown",
   "metadata": {},
   "source": [
    "# The action of $\\tau_*$ on the Universal Family "
   ]
  },
  {
   "cell_type": "markdown",
   "metadata": {},
   "source": [
    "### Tangencies with $\\sigma_\\infty$ (ie the *apparent map*)"
   ]
  },
  {
   "cell_type": "code",
   "execution_count": 124,
   "metadata": {},
   "outputs": [],
   "source": [
    "# Copied from Loray Saito\n",
    "APPinfty = (n+1)/2*(x-t1)*(x-t2) + \\\n",
    "            c1*((u1-t1)*x + (1-u1)*t1)*(x-t2) + \\\n",
    "            c2*((u2-t2)*x + (1-u2)*t2)*(x-t1)"
   ]
  },
  {
   "cell_type": "code",
   "execution_count": 125,
   "metadata": {},
   "outputs": [],
   "source": [
    "a0 = APPinfty.subs(x==0)\n",
    "a1 = diff(APPinfty, x).subs(x==0)\n",
    "a2 = diff(diff(APPinfty/2, x), x)"
   ]
  },
  {
   "cell_type": "markdown",
   "metadata": {},
   "source": [
    "### Tangencies with $\\sigma_\\tau$"
   ]
  },
  {
   "cell_type": "code",
   "execution_count": 120,
   "metadata": {},
   "outputs": [
    {
     "name": "stdout",
     "output_type": "stream",
     "text": [
      "4*c1*t1*t2^2*u1*u2^2 - 4*c1*t2^2*u1^2*u2^2 + 4*c2*t1*t2^2*u2^3 - 4*c2*t1*t2*u2^4 + 8*c1*t1*t2^2*u1*u2*x - 8*c1*t2^2*u1^2*u2*x - 4*c1*t1*t2^2*u2^2*x + 4*c2*t1*t2^2*u2^2*x - 8*c1*t1*t2*u1*u2^2*x + 4*c1*t2^2*u1*u2^2*x + 8*c1*t2*u1^2*u2^2*x - 8*c2*t1*t2*u2^3*x - 4*c2*t2^2*u2^3*x + 4*c2*t1*u2^4*x + 4*c2*t2*u2^4*x - 4*c1*t2^2*u1^2*x^2 + 8*c1*t2*u1^2*u2*x^2 - 4*c2*t2^2*u2^2*x^2 - 4*c1*u1^2*u2^2*x^2 + 8*c2*t2*u2^3*x^2 - 4*c2*u2^4*x^2 - 8*c1*t1*t2^2*u1*u2 + 8*c1*t2^2*u1^2*u2 - 8*c2*t1*t2^2*u2^2 + 4*nu*t1*t2^2*u2^2 - 8*nu*t2^2*u1*u2^2 + 8*c2*t1*t2*u2^3 - 4*c1*t1*t2^2*u1*x + 8*c1*t2^2*u1^2*x - 4*c2*t1*t2^2*u2*x + 8*nu*t1*t2^2*u2*x - 16*nu*t2^2*u1*u2*x - 8*c1*t2*u1^2*u2*x + 8*c1*t1*t2*u2^2*x + 8*c2*t1*t2*u2^2*x - 8*nu*t1*t2*u2^2*x + 8*c2*t2^2*u2^2*x + 4*nu*t2^2*u2^2*x + 4*c1*t1*u1*u2^2*x - 8*c1*t2*u1*u2^2*x + 16*nu*t2*u1*u2^2*x - 4*c2*t1*u2^3*x - 8*c2*t2*u2^3*x + 4*c1*t2^2*u1*x^2 - 8*nu*t2^2*u1*x^2 + 4*c2*t2^2*u2*x^2 - 8*c1*t2*u1*u2*x^2 + 16*nu*t2*u1*u2*x^2 - 8*c2*t2*u2^2*x^2 + 4*c1*u1*u2^2*x^2 - 8*nu*u1*u2^2*x^2 + 4*c2*u2^3*x^2 + 4*c1*t1*t2^2*u1 - 4*c1*t2^2*u1^2 + 4*c2*t1*t2^2*u2 - 8*nu*t1*t2^2*u2 + 16*nu*t2^2*u1*u2 - 4*c2*t1*t2*u2^2 + 2*t1*t2^2*u2^2 - 2*t1*t2*u2^3 - 4*nu*t1*t2^2*x - 4*c1*t2^2*u1*x + 16*nu*t2^2*u1*x - 4*c2*t2^2*u2*x + 8*c1*t2*u1*u2*x - 16*nu*t2*u1*u2*x - 4*c1*t1*u2^2*x + 4*nu*t1*u2^2*x + 4*c2*t2*u2^2*x - 8*nu*t2*u2^2*x - 2*t1*t2*u2^2*x - 2*t2^2*u2^2*x + 2*t1*u2^3*x + 2*t2*u2^3*x + 4*nu*t2^2*x^2 - 8*nu*t2*u2*x^2 + 4*nu*u2^2*x^2 + 2*t2*u2^2*x^2 - 2*u2^3*x^2 + 4*nu*t1*t2^2 - 8*nu*t2^2*u1 - 2*t1*t2^2*u2 + 2*t1*t2*u2^2 - 4*nu*t2^2*x + 8*nu*t2*u2*x + 2*t1*t2*u2*x + 2*t2^2*u2*x - 2*t1*u2^2*x - 2*t2*u2^2*x - 2*t2*u2*x^2 + 2*u2^2*x^2\n"
     ]
    }
   ],
   "source": [
    "Nabla = Nabla0 + c1*Theta1 + c2*Theta2\n",
    "\n",
    "sigma0 = vector([1, sigma_tau])\n",
    "sigma1 = diff(sigma0, x) + Nabla*sigma0\n",
    "\n",
    "APPsigma = matrix([sigma0, sigma1]).determinant().numerator().factor()\n",
    "\n",
    "print APPsigma"
   ]
  },
  {
   "cell_type": "markdown",
   "metadata": {},
   "source": [
    "### Action of $\\tau_*$ on the coefficients $(c_1,c_2)$\n",
    "\n",
    "We seek for a matrix T with the following properties:\n",
    "\n",
    "If $\\nabla = \\nabla_0(u) + c_1\\Theta_1(u) + c_2\\Theta_2(u)$, then $\\tau^*\\nabla = \\nabla_0(\\bar u) + k_1\\Theta_1(\\bar u) + k_2\\Theta_2(\\bar u)$,\n",
    "\n",
    "where $(1, k_1, k_2) := T\\cdot(1, c_1, c_2)^{\\operatorname{T}}$."
   ]
  },
  {
   "cell_type": "code",
   "execution_count": 126,
   "metadata": {},
   "outputs": [],
   "source": [
    "var('T10 T11 T12 T20 T21 T22')\n",
    "T = matrix([(1, 0 ,0), (T10, T11, T12), (T20, T21, T22)])\n",
    "\n",
    "k0, k1, k2 = list(T*vector([1, c1, c2]))\n",
    "\n",
    "new_APP = APPsigma.subs(u1==u1_bar).subs([c1==k1, c2==k2])  # This should have the same zeros as APP\n",
    "\n",
    "s0 = new_APP.subs(x==0)\n",
    "s1 = diff(new_APP, x).subs(x==0)\n",
    "s2 = diff(diff(new_APP/2, x), x)"
   ]
  },
  {
   "cell_type": "code",
   "execution_count": 128,
   "metadata": {
    "scrolled": true
   },
   "outputs": [],
   "source": [
    "# Lift denominators to make the variables a_i and s_i polynomial\n",
    "denom1 = a2.denominator()\n",
    "denom2 = s2.denominator()\n",
    "\n",
    "a0 = (a0*denom1).simplify_rational()\n",
    "a1 = (a1*denom1).simplify_rational()\n",
    "a2 = (a2*denom1).simplify_rational()\n",
    "\n",
    "s0 = (s0*denom2).simplify_rational()\n",
    "s1 = (s1*denom2).simplify_rational()\n",
    "s2 = (s2*denom2).simplify_rational()\n",
    "\n",
    "Eqn1 = s2*a1 - a2*s1\n",
    "Eqn2 = s2*a0 - a2*s0"
   ]
  },
  {
   "cell_type": "markdown",
   "metadata": {},
   "source": [
    "I want the above equations to be zero **for any** value of $c_1,c_2$.  \n",
    "The expressions `Eqn1` and `Eqn2` are quadratic in $c_1,c_2$, but we'll truncate the quadratic part first, solve the system and then show that the solutions found are in fact the general solution."
   ]
  },
  {
   "cell_type": "code",
   "execution_count": 131,
   "metadata": {},
   "outputs": [],
   "source": [
    "# Linear terms\n",
    "\n",
    "E1_00 = Eqn1.subs([c1==0, c2==0])\n",
    "E1_10 = diff(Eqn1, c1).subs([c1==0, c2==0])\n",
    "E1_01 = diff(Eqn1, c2).subs([c1==0, c2==0])\n",
    "E2_00 = Eqn2.subs([c1==0, c2==0])\n",
    "E2_10 = diff(Eqn2, c1).subs([c1==0, c2==0])\n",
    "E2_01 = diff(Eqn2, c2).subs([c1==0, c2==0])\n",
    "\n",
    "# Solve column by column\n",
    "S0 = solve([E1_00, E2_00], [T10, T20])\n",
    "S1 = solve([E1_10.subs(S0), E2_10.subs(S0)], [T11, T21])\n",
    "S2 = solve([E1_01.subs(S0).subs(S1), E2_01.subs(S0).subs(S1)], [T12, T22])"
   ]
  },
  {
   "cell_type": "code",
   "execution_count": 132,
   "metadata": {},
   "outputs": [
    {
     "name": "stdout",
     "output_type": "stream",
     "text": [
      "0\n",
      "0\n"
     ]
    }
   ],
   "source": [
    "# Verify that we got a complete solution\n",
    "print Eqn1.subs(S0).subs(S1).subs(S2).simplify_rational()\n",
    "print Eqn2.subs(S0).subs(S1).subs(S2).simplify_rational()"
   ]
  },
  {
   "cell_type": "markdown",
   "metadata": {},
   "source": [
    "Finally, we get the matrix representing the change of basis dictated by $\\tau$:"
   ]
  },
  {
   "cell_type": "code",
   "execution_count": 133,
   "metadata": {},
   "outputs": [],
   "source": [
    "TT = T.subs(S0).subs(S1).subs(S2).simplify_rational().factor()"
   ]
  },
  {
   "cell_type": "code",
   "execution_count": 134,
   "metadata": {
    "scrolled": true
   },
   "outputs": [
    {
     "data": {
      "text/html": [
       "<html><script type=\"math/tex; mode=display\">\\newcommand{\\Bold}[1]{\\mathbf{#1}}\\left(\\begin{array}{rrr}\n",
       "1 & 0 & 0 \\\\\n",
       "\\frac{2 \\, {\\left(t_{1} t_{2} u_{1} - t_{1} t_{2} u_{2} - t_{1} u_{1} u_{2} + t_{2} u_{1} u_{2} - t_{2} u_{1} + t_{1} u_{2}\\right)} {\\left(t_{1} t_{2} - t_{1} u_{2} + t_{2} u_{2} - t_{2}\\right)} \\nu}{{\\left(t_{1} - t_{2}\\right)} {\\left(t_{1} - 1\\right)} t_{1} {\\left(t_{2} - u_{2}\\right)} {\\left(u_{2} - 1\\right)} u_{2}} & \\frac{{\\left(t_{1} t_{2} u_{1} - t_{1} t_{2} u_{2} - t_{1} u_{1} u_{2} + t_{2} u_{1} u_{2} - t_{2} u_{1} + t_{1} u_{2}\\right)}^{2}}{{\\left(t_{1} - t_{2}\\right)} {\\left(t_{1} - 1\\right)} t_{1} {\\left(t_{2} - u_{2}\\right)} {\\left(u_{2} - 1\\right)} u_{2}} & 0 \\\\\n",
       "-\\frac{{\\left(2 \\, t_{2}^{2} u_{1} - 2 \\, t_{1} t_{2} u_{2} + t_{1} u_{2}^{2} - t_{2} u_{2}^{2} + t_{1} t_{2} - t_{2}^{2} - 2 \\, t_{2} u_{1} + 2 \\, t_{2} u_{2}\\right)} \\nu}{{\\left(t_{1} - t_{2}\\right)} {\\left(t_{2} - u_{2}\\right)} {\\left(u_{2} - 1\\right)} u_{2}} & -\\frac{t_{2}^{2} u_{1}^{2} - 2 \\, t_{1} t_{2} u_{1} u_{2} + t_{1} t_{2} u_{2}^{2} + t_{1} u_{1} u_{2}^{2} - t_{2} u_{1} u_{2}^{2} + t_{1} t_{2} u_{1} - t_{2}^{2} u_{1} - t_{2} u_{1}^{2} + 2 \\, t_{2} u_{1} u_{2} - t_{1} u_{2}^{2}}{{\\left(t_{1} - t_{2}\\right)} {\\left(t_{2} - u_{2}\\right)} {\\left(u_{2} - 1\\right)} u_{2}} & 1\n",
       "\\end{array}\\right)</script></html>"
      ],
      "text/plain": [
       "[                                                                                                                                                          1                                                                                                                                                           0                                                                                                                                                           0]\n",
       "[                2*(t1*t2*u1 - t1*t2*u2 - t1*u1*u2 + t2*u1*u2 - t2*u1 + t1*u2)*(t1*t2 - t1*u2 + t2*u2 - t2)*nu/((t1 - t2)*(t1 - 1)*t1*(t2 - u2)*(u2 - 1)*u2)                                                 (t1*t2*u1 - t1*t2*u2 - t1*u1*u2 + t2*u1*u2 - t2*u1 + t1*u2)^2/((t1 - t2)*(t1 - 1)*t1*(t2 - u2)*(u2 - 1)*u2)                                                                                                                                                           0]\n",
       "[                                      -(2*t2^2*u1 - 2*t1*t2*u2 + t1*u2^2 - t2*u2^2 + t1*t2 - t2^2 - 2*t2*u1 + 2*t2*u2)*nu/((t1 - t2)*(t2 - u2)*(u2 - 1)*u2) -(t2^2*u1^2 - 2*t1*t2*u1*u2 + t1*t2*u2^2 + t1*u1*u2^2 - t2*u1*u2^2 + t1*t2*u1 - t2^2*u1 - t2*u1^2 + 2*t2*u1*u2 - t1*u2^2)/((t1 - t2)*(t2 - u2)*(u2 - 1)*u2)                                                                                                                                                           1]"
      ]
     },
     "execution_count": 134,
     "metadata": {},
     "output_type": "execute_result"
    }
   ],
   "source": [
    "TT"
   ]
  },
  {
   "cell_type": "code",
   "execution_count": 135,
   "metadata": {
    "scrolled": true
   },
   "outputs": [
    {
     "data": {
      "text/html": [
       "<html><script type=\"math/tex; mode=display\">\\newcommand{\\Bold}[1]{\\mathbf{#1}}\\left(\\begin{array}{rrr}\n",
       "1 & 0 & 0 \\\\\n",
       "0 & 1 & 0 \\\\\n",
       "0 & 0 & 1\n",
       "\\end{array}\\right)</script></html>"
      ],
      "text/plain": [
       "[1 0 0]\n",
       "[0 1 0]\n",
       "[0 0 1]"
      ]
     },
     "execution_count": 135,
     "metadata": {},
     "output_type": "execute_result"
    }
   ],
   "source": [
    "# Since tau is an involution, the following should be the identity matrix\n",
    "print (TT * (TT.subs(u1==u1_bar))).simplify_rational().factor()"
   ]
  },
  {
   "cell_type": "markdown",
   "metadata": {},
   "source": [
    "### Change of basis:\n",
    "\n",
    "Let us compute the matrix `B` which appears in 'Universal Family Invariant' to verify we got the same result."
   ]
  },
  {
   "cell_type": "code",
   "execution_count": 59,
   "metadata": {},
   "outputs": [],
   "source": [
    "# The \"base change matrix\" B, going from the standard basis Nabla_0, Theta_i to the equivariant versions \\hat Nabla_0, \\hat Theta_i\n",
    "B = ~((identity_matrix(3) + TT.subs(u1==u1_bar))/2)\n",
    "B = IBC.simplify_rational().factor()"
   ]
  },
  {
   "cell_type": "code",
   "execution_count": 67,
   "metadata": {},
   "outputs": [
    {
     "name": "stdout",
     "output_type": "stream",
     "text": [
      "[                                                                                                                                                                                                                                                                                                                                                                                                                                                                                                                               1                                                                                                                                                                                                                                                                                                                                                                                                                                                                                                                                0                                                                                                                                                                                                                                                                                                                                                                                                                                                                                                                                0]\n",
      "[                                                                                                                                                                                                                                                                                                                                          (t1*t2*u1 - t1*t2*u2 - t1*u1*u2 + t2*u1*u2 - t2*u1 + t1*u2)*n/(t1*t2*u1^2 - 2*t1*t2*u1*u2 - t1*u1^2*u2 + t2*u1^2*u2 + t1^2*u2^2 - t2*u1^2 - t1^2*u2 + t1*t2*u2 + 2*t1*u1*u2 - t1*u2^2)                                                                                                                                                                                                                                                                                                          2*(t1*t2*u1 - t1*t2*u2 - t1*u1*u2 + t2*u1*u2 - t2*u1 + t1*u2)^2/((t1*t2*u1^2 - 2*t1*t2*u1*u2 - t1*u1^2*u2 + t2*u1^2*u2 + t1^2*u2^2 - t2*u1^2 - t1^2*u2 + t1*t2*u2 + 2*t1*u1*u2 - t1*u2^2)*(t1*t2 - t1*u2 + t2*u2 - t2))                                                                                                                                                                                                                                                                                                                                                                                                                                                                                                                                0]\n",
      "[-1/4*(2*t1*t2^2*u1^2*u2 - 3*t1*t2*u1^2*u2^2 - 2*t1^2*t2*u2^3 + 2*t1*t2*u1*u2^3 + t1*u1^2*u2^3 - t2*u1^2*u2^3 + t1^2*u2^4 - t1*t2^2*u1^2 - 2*t1*t2^2*u1*u2 + t1*t2*u1^2*u2 - t2^2*u1^2*u2 + 3*t1^2*t2*u2^2 + 3*t2*u1^2*u2^2 - t1^2*u2^3 + t1*t2*u2^3 - 2*t1*u1*u2^3 - t1*u2^4 + t2^2*u1^2 - t1^2*t2*u2 + t1*t2^2*u2 + 2*t1*t2*u1*u2 - 2*t2*u1^2*u2 - 3*t1*t2*u2^2 + 2*t1*u2^3)*n/((t1*t2*u1^2 - 2*t1*t2*u1*u2 - t1*u1^2*u2 + t2*u1^2*u2 + t1^2*u2^2 - t2*u1^2 - t1^2*u2 + t1*t2*u2 + 2*t1*u1*u2 - t1*u2^2)*(t2 - u2)*(u2 - 1)*u2)                                                                                                                                                                                                                                    -(t2^2*u1^2 - 2*t1*t2*u1*u2 + t1*t2*u2^2 + t1*u1*u2^2 - t2*u1*u2^2 + t1*t2*u1 - t2^2*u1 - t2*u1^2 + 2*t2*u1*u2 - t1*u2^2)*(t1 - 1)*t1/((t1*t2*u1^2 - 2*t1*t2*u1*u2 - t1*u1^2*u2 + t2*u1^2*u2 + t1^2*u2^2 - t2*u1^2 - t1^2*u2 + t1*t2*u2 + 2*t1*u1*u2 - t1*u2^2)*(t1*t2 - t1*u2 + t2*u2 - t2))                                                                                                                                                                                                                                                                                                                                                                                                                                                                                                                                1]\n"
     ]
    }
   ],
   "source": [
    "print B"
   ]
  },
  {
   "cell_type": "markdown",
   "metadata": {},
   "source": [
    "# The 2-form $\\omega = dc_1\\wedge du_1 + dc_2\\wedge du_2$\n",
    "\n",
    "We want to verify that the 2-form $\\omega$ is invariant under the involution $\\tau_*:$\n",
    "\n",
    "$$ \\tau_* \\;\\colon\\; (u_1,u_2) \\mapsto (\\bar{u}_1, u2), \\quad (c_1, c_2) \\mapsto (\\bar{c}_1, \\bar{c}_2), $$\n",
    "\n",
    "where $(1, \\bar{c}_1, \\bar{c}_2) = \\mathrm{T}(1,c_1,c_2)$.\n",
    "\n",
    "Let us begin with $\\bar{\\omega} = d\\bar{c}_1\\wedge d\\bar{u}_1 + d\\bar{c}_2\\wedge du_2$ and pull it back with $\\tau$."
   ]
  },
  {
   "cell_type": "code",
   "execution_count": 68,
   "metadata": {},
   "outputs": [],
   "source": [
    "c1_bar = (TT*vector([1, c1, c2]))[1].simplify_rational()\n",
    "c2_bar = (TT*vector([1, c1, c2]))[2].simplify_rational()"
   ]
  },
  {
   "cell_type": "code",
   "execution_count": 69,
   "metadata": {},
   "outputs": [],
   "source": [
    "# Compute dc1_bar\n",
    "\n",
    "# Save differential as a dictionary:\n",
    "dc1_bar = {}\n",
    "dc1_bar['dc1'] = diff(c1_bar, c1).simplify_rational().factor()\n",
    "dc1_bar['dc2'] = diff(c1_bar, c2).simplify_rational()           # = 0\n",
    "dc1_bar['du1'] = diff(c1_bar, u1).simplify_rational().factor()\n",
    "dc1_bar['du2'] = diff(c1_bar, u2).simplify_rational().factor()"
   ]
  },
  {
   "cell_type": "code",
   "execution_count": 70,
   "metadata": {},
   "outputs": [],
   "source": [
    "# Compute dc2_bar\n",
    "\n",
    "# Save differential as a dictionary:\n",
    "dc2_bar = {}\n",
    "dc2_bar['dc1'] = diff(c2_bar, c1).simplify_rational().factor()\n",
    "dc2_bar['dc2'] = diff(c2_bar, c2).simplify_rational().factor()\n",
    "dc2_bar['du1'] = diff(c2_bar, u1).simplify_rational().factor()\n",
    "dc2_bar['du2'] = diff(c2_bar, u2).simplify_rational().factor()"
   ]
  },
  {
   "cell_type": "code",
   "execution_count": 71,
   "metadata": {},
   "outputs": [],
   "source": [
    "# Compute du1_bar\n",
    "\n",
    "# Save differential as a dictionary:\n",
    "du1_bar = {}\n",
    "du1_bar['dc1'] = 0\n",
    "du1_bar['dc2'] = 0\n",
    "du1_bar['du1'] = diff(u1_bar, u1).simplify_rational().factor()\n",
    "du1_bar['du2'] = diff(u1_bar, u2).simplify_rational().factor()"
   ]
  },
  {
   "cell_type": "code",
   "execution_count": 72,
   "metadata": {},
   "outputs": [],
   "source": [
    "# Save du2 as a dictionary:\n",
    "du2 = {'dc1': 0, 'dc2': 0, 'du1': 0, 'du2': 1}"
   ]
  },
  {
   "cell_type": "code",
   "execution_count": 73,
   "metadata": {},
   "outputs": [],
   "source": [
    "keys = ['dc1^du1', 'dc1^du2', 'dc2^du1', 'dc2^du2', 'dc1^dc2', 'du1^du2']\n",
    "omega = {key: 0 for key in keys}\n",
    "\n",
    "# Coming from dc1_bar^du1_bar\n",
    "omega['dc1^du1'] += dc1_bar['dc1'] * du1_bar['du1']\n",
    "omega['dc1^du2'] += dc1_bar['dc1'] * du1_bar['du2']\n",
    "omega['dc2^du1'] += dc1_bar['dc2'] * du1_bar['du1']\n",
    "omega['dc2^du2'] += dc1_bar['dc2'] * du1_bar['du2']\n",
    "omega['du1^du2'] += dc1_bar['du1'] * du1_bar['du2']\n",
    "omega['du1^du2'] += - dc1_bar['du2'] * du1_bar['du1']\n",
    "\n",
    "# Coming from dc2_bar^du2\n",
    "omega['dc1^du2'] += dc2_bar['dc1'] * du2['du2']\n",
    "omega['dc2^du2'] += dc2_bar['dc2'] * du2['du2']\n",
    "omega['du1^du2'] += dc2_bar['du1'] * du2['du2']"
   ]
  },
  {
   "cell_type": "code",
   "execution_count": 74,
   "metadata": {},
   "outputs": [],
   "source": [
    "# Simplify the above terms:\n",
    "for key in keys:\n",
    "    try:\n",
    "        omega[key] = omega[key].simplify_rational()\n",
    "    except:\n",
    "        next"
   ]
  },
  {
   "cell_type": "code",
   "execution_count": 75,
   "metadata": {
    "scrolled": true
   },
   "outputs": [
    {
     "name": "stdout",
     "output_type": "stream",
     "text": [
      "dc1^du1 term:\n",
      "1 \n",
      "\n",
      "dc1^du2 term:\n",
      "0 \n",
      "\n",
      "dc2^du1 term:\n",
      "0 \n",
      "\n",
      "dc2^du2 term:\n",
      "1 \n",
      "\n",
      "dc1^dc2 term:\n",
      "0 \n",
      "\n",
      "du1^du2 term:\n",
      "0 \n",
      "\n"
     ]
    }
   ],
   "source": [
    "# Print the pullback of omega by tau\n",
    "for key in keys:\n",
    "    print '{} term:\\n'.format(key), omega[key], '\\n'"
   ]
  },
  {
   "cell_type": "markdown",
   "metadata": {},
   "source": [
    "This confirms that the symplectic 2-form $\\omega$ is invariant under the involution $\\tau$."
   ]
  },
  {
   "cell_type": "markdown",
   "metadata": {},
   "source": [
    "# The map into the moduli space $\\operatorname{Bun}(C,T) = \\mathbb{P}^1_z\\times\\mathbb{P}^1_w$.\n",
    "\n",
    "The map $\\mathbb{P}^1_{u_1} \\times \\mathbb{P}^1_{u_2} \\longrightarrow \\mathbb{P}^1_z \\times \\mathbb{P}^1_w$ was computed by Fernández-Vargas, we import his formulas here.\n",
    "\n",
    "**Remark:** Note that in fact we have the following:\n",
    "\n",
    "* `z` is the x-coordinate of the second point of intersection of `S_Sigma` with the horizontal line $\\zeta=\\infty$, or equivalent the unique pole of $\\sigma_\\tau$.\n",
    "\n",
    "* `w` has the same formula as `u1_bar` after exchanging `(t1, u1) <---> (t2,u2)`."
   ]
  },
  {
   "cell_type": "code",
   "execution_count": 137,
   "metadata": {},
   "outputs": [],
   "source": [
    "z = t2*(u2-1)/(u2-t2)\n",
    "w = (t2*u1 - u2*t1 - t2 + u2 - u1 + t1)*t2*u1/(t2*u2*u1 - t2*u2*t1 + t2*u1*t1 - u2*u1*t1 - t2*u1 + u2*t1)"
   ]
  }
 ],
 "metadata": {
  "kernelspec": {
   "display_name": "SageMath 8.7",
   "language": "",
   "name": "sagemath"
  },
  "language_info": {
   "codemirror_mode": {
    "name": "ipython",
    "version": 2
   },
   "file_extension": ".py",
   "mimetype": "text/x-python",
   "name": "python",
   "nbconvert_exporter": "python",
   "pygments_lexer": "ipython2",
   "version": "2.7.15"
  }
 },
 "nbformat": 4,
 "nbformat_minor": 2
}
