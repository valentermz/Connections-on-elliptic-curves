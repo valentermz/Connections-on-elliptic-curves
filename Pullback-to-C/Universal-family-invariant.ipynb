{
 "cells": [
  {
   "cell_type": "markdown",
   "metadata": {},
   "source": [
    "# Conections invariant under the involution\n",
    "\n",
    "Let $C$ be the elliptic curve is given by $y^2 = P(x)$, where $P(x) = x(x-1)(x-\\lambda)$. We consider here connections on the trivial bundle $\\mathcal{O}_C\\oplus\\mathcal{O}_C$ having two logarithmic singularities over two points in involution $t_1,t_2$ and two apparent singularities over another pair of points in involution $p_1,p_2$.  "
   ]
  },
  {
   "cell_type": "code",
   "execution_count": 1,
   "metadata": {},
   "outputs": [
    {
     "data": {
      "text/html": [
       "<style>.container { width:85% !important; }</style>"
      ],
      "text/plain": [
       "<IPython.core.display.HTML object>"
      ]
     },
     "metadata": {},
     "output_type": "display_data"
    }
   ],
   "source": [
    "import re\n",
    "from IPython.core.display import display, HTML, Math\n",
    "\n",
    "# Define the width of the cells\n",
    "display(HTML(\"<style>.container { width:85% !important; }</style>\"))\n",
    "\n",
    "def DM(expression):\n",
    "    \"\"\"Short for DisplayMath: converts symbolic expression into latex and displays it nicely\"\"\"\n",
    "    return display(Math(latex(expression)))"
   ]
  },
  {
   "cell_type": "code",
   "execution_count": 2,
   "metadata": {
    "scrolled": true
   },
   "outputs": [],
   "source": [
    "# We use the following variables:\n",
    "var('x y z L t r p q u n a_0 a_1 a_2 b_0 b_1 b_2 b_3 c1 c2')\n",
    "variables = [x, y, L, t, r, p, q, u, n]\n",
    "parameters = [a_0, a_1, a_2, b_0, b_1, b_2, b_3]"
   ]
  },
  {
   "cell_type": "markdown",
   "metadata": {},
   "source": [
    "| Variable | Meaning |\n",
    "| :---: | --- |\n",
    "| `(x,y)` | Coordinates on $\\mathbb{C}^2$ |\n",
    "| `P` | The polynomial $x(x-1)(x-\\lambda)$ defining the curve $C$ |\n",
    "| `z` | Coordinate on the (projectivized) fiber is $[1:z]$ |\n",
    "| `L` | The number $\\lambda$ defining the curve |\n",
    "| `(t,r)` | The coordinates of the point $t_1$ |\n",
    "| `(p,q)` | The coordinates of the point $p_1$ |\n",
    "| `u` | $z$-coordinate of the parabolic point over $t_1$ |\n",
    "| `n` | Stands for $\\eta$, the exponent of the singularity over $t_1$ |\n",
    "| `a_i, b_i` | Parameters defining a connection |\n",
    "| `c1, c2` | Coefficients used to combine $\\nabla_0$, $\\Theta_1$ and $\\Theta_2$ |\n",
    "| `k1, k2` | Coefficients used to combine $\\hat\\nabla_0$, $\\hat\\Theta_1$ and $\\hat\\Theta_2$ |"
   ]
  },
  {
   "cell_type": "markdown",
   "metadata": {},
   "source": [
    "A connection in our family is given as\n",
    "\n",
    "$$\\nabla = d + \\frac{M}{(x-p)(x-t)}\\frac{dx}{y}, \\quad M=\\pmatrix{\n",
    "    \\alpha & \\beta \\\\\n",
    "    \\gamma & -\\alpha \\\\\n",
    "},$$\n",
    "\n",
    "where $\\alpha = a_0 + a_1x + a_2x^2 + a_3y$, and so on."
   ]
  },
  {
   "cell_type": "markdown",
   "metadata": {},
   "source": [
    "### Invariance conditions \n",
    "\n",
    "We choose to use the following normal form:  \n",
    "`a_3=0, c_3=b_3, c_2=-b_2, c_1=-b_1, c_0=-b_0.`  \n",
    "\n",
    "This means that the connection $\\nabla$ is invariant by the following transformation: Pull back $\\nabla$ by the elliptic involution and exchange the order of the standard basis of $\\mathcal{O}_C\\oplus\\mathcal{O}_C$. In particular the parabolic over $t_2$ is located at `1/u`."
   ]
  },
  {
   "cell_type": "code",
   "execution_count": 3,
   "metadata": {},
   "outputs": [],
   "source": [
    "a_3=0\n",
    "c_3=b_3\n",
    "c_2=-b_2\n",
    "c_1=-b_1\n",
    "c_0=-b_0"
   ]
  },
  {
   "cell_type": "code",
   "execution_count": 4,
   "metadata": {},
   "outputs": [],
   "source": [
    "a = a_0 + a_1*x + a_2*x^2 + a_3*y\n",
    "b = b_0 + b_1*x + b_2*x^2 + b_3*y\n",
    "c = c_0 + c_1*x + c_2*x^2 + c_3*y"
   ]
  },
  {
   "cell_type": "code",
   "execution_count": 5,
   "metadata": {},
   "outputs": [],
   "source": [
    "M = matrix([[a, b], [c, -a]])\n",
    "P = x*(x-1)*(x-L)\n",
    "dP = diff(P, x)"
   ]
  },
  {
   "cell_type": "code",
   "execution_count": 6,
   "metadata": {},
   "outputs": [],
   "source": [
    "# Auxiliary function to simplify powers of q and r (up to degree 4)\n",
    "\n",
    "q2 = P.subs(x==p)\n",
    "r2 = P.subs(x==t)\n",
    "\n",
    "# Create dictionaries to pass onto the 'sage_eval' command\n",
    "dict_vars = {str(variable): variable for variable in variables}\n",
    "dict_vars['r2'] = r2\n",
    "dict_vars['q2']  = q2\n",
    "\n",
    "dict_params = dict_vars.copy()\n",
    "dict_params.update({str(param): param for param in parameters})\n",
    "\n",
    "def simplify_qr(expr, dictionary=dict_vars):\n",
    "    \"\"\"Convert expr to a string and replace powers of q and r\"\"\"\n",
    "    expr = expr.simplify_rational()\n",
    "    num = expr.numerator().expand()\n",
    "    str_num = str(num)\n",
    "    str_num = re.sub('q\\^2', 'q2', str_num)\n",
    "    str_num = re.sub('q\\^3', 'q*q2', str_num)\n",
    "    str_num = re.sub('q\\^4', 'q2^2', str_num)\n",
    "    str_num = re.sub('r\\^2', 'r2', str_num)\n",
    "    str_num = re.sub('r\\^3', 'r*r2', str_num)\n",
    "    str_num = re.sub('r\\^4', 'r2^2', str_num)\n",
    "    \n",
    "    den = expr.denominator().expand()\n",
    "    str_den = str(den)\n",
    "    str_den = re.sub('q\\^2', 'q2', str_den)\n",
    "    str_den = re.sub('q\\^3', 'q*q2', str_den)\n",
    "    str_den = re.sub('q\\^4', 'q2^2', str_den)\n",
    "    str_den = re.sub('r\\^2', 'r2', str_den)\n",
    "    str_den = re.sub('r\\^3', 'r*r2', str_den)\n",
    "    str_den = re.sub('r\\^4', 'r2^2', str_den)\n",
    "    \n",
    "    new_expr = sage_eval(str_num, locals=dictionary)/sage_eval(str_den, locals=dictionary)\n",
    "    new_expr = new_expr.simplify_rational()\n",
    "    if new_expr == 0:\n",
    "        return new_expr\n",
    "    else:\n",
    "        return new_expr.factor()"
   ]
  },
  {
   "cell_type": "markdown",
   "metadata": {},
   "source": [
    "## Computation of the residues\n",
    "\n",
    "The residues are given by the following formulas:\n",
    "\n",
    "$\\operatorname{Res}_{p_i}\\nabla = \\operatorname{Res}_{p_i} \\frac{M}{y(x-t)} \\frac{dx}{x-p} = \\frac{M(p_i)}{\\pm q(p-t)}$\n",
    "\n",
    "$\\operatorname{Res}_{t_i}\\nabla = \\operatorname{Res}_{t_i} \\frac{M}{y(x-p)} \\frac{dx}{x-t} = \\frac{M(t_i)}{\\pm r(t-p)}$"
   ]
  },
  {
   "cell_type": "code",
   "execution_count": 8,
   "metadata": {},
   "outputs": [],
   "source": [
    "Res = ['']*4\n",
    "\n",
    "Res[0] = (M/(y*(x-t))).subs(Sing[0])\n",
    "Res[1] = (M/(y*(x-t))).subs(Sing[1])\n",
    "Res[2] = (M/(y*(x-p))).subs(Sing[2])\n",
    "Res[3] = (M/(y*(x-p))).subs(Sing[3])"
   ]
  },
  {
   "cell_type": "markdown",
   "metadata": {},
   "source": [
    "## Linear conditions on the type of singularities\n",
    "\n",
    "The parameters `a_i, b_i` are subject to the following constrains:\n",
    "\n",
    "* The residue at $p_1$ has `(0,1)` as a parabolic direction with eigenvalue `1/2`,\n",
    "* The residue at $t_1$ has `(1,u)` as parabolic direction with eigenvalue `n/2`.\n",
    "\n",
    "By symmetry, this also fixes the type of singularities over $p_2$ and $t_2$."
   ]
  },
  {
   "cell_type": "code",
   "execution_count": 9,
   "metadata": {},
   "outputs": [],
   "source": [
    "# We get 5 equations besides the invariance conditions\n",
    "Eq = [0]*5"
   ]
  },
  {
   "cell_type": "markdown",
   "metadata": {},
   "source": [
    "Parabolic direction and eigenvalue over $p_1$:"
   ]
  },
  {
   "cell_type": "code",
   "execution_count": 10,
   "metadata": {},
   "outputs": [],
   "source": [
    "Eq[0] = Res[0][0][1].numerator()\n",
    "Eq[1] = (Res[0][1][1] - 1/2).simplify_rational().numerator()"
   ]
  },
  {
   "cell_type": "markdown",
   "metadata": {},
   "source": [
    "Parabolic direction and eigenvalue over $t_1$:"
   ]
  },
  {
   "cell_type": "code",
   "execution_count": 11,
   "metadata": {},
   "outputs": [],
   "source": [
    "V1 = Res[2]*vector([1, u]) - (n/2)*vector([1, u])"
   ]
  },
  {
   "cell_type": "code",
   "execution_count": 12,
   "metadata": {},
   "outputs": [],
   "source": [
    "Eq[2] = V1[0].simplify_rational().numerator()\n",
    "Eq[3] = V1[1].simplify_rational().numerator()"
   ]
  },
  {
   "cell_type": "markdown",
   "metadata": {},
   "source": [
    "There is one more linear condition that guarantees that the singularity over $p_1$ is apparent. To find it, let us expand $y=\\sqrt{P(x)}$ as a power series near $p_1$:  \n",
    "$ y(x) = q + \\frac{1}{2q}P'(p)(x-p) + \\ldots$"
   ]
  },
  {
   "cell_type": "code",
   "execution_count": 13,
   "metadata": {},
   "outputs": [],
   "source": [
    "# reacall: P = x*(x-1)*(x-L)\n",
    "l = diff(P, x).subs(x==p).expand()\n",
    "y_truncated = q + l*(x-p)/(2*q)"
   ]
  },
  {
   "cell_type": "code",
   "execution_count": 14,
   "metadata": {},
   "outputs": [],
   "source": [
    "C01 = (M[0][1]/(y*(x-t))).subs(y==y_truncated)"
   ]
  },
  {
   "cell_type": "code",
   "execution_count": 15,
   "metadata": {},
   "outputs": [],
   "source": [
    "constant_term = diff(C01, x).subs(x==p)"
   ]
  },
  {
   "cell_type": "code",
   "execution_count": 16,
   "metadata": {},
   "outputs": [],
   "source": [
    "# Simplify q^2 and q^3 using 'simplify_qr'\n",
    "Eq[4] = simplify_qr(constant_term, dictionary=dict_params).numerator() "
   ]
  },
  {
   "cell_type": "markdown",
   "metadata": {},
   "source": [
    "### The five linear conditions:"
   ]
  },
  {
   "cell_type": "code",
   "execution_count": 17,
   "metadata": {},
   "outputs": [
    {
     "name": "stdout",
     "output_type": "stream",
     "text": [
      "b_2*p^2 + b_1*p + b_3*q + b_0 \n",
      "\n",
      "-2*a_2*p^2 - 2*a_1*p - p*q + q*t - 2*a_0 \n",
      "\n",
      "-2*b_2*t^2*u - n*p*r + n*r*t - 2*a_2*t^2 - 2*b_3*r*u - 2*b_1*t*u - 2*a_1*t - 2*b_0*u - 2*a_0 \n",
      "\n",
      "-n*p*r*u + n*r*t*u + 2*a_2*t^2*u + 2*b_2*t^2 + 2*a_1*t*u - 2*b_3*r + 2*b_1*t + 2*a_0*u + 2*b_0 \n",
      "\n",
      "b_2*p^5 - 2*L*b_2*p^3*t + b_2*p^4*t - 2*L*b_1*p^3 - L*b_2*p^3 + 3*b_1*p^4 - 2*L*b_3*p^2*q + 2*b_3*p^3*q + 3*L*b_2*p^2*t - b_1*p^3*t - 2*b_2*p^3*t - 4*L*b_0*p^2 + L*b_1*p^2 + 5*b_0*p^3 - 2*b_1*p^3 + 2*L*b_3*p*q - 2*b_3*p^2*q + 2*L*b_0*p*t + L*b_1*p*t - 3*b_0*p^2*t + 3*L*b_0*p - 4*b_0*p^2 - L*b_0*t + 2*b_0*p*t \n",
      "\n"
     ]
    }
   ],
   "source": [
    "for e in Eq:\n",
    "    print e.factor(), '\\n'"
   ]
  },
  {
   "cell_type": "code",
   "execution_count": 18,
   "metadata": {},
   "outputs": [],
   "source": [
    "Sols = solve(Eq, [a_0, a_1, b_0, b_1, b_2])[0]  # a_2, b_3 are free"
   ]
  },
  {
   "cell_type": "code",
   "execution_count": 19,
   "metadata": {},
   "outputs": [
    {
     "name": "stdout",
     "output_type": "stream",
     "text": [
      "a_0 = 1/2*(n*p^2*r*u^2 + 2*a_2*p^2*t*u^2 - n*p*r*t*u^2 - 2*a_2*p*t^2*u^2 + p*q*t*u^2 - q*t^2*u^2 + n*p^2*r - 2*a_2*p^2*t - n*p*r*t + 2*a_2*p*t^2 + 4*b_3*p*r*u - p*q*t + q*t^2)/((p - t)*(u + 1)*(u - 1)) \n",
      "\n",
      "a_1 = -1/2*(2*a_2*p^2*u^2 + n*p*r*u^2 - n*r*t*u^2 - 2*a_2*t^2*u^2 + p*q*u^2 - q*t*u^2 - 2*a_2*p^2 + n*p*r - n*r*t + 2*a_2*t^2 + 4*b_3*r*u - p*q + q*t)/((p - t)*(u + 1)*(u - 1)) \n",
      "\n",
      "a_2 = a_2 \n",
      "\n",
      "b_0 = -1/2*(2*L*n*p^4*r*u - 2*n*p^5*r*u - 2*L*n*p^3*r*t*u + 2*n*p^4*r*t*u + 2*L*b_3*p^3*r*u^2 - 2*b_3*p^4*r*u^2 - 2*L*b_3*p^2*q*t*u^2 + b_3*p^3*q*t*u^2 + b_3*p^2*q*t^2*u^2 - 2*L*n*p^3*r*u + 2*n*p^4*r*u + 2*L*n*p^2*r*t*u - 2*n*p^3*r*t*u - 2*L*b_3*p^2*r*u^2 + 2*b_3*p^3*r*u^2 + 3*L*b_3*p*q*t*u^2 - 2*b_3*p^2*q*t*u^2 - L*b_3*q*t^2*u^2 + 2*L*b_3*p^3*r - 2*b_3*p^4*r + 2*L*b_3*p^2*q*t - b_3*p^3*q*t - b_3*p^2*q*t^2 - 2*L*b_3*p^2*r + 2*b_3*p^3*r - 3*L*b_3*p*q*t + 2*b_3*p^2*q*t + L*b_3*q*t^2)/((L - p)*(p - t)^2*(p - 1)*(u + 1)*(u - 1)) \n",
      "\n",
      "b_1 = 1/2*(4*L*n*p^4*r*u - 4*n*p^5*r*u - 4*L*n*p^3*r*t*u + 4*n*p^4*r*t*u - 2*L*b_3*p^3*q*u^2 + b_3*p^4*q*u^2 + 4*L*b_3*p^3*r*u^2 - 4*b_3*p^4*r*u^2 - 2*L*b_3*p*q*t^2*u^2 + 3*b_3*p^2*q*t^2*u^2 - 4*L*n*p^3*r*u + 4*n*p^4*r*u + 4*L*n*p^2*r*t*u - 4*n*p^3*r*t*u + 3*L*b_3*p^2*q*u^2 - 2*b_3*p^3*q*u^2 - 4*L*b_3*p^2*r*u^2 + 4*b_3*p^3*r*u^2 + L*b_3*q*t^2*u^2 - 2*b_3*p*q*t^2*u^2 + 2*L*b_3*p^3*q - b_3*p^4*q + 4*L*b_3*p^3*r - 4*b_3*p^4*r + 2*L*b_3*p*q*t^2 - 3*b_3*p^2*q*t^2 - 3*L*b_3*p^2*q + 2*b_3*p^3*q - 4*L*b_3*p^2*r + 4*b_3*p^3*r - L*b_3*q*t^2 + 2*b_3*p*q*t^2)/((L - p)*(p - t)^2*(p - 1)*p*(u + 1)*(u - 1)) \n",
      "\n",
      "b_2 = -1/2*(2*L*n*p^3*r*u - 2*n*p^4*r*u - 2*L*n*p^2*r*t*u + 2*n*p^3*r*t*u - b_3*p^3*q*u^2 + 2*L*b_3*p^2*r*u^2 - 2*b_3*p^3*r*u^2 - 2*L*b_3*p*q*t*u^2 + 3*b_3*p^2*q*t*u^2 - 2*L*n*p^2*r*u + 2*n*p^3*r*u + 2*L*n*p*r*t*u - 2*n*p^2*r*t*u + L*b_3*p*q*u^2 - 2*L*b_3*p*r*u^2 + 2*b_3*p^2*r*u^2 + L*b_3*q*t*u^2 - 2*b_3*p*q*t*u^2 + b_3*p^3*q + 2*L*b_3*p^2*r - 2*b_3*p^3*r + 2*L*b_3*p*q*t - 3*b_3*p^2*q*t - L*b_3*p*q - 2*L*b_3*p*r + 2*b_3*p^2*r - L*b_3*q*t + 2*b_3*p*q*t)/((L - p)*(p - t)^2*(p - 1)*p*(u + 1)*(u - 1)) \n",
      "\n",
      "b_3 = b_3 \n",
      "\n"
     ]
    }
   ],
   "source": [
    "# The values of the parameters in terms of a_2, b_3\n",
    "for param in parameters:\n",
    "    if param.subs(Sols) == 0:\n",
    "        print '{} = 0'.format(param), '\\n'\n",
    "    else:\n",
    "        print '{} ='.format(param), param.subs(Sols).simplify_rational().factor(), '\\n'"
   ]
  },
  {
   "cell_type": "markdown",
   "metadata": {},
   "source": [
    "**Remark:** The parameter `a_2` does not appear in the residues !"
   ]
  },
  {
   "cell_type": "code",
   "execution_count": 20,
   "metadata": {},
   "outputs": [
    {
     "name": "stdout",
     "output_type": "stream",
     "text": [
      "Residue at [x == p, y == q]:\n"
     ]
    },
    {
     "data": {
      "text/latex": [
       "$$\\left(\\begin{array}{rr}\n",
       "-\\frac{1}{2} & 0 \\\\\n",
       "\\frac{2 \\, b_{3}}{p - t} & \\frac{1}{2}\n",
       "\\end{array}\\right)$$"
      ],
      "text/plain": [
       "<IPython.core.display.Math object>"
      ]
     },
     "metadata": {},
     "output_type": "display_data"
    },
    {
     "name": "stdout",
     "output_type": "stream",
     "text": [
      "\n",
      "Residue at [x == p, y == -q]:\n"
     ]
    },
    {
     "data": {
      "text/latex": [
       "$$\\left(\\begin{array}{rr}\n",
       "\\frac{1}{2} & \\frac{2 \\, b_{3}}{p - t} \\\\\n",
       "0 & -\\frac{1}{2}\n",
       "\\end{array}\\right)$$"
      ],
      "text/plain": [
       "<IPython.core.display.Math object>"
      ]
     },
     "metadata": {},
     "output_type": "display_data"
    },
    {
     "name": "stdout",
     "output_type": "stream",
     "text": [
      "\n",
      "Residue at [x == t, y == r]:\n"
     ]
    },
    {
     "data": {
      "text/latex": [
       "$$\\left(\\begin{array}{rr}\n",
       "-\\frac{n p u^{2} - n t u^{2} + n p - n t + 4 \\, b_{3} u}{2 \\, {\\left(p - t\\right)} {\\left(u + 1\\right)} {\\left(u - 1\\right)}} & \\frac{n p u - n t u + 2 \\, b_{3}}{{\\left(p - t\\right)} {\\left(u + 1\\right)} {\\left(u - 1\\right)}} \\\\\n",
       "-\\frac{{\\left(n p - n t + 2 \\, b_{3} u\\right)} u}{{\\left(p - t\\right)} {\\left(u + 1\\right)} {\\left(u - 1\\right)}} & \\frac{n p u^{2} - n t u^{2} + n p - n t + 4 \\, b_{3} u}{2 \\, {\\left(p - t\\right)} {\\left(u + 1\\right)} {\\left(u - 1\\right)}}\n",
       "\\end{array}\\right)$$"
      ],
      "text/plain": [
       "<IPython.core.display.Math object>"
      ]
     },
     "metadata": {},
     "output_type": "display_data"
    },
    {
     "name": "stdout",
     "output_type": "stream",
     "text": [
      "\n",
      "Residue at [x == t, y == -r]:\n"
     ]
    },
    {
     "data": {
      "text/latex": [
       "$$\\left(\\begin{array}{rr}\n",
       "\\frac{n p u^{2} - n t u^{2} + n p - n t + 4 \\, b_{3} u}{2 \\, {\\left(p - t\\right)} {\\left(u + 1\\right)} {\\left(u - 1\\right)}} & -\\frac{{\\left(n p - n t + 2 \\, b_{3} u\\right)} u}{{\\left(p - t\\right)} {\\left(u + 1\\right)} {\\left(u - 1\\right)}} \\\\\n",
       "\\frac{n p u - n t u + 2 \\, b_{3}}{{\\left(p - t\\right)} {\\left(u + 1\\right)} {\\left(u - 1\\right)}} & -\\frac{n p u^{2} - n t u^{2} + n p - n t + 4 \\, b_{3} u}{2 \\, {\\left(p - t\\right)} {\\left(u + 1\\right)} {\\left(u - 1\\right)}}\n",
       "\\end{array}\\right)$$"
      ],
      "text/plain": [
       "<IPython.core.display.Math object>"
      ]
     },
     "metadata": {},
     "output_type": "display_data"
    },
    {
     "name": "stdout",
     "output_type": "stream",
     "text": [
      "\n"
     ]
    }
   ],
   "source": [
    "for k in range(4):\n",
    "    print 'Residue at {}:'.format(Sing[k])\n",
    "    DM(Res[k].subs(Sols).simplify_rational().factor())\n",
    "    print ''"
   ]
  },
  {
   "cell_type": "code",
   "execution_count": 21,
   "metadata": {
    "scrolled": true
   },
   "outputs": [
    {
     "name": "stdout",
     "output_type": "stream",
     "text": [
      "[(-1/2, [(1, -2*b_3/(p - t))], 1), (1/2, [(0, 1)], 1)]\n",
      "[(-1/2, [(1, -1/2*(p - t)/b_3)], 1), (1/2, [(1, 0)], 1)]\n",
      "[(-1/2*n, [(1, (n*p - n*t + 2*b_3*u)/((n*p - n*t)*u + 2*b_3))], 1), (1/2*n, [(1, u)], 1)]\n",
      "[(-1/2*n, [(1, ((n*p - n*t)*u + 2*b_3)/(n*p - n*t + 2*b_3*u))], 1), (1/2*n, [(1, 1/u)], 1)]\n"
     ]
    }
   ],
   "source": [
    "# Position of the eight singularities:\n",
    "for k in range(4):\n",
    "    print Res[k].subs(Sols).simplify_rational().factor().eigenvectors_right()"
   ]
  },
  {
   "cell_type": "code",
   "execution_count": 22,
   "metadata": {},
   "outputs": [
    {
     "name": "stdout",
     "output_type": "stream",
     "text": [
      "b_3 == 1/2*n*p - 1/2*n*t\n",
      "b_3 == -1/2*n*p + 1/2*n*t\n"
     ]
    }
   ],
   "source": [
    "# Values of b_3 needed to get singularities at z = +-1\n",
    "\n",
    "print solve((n*p - n*t + 2*b_3*u)/((n*p - n*t)*u + 2*b_3) - 1, b_3)[0]\n",
    "print solve((n*p - n*t + 2*b_3*u)/((n*p - n*t)*u + 2*b_3) + 1, b_3)[0]"
   ]
  },
  {
   "cell_type": "markdown",
   "metadata": {},
   "source": [
    "# Looking for the basis $\\nabla_0, \\Theta_1, \\Theta_2$ used by Loray-Saito"
   ]
  },
  {
   "cell_type": "markdown",
   "metadata": {},
   "source": [
    "We aim to find an explicit expression for the basis $\\nabla_0, \\Theta_1, \\Theta_2$ used by Loray-Saito over $\\mathbb{P}^1$ (after transporting these to the elliptic curve and normalizing as above).\n",
    "\n",
    "In order to do so, first we define $\\nabla_0$, $\\Theta_1^+$, $\\Theta_2^+$ which are characterized by a geometric property. Throught this section we will work exclusively with the apparent map with respect to the section $z=1$.\n",
    "\n",
    "Given a parabolic structure $(p,q,u)$, we define objects characterized by the following properties:\n",
    "\n",
    "* $\\nabla_0$ is the only connection with apparent singularities at $x=\\lambda$ and $x=t$.\n",
    "* $\\Theta_1^+$ is the only Higgs field such that the connection $\\nabla_0^+ - \\Theta_1$ has apparent singularities at $w_\\infty$ and $x=\\lambda$.\n",
    "* $\\Theta_2^+$ is the only Higgs field such that the connection $\\nabla_0^+ - \\Theta_2$ has apparent singularities at $w_\\infty$ and $x=t$.\n",
    "\n",
    "**Remark:** This definition of the $\\Theta_i^+$ differs from the $\\Theta_i$ in Loray-Saito by a constant scalar factor. Indeed, using the variables $(u_1, u_2)$ introduced by LS to describe the parabolic structure over $\\mathbb{P}^1$, we have that\n",
    "\n",
    "$$ \\Theta_i^+ = \\frac{\\eta + 1}{2(u_i - t_i)}\\Theta_i . $$\n",
    "\n",
    "Later on we'll compute $u_i$ in terms of $(p,q,u)$ and we'll be able to recover $\\Theta_i$."
   ]
  },
  {
   "cell_type": "markdown",
   "metadata": {},
   "source": [
    "## Apparent map with respect to the section $\\{z=1\\}$\n",
    "\n",
    "We define an apparent map giving the divisor of tangencies between $\\nabla$ and the subbundle $z=1$. The divisor is of degree 4 and always contains two pairs of points in involution."
   ]
  },
  {
   "cell_type": "code",
   "execution_count": 23,
   "metadata": {},
   "outputs": [
    {
     "data": {
      "text/latex": [
       "$$\\left(\\begin{array}{rr}\n",
       "a_{2} x^{2} + a_{1} x + a_{0} & b_{2} x^{2} + b_{1} x + b_{3} y + b_{0} \\\\\n",
       "-b_{2} x^{2} - b_{1} x + b_{3} y - b_{0} & -a_{2} x^{2} - a_{1} x - a_{0}\n",
       "\\end{array}\\right)$$"
      ],
      "text/plain": [
       "<IPython.core.display.Math object>"
      ]
     },
     "metadata": {},
     "output_type": "display_data"
    }
   ],
   "source": [
    "# Recall that M is given as follos:\n",
    "DM(M)"
   ]
  },
  {
   "cell_type": "markdown",
   "metadata": {},
   "source": [
    "Therefore we have that\n",
    "\n",
    "$\\operatorname{App}(x,y) = 2(a_2 + b_2)x^2 + 2(a_1 + b_1)x + 2(a_0 + b_0).$\n",
    "\n",
    "Now we compute an explicit formula:"
   ]
  },
  {
   "cell_type": "code",
   "execution_count": 24,
   "metadata": {},
   "outputs": [],
   "source": [
    "vect = (M.subs(Sols)).simplify_rational()*vector((1,1))\n",
    "APP = (vect[0] - vect[1]).simplify_rational().numerator().factor()"
   ]
  },
  {
   "cell_type": "markdown",
   "metadata": {},
   "source": [
    "### Correct values of $b_3$ and $a_2$ needed to define $\\nabla_0^+$\n",
    "\n",
    "We seek for the conection $\\nabla_0$ which is characterized as the only connection with $\\operatorname{App}(\\nabla_0) \\sim (x-t)(x-\\lambda)$. In particular, this implies that the second singularities on the fibers over $(t,r)$ and $(t,-r)$ are on $z=1$, and the Riccati foliation has a double tangency with the line $\\{z=1\\}$ at $w_\\lambda$."
   ]
  },
  {
   "cell_type": "code",
   "execution_count": 25,
   "metadata": {},
   "outputs": [],
   "source": [
    "# Value of b_3 needed to have the second singularity over t1 at z=1 is:\n",
    "B3 = 1/2*(p - t)*n"
   ]
  },
  {
   "cell_type": "code",
   "execution_count": 26,
   "metadata": {
    "scrolled": true
   },
   "outputs": [
    {
     "data": {
      "text/plain": [
       "0"
      ]
     },
     "execution_count": 26,
     "metadata": {},
     "output_type": "execute_result"
    }
   ],
   "source": [
    "# Verify that APP vanishes at x=t when the value of b_3 is given by B3 defined above\n",
    "APP.subs(b_3 == B3).factor().subs(x==t)"
   ]
  },
  {
   "cell_type": "markdown",
   "metadata": {},
   "source": [
    "We now find the correct value of $a_2$ such that APP vanishes at `x = L`"
   ]
  },
  {
   "cell_type": "code",
   "execution_count": 28,
   "metadata": {
    "scrolled": true
   },
   "outputs": [
    {
     "data": {
      "text/plain": [
       "1/4*(n*p^3*q*u + 2*L*n*p^2*r*u - 2*n*p^3*r*u - 2*L*n*p*q*t*u + n*p^2*q*t*u - n*p^3*q + 2*L*n*p^2*r - 2*n*p^3*r + 2*L*n*p*q*t - n*p^2*q*t + L*n*p*q*u - 2*n*p^2*q*u + 2*p^3*q*u - 2*L*n*p*r*u + 2*n*p^2*r*u + L*n*q*t*u - 2*p^2*q*t*u - L*n*p*q + 2*n*p^2*q - 2*p^3*q - 2*L*n*p*r + 2*n*p^2*r - L*n*q*t + 2*p^2*q*t - 2*p^2*q*u + 2*p*q*t*u + 2*p^2*q - 2*p*q*t)/((L - p)*(p - t)*(p - 1)*p*(u - 1))"
      ]
     },
     "execution_count": 28,
     "metadata": {},
     "output_type": "execute_result"
    }
   ],
   "source": [
    "A2 = a_2.subs(solve(APP.subs([x == L, b_3 == B3]), a_2))\n",
    "A2 = A2.simplify_rational().factor()\n",
    "A2"
   ]
  },
  {
   "cell_type": "code",
   "execution_count": 29,
   "metadata": {},
   "outputs": [
    {
     "data": {
      "text/plain": [
       "(L - x)*(n + 1)*(p - t)^2*(p - 1)*p*q*(t - x)*(u + 1)*(u - 1)"
      ]
     },
     "execution_count": 29,
     "metadata": {},
     "output_type": "execute_result"
    }
   ],
   "source": [
    "# Verify that these choices of a_2, b_3 are the right ones:\n",
    "APP.subs([a_2 == A2, b_3 == B3]).factor()"
   ]
  },
  {
   "cell_type": "markdown",
   "metadata": {},
   "source": [
    "## Analysis of $\\nabla_0$"
   ]
  },
  {
   "cell_type": "code",
   "execution_count": 30,
   "metadata": {},
   "outputs": [],
   "source": [
    "nabla0 = solve(Eq + [b_3 - B3, a_2 - A2], parameters)[0]  # This is a list containing the correct value of the parameters a_i, b_i\n",
    "Nabla0 = M.subs(nabla0).simplify_rational().factor()  # This is the matrix M with those correct values substituted"
   ]
  },
  {
   "cell_type": "code",
   "execution_count": 31,
   "metadata": {},
   "outputs": [
    {
     "name": "stdout",
     "output_type": "stream",
     "text": [
      "a_0 = 1/4*(2*L*n*p^3*r*u - 2*n*p^4*r*u + n*p^3*q*t*u - 2*L*n*p*q*t^2*u + n*p^2*q*t^2*u + 2*L*n*p^3*r - 2*n*p^4*r - n*p^3*q*t + 2*L*n*p*q*t^2 - n*p^2*q*t^2 - 2*L*n*p^2*r*u + 2*n*p^3*r*u + L*n*p*q*t*u + 2*L*p^2*q*t*u - 2*n*p^2*q*t*u + L*n*q*t^2*u - 2*L*p*q*t^2*u - 2*L*n*p^2*r + 2*n*p^3*r - L*n*p*q*t - 2*L*p^2*q*t + 2*n*p^2*q*t - L*n*q*t^2 + 2*L*p*q*t^2 - 2*L*p*q*t*u + 2*L*q*t^2*u + 2*L*p*q*t - 2*L*q*t^2)/((L - p)*(p - t)*(p - 1)*(u - 1)) \n",
      "\n",
      "a_1 = -1/4*(n*p^4*q*u + 4*L*n*p^3*r*u - 4*n*p^4*r*u - 2*L*n*p^2*q*t*u + 2*n*p^3*q*t*u - 2*L*n*p*q*t^2*u + n*p^2*q*t^2*u - n*p^4*q + 4*L*n*p^3*r - 4*n*p^4*r + 2*L*n*p^2*q*t - 2*n*p^3*q*t + 2*L*n*p*q*t^2 - n*p^2*q*t^2 + L*n*p^2*q*u + 2*L*p^3*q*u - 2*n*p^3*q*u - 4*L*n*p^2*r*u + 4*n*p^3*r*u + 2*L*n*p*q*t*u - 2*L*p^2*q*t*u - 2*n*p^2*q*t*u + 2*p^3*q*t*u + L*n*q*t^2*u - 2*p^2*q*t^2*u - L*n*p^2*q - 2*L*p^3*q + 2*n*p^3*q - 4*L*n*p^2*r + 4*n*p^3*r - 2*L*n*p*q*t + 2*L*p^2*q*t + 2*n*p^2*q*t - 2*p^3*q*t - L*n*q*t^2 + 2*p^2*q*t^2 - 2*L*p^2*q*u + 2*L*p*q*t*u - 2*p^2*q*t*u + 2*p*q*t^2*u + 2*L*p^2*q - 2*L*p*q*t + 2*p^2*q*t - 2*p*q*t^2)/((L - p)*(p - t)*(p - 1)*p*(u - 1)) \n",
      "\n",
      "a_2 = 1/4*(n*p^3*q*u + 2*L*n*p^2*r*u - 2*n*p^3*r*u - 2*L*n*p*q*t*u + n*p^2*q*t*u - n*p^3*q + 2*L*n*p^2*r - 2*n*p^3*r + 2*L*n*p*q*t - n*p^2*q*t + L*n*p*q*u - 2*n*p^2*q*u + 2*p^3*q*u - 2*L*n*p*r*u + 2*n*p^2*r*u + L*n*q*t*u - 2*p^2*q*t*u - L*n*p*q + 2*n*p^2*q - 2*p^3*q - 2*L*n*p*r + 2*n*p^2*r - L*n*q*t + 2*p^2*q*t - 2*p^2*q*u + 2*p*q*t*u + 2*p^2*q - 2*p*q*t)/((L - p)*(p - t)*(p - 1)*p*(u - 1)) \n",
      "\n",
      "b_0 = -1/4*(2*L*p^3*r*u - 2*p^4*r*u - 2*L*p^2*q*t*u + p^3*q*t*u + p^2*q*t^2*u + 2*L*p^3*r - 2*p^4*r + 2*L*p^2*q*t - p^3*q*t - p^2*q*t^2 - 2*L*p^2*r*u + 2*p^3*r*u + 3*L*p*q*t*u - 2*p^2*q*t*u - L*q*t^2*u - 2*L*p^2*r + 2*p^3*r - 3*L*p*q*t + 2*p^2*q*t + L*q*t^2)*n/((L - p)*(p - t)*(p - 1)*(u - 1)) \n",
      "\n",
      "b_1 = -1/4*(2*L*p^3*q*u - p^4*q*u - 4*L*p^3*r*u + 4*p^4*r*u + 2*L*p*q*t^2*u - 3*p^2*q*t^2*u - 2*L*p^3*q + p^4*q - 4*L*p^3*r + 4*p^4*r - 2*L*p*q*t^2 + 3*p^2*q*t^2 - 3*L*p^2*q*u + 2*p^3*q*u + 4*L*p^2*r*u - 4*p^3*r*u - L*q*t^2*u + 2*p*q*t^2*u + 3*L*p^2*q - 2*p^3*q + 4*L*p^2*r - 4*p^3*r + L*q*t^2 - 2*p*q*t^2)*n/((L - p)*(p - t)*(p - 1)*p*(u - 1)) \n",
      "\n",
      "b_2 = 1/4*(p^3*q*u - 2*L*p^2*r*u + 2*p^3*r*u + 2*L*p*q*t*u - 3*p^2*q*t*u - p^3*q - 2*L*p^2*r + 2*p^3*r - 2*L*p*q*t + 3*p^2*q*t - L*p*q*u + 2*L*p*r*u - 2*p^2*r*u - L*q*t*u + 2*p*q*t*u + L*p*q + 2*L*p*r - 2*p^2*r + L*q*t - 2*p*q*t)*n/((L - p)*(p - t)*(p - 1)*p*(u - 1)) \n",
      "\n",
      "b_3 = 1/2*n*(p - t) \n",
      "\n"
     ]
    }
   ],
   "source": [
    "# The values of the parameters defining Nabla0\n",
    "for param in parameters:\n",
    "    if param.subs(nabla0) == 0:\n",
    "        print '{} = 0'.format(param), '\\n'\n",
    "    else:\n",
    "        print '{} ='.format(param), param.subs(nabla0).simplify_rational().factor(), '\\n'"
   ]
  },
  {
   "cell_type": "code",
   "execution_count": 32,
   "metadata": {
    "scrolled": false
   },
   "outputs": [
    {
     "name": "stdout",
     "output_type": "stream",
     "text": [
      "Residue at [x == p, y == q]:\n"
     ]
    },
    {
     "data": {
      "text/latex": [
       "$$\\left(\\begin{array}{rr}\n",
       "-\\frac{1}{2} & 0 \\\\\n",
       "n & \\frac{1}{2}\n",
       "\\end{array}\\right)$$"
      ],
      "text/plain": [
       "<IPython.core.display.Math object>"
      ]
     },
     "metadata": {},
     "output_type": "display_data"
    },
    {
     "name": "stdout",
     "output_type": "stream",
     "text": [
      "Eigenvectors: [(-1/2, [(1, -n)], 1), (1/2, [(0, 1)], 1)]\n",
      "\n",
      "\n",
      "Residue at [x == p, y == -q]:\n"
     ]
    },
    {
     "data": {
      "text/latex": [
       "$$\\left(\\begin{array}{rr}\n",
       "\\frac{1}{2} & n \\\\\n",
       "0 & -\\frac{1}{2}\n",
       "\\end{array}\\right)$$"
      ],
      "text/plain": [
       "<IPython.core.display.Math object>"
      ]
     },
     "metadata": {},
     "output_type": "display_data"
    },
    {
     "name": "stdout",
     "output_type": "stream",
     "text": [
      "Eigenvectors: [(-1/2, [(1, -1/n)], 1), (1/2, [(1, 0)], 1)]\n",
      "\n",
      "\n",
      "Residue at [x == t, y == r]:\n"
     ]
    },
    {
     "data": {
      "text/latex": [
       "$$\\left(\\begin{array}{rr}\n",
       "-\\frac{n {\\left(u + 1\\right)}}{2 \\, {\\left(u - 1\\right)}} & \\frac{n}{u - 1} \\\\\n",
       "-\\frac{n u}{u - 1} & \\frac{n {\\left(u + 1\\right)}}{2 \\, {\\left(u - 1\\right)}}\n",
       "\\end{array}\\right)$$"
      ],
      "text/plain": [
       "<IPython.core.display.Math object>"
      ]
     },
     "metadata": {},
     "output_type": "display_data"
    },
    {
     "name": "stdout",
     "output_type": "stream",
     "text": [
      "Eigenvectors: [(-1/2*n, [(1, 1)], 1), (1/2*n, [(1, u)], 1)]\n",
      "\n",
      "\n",
      "Residue at [x == t, y == -r]:\n"
     ]
    },
    {
     "data": {
      "text/latex": [
       "$$\\left(\\begin{array}{rr}\n",
       "\\frac{n {\\left(u + 1\\right)}}{2 \\, {\\left(u - 1\\right)}} & -\\frac{n u}{u - 1} \\\\\n",
       "\\frac{n}{u - 1} & -\\frac{n {\\left(u + 1\\right)}}{2 \\, {\\left(u - 1\\right)}}\n",
       "\\end{array}\\right)$$"
      ],
      "text/plain": [
       "<IPython.core.display.Math object>"
      ]
     },
     "metadata": {},
     "output_type": "display_data"
    },
    {
     "name": "stdout",
     "output_type": "stream",
     "text": [
      "Eigenvectors: [(-1/2*n, [(1, 1)], 1), (1/2*n, [(1, 1/u)], 1)]\n",
      "\n",
      "\n"
     ]
    }
   ],
   "source": [
    "# Residues of Nabla0\n",
    "for k in range(4):\n",
    "    print 'Residue at {}:'.format(Sing[k])\n",
    "    residue = Res[k].subs(nabla0).simplify_rational().factor()\n",
    "    DM(residue)\n",
    "    print 'Eigenvectors:', residue.eigenvectors_right()\n",
    "    print '\\n'"
   ]
  },
  {
   "cell_type": "markdown",
   "metadata": {},
   "source": [
    "## Apparent map once more\n",
    "\n",
    "I will first define naive candidates for $\\Theta_1$ and $\\Theta_2$ and then, via the apparent map, figure out which linear combinations of these are the right ones. "
   ]
  },
  {
   "cell_type": "code",
   "execution_count": 40,
   "metadata": {},
   "outputs": [],
   "source": [
    "to_zero = [a_0==0, a_1==0, a_2==0, b_0==0, b_1==0, b_2==0, b_3==0]\n",
    "EqHom = [eq - eq.subs(to_zero) for eq in Eq]"
   ]
  },
  {
   "cell_type": "code",
   "execution_count": 41,
   "metadata": {},
   "outputs": [],
   "source": [
    "theta1_naive = solve(EqHom + [b_3 - 1, a_2], parameters)[0]  # set b3=1, a2=0\n",
    "theta2_naive = solve(EqHom + [b_3, a_2 - 1], parameters)[0]  # set b3=0, a2=1"
   ]
  },
  {
   "cell_type": "code",
   "execution_count": 42,
   "metadata": {},
   "outputs": [],
   "source": [
    "Theta1_n = M.subs(theta1_naive).simplify_rational().factor()\n",
    "Theta2_n = M.subs(theta2_naive).simplify_rational().factor()"
   ]
  },
  {
   "cell_type": "code",
   "execution_count": 43,
   "metadata": {},
   "outputs": [],
   "source": [
    "Mbis = (Nabla0 + c1*Theta1_n + c2*Theta2_n).simplify_rational().factor()"
   ]
  },
  {
   "cell_type": "code",
   "execution_count": 44,
   "metadata": {},
   "outputs": [],
   "source": [
    "vect = Mbis*vector((1,1))\n",
    "APP_naive = (vect[0] - vect[1]).simplify_rational().numerator().factor()"
   ]
  },
  {
   "cell_type": "code",
   "execution_count": 45,
   "metadata": {},
   "outputs": [
    {
     "data": {
      "text/plain": [
       "[[c1 == 0, c2 == 0]]"
      ]
     },
     "execution_count": 45,
     "metadata": {},
     "output_type": "execute_result"
    }
   ],
   "source": [
    "# Check: this should return c1=0, c2=0\n",
    "solve([APP_naive.subs(x==t), APP_naive.subs(x==L)], [c1, c2])"
   ]
  },
  {
   "cell_type": "code",
   "execution_count": 46,
   "metadata": {},
   "outputs": [
    {
     "name": "stdout",
     "output_type": "stream",
     "text": [
      "[c1 == 0, c2 == -1/2*(n + 1)*q/(L - p)]\n"
     ]
    }
   ],
   "source": [
    "# Theta2 is defined by having apparent singularities at infinity and t\n",
    "SolsTheta2 = solve([diff(diff(APP_naive, x), x), APP_naive.subs(x==t)], [c1, c2])[0]\n",
    "print SolsTheta2"
   ]
  },
  {
   "cell_type": "code",
   "execution_count": 47,
   "metadata": {
    "scrolled": true
   },
   "outputs": [
    {
     "name": "stdout",
     "output_type": "stream",
     "text": [
      "c1 = -1/2*(L - t)*(n + 1)*(p - t)*q*(u + 1)/(L*q*u - L*r*u + p*r*u - q*t*u + L*q + L*r - p*r - q*t) \n",
      "\n",
      "c2 = -1/4*(L*p^3*q*u^2 + 2*L^2*p^2*r*u^2 - 4*L*p^3*r*u^2 + 2*p^4*r*u^2 - 2*L^2*p*q*t*u^2 + L*p^2*q*t*u^2 - p^3*q*t*u^2 + 2*L*p*q*t^2*u^2 - p^2*q*t^2*u^2 + 4*L*p^3*r*u - 4*p^4*r*u - 4*L*p^2*r*t*u + 4*p^3*r*t*u + L^2*p*q*u^2 - 2*L*p^2*q*u^2 - 2*L^2*p*r*u^2 + 4*L*p^2*r*u^2 - 2*p^3*r*u^2 + L^2*q*t*u^2 - L*p*q*t*u^2 + 2*p^2*q*t*u^2 - L*q*t^2*u^2 - L*p^3*q + 2*L^2*p^2*r - 4*L*p^3*r + 2*p^4*r + 2*L^2*p*q*t - L*p^2*q*t + p^3*q*t - 2*L*p*q*t^2 + p^2*q*t^2 - 4*L*p^2*r*u + 4*p^3*r*u + 4*L*p*r*t*u - 4*p^2*r*t*u - L^2*p*q + 2*L*p^2*q - 2*L^2*p*r + 4*L*p^2*r - 2*p^3*r - L^2*q*t + L*p*q*t - 2*p^2*q*t + L*q*t^2)*(n + 1)*q/((L*q*u - L*r*u + p*r*u - q*t*u + L*q + L*r - p*r - q*t)*(L - p)*(p - t)*(p - 1)*p*(u - 1)) \n",
      "\n"
     ]
    }
   ],
   "source": [
    "# Theta1 is defined by having apparent singularities at infinity and L\n",
    "SolsTheta1 = solve([diff(diff(APP_naive, x), x), APP_naive.subs(x==L)], [c1, c2])[0]\n",
    "\n",
    "print 'c1 =', c1.subs(SolsTheta1).simplify_rational().factor(), '\\n'\n",
    "print 'c2 =', c2.subs(SolsTheta1).simplify_rational().factor(), '\\n'"
   ]
  },
  {
   "cell_type": "markdown",
   "metadata": {},
   "source": [
    "# Definition of $\\Theta_1^+$ and $\\Theta_2^+$"
   ]
  },
  {
   "cell_type": "code",
   "execution_count": 48,
   "metadata": {},
   "outputs": [],
   "source": [
    "theta1plus = solve(EqHom + [b_3 + c1.subs(SolsTheta1), a_2 + c2.subs(SolsTheta1)], parameters)[0]\n",
    "Theta1plus = M.subs(theta1plus).simplify_rational().factor()"
   ]
  },
  {
   "cell_type": "code",
   "execution_count": 49,
   "metadata": {},
   "outputs": [],
   "source": [
    "theta2plus = solve(EqHom + [b_3, a_2 + c2.subs(SolsTheta2)], parameters)[0]\n",
    "Theta2plus = M.subs(theta2plus).simplify_rational().factor()"
   ]
  },
  {
   "cell_type": "markdown",
   "metadata": {},
   "source": [
    "**Remark:** The explicit expression of $\\Theta_2^+$ is given by:\n",
    "\n",
    "$$ \\Theta_2^+ = \\frac{q(\\eta+1)}{2(\\lambda-p)}\\pmatrix{1 & 0\\\\ 0 & -1}\\frac{dx}{y}.$$"
   ]
  },
  {
   "cell_type": "markdown",
   "metadata": {},
   "source": [
    "## Final version of the Apparent Map using the basis $\\nabla_0, \\Theta_1^+, \\Theta_2^+$"
   ]
  },
  {
   "cell_type": "code",
   "execution_count": 50,
   "metadata": {},
   "outputs": [],
   "source": [
    "c0 = var('c0')"
   ]
  },
  {
   "cell_type": "code",
   "execution_count": 51,
   "metadata": {},
   "outputs": [],
   "source": [
    "Nabla = c0*Nabla0 + c1*Theta1plus + c2*Theta2plus\n",
    "Nabla = Nabla.simplify_rational().factor()"
   ]
  },
  {
   "cell_type": "code",
   "execution_count": 52,
   "metadata": {},
   "outputs": [],
   "source": [
    "vect = Nabla*vector((1,1))\n",
    "APP = (vect[0] - vect[1]).simplify_rational().numerator().factor()"
   ]
  },
  {
   "cell_type": "code",
   "execution_count": 53,
   "metadata": {},
   "outputs": [
    {
     "name": "stdout",
     "output_type": "stream",
     "text": [
      "-(L^2*c1*p*r*u - L*c1*p^2*r*u - L^2*c0*q*t*u - L^2*c1*q*t*u - L*c2*p*q*t*u + L^2*c0*r*t*u - L*c0*p*r*t*u + L*c2*p*r*t*u - c2*p^2*r*t*u + L*c0*q*t^2*u + L*c1*q*t^2*u + c2*p*q*t^2*u + L^2*c0*q*u*x + L^2*c1*q*u*x + L*c2*p*q*u*x - L^2*c0*r*u*x - L^2*c1*r*u*x + L*c0*p*r*u*x - L*c2*p*r*u*x + c1*p^2*r*u*x + c2*p^2*r*u*x + L*c2*q*t*u*x - c2*p*q*t*u*x - L*c0*r*t*u*x - L*c2*r*t*u*x + c0*p*r*t*u*x + c2*p*r*t*u*x - c0*q*t^2*u*x - c1*q*t^2*u*x - c2*q*t^2*u*x - L*c0*q*u*x^2 - L*c1*q*u*x^2 - L*c2*q*u*x^2 + L*c0*r*u*x^2 + L*c1*r*u*x^2 + L*c2*r*u*x^2 - c0*p*r*u*x^2 - c1*p*r*u*x^2 - c2*p*r*u*x^2 + c0*q*t*u*x^2 + c1*q*t*u*x^2 + c2*q*t*u*x^2 - L^2*c1*p*r + L*c1*p^2*r - L^2*c0*q*t - L^2*c1*q*t - L*c2*p*q*t - L^2*c0*r*t + L*c0*p*r*t - L*c2*p*r*t + c2*p^2*r*t + L*c0*q*t^2 + L*c1*q*t^2 + c2*p*q*t^2 + L^2*c0*q*x + L^2*c1*q*x + L*c2*p*q*x + L^2*c0*r*x + L^2*c1*r*x - L*c0*p*r*x + L*c2*p*r*x - c1*p^2*r*x - c2*p^2*r*x + L*c2*q*t*x - c2*p*q*t*x + L*c0*r*t*x + L*c2*r*t*x - c0*p*r*t*x - c2*p*r*t*x - c0*q*t^2*x - c1*q*t^2*x - c2*q*t^2*x - L*c0*q*x^2 - L*c1*q*x^2 - L*c2*q*x^2 - L*c0*r*x^2 - L*c1*r*x^2 - L*c2*r*x^2 + c0*p*r*x^2 + c1*p*r*x^2 + c2*p*r*x^2 + c0*q*t*x^2 + c1*q*t*x^2 + c2*q*t*x^2)*(n + 1)*q\n"
     ]
    }
   ],
   "source": [
    "print APP"
   ]
  },
  {
   "cell_type": "markdown",
   "metadata": {},
   "source": [
    "The above polynomial can be written as:\n",
    "\n",
    "$$ c_0A_0(x-t)(x-\\lambda) + c_1A_1(x-\\lambda) + c_2A_2(x-t),$$\n",
    "\n",
    "with $A_0$ independent of $x$, and $A_1,A_2$ linear polynomials on $x$. \n",
    "\n",
    "We are interested in the roots of $A_1,A_2$ (the \"apparent singularities\" of $\\Theta_i$). In Loray-Saito these are called $\\mu_i$ and are given by the formula:\n",
    "\n",
    "$$ \\mu_i = \\frac{t_i(u_i-1)}{u_i - t_i} .$$\n",
    "\n",
    "In fact, we shall compute $\\mu_i$ and from these we will be able to recover $u_i$ in terms of our variables $(p,q,u)$."
   ]
  },
  {
   "cell_type": "code",
   "execution_count": 54,
   "metadata": {},
   "outputs": [],
   "source": [
    "APP0 = diff(APP, c0).simplify_rational().factor()\n",
    "APP1 = diff(APP, c1).simplify_rational().factor()\n",
    "APP2 = diff(APP, c2).simplify_rational().factor()"
   ]
  },
  {
   "cell_type": "code",
   "execution_count": 55,
   "metadata": {},
   "outputs": [
    {
     "data": {
      "text/plain": [
       "[x == p]"
      ]
     },
     "execution_count": 55,
     "metadata": {},
     "output_type": "execute_result"
    }
   ],
   "source": [
    "# Note that mu2 = p:\n",
    "solve((APP2/(x-t)).simplify_rational(), x)"
   ]
  },
  {
   "cell_type": "code",
   "execution_count": 65,
   "metadata": {},
   "outputs": [
    {
     "data": {
      "text/latex": [
       "$$-\\frac{L p r u - p^{2} r u - L q t u + q t^{2} u - L p r + p^{2} r - L q t + q t^{2}}{L q u - L r u + p r u - q t u + L q + L r - p r - q t}$$"
      ],
      "text/plain": [
       "<IPython.core.display.Math object>"
      ]
     },
     "metadata": {},
     "output_type": "display_data"
    }
   ],
   "source": [
    "# Definition of mu1\n",
    "sol_mu1 = solve((APP1/(x-L)).simplify_rational(), x)[0]\n",
    "\n",
    "mu1 = x.subs(sol_mu1).simplify_rational().factor()\n",
    "DM(mu1)"
   ]
  },
  {
   "cell_type": "markdown",
   "metadata": {},
   "source": [
    "Using the basis $\\nabla_0, \\Theta_1^+, \\Theta_2^+$, the apparent map is given by:\n",
    "\n",
    "$$\\operatorname{App}(\\nabla) = (x-t)(x-\\lambda) + c_1(x-\\lambda)(x-\\mu_1) + c_2(x-t)(x-\\mu_2),$$\n",
    "\n",
    "where $\\mu_1$ is computed above and $\\mu_2 = p$."
   ]
  },
  {
   "cell_type": "markdown",
   "metadata": {},
   "source": [
    "## The map $(u,p,q) \\mapsto (u_1,u_2)$"
   ]
  },
  {
   "cell_type": "code",
   "execution_count": 81,
   "metadata": {},
   "outputs": [],
   "source": [
    "var('u1 u2')\n",
    "t1 = t\n",
    "t2 = L"
   ]
  },
  {
   "cell_type": "code",
   "execution_count": 82,
   "metadata": {},
   "outputs": [],
   "source": [
    "# Use mu1, mu2 to solve for u1, u2\n",
    "Sols_u1u2 = solve([t1*(u1-1)/(u1-t1) == mu1, t2*(u2-1)/(u2-t2) == p], [u1,u2])[0]"
   ]
  },
  {
   "cell_type": "code",
   "execution_count": 83,
   "metadata": {},
   "outputs": [
    {
     "name": "stdout",
     "output_type": "stream",
     "text": [
      "u1 = (L*p*r*u - p^2*r*u - L*q*t*u + q*t^2*u - L*p*r + p^2*r - L*q*t + q*t^2 + L*q*u - L*r*u + p*r*u - q*t*u + L*q + L*r - p*r - q*t)*t/((L - p)*(p - t)*r*(u - 1)) \n",
      "\n",
      "u2 = -L*(p - 1)/(L - p)\n"
     ]
    }
   ],
   "source": [
    "print 'u1 =', u1.subs(Sols_u1u2).simplify_rational().factor(), '\\n'\n",
    "print 'u2 =', u2.subs(Sols_u1u2).simplify_rational().factor()"
   ]
  },
  {
   "cell_type": "markdown",
   "metadata": {},
   "source": [
    "We can do the following to avoid having `r` in the denominator of `u1`"
   ]
  },
  {
   "cell_type": "code",
   "execution_count": 123,
   "metadata": {},
   "outputs": [
    {
     "name": "stdout",
     "output_type": "stream",
     "text": [
      "u1 = (L*p*t*u - p^2*t*u - L*p*t + p^2*t + q*r*u - L*t*u + p*t*u + q*r + L*t - p*t)/((L - p)*(p - t)*(u - 1))\n"
     ]
    }
   ],
   "source": [
    "print 'u1 =', simplify_qr(u1.subs(Sols_u1u2)*r^2)/r2 "
   ]
  },
  {
   "cell_type": "markdown",
   "metadata": {},
   "source": [
    "## The map $(u_1,u_2) \\mapsto (p,q,u)$"
   ]
  },
  {
   "cell_type": "code",
   "execution_count": 93,
   "metadata": {},
   "outputs": [
    {
     "name": "stdout",
     "output_type": "stream",
     "text": [
      "\n"
     ]
    }
   ],
   "source": [
    "# We need to introduce the following variable\n",
    "v2 = var('v2')  # v2 = sqrt(u2*(u2-1)*(u2-L))"
   ]
  },
  {
   "cell_type": "code",
   "execution_count": 121,
   "metadata": {},
   "outputs": [
    {
     "data": {
      "text/plain": [
       "[q == -(L^2 - L)*v2/(L^2 - 2*L*u2 + u2^2), q == (L^2 - L)*v2/(L^2 - 2*L*u2 + u2^2)]"
      ]
     },
     "execution_count": 121,
     "metadata": {},
     "output_type": "execute_result"
    }
   ],
   "source": [
    "# Write q in terms of v2\n",
    "\n",
    "# The quantity below is equal to one:\n",
    "expr = (q^2/(p*(p-1)*(p-L))) / (v2^2/(u2*(u2-1)*(u2-L)))\n",
    "\n",
    "# Substitute p for its formula in terms of u2\n",
    "expr = expr.subs(Sols_pqu)\n",
    "\n",
    "# Solve for q\n",
    "solve(expr == 1, q)  # Let's choose the second root"
   ]
  },
  {
   "cell_type": "code",
   "execution_count": 109,
   "metadata": {},
   "outputs": [],
   "source": [
    "# Use mu1, mu2 to solve for p,q,u\n",
    "Sols_pqu = solve([t1*(u1-1)/(u1-t1) == mu1.subs(q == (L^2 - L)*v2/(L^2 - 2*L*u2 + u2^2)), t2*(u2-1)/(u2-t2) == p], [u,p])[0]"
   ]
  },
  {
   "cell_type": "code",
   "execution_count": 122,
   "metadata": {},
   "outputs": [
    {
     "name": "stdout",
     "output_type": "stream",
     "text": [
      "u = (L*r*t*u1 - L*r*t*u2 + L*r*u1*u2 - r*t*u1*u2 + L*t^2*v2 - t^3*v2 - L*r*u1 + r*t*u2 - L*t*v2 + t^2*v2)/(L*r*t*u1 - L*r*t*u2 + L*r*u1*u2 - r*t*u1*u2 - L*t^2*v2 + t^3*v2 - L*r*u1 + r*t*u2 + L*t*v2 - t^2*v2) \n",
      "\n",
      "p = -L*(u2 - 1)/(L - u2) \n",
      "\n",
      "q = (L - 1)*L*v2/(L - u2)^2\n"
     ]
    }
   ],
   "source": [
    "print 'u =', u.subs(Sols_pqu).simplify_rational().factor(), '\\n'\n",
    "print 'p =', p.subs(Sols_pqu).simplify_rational().factor(), '\\n'\n",
    "print 'q =', q.subs(q == (L^2 - L)*v2/(L^2 - 2*L*u2 + u2^2)).factor()"
   ]
  },
  {
   "cell_type": "markdown",
   "metadata": {},
   "source": [
    "## Recovery of the original Higgs fields $\\Theta_i$ in Loray-Saito"
   ]
  },
  {
   "cell_type": "code",
   "execution_count": 131,
   "metadata": {},
   "outputs": [],
   "source": [
    "rescale_factor1 = ((n + 1)/(2*(u1 - t1))).subs(Sols_u1u2).simplify_rational().factor()\n",
    "rescale_factor2 = ((n + 1)/(2*(u2 - t2))).subs(Sols_u1u2).simplify_rational().factor()"
   ]
  },
  {
   "cell_type": "code",
   "execution_count": 148,
   "metadata": {},
   "outputs": [],
   "source": [
    "Theta1 = (Theta1plus/rescale_factor1).simplify_rational().factor()\n",
    "\n",
    "# Simplify to avoid r in the denominators\n",
    "v0 = (simplify_qr(entry*r^2/r2) for entry in Theta1[0])\n",
    "v1 = (simplify_qr(entry*r^2/r2) for entry in Theta1[1])\n",
    "\n",
    "Theta1 = matrix([v0, v1])"
   ]
  },
  {
   "cell_type": "code",
   "execution_count": 147,
   "metadata": {},
   "outputs": [],
   "source": [
    "Theta2 = (Theta2plus/rescale_factor2).simplify_rational().factor()"
   ]
  },
  {
   "cell_type": "markdown",
   "metadata": {},
   "source": [
    "### Analysis of $\\Theta_1$ and $\\Theta_2$"
   ]
  },
  {
   "cell_type": "code",
   "execution_count": 152,
   "metadata": {},
   "outputs": [
    {
     "name": "stdout",
     "output_type": "stream",
     "text": [
      "[                                                                                                                                                                                                                                                                                                                                                                                                                                                        -1/2*(p^3*r*t*u^2 - 2*L*p*r*t^2*u^2 + p^2*r*t^2*u^2 + 2*L*q*t^3*u^2 - 2*p*q*t^3*u^2 - p^3*r*u^2*x + 2*L*p*r*t*u^2*x - p^2*r*t*u^2*x - 2*L*q*t^2*u^2*x + 2*p*q*t^2*u^2*x + 4*L*p*q*t^2*u - 4*L*q*t^3*u + L*p*r*t*u^2 - 2*p^2*r*t*u^2 - 2*L*q*t^2*u^2 + 2*p*q*t^2*u^2 + L*r*t^2*u^2 - 4*p*q*t^2*u*x + 4*q*t^3*u*x - L*p*r*u^2*x + 2*p^2*r*u^2*x + 2*L*q*t*u^2*x - 2*p*q*t*u^2*x - L*r*t*u^2*x - p^3*r*t + 2*L*p*r*t^2 - p^2*r*t^2 + 2*L*q*t^3 - 2*p*q*t^3 - 4*L*p*q*t*u + 4*L*q*t^2*u + p^3*r*x - 2*L*p*r*t*x + p^2*r*t*x - 2*L*q*t^2*x + 2*p*q*t^2*x + 4*p*q*t*u*x - 4*q*t^2*u*x - L*p*r*t + 2*p^2*r*t - 2*L*q*t^2 + 2*p*q*t^2 - L*r*t^2 + L*p*r*x - 2*p^2*r*x + 2*L*q*t*x - 2*p*q*t*x + L*r*t*x)/((L - p)*(p - t)^2*(t - x)*(u - 1)^2) -1/2*(2*L*p^3*r*t*u^2 - p^4*r*t*u^2 - 2*L*p^2*q*t^2*u^2 - p^3*r*t^2*u^2 + 2*p^2*q*t^3*u^2 - 2*L*p^3*r*u^2*x + p^4*r*u^2*x + 4*L*p*q*t^2*u^2*x - 2*L*p*r*t^2*u^2*x + 3*p^2*r*t^2*u^2*x - 4*p*q*t^3*u^2*x + p^3*r*u^2*x^2 + 2*L*p*r*t*u^2*x^2 - 3*p^2*r*t*u^2*x^2 - 2*L*q*t^2*u^2*x^2 + 2*q*t^3*u^2*x^2 + 2*L*p^2*q*t*u^2 - 3*L*p^2*r*t*u^2 + 2*p^3*r*t*u^2 - 2*p^2*q*t^2*u^2 + L*p*r*t^2*u^2 + 3*L*p^2*r*u^2*x - 2*p^3*r*u^2*x - 4*L*p*q*t*u^2*x + 4*p*q*t^2*u^2*x + L*r*t^2*u^2*x - 2*p*r*t^2*u^2*x - L*p*r*u^2*x^2 + 2*L*q*t*u^2*x^2 - L*r*t*u^2*x^2 + 2*p*r*t*u^2*x^2 - 2*q*t^2*u^2*x^2 - 2*p^2*q*r*u^2*y + 4*p*q*r*t*u^2*y - 2*q*r*t^2*u^2*y - 2*L*p^3*r*t + p^4*r*t - 2*L*p^2*q*t^2 + p^3*r*t^2 + 2*p^2*q*t^3 + 2*L*p^3*r*x - p^4*r*x + 4*L*p*q*t^2*x + 2*L*p*r*t^2*x - 3*p^2*r*t^2*x - 4*p*q*t^3*x - p^3*r*x^2 - 2*L*p*r*t*x^2 + 3*p^2*r*t*x^2 - 2*L*q*t^2*x^2 + 2*q*t^3*x^2 + 2*L*p^2*q*t + 3*L*p^2*r*t - 2*p^3*r*t - 2*p^2*q*t^2 - L*p*r*t^2 - 3*L*p^2*r*x + 2*p^3*r*x - 4*L*p*q*t*x + 4*p*q*t^2*x - L*r*t^2*x + 2*p*r*t^2*x + L*p*r*x^2 + 2*L*q*t*x^2 + L*r*t*x^2 - 2*p*r*t*x^2 - 2*q*t^2*x^2 + 2*p^2*q*r*y - 4*p*q*r*t*y + 2*q*r*t^2*y)/((L - p)*(p - t)^2*(p - x)*(t - x)*(u - 1)^2)]\n",
      "[ 1/2*(2*L*p^3*r*t*u^2 - p^4*r*t*u^2 - 2*L*p^2*q*t^2*u^2 - p^3*r*t^2*u^2 + 2*p^2*q*t^3*u^2 - 2*L*p^3*r*u^2*x + p^4*r*u^2*x + 4*L*p*q*t^2*u^2*x - 2*L*p*r*t^2*u^2*x + 3*p^2*r*t^2*u^2*x - 4*p*q*t^3*u^2*x + p^3*r*u^2*x^2 + 2*L*p*r*t*u^2*x^2 - 3*p^2*r*t*u^2*x^2 - 2*L*q*t^2*u^2*x^2 + 2*q*t^3*u^2*x^2 + 2*L*p^2*q*t*u^2 - 3*L*p^2*r*t*u^2 + 2*p^3*r*t*u^2 - 2*p^2*q*t^2*u^2 + L*p*r*t^2*u^2 + 3*L*p^2*r*u^2*x - 2*p^3*r*u^2*x - 4*L*p*q*t*u^2*x + 4*p*q*t^2*u^2*x + L*r*t^2*u^2*x - 2*p*r*t^2*u^2*x - L*p*r*u^2*x^2 + 2*L*q*t*u^2*x^2 - L*r*t*u^2*x^2 + 2*p*r*t*u^2*x^2 - 2*q*t^2*u^2*x^2 + 2*p^2*q*r*u^2*y - 4*p*q*r*t*u^2*y + 2*q*r*t^2*u^2*y - 2*L*p^3*r*t + p^4*r*t - 2*L*p^2*q*t^2 + p^3*r*t^2 + 2*p^2*q*t^3 + 2*L*p^3*r*x - p^4*r*x + 4*L*p*q*t^2*x + 2*L*p*r*t^2*x - 3*p^2*r*t^2*x - 4*p*q*t^3*x - p^3*r*x^2 - 2*L*p*r*t*x^2 + 3*p^2*r*t*x^2 - 2*L*q*t^2*x^2 + 2*q*t^3*x^2 + 2*L*p^2*q*t + 3*L*p^2*r*t - 2*p^3*r*t - 2*p^2*q*t^2 - L*p*r*t^2 - 3*L*p^2*r*x + 2*p^3*r*x - 4*L*p*q*t*x + 4*p*q*t^2*x - L*r*t^2*x + 2*p*r*t^2*x + L*p*r*x^2 + 2*L*q*t*x^2 + L*r*t*x^2 - 2*p*r*t*x^2 - 2*q*t^2*x^2 - 2*p^2*q*r*y + 4*p*q*r*t*y - 2*q*r*t^2*y)/((L - p)*(p - t)^2*(p - x)*(t - x)*(u - 1)^2)                                                                                                                                                                                                                                                                                                                                                                                                                                                          1/2*(p^3*r*t*u^2 - 2*L*p*r*t^2*u^2 + p^2*r*t^2*u^2 + 2*L*q*t^3*u^2 - 2*p*q*t^3*u^2 - p^3*r*u^2*x + 2*L*p*r*t*u^2*x - p^2*r*t*u^2*x - 2*L*q*t^2*u^2*x + 2*p*q*t^2*u^2*x + 4*L*p*q*t^2*u - 4*L*q*t^3*u + L*p*r*t*u^2 - 2*p^2*r*t*u^2 - 2*L*q*t^2*u^2 + 2*p*q*t^2*u^2 + L*r*t^2*u^2 - 4*p*q*t^2*u*x + 4*q*t^3*u*x - L*p*r*u^2*x + 2*p^2*r*u^2*x + 2*L*q*t*u^2*x - 2*p*q*t*u^2*x - L*r*t*u^2*x - p^3*r*t + 2*L*p*r*t^2 - p^2*r*t^2 + 2*L*q*t^3 - 2*p*q*t^3 - 4*L*p*q*t*u + 4*L*q*t^2*u + p^3*r*x - 2*L*p*r*t*x + p^2*r*t*x - 2*L*q*t^2*x + 2*p*q*t^2*x + 4*p*q*t*u*x - 4*q*t^2*u*x - L*p*r*t + 2*p^2*r*t - 2*L*q*t^2 + 2*p*q*t^2 - L*r*t^2 + L*p*r*x - 2*p^2*r*x + 2*L*q*t*x - 2*p*q*t*x + L*r*t*x)/((L - p)*(p - t)^2*(t - x)*(u - 1)^2)]\n"
     ]
    }
   ],
   "source": [
    "# Explicit expression for Theta1\n",
    "print Theta1/(x-t)/(x-p)"
   ]
  },
  {
   "cell_type": "code",
   "execution_count": 151,
   "metadata": {},
   "outputs": [
    {
     "data": {
      "text/latex": [
       "$$\\left(\\begin{array}{rr}\n",
       "-\\frac{{\\left(L - 1\\right)} L q}{{\\left(L - p\\right)}^{2}} & 0 \\\\\n",
       "0 & \\frac{{\\left(L - 1\\right)} L q}{{\\left(L - p\\right)}^{2}}\n",
       "\\end{array}\\right)$$"
      ],
      "text/plain": [
       "<IPython.core.display.Math object>"
      ]
     },
     "metadata": {},
     "output_type": "display_data"
    }
   ],
   "source": [
    "# Explicit expression for Theta2\n",
    "DM(Theta2/(x-t)/(x-p))"
   ]
  },
  {
   "cell_type": "markdown",
   "metadata": {},
   "source": [
    "**Remark:** Theta2 is holomorphic and so all residues are zero."
   ]
  },
  {
   "cell_type": "markdown",
   "metadata": {},
   "source": [
    "## Permuting the roles of $p_1 = (p,q)$ and $p_2=(p,-q)$\n",
    "\n",
    "Permuting the numbering of $p_1,p_2$ and then applying $z\\mapsto z^{-1}$ transforms a connection into an isomorphic one. In our family, this corresponds to the transformation:\n",
    "\n",
    "$M(u,p,q) \\longmapsto  \\mathrm{P}\\,M(u^{-1}, p, -q)\\,\\mathrm{P}^{-1} $,\n",
    "\n",
    "where $\\mathrm{P}$ is the permutation matrix that interchanges the two colums of $M$.\n",
    "\n",
    "**Remark:** The objects $\\nabla_0$, and $\\Theta_i^+$ constructed above are invariant under this transformation."
   ]
  },
  {
   "cell_type": "code",
   "execution_count": 66,
   "metadata": {},
   "outputs": [],
   "source": [
    "PM = matrix([(0,1), (1,0)])"
   ]
  },
  {
   "cell_type": "code",
   "execution_count": 71,
   "metadata": {},
   "outputs": [
    {
     "data": {
      "text/plain": [
       "True"
      ]
     },
     "execution_count": 71,
     "metadata": {},
     "output_type": "execute_result"
    }
   ],
   "source": [
    "# Nabla0plus is invariant\n",
    "(Nabla0 - PM*Nabla0.subs([q==-q, u==1/u])*PM).simplify_rational().factor() == 0"
   ]
  },
  {
   "cell_type": "code",
   "execution_count": 68,
   "metadata": {},
   "outputs": [
    {
     "data": {
      "text/plain": [
       "True"
      ]
     },
     "execution_count": 68,
     "metadata": {},
     "output_type": "execute_result"
    }
   ],
   "source": [
    "# Theta1plus is invariant\n",
    "(Theta1plus - PM*Theta1plus.subs([q==-q, u==1/u])*PM).simplify_rational().factor() == 0"
   ]
  },
  {
   "cell_type": "code",
   "execution_count": 69,
   "metadata": {},
   "outputs": [
    {
     "data": {
      "text/plain": [
       "True"
      ]
     },
     "execution_count": 69,
     "metadata": {},
     "output_type": "execute_result"
    }
   ],
   "source": [
    "# Theta2 is invariant\n",
    "(Theta2plus - PM*Theta2plus.subs([q==-q, u==1/u])*PM).simplify_rational().factor() == 0"
   ]
  },
  {
   "cell_type": "markdown",
   "metadata": {},
   "source": [
    "*Remark:* Also the expression for $\\mu_1$ is invariant under the substitution $(u,p,q)\\mapsto(1/u,p,-q)$."
   ]
  },
  {
   "cell_type": "code",
   "execution_count": 70,
   "metadata": {},
   "outputs": [
    {
     "data": {
      "text/plain": [
       "0"
      ]
     },
     "execution_count": 70,
     "metadata": {},
     "output_type": "execute_result"
    }
   ],
   "source": [
    "(mu1 - mu1.subs([q==-q, u==1/u])).simplify_rational()"
   ]
  },
  {
   "cell_type": "markdown",
   "metadata": {},
   "source": [
    "We don't need to define + and - versions of $\\Theta_2$, since the first expression is already invariant."
   ]
  },
  {
   "cell_type": "markdown",
   "metadata": {},
   "source": [
    "# A family of connections $\\nabla_0 + c_1\\Theta_1 + c_2\\Theta_2$ that is invariant under all automorphisms"
   ]
  },
  {
   "cell_type": "markdown",
   "metadata": {},
   "source": [
    "## The Lagrangian section $\\nabla_0 = \\frac{1}{2}(\\nabla_0^+ + \\nabla_0^-)$"
   ]
  },
  {
   "cell_type": "markdown",
   "metadata": {},
   "source": [
    "Note that $\\nabla_0$ is given by the parameters:\n",
    "\n",
    "$a_2 = \\frac{1}{2}(A_2^+ + A_2^-)$,  \n",
    "$b_3 = 0$."
   ]
  },
  {
   "cell_type": "code",
   "execution_count": 71,
   "metadata": {},
   "outputs": [],
   "source": [
    "A2 = (1/2)*(A2plus + A2minus).simplify_rational().factor()\n",
    "B2 = 0"
   ]
  },
  {
   "cell_type": "code",
   "execution_count": 72,
   "metadata": {},
   "outputs": [],
   "source": [
    "nabla0 = solve(Eq + [b_3, a_2 - A2], parameters)[0]\n",
    "Nabla0 = M.subs(nabla0).simplify_rational().factor()"
   ]
  },
  {
   "cell_type": "code",
   "execution_count": 73,
   "metadata": {},
   "outputs": [
    {
     "name": "stdout",
     "output_type": "stream",
     "text": [
      "a_0 = 1/4*(2*L*n*p^3*r*u^2 - 2*n*p^4*r*u^2 + n*p^3*q*t*u^2 - 2*L*n*p*q*t^2*u^2 + n*p^2*q*t^2*u^2 - 2*L*n*p^2*r*u^2 + 2*n*p^3*r*u^2 + L*n*p*q*t*u^2 + 2*L*p^2*q*t*u^2 - 2*n*p^2*q*t*u^2 + L*n*q*t^2*u^2 - 2*L*p*q*t^2*u^2 + 2*L*n*p^3*r - 2*n*p^4*r - n*p^3*q*t + 2*L*n*p*q*t^2 - n*p^2*q*t^2 - 2*L*p*q*t*u^2 + 2*L*q*t^2*u^2 - 2*L*n*p^2*r + 2*n*p^3*r - L*n*p*q*t - 2*L*p^2*q*t + 2*n*p^2*q*t - L*n*q*t^2 + 2*L*p*q*t^2 + 2*L*p*q*t - 2*L*q*t^2)/((L - p)*(p - t)*(p - 1)*(u + 1)*(u - 1)) \n",
      "\n",
      "a_1 = -1/4*(n*p^4*q*u^2 + 4*L*n*p^3*r*u^2 - 4*n*p^4*r*u^2 - 2*L*n*p^2*q*t*u^2 + 2*n*p^3*q*t*u^2 - 2*L*n*p*q*t^2*u^2 + n*p^2*q*t^2*u^2 + L*n*p^2*q*u^2 + 2*L*p^3*q*u^2 - 2*n*p^3*q*u^2 - 4*L*n*p^2*r*u^2 + 4*n*p^3*r*u^2 + 2*L*n*p*q*t*u^2 - 2*L*p^2*q*t*u^2 - 2*n*p^2*q*t*u^2 + 2*p^3*q*t*u^2 + L*n*q*t^2*u^2 - 2*p^2*q*t^2*u^2 - n*p^4*q + 4*L*n*p^3*r - 4*n*p^4*r + 2*L*n*p^2*q*t - 2*n*p^3*q*t + 2*L*n*p*q*t^2 - n*p^2*q*t^2 - 2*L*p^2*q*u^2 + 2*L*p*q*t*u^2 - 2*p^2*q*t*u^2 + 2*p*q*t^2*u^2 - L*n*p^2*q - 2*L*p^3*q + 2*n*p^3*q - 4*L*n*p^2*r + 4*n*p^3*r - 2*L*n*p*q*t + 2*L*p^2*q*t + 2*n*p^2*q*t - 2*p^3*q*t - L*n*q*t^2 + 2*p^2*q*t^2 + 2*L*p^2*q - 2*L*p*q*t + 2*p^2*q*t - 2*p*q*t^2)/((L - p)*(p - t)*(p - 1)*p*(u + 1)*(u - 1)) \n",
      "\n",
      "a_2 = 1/4*(n*p^3*q*u^2 + 2*L*n*p^2*r*u^2 - 2*n*p^3*r*u^2 - 2*L*n*p*q*t*u^2 + n*p^2*q*t*u^2 + L*n*p*q*u^2 - 2*n*p^2*q*u^2 + 2*p^3*q*u^2 - 2*L*n*p*r*u^2 + 2*n*p^2*r*u^2 + L*n*q*t*u^2 - 2*p^2*q*t*u^2 - n*p^3*q + 2*L*n*p^2*r - 2*n*p^3*r + 2*L*n*p*q*t - n*p^2*q*t - 2*p^2*q*u^2 + 2*p*q*t*u^2 - L*n*p*q + 2*n*p^2*q - 2*p^3*q - 2*L*n*p*r + 2*n*p^2*r - L*n*q*t + 2*p^2*q*t + 2*p^2*q - 2*p*q*t)/((L - p)*(p - t)*(p - 1)*p*(u + 1)*(u - 1)) \n",
      "\n",
      "b_0 = -n*p^2*r*u/((p - t)*(u + 1)*(u - 1)) \n",
      "\n",
      "b_1 = 2*n*p*r*u/((p - t)*(u + 1)*(u - 1)) \n",
      "\n",
      "b_2 = -n*r*u/((p - t)*(u + 1)*(u - 1)) \n",
      "\n",
      "b_3 = 0 \n",
      "\n"
     ]
    }
   ],
   "source": [
    "# The values of the parameters defining Nabla0 are not too complicated...\n",
    "for param in parameters:\n",
    "    if param.subs(nabla0) == 0:\n",
    "        print '{} = 0'.format(param), '\\n'\n",
    "    else:\n",
    "        print '{} ='.format(param), param.subs(nabla0).simplify_rational().factor(), '\\n'"
   ]
  },
  {
   "cell_type": "code",
   "execution_count": 74,
   "metadata": {},
   "outputs": [
    {
     "name": "stdout",
     "output_type": "stream",
     "text": [
      "Residue at [x == p, y == q]:\n"
     ]
    },
    {
     "data": {
      "text/latex": [
       "$$\\left(\\begin{array}{rr}\n",
       "-\\frac{1}{2} & 0 \\\\\n",
       "0 & \\frac{1}{2}\n",
       "\\end{array}\\right)$$"
      ],
      "text/plain": [
       "<IPython.core.display.Math object>"
      ]
     },
     "metadata": {},
     "output_type": "display_data"
    },
    {
     "name": "stdout",
     "output_type": "stream",
     "text": [
      "Eigenvectors: [(-1/2, [(1, 0)], 1), (1/2, [(0, 1)], 1)]\n",
      "\n",
      "\n",
      "Residue at [x == p, y == -q]:\n"
     ]
    },
    {
     "data": {
      "text/latex": [
       "$$\\left(\\begin{array}{rr}\n",
       "\\frac{1}{2} & 0 \\\\\n",
       "0 & -\\frac{1}{2}\n",
       "\\end{array}\\right)$$"
      ],
      "text/plain": [
       "<IPython.core.display.Math object>"
      ]
     },
     "metadata": {},
     "output_type": "display_data"
    },
    {
     "name": "stdout",
     "output_type": "stream",
     "text": [
      "Eigenvectors: [(-1/2, [(0, 1)], 1), (1/2, [(1, 0)], 1)]\n",
      "\n",
      "\n",
      "Residue at [x == t, y == r]:\n"
     ]
    },
    {
     "data": {
      "text/latex": [
       "$$\\left(\\begin{array}{rr}\n",
       "-\\frac{{\\left(u^{2} + 1\\right)} n}{2 \\, {\\left(u + 1\\right)} {\\left(u - 1\\right)}} & \\frac{n u}{{\\left(u + 1\\right)} {\\left(u - 1\\right)}} \\\\\n",
       "-\\frac{n u}{{\\left(u + 1\\right)} {\\left(u - 1\\right)}} & \\frac{{\\left(u^{2} + 1\\right)} n}{2 \\, {\\left(u + 1\\right)} {\\left(u - 1\\right)}}\n",
       "\\end{array}\\right)$$"
      ],
      "text/plain": [
       "<IPython.core.display.Math object>"
      ]
     },
     "metadata": {},
     "output_type": "display_data"
    },
    {
     "name": "stdout",
     "output_type": "stream",
     "text": [
      "Eigenvectors: [(-1/2*n, [(1, 1/u)], 1), (1/2*n, [(1, u)], 1)]\n",
      "\n",
      "\n",
      "Residue at [x == t, y == -r]:\n"
     ]
    },
    {
     "data": {
      "text/latex": [
       "$$\\left(\\begin{array}{rr}\n",
       "\\frac{{\\left(u^{2} + 1\\right)} n}{2 \\, {\\left(u + 1\\right)} {\\left(u - 1\\right)}} & -\\frac{n u}{{\\left(u + 1\\right)} {\\left(u - 1\\right)}} \\\\\n",
       "\\frac{n u}{{\\left(u + 1\\right)} {\\left(u - 1\\right)}} & -\\frac{{\\left(u^{2} + 1\\right)} n}{2 \\, {\\left(u + 1\\right)} {\\left(u - 1\\right)}}\n",
       "\\end{array}\\right)$$"
      ],
      "text/plain": [
       "<IPython.core.display.Math object>"
      ]
     },
     "metadata": {},
     "output_type": "display_data"
    },
    {
     "name": "stdout",
     "output_type": "stream",
     "text": [
      "Eigenvectors: [(-1/2*n, [(1, u)], 1), (1/2*n, [(1, 1/u)], 1)]\n",
      "\n",
      "\n"
     ]
    }
   ],
   "source": [
    "# Residues of Nabla0\n",
    "for k in range(4):\n",
    "    print 'Residue at {}:'.format(Sing[k])\n",
    "    residue = Res[k].subs(nabla0).simplify_rational().factor()\n",
    "    DM(residue)\n",
    "    print 'Eigenvectors:', residue.eigenvectors_right()\n",
    "    print '\\n'"
   ]
  },
  {
   "cell_type": "markdown",
   "metadata": {},
   "source": [
    "**Question:** How to characterize $\\nabla_0$ in a geometric way?? The apparent maps don't seem to give a lot of information..."
   ]
  },
  {
   "cell_type": "markdown",
   "metadata": {
    "collapsed": true
   },
   "source": [
    "### Invariance of $\\nabla_0$"
   ]
  },
  {
   "cell_type": "markdown",
   "metadata": {},
   "source": [
    "By construction, $\\nabla_0$ is invariant under $z\\mapsto-z$, but what about the other involution (permuting the roles of p1 and p2)?"
   ]
  },
  {
   "cell_type": "code",
   "execution_count": 75,
   "metadata": {},
   "outputs": [
    {
     "data": {
      "text/plain": [
       "True"
      ]
     },
     "execution_count": 75,
     "metadata": {},
     "output_type": "execute_result"
    }
   ],
   "source": [
    "# Recall B is the permutation matrix B = matrix([(0,1), (1,0)])\n",
    "(Nabla0 - B*Nabla0.subs([q==-q, u==1/u])*B).simplify_rational().factor() == 0"
   ]
  },
  {
   "cell_type": "code",
   "execution_count": 76,
   "metadata": {},
   "outputs": [
    {
     "name": "stdout",
     "output_type": "stream",
     "text": [
      "True\n",
      "True\n"
     ]
    }
   ],
   "source": [
    "# Additional symmetries:\n",
    "print (Nabla0 - Nabla0.subs([r==-r, u==1/u])).simplify_rational().factor() == 0\n",
    "print (Nabla0 - (-1)*Nabla0.subs([q==-q, r==-r])).simplify_rational().factor() == 0"
   ]
  },
  {
   "cell_type": "markdown",
   "metadata": {},
   "source": [
    "## Definition of $\\Theta_1 = \\frac{1}{2}(\\Theta_1^+ + \\Theta_1^-)$"
   ]
  },
  {
   "cell_type": "markdown",
   "metadata": {},
   "source": [
    "Note that $\\Theta_2$ is invarian under the transformation $z \\mapsto -z$, however, $\\Theta_1$ isn't. To define an invariant Higgs field we'll take the average of the + and the - versions of it (as we did for $\\nabla_0$)."
   ]
  },
  {
   "cell_type": "code",
   "execution_count": 77,
   "metadata": {},
   "outputs": [],
   "source": [
    "Theta1 = (1/2)*(Theta1plus + Theta1minus).simplify_rational().factor()"
   ]
  },
  {
   "cell_type": "code",
   "execution_count": 78,
   "metadata": {},
   "outputs": [],
   "source": [
    "Theta2 = Theta2plus"
   ]
  },
  {
   "cell_type": "markdown",
   "metadata": {},
   "source": [
    "Now we have a Universal Family spanned by the elements $\\nabla_0$, $\\Theta_1$, and $\\Theta_2$, which are invariant under both involutions.  \n",
    "To confirm the invariance:"
   ]
  },
  {
   "cell_type": "code",
   "execution_count": 79,
   "metadata": {},
   "outputs": [
    {
     "name": "stdout",
     "output_type": "stream",
     "text": [
      "True\n",
      "True \n",
      "\n",
      "True\n",
      "True \n",
      "\n",
      "True\n",
      "True\n"
     ]
    }
   ],
   "source": [
    "print (Nabla0 - C*Nabla0.subs([u==-u])*C) == 0\n",
    "print (Nabla0 - B*Nabla0.subs([q==-q, u==1/u])*B).simplify_rational().factor() == 0, '\\n'\n",
    "\n",
    "print (Theta1 - C*Theta1.subs([u==-u])*C) == 0\n",
    "print (Theta1 - B*Theta1.subs([q==-q, u==1/u])*B).simplify_rational().factor() == 0, '\\n'\n",
    "\n",
    "print (Theta2 - C*Theta2.subs([u==-u])*C) == 0\n",
    "print (Theta2 - B*Theta2.subs([q==-q, u==1/u])*B).simplify_rational().factor() == 0"
   ]
  },
  {
   "cell_type": "raw",
   "metadata": {
    "scrolled": true
   },
   "source": [
    "# Find the values of the parameters a_2, b_3 that define Theta1\n",
    "\n",
    "a2T1 = diff(diff(Theta1[0][0]/2, x), x).simplify_rational().factor()  # a_2\n",
    "b3T1 = diff(Theta1[0][1], y).simplify_rational().factor()  # b_3\n",
    "\n",
    "theta1 = solve(EqHom + [b_3 - b3T1, a_2 - a2T1], parameters)[0]\n",
    "\n",
    "print M.subs(theta1).simplify_rational().factor() - Theta1 == 0\n",
    "\n",
    "print a2T1\n",
    "print b3T1"
   ]
  },
  {
   "cell_type": "markdown",
   "metadata": {},
   "source": [
    "# The quotient $u\\sim -u$\n",
    "\n",
    "**Remark:** From the expression $\\Theta_1^-(p,q,u) = C\\Theta_1^+(p,q,-u)C$, we deduce that $\\Theta_1^-(p,q,u)$ is characterized by having parabolic structure $(p,q,u)$ and tangencies with the horizontal $\\{z = -1\\}$ exactly at the points $t$ and $\\mu_1(p,q,-u)$. The minus sign inside $\\mu_1(p,q,-u)$ is important!\n",
    "\n",
    "First of all, we'll need to write $\\nabla_0^-$ and $\\Theta_1^-$ as a linear combination of $\\nabla_0^+$, $\\Theta_1^+$ and $\\Theta_2$."
   ]
  },
  {
   "cell_type": "code",
   "execution_count": 80,
   "metadata": {},
   "outputs": [
    {
     "data": {
      "text/plain": [
       "(C01, C02, C11, C12)"
      ]
     },
     "execution_count": 80,
     "metadata": {},
     "output_type": "execute_result"
    }
   ],
   "source": [
    "var('C01 C02 C11 C12')"
   ]
  },
  {
   "cell_type": "code",
   "execution_count": 81,
   "metadata": {},
   "outputs": [
    {
     "data": {
      "text/plain": [
       "[  1   0   0]\n",
       "[C01 C11   0]\n",
       "[C02 C12   1]"
      ]
     },
     "execution_count": 81,
     "metadata": {},
     "output_type": "execute_result"
    }
   ],
   "source": [
    "conjugacy_matrix = matrix([(1, C01, C02), (0, C11, C12), (0, 0, 1)]).transpose(); conjugacy_matrix"
   ]
  },
  {
   "cell_type": "code",
   "execution_count": 82,
   "metadata": {},
   "outputs": [
    {
     "data": {
      "text/plain": [
       "[[C01 == r1, C02 == -1/2*r1*r2, C11 == -1, C12 == r2], [C01 == r3, C02 == 0, C11 == -1, C12 == 0], [C01 == 0, C02 == 0, C11 == 1, C12 == 0]]"
      ]
     },
     "execution_count": 82,
     "metadata": {},
     "output_type": "execute_result"
    }
   ],
   "source": [
    "# conjugacy^2 must be the identity\n",
    "solve([(conjugacy_matrix^2 - identity_matrix(3))[i][j] for i in range(3) for j in range(3)], [C01, C02, C11, C12])"
   ]
  },
  {
   "cell_type": "markdown",
   "metadata": {},
   "source": [
    "**Warning:** The above are only valid if the coefficients Cij are constants, but they do depend on u, so we need to switch from u to -u each time we conjugate."
   ]
  },
  {
   "cell_type": "markdown",
   "metadata": {},
   "source": [
    "Computations for $\\nabla_0^-$"
   ]
  },
  {
   "cell_type": "code",
   "execution_count": 83,
   "metadata": {},
   "outputs": [],
   "source": [
    "EqN0 = C*Nabla0plus*C - (Nabla0plus + c1*Theta1plus + c2*Theta2plus).subs(u==-u)"
   ]
  },
  {
   "cell_type": "code",
   "execution_count": 84,
   "metadata": {},
   "outputs": [
    {
     "name": "stdout",
     "output_type": "stream",
     "text": [
      "-2*(L*q*u - L*r*u + p*r*u - q*t*u - L*q - L*r + p*r + q*t)*n/((L - t)*(n + 1)*q*(u - 1))\n"
     ]
    }
   ],
   "source": [
    "c01 = c1.subs(solve(diff(EqN0[0][1], y).simplify_rational().factor(), c1))\n",
    "c01 = c01.simplify_rational().factor()\n",
    "print c01"
   ]
  },
  {
   "cell_type": "code",
   "execution_count": 85,
   "metadata": {},
   "outputs": [
    {
     "name": "stdout",
     "output_type": "stream",
     "text": [
      "(L*p^3*q*u + 2*L^2*p^2*r*u - 4*L*p^3*r*u + 2*p^4*r*u - 2*L^2*p*q*t*u + L*p^2*q*t*u - p^3*q*t*u + 2*L*p*q*t^2*u - p^2*q*t^2*u - L*p^3*q + 2*L^2*p^2*r - 4*L*p^3*r + 2*p^4*r + 2*L^2*p*q*t - L*p^2*q*t + p^3*q*t - 2*L*p*q*t^2 + p^2*q*t^2 + L^2*p*q*u - 2*L*p^2*q*u - 2*L^2*p*r*u + 4*L*p^2*r*u - 2*p^3*r*u + L^2*q*t*u - L*p*q*t*u + 2*p^2*q*t*u - L*q*t^2*u - L^2*p*q + 2*L*p^2*q - 2*L^2*p*r + 4*L*p^2*r - 2*p^3*r - L^2*q*t + L*p*q*t - 2*p^2*q*t + L*q*t^2)*n/((L - t)*(n + 1)*(p - t)*(p - 1)*p*q*(u - 1))\n"
     ]
    }
   ],
   "source": [
    "c02 = c2.subs(solve(EqN0[0][0].subs(c1==c01).subs(x==0).simplify_rational(), c2))\n",
    "c02 = c02.simplify_rational().factor()\n",
    "print c02"
   ]
  },
  {
   "cell_type": "code",
   "execution_count": 86,
   "metadata": {},
   "outputs": [
    {
     "data": {
      "text/plain": [
       "[0 0]\n",
       "[0 0]"
      ]
     },
     "execution_count": 86,
     "metadata": {},
     "output_type": "execute_result"
    }
   ],
   "source": [
    "EqN0.subs([c1==c01, c2==c02]).simplify_rational()"
   ]
  },
  {
   "cell_type": "markdown",
   "metadata": {},
   "source": [
    "Computations for $\\Theta_1^-$"
   ]
  },
  {
   "cell_type": "code",
   "execution_count": 87,
   "metadata": {},
   "outputs": [],
   "source": [
    "EqT1 = C*Theta1plus*C - (c1*Theta1plus + c2*Theta2plus).subs(u==-u)"
   ]
  },
  {
   "cell_type": "code",
   "execution_count": 88,
   "metadata": {},
   "outputs": [
    {
     "name": "stdout",
     "output_type": "stream",
     "text": [
      "-(L*q*u - L*r*u + p*r*u - q*t*u - L*q - L*r + p*r + q*t)*(u + 1)/((L*q*u - L*r*u + p*r*u - q*t*u + L*q + L*r - p*r - q*t)*(u - 1))\n"
     ]
    }
   ],
   "source": [
    "c11 = c1.subs(solve(diff(EqT1[0][1], y).simplify_rational().factor(), c1))\n",
    "c11 = c11.simplify_rational().factor()\n",
    "print c11"
   ]
  },
  {
   "cell_type": "code",
   "execution_count": 89,
   "metadata": {},
   "outputs": [
    {
     "name": "stdout",
     "output_type": "stream",
     "text": [
      "(L*p^3*q*u^2 + 2*L^2*p^2*r*u^2 - 4*L*p^3*r*u^2 + 2*p^4*r*u^2 - 2*L^2*p*q*t*u^2 + L*p^2*q*t*u^2 - p^3*q*t*u^2 + 2*L*p*q*t^2*u^2 - p^2*q*t^2*u^2 + L^2*p*q*u^2 - 2*L*p^2*q*u^2 - 2*L^2*p*r*u^2 + 4*L*p^2*r*u^2 - 2*p^3*r*u^2 + L^2*q*t*u^2 - L*p*q*t*u^2 + 2*p^2*q*t*u^2 - L*q*t^2*u^2 - L*p^3*q + 2*L^2*p^2*r - 4*L*p^3*r + 2*p^4*r + 2*L^2*p*q*t - L*p^2*q*t + p^3*q*t - 2*L*p*q*t^2 + p^2*q*t^2 - L^2*p*q + 2*L*p^2*q - 2*L^2*p*r + 4*L*p^2*r - 2*p^3*r - L^2*q*t + L*p*q*t - 2*p^2*q*t + L*q*t^2)/((L*q*u - L*r*u + p*r*u - q*t*u + L*q + L*r - p*r - q*t)*(p - t)*(p - 1)*p*(u - 1))\n"
     ]
    }
   ],
   "source": [
    "c12 = c2.subs(solve(EqT1[0][0].subs(c1==c11).subs(x==0).simplify_rational(), c2))\n",
    "c12 = c12.simplify_rational().factor()\n",
    "print c12"
   ]
  },
  {
   "cell_type": "code",
   "execution_count": 90,
   "metadata": {},
   "outputs": [
    {
     "data": {
      "text/plain": [
       "[0 0]\n",
       "[0 0]"
      ]
     },
     "execution_count": 90,
     "metadata": {},
     "output_type": "execute_result"
    }
   ],
   "source": [
    "EqT1.subs([c1==c11, c2==c12]).simplify_rational()"
   ]
  },
  {
   "cell_type": "code",
   "execution_count": 91,
   "metadata": {},
   "outputs": [],
   "source": [
    "conjugacy_matrix = conjugacy_matrix.subs([C01==c01, C02==c02, C11==c11, C12==c12])"
   ]
  },
  {
   "cell_type": "markdown",
   "metadata": {},
   "source": [
    "### The invariant universal family\n",
    "\n",
    "In order to change base from $(\\nabla_0^+, \\Theta_1^+, \\Theta_2)$ to $(\\nabla_0, \\Theta_1, \\Theta_2)$, we just need to take the average of the identity and the conjugacy matrix.\n",
    "\n",
    "**Remark:** The main feature of this basis is that if a connection $\\nabla$ is specified by the parameters $(p,q,u,c_1,c_2)$, then the only other connection with the same values of $(p,q)$ that is isomorphic to $\\nabla$ is the connection $\\tilde{\\nabla}$ specified by the parameters $(p,q,-u,c_1,c_2)$."
   ]
  },
  {
   "cell_type": "code",
   "execution_count": 92,
   "metadata": {},
   "outputs": [],
   "source": [
    "change_base = (1/2)*(identity_matrix(3) + conjugacy_matrix).simplify_rational().factor()"
   ]
  },
  {
   "cell_type": "code",
   "execution_count": 93,
   "metadata": {},
   "outputs": [],
   "source": [
    "inverse_change_base = (~change_base).simplify_rational().factor()"
   ]
  },
  {
   "cell_type": "code",
   "execution_count": 94,
   "metadata": {},
   "outputs": [
    {
     "data": {
      "text/plain": [
       "True"
      ]
     },
     "execution_count": 94,
     "metadata": {},
     "output_type": "execute_result"
    }
   ],
   "source": [
    "# Sanity check\n",
    "(change_base - change_base.subs([u==1/u, q==-q])).simplify_rational() == 0"
   ]
  },
  {
   "cell_type": "markdown",
   "metadata": {},
   "source": [
    "Finally, we can describe the map $\\Phi$ between our families of connections over $\\mathbb{P}^1$ and over $C$ as follows:\n",
    "\n",
    "$$ (l, c, (c_1, c_2)) \\longmapsto (p, q, u, \\operatorname{ICB}(1, c_1, c_2)), $$\n",
    "\n",
    "where ICB is the inverse change of base matrix (which depends on p,q,u)."
   ]
  },
  {
   "cell_type": "code",
   "execution_count": null,
   "metadata": {},
   "outputs": [],
   "source": []
  },
  {
   "cell_type": "markdown",
   "metadata": {},
   "source": [
    "# The pull-back map $\\Phi$ in coordinates"
   ]
  },
  {
   "cell_type": "markdown",
   "metadata": {},
   "source": [
    "Let $\\mu_1, \\mu_2$ be the (second) apparent singularities of $\\Theta_1^+$ and $\\Theta_1^-$ respectively. Then, according to Loray-Saito we have the following:\n",
    "\n",
    "$$\\mu_1 = t\\frac{l-1}{l-t}, \\qquad \\mu_2 = \\lambda\\frac{c-1}{c-\\lambda}. $$\n",
    "\n",
    "**Remark:** Note that $\\mu_2 = p$. We have also computed $\\mu_1$ in terms of our variables $u,p,q$ (we called it $W$ before) as:\n",
    "\n",
    "$$ \\mu_1 = W = -\\frac{\n",
    "    (qt(\\lambda-t) - rp(\\lambda-p))u + qt(\\lambda-t) + rp(\\lambda-p)\n",
    "}{\n",
    "    (q(\\lambda-t) + r(\\lambda-p))u + q(\\lambda-t) - r(\\lambda-p)\n",
    "}. $$\n",
    "\n",
    "We can use these equations to solve for $l,c$ in terms of $u,p$ or viceversa."
   ]
  },
  {
   "cell_type": "markdown",
   "metadata": {},
   "source": [
    "### Transform $\\nabla_0$ and $\\Theta_1$ into $(l,c)$ variables"
   ]
  },
  {
   "cell_type": "code",
   "execution_count": 103,
   "metadata": {},
   "outputs": [
    {
     "data": {
      "text/plain": [
       "v"
      ]
     },
     "execution_count": 103,
     "metadata": {},
     "output_type": "execute_result"
    }
   ],
   "source": [
    "var('v')  # represents sqrt(c*(c-1)*(c-L))"
   ]
  },
  {
   "cell_type": "markdown",
   "metadata": {},
   "source": [
    "We have the following transformation rules:\n",
    "```python\n",
    "v == q*L*(L-1)/(L-p)^2\n",
    "q == v*L*(L-1)/(L-c)^2\n",
    "```"
   ]
  },
  {
   "cell_type": "code",
   "execution_count": 104,
   "metadata": {},
   "outputs": [],
   "source": [
    "to_cl_vars = [\n",
    "    p == -L*(c - 1)/(L - c),\n",
    "    q == v*L*(L-1)/(L-c)^2,\n",
    "    u == (L*c*l*r - L*c*r*t + L*l*r*t - c*l*r*t + L*t^2*v - t^3*v - L*l*r + c*r*t - L*t*v + t^2*v)/(L*c*l*r - L*c*r*t + L*l*r*t - c*l*r*t - L*t^2*v + t^3*v - L*l*r + c*r*t + L*t*v - t^2*v)\n",
    "]"
   ]
  },
  {
   "cell_type": "code",
   "execution_count": 105,
   "metadata": {},
   "outputs": [],
   "source": [
    "v2 = P.subs(x==c)\n",
    "\n",
    "dict_vars['v'] = v\n",
    "dict_vars['v2'] = v2\n",
    "\n",
    "def simplify_vr(expr, dictionary=dict_vars):\n",
    "    \"\"\"Convert expr to a string and replace powers of v and r\"\"\"\n",
    "    expr = expr.simplify_rational()\n",
    "    num = expr.numerator().expand()\n",
    "    str_num = str(num)\n",
    "    str_num = re.sub('v\\^2', 'v2', str_num)\n",
    "    str_num = re.sub('v\\^3', 'v*v2', str_num)\n",
    "    str_num = re.sub('v\\^4', 'v2^2', str_num)\n",
    "    str_num = re.sub('r\\^2', 'r2', str_num)\n",
    "    str_num = re.sub('r\\^3', 'r*r2', str_num)\n",
    "    str_num = re.sub('r\\^4', 'r2^2', str_num)\n",
    "    \n",
    "    den = expr.denominator().expand()\n",
    "    str_den = str(den)\n",
    "    str_den = re.sub('v\\^2', 'v2', str_den)\n",
    "    str_den = re.sub('v\\^3', 'v*v2', str_den)\n",
    "    str_den = re.sub('v\\^4', 'v2^2', str_den)\n",
    "    str_den = re.sub('r\\^2', 'r2', str_den)\n",
    "    str_den = re.sub('r\\^3', 'r*r2', str_den)\n",
    "    str_den = re.sub('r\\^4', 'r2^2', str_den)\n",
    "    \n",
    "    new_expr = sage_eval(str_num, locals=dictionary)/sage_eval(str_den, locals=dictionary)\n",
    "    new_expr = new_expr.simplify_rational()\n",
    "    if new_expr == 0:\n",
    "        return new_expr\n",
    "    else:\n",
    "        return new_expr.factor()"
   ]
  },
  {
   "cell_type": "code",
   "execution_count": 106,
   "metadata": {},
   "outputs": [
    {
     "name": "stdout",
     "output_type": "stream",
     "text": [
      "1/4*(L^3*c^3*l^2*n - 2*L^3*c^3*l*n*t + L^2*c^4*l*n*t + L^3*c^2*l^2*n*t - L^2*c^3*l^2*n*t + 2*L^3*c^3*n*t^2 - 2*L^2*c^4*n*t^2 - 2*L^3*c^2*l*n*t^2 + 3*L^2*c^3*l*n*t^2 - L*c^4*l*n*t^2 - L^2*c^4*l*n*x + 2*L^3*c^2*l^2*n*x - 2*L^2*c^3*l^2*n*x + L^2*c^4*n*t*x - 2*L^3*c^2*l*n*t*x + 2*L^2*c^3*l*n*t*x + 2*L^3*c*l^2*n*t*x - 4*L^2*c^2*l^2*n*t*x + 2*L*c^3*l^2*n*t*x + 2*L^3*c^2*n*t^2*x - 5*L^2*c^3*n*t^2*x + 3*L*c^4*n*t^2*x - 2*L^3*c*l*n*t^2*x + 5*L^2*c^2*l*n*t^2*x - 4*L*c^3*l*n*t^2*x + c^4*l*n*t^2*x - L^2*c^3*l*n*x^2 + L*c^4*l*n*x^2 + L^3*c*l^2*n*x^2 - 2*L^2*c^2*l^2*n*x^2 + L*c^3*l^2*n*x^2 + L^2*c^3*n*t*x^2 - L*c^4*n*t*x^2 - L^2*c^2*l*n*t*x^2 + 2*L*c^3*l*n*t*x^2 - c^4*l*n*t*x^2 + L^3*l^2*n*t*x^2 - 3*L^2*c*l^2*n*t*x^2 + 3*L*c^2*l^2*n*t*x^2 - c^3*l^2*n*t*x^2 - L^2*c^2*n*t^2*x^2 + 2*L*c^3*n*t^2*x^2 - c^4*n*t^2*x^2 - 3*L^3*c^2*l^2*n - 2*L^3*c^3*l*t + 2*L^2*c^4*l*t - L^3*c^3*n*t + L^2*c^4*n*t + 5*L^3*c^2*l*n*t - 2*L^2*c^3*l*n*t - 2*L^3*c*l^2*n*t + 2*L^2*c^2*l^2*n*t + 2*L^3*c^3*t^2 - 2*L^2*c^4*t^2 - 2*L^3*c^2*l*t^2 + 4*L^2*c^3*l*t^2 - 2*L*c^4*l*t^2 - 3*L^3*c^2*n*t^2 + 2*L^2*c^3*n*t^2 + L*c^4*n*t^2 + 3*L^3*c*l*n*t^2 - 4*L^2*c^2*l*n*t^2 + L*c^3*l*n*t^2 + 2*L^3*c^3*l*x - 2*L^2*c^4*l*x - L^3*c^2*l*n*x + 4*L^2*c^3*l*n*x - 4*L^3*c*l^2*n*x + 4*L^2*c^2*l^2*n*x - 2*L^3*c^3*t*x + 2*L^2*c^4*t*x + 2*L^3*c^2*l*t*x - 2*L^2*c^3*l*t*x - L^3*c^2*n*t*x + L^2*c^3*n*t*x - 3*L*c^4*n*t*x + 2*L^3*c*l*n*t*x - 2*L*c^3*l*n*t*x - 2*L^3*l^2*n*t*x + 4*L^2*c*l^2*n*t*x - 2*L*c^2*l^2*n*t*x - 2*L^2*c^3*t^2*x + 2*L*c^4*t^2*x + 2*L^2*c^2*l*t^2*x - 4*L*c^3*l*t^2*x + 2*c^4*l*t^2*x - L^3*c*n*t^2*x + 3*L^2*c^2*n*t^2*x - L*c^3*n*t^2*x - c^4*n*t^2*x + L^3*l*n*t^2*x - 2*L^2*c*l*n*t^2*x + L*c^2*l*n*t^2*x - 2*L^2*c^3*l*x^2 + 2*L*c^4*l*x^2 - L^3*c*l*n*x^2 + 4*L^2*c^2*l*n*x^2 - 3*L*c^3*l*n*x^2 - L^3*l^2*n*x^2 + 2*L^2*c*l^2*n*x^2 - L*c^2*l^2*n*x^2 + 2*L^2*c^3*t*x^2 - 2*L*c^4*t*x^2 - 2*L^2*c^2*l*t*x^2 + 4*L*c^3*l*t*x^2 - 2*c^4*l*t*x^2 - 2*L*c^3*n*t*x^2 + 2*c^4*n*t*x^2 - L^3*l*n*t*x^2 + 4*L^2*c*l*n*t*x^2 - 5*L*c^2*l*n*t*x^2 + 2*c^3*l*n*t*x^2 + L^2*c*n*t^2*x^2 - 2*L*c^2*n*t^2*x^2 + c^3*n*t^2*x^2 + 3*L^3*c*l^2*n + 4*L^3*c^2*l*t - 4*L^2*c^3*l*t + 2*L^3*c^2*n*t - 2*L^2*c^3*n*t - 4*L^3*c*l*n*t + L^2*c^2*l*n*t + L^3*l^2*n*t - L^2*c*l^2*n*t - 2*L^3*c^2*t^2 + 2*L*c^4*t^2 + 2*L^3*c*l*t^2 - 4*L^2*c^2*l*t^2 + 2*L*c^3*l*t^2 + L^3*c*n*t^2 - L*c^3*n*t^2 - L^3*l*n*t^2 + L^2*c*l*n*t^2 - 4*L^3*c^2*l*x + 4*L^2*c^3*l*x + 2*L^3*c*l*n*x - 5*L^2*c^2*l*n*x + 2*L^3*l^2*n*x - 2*L^2*c*l^2*n*x + 2*L^3*c^2*t*x - 2*L*c^4*t*x - 2*L^3*c*l*t*x + 2*L*c^3*l*t*x + L^3*c*n*t*x - 3*L^2*c^2*n*t*x + 5*L*c^3*n*t*x - 2*L^2*c*l*n*t*x + 2*L*c^2*l*n*t*x + 2*L^2*c^2*t^2*x - 2*c^4*t^2*x - 2*L^2*c*l*t^2*x + 4*L*c^2*l*t^2*x - 2*c^3*l*t^2*x - L^2*c*n*t^2*x + L*c^2*n*t^2*x + 4*L^2*c^2*l*x^2 - 4*L*c^3*l*x^2 + L^3*l*n*x^2 - 3*L^2*c*l*n*x^2 + 2*L*c^2*l*n*x^2 - 2*L^2*c^2*t*x^2 + 2*c^4*t*x^2 + 2*L^2*c*l*t*x^2 - 4*L*c^2*l*t*x^2 + 2*c^3*l*t*x^2 - L^2*c*n*t*x^2 + 3*L*c^2*n*t*x^2 - 2*c^3*n*t*x^2 - L^3*l^2*n - 2*L^3*c*l*t + 2*L^2*c^2*l*t - L^3*c*n*t + L^2*c^2*n*t + L^3*l*n*t + 2*L^2*c^2*t^2 - 2*L*c^3*t^2 + 2*L^3*c*l*x - 2*L^2*c^2*l*x - L^3*l*n*x + 2*L^2*c*l*n*x - 2*L^2*c^2*t*x + 2*L*c^3*t*x + 2*L^2*c*l*t*x - 2*L*c^2*l*t*x + L^2*c*n*t*x - 2*L*c^2*n*t*x - 2*L*c^2*t^2*x + 2*c^3*t^2*x - 2*L^2*c*l*x^2 + 2*L*c^2*l*x^2 + 2*L*c^2*t*x^2 - 2*c^3*t*x^2)/((L*c*l - L*c*t + L*l*t - c*l*t - L*l + c*t)*(L - c)*v)\n"
     ]
    }
   ],
   "source": [
    "N00 = 1/4*(L^3*c^3*l^2*n - 2*L^3*c^3*l*n*t + L^2*c^4*l*n*t + L^3*c^2*l^2*n*t - L^2*c^3*l^2*n*t + 2*L^3*c^3*n*t^2 - 2*L^2*c^4*n*t^2 - 2*L^3*c^2*l*n*t^2 + 3*L^2*c^3*l*n*t^2 - L*c^4*l*n*t^2 - L^2*c^4*l*n*x + 2*L^3*c^2*l^2*n*x - 2*L^2*c^3*l^2*n*x + L^2*c^4*n*t*x - 2*L^3*c^2*l*n*t*x + 2*L^2*c^3*l*n*t*x + 2*L^3*c*l^2*n*t*x - 4*L^2*c^2*l^2*n*t*x + 2*L*c^3*l^2*n*t*x + 2*L^3*c^2*n*t^2*x - 5*L^2*c^3*n*t^2*x + 3*L*c^4*n*t^2*x - 2*L^3*c*l*n*t^2*x + 5*L^2*c^2*l*n*t^2*x - 4*L*c^3*l*n*t^2*x + c^4*l*n*t^2*x - L^2*c^3*l*n*x^2 + L*c^4*l*n*x^2 + L^3*c*l^2*n*x^2 - 2*L^2*c^2*l^2*n*x^2 + L*c^3*l^2*n*x^2 + L^2*c^3*n*t*x^2 - L*c^4*n*t*x^2 - L^2*c^2*l*n*t*x^2 + 2*L*c^3*l*n*t*x^2 - c^4*l*n*t*x^2 + L^3*l^2*n*t*x^2 - 3*L^2*c*l^2*n*t*x^2 + 3*L*c^2*l^2*n*t*x^2 - c^3*l^2*n*t*x^2 - L^2*c^2*n*t^2*x^2 + 2*L*c^3*n*t^2*x^2 - c^4*n*t^2*x^2 - 3*L^3*c^2*l^2*n - 2*L^3*c^3*l*t + 2*L^2*c^4*l*t - L^3*c^3*n*t + L^2*c^4*n*t + 5*L^3*c^2*l*n*t - 2*L^2*c^3*l*n*t - 2*L^3*c*l^2*n*t + 2*L^2*c^2*l^2*n*t + 2*L^3*c^3*t^2 - 2*L^2*c^4*t^2 - 2*L^3*c^2*l*t^2 + 4*L^2*c^3*l*t^2 - 2*L*c^4*l*t^2 - 3*L^3*c^2*n*t^2 + 2*L^2*c^3*n*t^2 + L*c^4*n*t^2 + 3*L^3*c*l*n*t^2 - 4*L^2*c^2*l*n*t^2 + L*c^3*l*n*t^2 + 2*L^3*c^3*l*x - 2*L^2*c^4*l*x - L^3*c^2*l*n*x + 4*L^2*c^3*l*n*x - 4*L^3*c*l^2*n*x + 4*L^2*c^2*l^2*n*x - 2*L^3*c^3*t*x + 2*L^2*c^4*t*x + 2*L^3*c^2*l*t*x - 2*L^2*c^3*l*t*x - L^3*c^2*n*t*x + L^2*c^3*n*t*x - 3*L*c^4*n*t*x + 2*L^3*c*l*n*t*x - 2*L*c^3*l*n*t*x - 2*L^3*l^2*n*t*x + 4*L^2*c*l^2*n*t*x - 2*L*c^2*l^2*n*t*x - 2*L^2*c^3*t^2*x + 2*L*c^4*t^2*x + 2*L^2*c^2*l*t^2*x - 4*L*c^3*l*t^2*x + 2*c^4*l*t^2*x - L^3*c*n*t^2*x + 3*L^2*c^2*n*t^2*x - L*c^3*n*t^2*x - c^4*n*t^2*x + L^3*l*n*t^2*x - 2*L^2*c*l*n*t^2*x + L*c^2*l*n*t^2*x - 2*L^2*c^3*l*x^2 + 2*L*c^4*l*x^2 - L^3*c*l*n*x^2 + 4*L^2*c^2*l*n*x^2 - 3*L*c^3*l*n*x^2 - L^3*l^2*n*x^2 + 2*L^2*c*l^2*n*x^2 - L*c^2*l^2*n*x^2 + 2*L^2*c^3*t*x^2 - 2*L*c^4*t*x^2 - 2*L^2*c^2*l*t*x^2 + 4*L*c^3*l*t*x^2 - 2*c^4*l*t*x^2 - 2*L*c^3*n*t*x^2 + 2*c^4*n*t*x^2 - L^3*l*n*t*x^2 + 4*L^2*c*l*n*t*x^2 - 5*L*c^2*l*n*t*x^2 + 2*c^3*l*n*t*x^2 + L^2*c*n*t^2*x^2 - 2*L*c^2*n*t^2*x^2 + c^3*n*t^2*x^2 + 3*L^3*c*l^2*n + 4*L^3*c^2*l*t - 4*L^2*c^3*l*t + 2*L^3*c^2*n*t - 2*L^2*c^3*n*t - 4*L^3*c*l*n*t + L^2*c^2*l*n*t + L^3*l^2*n*t - L^2*c*l^2*n*t - 2*L^3*c^2*t^2 + 2*L*c^4*t^2 + 2*L^3*c*l*t^2 - 4*L^2*c^2*l*t^2 + 2*L*c^3*l*t^2 + L^3*c*n*t^2 - L*c^3*n*t^2 - L^3*l*n*t^2 + L^2*c*l*n*t^2 - 4*L^3*c^2*l*x + 4*L^2*c^3*l*x + 2*L^3*c*l*n*x - 5*L^2*c^2*l*n*x + 2*L^3*l^2*n*x - 2*L^2*c*l^2*n*x + 2*L^3*c^2*t*x - 2*L*c^4*t*x - 2*L^3*c*l*t*x + 2*L*c^3*l*t*x + L^3*c*n*t*x - 3*L^2*c^2*n*t*x + 5*L*c^3*n*t*x - 2*L^2*c*l*n*t*x + 2*L*c^2*l*n*t*x + 2*L^2*c^2*t^2*x - 2*c^4*t^2*x - 2*L^2*c*l*t^2*x + 4*L*c^2*l*t^2*x - 2*c^3*l*t^2*x - L^2*c*n*t^2*x + L*c^2*n*t^2*x + 4*L^2*c^2*l*x^2 - 4*L*c^3*l*x^2 + L^3*l*n*x^2 - 3*L^2*c*l*n*x^2 + 2*L*c^2*l*n*x^2 - 2*L^2*c^2*t*x^2 + 2*c^4*t*x^2 + 2*L^2*c*l*t*x^2 - 4*L*c^2*l*t*x^2 + 2*c^3*l*t*x^2 - L^2*c*n*t*x^2 + 3*L*c^2*n*t*x^2 - 2*c^3*n*t*x^2 - L^3*l^2*n - 2*L^3*c*l*t + 2*L^2*c^2*l*t - L^3*c*n*t + L^2*c^2*n*t + L^3*l*n*t + 2*L^2*c^2*t^2 - 2*L*c^3*t^2 + 2*L^3*c*l*x - 2*L^2*c^2*l*x - L^3*l*n*x + 2*L^2*c*l*n*x - 2*L^2*c^2*t*x + 2*L*c^3*t*x + 2*L^2*c*l*t*x - 2*L*c^2*l*t*x + L^2*c*n*t*x - 2*L*c^2*n*t*x - 2*L*c^2*t^2*x + 2*c^3*t^2*x - 2*L^2*c*l*x^2 + 2*L*c^2*l*x^2 + 2*L*c^2*t*x^2 - 2*c^3*t*x^2)/((L*c*l - L*c*t + L*l*t - c*l*t - L*l + c*t)*(L - c)*v)\n",
    "print N00"
   ]
  },
  {
   "cell_type": "raw",
   "metadata": {},
   "source": [
    "# Original code\n",
    "N00 = simplify_vr(Nabla0[0][0].subs(to_cl_vars))\n",
    "print N00"
   ]
  },
  {
   "cell_type": "code",
   "execution_count": 107,
   "metadata": {},
   "outputs": [
    {
     "name": "stdout",
     "output_type": "stream",
     "text": [
      "-1/4*(L*c*l^2 - 2*L*c*l*t + L*l^2*t - c*l^2*t + c^2*t^2 - L*l^2 + L*c*t - c^2*t + 2*c*l*t - c*t^2)*(L*c + L*x - c*x - L)^2*n/((L*c*l - L*c*t + L*l*t - c*l*t - L*l + c*t)*(L - c)*v)\n"
     ]
    }
   ],
   "source": [
    "N01 = -1/4*(L*c*l^2 - 2*L*c*l*t + L*l^2*t - c*l^2*t + c^2*t^2 - L*l^2 + L*c*t - c^2*t + 2*c*l*t - c*t^2)*(L*c + L*x - c*x - L)^2*n/((L*c*l - L*c*t + L*l*t - c*l*t - L*l + c*t)*(L - c)*v)\n",
    "print N01"
   ]
  },
  {
   "cell_type": "raw",
   "metadata": {},
   "source": [
    "# Original code\n",
    "N01 = simplify_vr(Nabla0[0][1].subs(to_cl_vars))\n",
    "print N01"
   ]
  },
  {
   "cell_type": "code",
   "execution_count": 108,
   "metadata": {},
   "outputs": [
    {
     "name": "stdout",
     "output_type": "stream",
     "text": [
      "-1/8*(L^2*c^2*l^4 - 2*L*c^4*l^2*t - 2*L^2*c^2*l^3*t + L*c^3*l^3*t + L^2*c*l^4*t - L*c^2*l^4*t + 4*L*c^4*l*t^2 + 2*L^2*c^2*l^2*t^2 - 5*L*c^3*l^2*t^2 + 2*c^4*l^2*t^2 - 2*L^2*c*l^3*t^2 + 3*L*c^2*l^3*t^2 - c^3*l^3*t^2 - 2*L*c^4*t^3 + 2*L*c^3*l*t^3 - c^4*l*t^3 + 2*L*c^4*l^2*x - 2*L^2*c^2*l^3*x - L*c^3*l^3*x + L^2*c*l^4*x - L*c^2*l^4*x - 4*L*c^4*l*t*x + 2*L^2*c^2*l^2*t*x + 7*L*c^3*l^2*t*x - 2*c^4*l^2*t*x - 2*L^2*c*l^3*t*x + L*c^2*l^3*t*x + c^3*l^3*t*x + L^2*l^4*t*x - 2*L*c*l^4*t*x + c^2*l^4*t*x + 2*L*c^4*t^2*x - 6*L*c^3*l*t^2*x + c^4*l*t^2*x + 2*L*c^2*l^2*t^2*x - 2*c^3*l^2*t^2*x + c^4*t^3*x - 2*L^2*c*l^4 + 4*L*c^3*l^2*t + 3*L^2*c*l^3*t - L*c^2*l^3*t - L^2*l^4*t + L*c*l^4*t - 2*L^2*c^2*l*t^2 - 3*L*c^3*l*t^2 - 3*c^4*l*t^2 + L^2*c*l^2*t^2 + c^3*l^2*t^2 + L^2*l^3*t^2 - L*c*l^3*t^2 + 3*L*c^3*t^3 + c^4*t^3 - 3*L*c^2*l*t^3 + c^3*l*t^3 + 2*L^2*c^2*l^2*x - 6*L*c^3*l^2*x + L^2*c*l^3*x + 5*L*c^2*l^3*x - L^2*l^4*x + L*c*l^4*x - 2*L^2*c^2*l*t*x + 7*L*c^3*l*t*x + 3*c^4*l*t*x + L^2*c*l^2*t*x - 16*L*c^2*l^2*t*x + c^3*l^2*t*x - L^2*l^3*t*x + 5*L*c*l^3*t*x - 4*c^2*l^3*t*x - L*c^3*t^2*x - 3*c^4*t^2*x + 7*L*c^2*l*t^2*x + 3*c^3*l*t^2*x - 2*L*c*l^2*t^2*x + 2*c^2*l^2*t^2*x - 2*c^3*t^3*x + L^2*l^4 - 2*L*c^2*l^2*t - L^2*l^3*t + L^2*c^2*t^2 - 2*L*c^3*t^2 + c^4*t^2 - L^2*c*l*t^2 + 5*L*c^2*l*t^2 - L*c*l^2*t^2 - L*c^2*t^3 - c^3*t^3 + L*c*l*t^3 - 2*L^2*c*l^2*x + 4*L*c^2*l^2*x + L^2*l^3*x - 4*L*c*l^3*x + L^2*c*l*t*x - L*c^2*l*t*x - 4*c^3*l*t*x + 3*L*c*l^2*t*x + 4*c^2*l^2*t*x - L*c^2*t^2*x + 3*c^3*t^2*x - L*c*l*t^2*x - 4*c^2*l*t^2*x + c^2*t^3*x)*(L*c + L*x - c*x - L)*(n + 1)/((L*c*l - L*c*t + L*l*t - c*l*t - L*l + c*t)*(L - c)*(c - l)*(l - t)*v)\n"
     ]
    }
   ],
   "source": [
    "T00 = -1/8*(L^2*c^2*l^4 - 2*L*c^4*l^2*t - 2*L^2*c^2*l^3*t + L*c^3*l^3*t + L^2*c*l^4*t - L*c^2*l^4*t + 4*L*c^4*l*t^2 + 2*L^2*c^2*l^2*t^2 - 5*L*c^3*l^2*t^2 + 2*c^4*l^2*t^2 - 2*L^2*c*l^3*t^2 + 3*L*c^2*l^3*t^2 - c^3*l^3*t^2 - 2*L*c^4*t^3 + 2*L*c^3*l*t^3 - c^4*l*t^3 + 2*L*c^4*l^2*x - 2*L^2*c^2*l^3*x - L*c^3*l^3*x + L^2*c*l^4*x - L*c^2*l^4*x - 4*L*c^4*l*t*x + 2*L^2*c^2*l^2*t*x + 7*L*c^3*l^2*t*x - 2*c^4*l^2*t*x - 2*L^2*c*l^3*t*x + L*c^2*l^3*t*x + c^3*l^3*t*x + L^2*l^4*t*x - 2*L*c*l^4*t*x + c^2*l^4*t*x + 2*L*c^4*t^2*x - 6*L*c^3*l*t^2*x + c^4*l*t^2*x + 2*L*c^2*l^2*t^2*x - 2*c^3*l^2*t^2*x + c^4*t^3*x - 2*L^2*c*l^4 + 4*L*c^3*l^2*t + 3*L^2*c*l^3*t - L*c^2*l^3*t - L^2*l^4*t + L*c*l^4*t - 2*L^2*c^2*l*t^2 - 3*L*c^3*l*t^2 - 3*c^4*l*t^2 + L^2*c*l^2*t^2 + c^3*l^2*t^2 + L^2*l^3*t^2 - L*c*l^3*t^2 + 3*L*c^3*t^3 + c^4*t^3 - 3*L*c^2*l*t^3 + c^3*l*t^3 + 2*L^2*c^2*l^2*x - 6*L*c^3*l^2*x + L^2*c*l^3*x + 5*L*c^2*l^3*x - L^2*l^4*x + L*c*l^4*x - 2*L^2*c^2*l*t*x + 7*L*c^3*l*t*x + 3*c^4*l*t*x + L^2*c*l^2*t*x - 16*L*c^2*l^2*t*x + c^3*l^2*t*x - L^2*l^3*t*x + 5*L*c*l^3*t*x - 4*c^2*l^3*t*x - L*c^3*t^2*x - 3*c^4*t^2*x + 7*L*c^2*l*t^2*x + 3*c^3*l*t^2*x - 2*L*c*l^2*t^2*x + 2*c^2*l^2*t^2*x - 2*c^3*t^3*x + L^2*l^4 - 2*L*c^2*l^2*t - L^2*l^3*t + L^2*c^2*t^2 - 2*L*c^3*t^2 + c^4*t^2 - L^2*c*l*t^2 + 5*L*c^2*l*t^2 - L*c*l^2*t^2 - L*c^2*t^3 - c^3*t^3 + L*c*l*t^3 - 2*L^2*c*l^2*x + 4*L*c^2*l^2*x + L^2*l^3*x - 4*L*c*l^3*x + L^2*c*l*t*x - L*c^2*l*t*x - 4*c^3*l*t*x + 3*L*c*l^2*t*x + 4*c^2*l^2*t*x - L*c^2*t^2*x + 3*c^3*t^2*x - L*c*l*t^2*x - 4*c^2*l*t^2*x + c^2*t^3*x)*(L*c + L*x - c*x - L)*(n + 1)/((L*c*l - L*c*t + L*l*t - c*l*t - L*l + c*t)*(L - c)*(c - l)*(l - t)*v)\n",
    "print T00"
   ]
  },
  {
   "cell_type": "raw",
   "metadata": {},
   "source": [
    "# Original code\n",
    "T00 = simplify_vr(simplify_qr(Theta1[0][0]).subs(to_cl_vars))\n",
    "print T00, '\\n'"
   ]
  },
  {
   "cell_type": "code",
   "execution_count": 109,
   "metadata": {},
   "outputs": [
    {
     "name": "stdout",
     "output_type": "stream",
     "text": [
      "1/8*(L^2*c^2*l^2 - L*c^3*l*t - 2*L^2*c^2*l*x + L*c^3*l*x + 2*L^2*c*l^2*x - 2*L*c^2*l^2*x + 2*L^2*c^2*t*x - L*c^3*t*x - 2*L^2*c*l*t*x + L*c^2*l*t*x + c^3*l*t*x + L*c^2*l*x^2 - c^3*l*x^2 + L^2*l^2*x^2 - 2*L*c*l^2*x^2 + c^2*l^2*x^2 - L*c^2*t*x^2 + c^3*t*x^2 - 2*L^2*c*l^2 - L^2*c^2*t + L*c^3*t + L^2*c*l*t + L*c^2*l*t + L^2*c*l*x + L*c^2*l*x - 2*L^2*l^2*x + 2*L*c*l^2*x - L^2*c*t*x - c^3*t*x + L^2*l*t*x + L*c*l*t*x - 2*c^2*l*t*x - L^2*l*x^2 + L*c*l*x^2 + L*c*t*x^2 - c^2*t*x^2 + 2*L*c*l*v*y - 2*L*c*t*v*y + 2*L*l*t*v*y - 2*c*l*t*v*y + L^2*l^2 + L^2*c*t - L*c^2*t - L^2*l*t + L^2*l*x - 2*L*c*l*x - L*c*t*x + 2*c^2*t*x - 2*L*l*v*y + 2*c*t*v*y)*(L*c*l^2 - 2*L*c*l*t + L*l^2*t - c*l^2*t + c^2*t^2 - L*l^2 + L*c*t - c^2*t + 2*c*l*t - c*t^2)*(n + 1)/((L*c*l - L*c*t + L*l*t - c*l*t - L*l + c*t)*(L - c)*(c - l)*(l - t)*v)\n"
     ]
    }
   ],
   "source": [
    "T01 = 1/8*(L^2*c^2*l^2 - L*c^3*l*t - 2*L^2*c^2*l*x + L*c^3*l*x + 2*L^2*c*l^2*x - 2*L*c^2*l^2*x + 2*L^2*c^2*t*x - L*c^3*t*x - 2*L^2*c*l*t*x + L*c^2*l*t*x + c^3*l*t*x + L*c^2*l*x^2 - c^3*l*x^2 + L^2*l^2*x^2 - 2*L*c*l^2*x^2 + c^2*l^2*x^2 - L*c^2*t*x^2 + c^3*t*x^2 - 2*L^2*c*l^2 - L^2*c^2*t + L*c^3*t + L^2*c*l*t + L*c^2*l*t + L^2*c*l*x + L*c^2*l*x - 2*L^2*l^2*x + 2*L*c*l^2*x - L^2*c*t*x - c^3*t*x + L^2*l*t*x + L*c*l*t*x - 2*c^2*l*t*x - L^2*l*x^2 + L*c*l*x^2 + L*c*t*x^2 - c^2*t*x^2 + 2*L*c*l*v*y - 2*L*c*t*v*y + 2*L*l*t*v*y - 2*c*l*t*v*y + L^2*l^2 + L^2*c*t - L*c^2*t - L^2*l*t + L^2*l*x - 2*L*c*l*x - L*c*t*x + 2*c^2*t*x - 2*L*l*v*y + 2*c*t*v*y)*(L*c*l^2 - 2*L*c*l*t + L*l^2*t - c*l^2*t + c^2*t^2 - L*l^2 + L*c*t - c^2*t + 2*c*l*t - c*t^2)*(n + 1)/((L*c*l - L*c*t + L*l*t - c*l*t - L*l + c*t)*(L - c)*(c - l)*(l - t)*v) \n",
    "print T01"
   ]
  },
  {
   "cell_type": "raw",
   "metadata": {},
   "source": [
    "# Original code\n",
    "T01 = simplify_vr(simplify_qr(Theta1[0][1]).subs(to_cl_vars))\n",
    "print T01, '\\n'"
   ]
  },
  {
   "cell_type": "markdown",
   "metadata": {},
   "source": [
    "**Some remarks:** The above expressions no longer involve the variable `r`. Moreover, the variable `v` only appears as a simple factor in the denominator, except for `T01` where it appears multiplying every instance of the variable `y`."
   ]
  },
  {
   "cell_type": "markdown",
   "metadata": {},
   "source": [
    "### Transform the matrix ICB to $(l,c)$ variables"
   ]
  },
  {
   "cell_type": "code",
   "execution_count": 110,
   "metadata": {},
   "outputs": [],
   "source": [
    "ICB = inverse_change_base.subs(to_cl_vars)"
   ]
  },
  {
   "cell_type": "code",
   "execution_count": 111,
   "metadata": {
    "scrolled": true
   },
   "outputs": [],
   "source": [
    "b01 = simplify_vr(ICB[1][0])\n",
    "b02 = simplify_vr(ICB[2][0])\n",
    "b11 = simplify_vr(ICB[1][1])\n",
    "b12 = simplify_vr(ICB[2][1])"
   ]
  },
  {
   "cell_type": "code",
   "execution_count": 112,
   "metadata": {},
   "outputs": [
    {
     "name": "stdout",
     "output_type": "stream",
     "text": [
      "[                                                                                                                                                                                                                                                                                                                                                                                                                                                                                                                       1                                                                                                                                                                                                                                                                                                                                                                                                                                                                                                                        0                                                                                                                                                                                                                                                                                                                                                                                                                                                                                                                        0]\n",
      "[                                                                                                                                                                                                                                                                                                                                                                       2*(L*c + L*t - c*t - L)*(c - l)*(l - t)*n/((L*c*l^2 - 2*L*c*l*t + L*l^2*t - c*l^2*t + c^2*t^2 - L*l^2 + L*c*t - c^2*t + 2*c*l*t - c*t^2)*(n + 1))                                                                                                                                                                                                                                                                                                                                                                                                2*(L - t)*(c - 1)*c*(l - t)/(L*c*l^2 - 2*L*c*l*t + L*l^2*t - c*l^2*t + c^2*t^2 - L*l^2 + L*c*t - c^2*t + 2*c*l*t - c*t^2)                                                                                                                                                                                                                                                                                                                                                                                                                                                                                                                        0]\n",
      "[-1/2*(2*L*c^4*l - 2*L^2*c^2*l^2 - L*c^3*l^2 - 2*L*c^4*t + 6*L*c^3*l*t - 2*c^4*l*t + 2*L^2*c*l^2*t - 3*L*c^2*l^2*t + c^3*l^2*t - 2*L*c^3*t^2 + c^4*t^2 + 2*L^2*c^2*l - 6*L*c^3*l + L^2*c*l^2 + 5*L*c^2*l^2 + 3*L*c^3*t + c^4*t - 2*L^2*c*l*t - 6*L*c^2*l*t - L^2*l^2*t + L*c*l^2*t + 3*L*c^2*t^2 - c^3*t^2 - 2*L^2*c*l + 4*L*c^2*l + L^2*l^2 - 4*L*c*l^2 + L^2*c*t - 3*L*c^2*t + 4*L*c*l*t - L*c*t^2)*n/((L*c*l^2 - 2*L*c*l*t + L*l^2*t - c*l^2*t + c^2*t^2 - L*l^2 + L*c*t - c^2*t + 2*c*l*t - c*t^2)*(c - 1)*c*(n + 1))                                                                                                                                                                                                                                                                                                                             -(L*c^2*l - L^2*l^2 - L*c^2*t + 2*L*c*l*t - c^2*l*t + L^2*l - 2*L*c*l + L*l^2 + c^2*t - L*l*t)/(L*c*l^2 - 2*L*c*l*t + L*l^2*t - c*l^2*t + c^2*t^2 - L*l^2 + L*c*t - c^2*t + 2*c*l*t - c*t^2)                                                                                                                                                                                                                                                                                                                                                                                                                                                                                                                        1]\n"
     ]
    }
   ],
   "source": [
    "ICM_final = matrix([(1, 0, 0), (b01, b11, 0), (b02, b12, 1)])\n",
    "print ICM_final"
   ]
  },
  {
   "cell_type": "code",
   "execution_count": 113,
   "metadata": {},
   "outputs": [
    {
     "data": {
      "text/latex": [
       "$$\\frac{2 \\, {\\left(L c + L t - c t - L\\right)} {\\left(c - l\\right)} {\\left(l - t\\right)} n}{{\\left(L c l^{2} - 2 \\, L c l t + L l^{2} t - c l^{2} t + c^{2} t^{2} - L l^{2} + L c t - c^{2} t + 2 \\, c l t - c t^{2}\\right)} {\\left(n + 1\\right)}}$$"
      ],
      "text/plain": [
       "<IPython.core.display.Math object>"
      ]
     },
     "metadata": {},
     "output_type": "display_data"
    }
   ],
   "source": [
    "DM(ICM_final[1][0])"
   ]
  },
  {
   "cell_type": "code",
   "execution_count": 114,
   "metadata": {},
   "outputs": [
    {
     "data": {
      "text/latex": [
       "$$-{\\left(2 \\, L c^{4} l - 2 \\, L^{2} c^{2} l^{2} - L c^{3} l^{2} - 2 \\, L c^{4} t + 6 \\, L c^{3} l t - 2 \\, c^{4} l t + 2 \\, L^{2} c l^{2} t - 3 \\, L c^{2} l^{2} t + c^{3} l^{2} t - 2 \\, L c^{3} t^{2} + c^{4} t^{2} + 2 \\, L^{2} c^{2} l - 6 \\, L c^{3} l + L^{2} c l^{2} + 5 \\, L c^{2} l^{2} + 3 \\, L c^{3} t + c^{4} t - 2 \\, L^{2} c l t - 6 \\, L c^{2} l t - L^{2} l^{2} t + L c l^{2} t + 3 \\, L c^{2} t^{2} - c^{3} t^{2} - 2 \\, L^{2} c l + 4 \\, L c^{2} l + L^{2} l^{2} - 4 \\, L c l^{2} + L^{2} c t - 3 \\, L c^{2} t + 4 \\, L c l t - L c t^{2}\\right)} n$$"
      ],
      "text/plain": [
       "<IPython.core.display.Math object>"
      ]
     },
     "metadata": {},
     "output_type": "display_data"
    },
    {
     "data": {
      "text/latex": [
       "$$2 \\, {\\left(L c l^{2} - 2 \\, L c l t + L l^{2} t - c l^{2} t + c^{2} t^{2} - L l^{2} + L c t - c^{2} t + 2 \\, c l t - c t^{2}\\right)} {\\left(c - 1\\right)} c {\\left(n + 1\\right)}$$"
      ],
      "text/plain": [
       "<IPython.core.display.Math object>"
      ]
     },
     "metadata": {},
     "output_type": "display_data"
    }
   ],
   "source": [
    "DM(ICM_final[2][0].numerator())\n",
    "DM(ICM_final[2][0].denominator())"
   ]
  },
  {
   "cell_type": "code",
   "execution_count": 115,
   "metadata": {},
   "outputs": [
    {
     "data": {
      "text/latex": [
       "$$\\frac{2 \\, {\\left(L - t\\right)} {\\left(c - 1\\right)} c {\\left(l - t\\right)}}{L c l^{2} - 2 \\, L c l t + L l^{2} t - c l^{2} t + c^{2} t^{2} - L l^{2} + L c t - c^{2} t + 2 \\, c l t - c t^{2}}$$"
      ],
      "text/plain": [
       "<IPython.core.display.Math object>"
      ]
     },
     "metadata": {},
     "output_type": "display_data"
    }
   ],
   "source": [
    "DM(ICM_final[1][1])"
   ]
  },
  {
   "cell_type": "code",
   "execution_count": 116,
   "metadata": {},
   "outputs": [
    {
     "data": {
      "text/latex": [
       "$$-\\frac{L c^{2} l - L^{2} l^{2} - L c^{2} t + 2 \\, L c l t - c^{2} l t + L^{2} l - 2 \\, L c l + L l^{2} + c^{2} t - L l t}{L c l^{2} - 2 \\, L c l t + L l^{2} t - c l^{2} t + c^{2} t^{2} - L l^{2} + L c t - c^{2} t + 2 \\, c l t - c t^{2}}$$"
      ],
      "text/plain": [
       "<IPython.core.display.Math object>"
      ]
     },
     "metadata": {},
     "output_type": "display_data"
    }
   ],
   "source": [
    "DM(ICM_final[2][1])"
   ]
  },
  {
   "cell_type": "markdown",
   "metadata": {},
   "source": [
    "# The map into the moduli space of parabolic bundles $\\mathbb{P}^1_z\\times\\mathbb{P}^1_w$."
   ]
  },
  {
   "cell_type": "markdown",
   "metadata": {},
   "source": [
    "Suppose we start with a parabolic bundle on $\\mathbb{P}^1$ having parabolic structure $(0,1,c,\\infty,l)$ over the points $0,1,\\lambda,\\infty,t$ respectively. After pulling back to the elliptic curve and mapping this parabolic bundle to its moduli space, we recover a point $(z,w) \\in \\mathbb{P}^1_z \\times \\mathbb{P}^1_w$. This point was explicitly computed by Nestor, and the values for $z,w$ are the following:"
   ]
  },
  {
   "cell_type": "code",
   "execution_count": 117,
   "metadata": {},
   "outputs": [],
   "source": [
    "var('w')\n",
    "dict['w'] = w"
   ]
  },
  {
   "cell_type": "code",
   "execution_count": 118,
   "metadata": {},
   "outputs": [],
   "source": [
    "# Nestor's formula CORRECTED:\n",
    "zw_vals = [\n",
    "    z == L*(c-1)/(c-L),\n",
    "    w == (L*l*(L*(l-1) + t*(1-c) + c - l))/(L*(t*(l-c) + l*(c-1)) + c*t*(1-l))\n",
    "]"
   ]
  },
  {
   "cell_type": "markdown",
   "metadata": {},
   "source": [
    "Frome the equations in the above section we can recover the value of (z,w) in terms of u,p,q."
   ]
  },
  {
   "cell_type": "code",
   "execution_count": 119,
   "metadata": {},
   "outputs": [],
   "source": [
    "var('mu1 mu2')\n",
    "to_mu = [l==t*(mu1-1)/(mu1-t), c==L*(mu2-1)/(mu2-L)]"
   ]
  },
  {
   "cell_type": "code",
   "execution_count": 120,
   "metadata": {},
   "outputs": [
    {
     "name": "stdout",
     "output_type": "stream",
     "text": [
      "(L*mu1 - mu2*t)*(mu1 - 1)/((mu1 - mu2)*(mu1 - t))\n"
     ]
    }
   ],
   "source": [
    "print w.subs(zw_vals).subs(to_mu).simplify_rational().factor()"
   ]
  },
  {
   "cell_type": "code",
   "execution_count": 121,
   "metadata": {},
   "outputs": [
    {
     "name": "stdout",
     "output_type": "stream",
     "text": [
      "(L*p*r*u - p^2*r*u - L*q*t*u + q*t^2*u - L*p*r + p^2*r - L*q*t + q*t^2 + L*q*u - L*r*u + p*r*u - q*t*u + L*q + L*r - p*r - q*t)*(p*r*u - q*t*u - p*r - q*t)/((p - t)^2*q*r*(u + 1)*(u - 1))\n"
     ]
    }
   ],
   "source": [
    "w_bis = w.subs(zw_vals).subs(to_mu).subs([mu1==W, mu2==p]).simplify_rational().factor()\n",
    "print w_bis"
   ]
  },
  {
   "cell_type": "markdown",
   "metadata": {},
   "source": [
    "### Simplify the expression for w\n",
    "\n",
    "I don't like having `q` both in numerator and denominator, so let's multiply the above expression by `q/q` and replace `q^2` by `p*(p-1)*(p-L)`.  \n",
    "Same goes for `r`."
   ]
  },
  {
   "cell_type": "code",
   "execution_count": 122,
   "metadata": {},
   "outputs": [],
   "source": [
    "new_w = simplify_qr(w_bis*r^2*q^2)/q2/r2"
   ]
  },
  {
   "cell_type": "code",
   "execution_count": 123,
   "metadata": {},
   "outputs": [
    {
     "data": {
      "text/latex": [
       "$$-\\frac{2 \\, L p t u^{2} - p^{2} t u^{2} - p t^{2} u^{2} - L p u^{2} + 2 \\, q r u^{2} - L t u^{2} + 2 \\, p t u^{2} - 2 \\, L p t + p^{2} t + p t^{2} + L p + 2 \\, q r + L t - 2 \\, p t}{{\\left(p - t\\right)}^{2} {\\left(u + 1\\right)} {\\left(u - 1\\right)}}$$"
      ],
      "text/plain": [
       "<IPython.core.display.Math object>"
      ]
     },
     "metadata": {},
     "output_type": "display_data"
    }
   ],
   "source": [
    "DM(new_w)"
   ]
  },
  {
   "cell_type": "markdown",
   "metadata": {},
   "source": [
    "The new expression is still invariant under u -> 1/u, q -> -q"
   ]
  },
  {
   "cell_type": "code",
   "execution_count": 124,
   "metadata": {},
   "outputs": [
    {
     "data": {
      "text/plain": [
       "0"
      ]
     },
     "execution_count": 124,
     "metadata": {},
     "output_type": "execute_result"
    }
   ],
   "source": [
    "(new_w - new_w.subs([u==1/u, q==-q])).simplify_rational()"
   ]
  },
  {
   "cell_type": "markdown",
   "metadata": {},
   "source": [
    "**Note:** The above expression is finally invariant under the substitution u -> -u !"
   ]
  },
  {
   "cell_type": "code",
   "execution_count": 125,
   "metadata": {},
   "outputs": [
    {
     "data": {
      "text/plain": [
       "0"
      ]
     },
     "execution_count": 125,
     "metadata": {},
     "output_type": "execute_result"
    }
   ],
   "source": [
    "(new_w - new_w.subs(u==-u)).simplify_rational()"
   ]
  },
  {
   "cell_type": "markdown",
   "metadata": {},
   "source": [
    "Another symmetry: (from these three we can build up more)"
   ]
  },
  {
   "cell_type": "code",
   "execution_count": 126,
   "metadata": {},
   "outputs": [
    {
     "data": {
      "text/plain": [
       "0"
      ]
     },
     "execution_count": 126,
     "metadata": {},
     "output_type": "execute_result"
    }
   ],
   "source": [
    "(new_w - new_w.subs([u==1/u, r==-r])).simplify_rational()"
   ]
  },
  {
   "cell_type": "markdown",
   "metadata": {},
   "source": [
    "**Question:** What happens when `u = 0`?"
   ]
  },
  {
   "cell_type": "code",
   "execution_count": 127,
   "metadata": {
    "scrolled": false
   },
   "outputs": [
    {
     "data": {
      "text/plain": [
       "(L*p*t - p^2*t - q*r - L*t + p*t)/((L - p)*(p - t))"
      ]
     },
     "execution_count": 127,
     "metadata": {},
     "output_type": "execute_result"
    }
   ],
   "source": [
    "simple_l.subs(u==0).simplify_rational().factor()"
   ]
  },
  {
   "cell_type": "code",
   "execution_count": 128,
   "metadata": {
    "scrolled": true
   },
   "outputs": [
    {
     "data": {
      "text/plain": [
       "(L*p*r - p^2*r + L*q*t - q*t^2)/(L*q + L*r - p*r - q*t)"
      ]
     },
     "execution_count": 128,
     "metadata": {},
     "output_type": "execute_result"
    }
   ],
   "source": [
    "W.subs(u==0).simplify_rational().factor()"
   ]
  },
  {
   "cell_type": "code",
   "execution_count": 129,
   "metadata": {
    "scrolled": true
   },
   "outputs": [
    {
     "data": {
      "text/plain": [
       "-(2*L*p*t - p^2*t - p*t^2 - L*p - 2*q*r - L*t + 2*p*t)/(p - t)^2"
      ]
     },
     "execution_count": 129,
     "metadata": {},
     "output_type": "execute_result"
    }
   ],
   "source": [
    "new_w.subs(u==0).simplify_rational().factor()"
   ]
  },
  {
   "cell_type": "markdown",
   "metadata": {},
   "source": [
    "**Remark:** B and C anti-commute. Conjugacy by a scalar matrix is the identity. Therefore, the actions \"conjugate by B\" and \"conjugate by C\" generate a group isomorphic to $\\mathbb{Z}_2\\times\\mathbb{Z}_2$."
   ]
  },
  {
   "cell_type": "code",
   "execution_count": 130,
   "metadata": {},
   "outputs": [
    {
     "data": {
      "text/plain": [
       "[-1  0]\n",
       "[ 0 -1]"
      ]
     },
     "execution_count": 130,
     "metadata": {},
     "output_type": "execute_result"
    }
   ],
   "source": [
    "B*C*~B*~C"
   ]
  },
  {
   "cell_type": "markdown",
   "metadata": {
    "collapsed": true
   },
   "source": [
    "## Write the involution $u\\mapsto -u$ in terms of the variables $\\mu_i$"
   ]
  },
  {
   "cell_type": "code",
   "execution_count": 131,
   "metadata": {},
   "outputs": [],
   "source": [
    "dict['mu1'] = mu1\n",
    "dict['mu2'] = mu2"
   ]
  },
  {
   "cell_type": "code",
   "execution_count": 132,
   "metadata": {},
   "outputs": [],
   "source": [
    "Sols_mu = solve([W - mu1, p - mu2], [u, p])[0]"
   ]
  },
  {
   "cell_type": "code",
   "execution_count": 133,
   "metadata": {},
   "outputs": [],
   "source": [
    "foo = (W.subs(u==-u)).subs(Sols_mu).simplify_rational().factor()"
   ]
  },
  {
   "cell_type": "code",
   "execution_count": 134,
   "metadata": {},
   "outputs": [],
   "source": [
    "bar = simplify_qr(foo).subs(p==mu2).simplify_rational().factor()"
   ]
  },
  {
   "cell_type": "code",
   "execution_count": 135,
   "metadata": {
    "scrolled": true
   },
   "outputs": [
    {
     "data": {
      "text/latex": [
       "$$\\frac{{\\left(L \\mu_{1} - \\mu_{2} t - L - \\mu_{1} + \\mu_{2} + t\\right)} \\mu_{2} t}{L \\mu_{1} \\mu_{2} + L \\mu_{1} t - L \\mu_{2} t - \\mu_{1} \\mu_{2} t - L \\mu_{1} + \\mu_{2} t}$$"
      ],
      "text/plain": [
       "<IPython.core.display.Math object>"
      ]
     },
     "metadata": {},
     "output_type": "display_data"
    }
   ],
   "source": [
    "DM(bar)"
   ]
  },
  {
   "cell_type": "markdown",
   "metadata": {},
   "source": [
    "The above expression has a factor of mu2 and t. It seems different from $W(-u)$, but note that if we make p=q=0 or t=r=0 then W vanishes identically.\n",
    "\n",
    "We can verify that the above is in fact an involution:"
   ]
  },
  {
   "cell_type": "code",
   "execution_count": 136,
   "metadata": {
    "scrolled": true
   },
   "outputs": [
    {
     "data": {
      "text/plain": [
       "mu1"
      ]
     },
     "execution_count": 136,
     "metadata": {},
     "output_type": "execute_result"
    }
   ],
   "source": [
    "bar.subs(mu1==bar).simplify_rational()"
   ]
  }
 ],
 "metadata": {
  "kernelspec": {
   "display_name": "SageMath 8.7.beta3",
   "language": "",
   "name": "sagemath"
  },
  "language_info": {
   "codemirror_mode": {
    "name": "ipython",
    "version": 2
   },
   "file_extension": ".py",
   "mimetype": "text/x-python",
   "name": "python",
   "nbconvert_exporter": "python",
   "pygments_lexer": "ipython2",
   "version": "2.7.15"
  }
 },
 "nbformat": 4,
 "nbformat_minor": 2
}
