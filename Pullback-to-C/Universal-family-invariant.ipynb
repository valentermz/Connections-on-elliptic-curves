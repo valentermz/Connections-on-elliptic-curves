{
 "cells": [
  {
   "cell_type": "markdown",
   "metadata": {},
   "source": [
    "# Conections invariant under the involution\n",
    "\n",
    "Let $C$ be the elliptic curve is given by $y^2 = P(x)$, where $P(x) = x(x-1)(x-\\lambda)$. We consider here connections on the trivial bundle $\\mathcal{O}_C\\oplus\\mathcal{O}_C$ having two logarithmic singularities over two points in involution $(t,r), (t,-r)$ and two apparent singularities over another pair of points in involution $(p,q),(p,-q)$.  "
   ]
  },
  {
   "cell_type": "code",
   "execution_count": 1,
   "metadata": {},
   "outputs": [
    {
     "data": {
      "text/html": [
       "<style>.container { width:85% !important; }</style>"
      ],
      "text/plain": [
       "<IPython.core.display.HTML object>"
      ]
     },
     "metadata": {},
     "output_type": "display_data"
    }
   ],
   "source": [
    "import re\n",
    "from IPython.core.display import display, HTML, Math\n",
    "\n",
    "# Define the width of the cells\n",
    "display(HTML(\"<style>.container { width:85% !important; }</style>\"))\n",
    "\n",
    "def DM(expression):\n",
    "    \"\"\"Short for DisplayMath: converts symbolic expression into latex and displays it nicely\"\"\"\n",
    "    return display(Math(latex(expression)))"
   ]
  },
  {
   "cell_type": "code",
   "execution_count": 2,
   "metadata": {
    "scrolled": true
   },
   "outputs": [],
   "source": [
    "# We use the following variables:\n",
    "var('x y z L t r p q u n a_0 a_1 a_2 b_0 b_1 b_2 b_3 c1 c2')\n",
    "variables = [x, y, L, t, r, p, q, u, n]\n",
    "parameters = [a_0, a_1, a_2, b_0, b_1, b_2, b_3]"
   ]
  },
  {
   "cell_type": "markdown",
   "metadata": {},
   "source": [
    "| Variable | Meaning |\n",
    "| :---: | --- |\n",
    "| `(x,y)` | Coordinates on $\\mathbb{C}^2$ |\n",
    "| `P` | The polynomial $x(x-1)(x-\\lambda)$ defining the curve $C$ |\n",
    "| `z` | Coordinate on the (projectivized) fiber is $[1:z]$ |\n",
    "| `L` | The number $\\lambda$ defining the curve |\n",
    "| `(t, +-r)` | The coordinates of the points over $x=t$ |\n",
    "| `(p, +-q)` | The coordinates of the points over $x=p$ |\n",
    "| `u` | $z$-coordinate of the parabolic point over $(t,r)$ |\n",
    "| `n` | Stands for $\\eta$, the exponent of the singularity over $(t,r)$ |\n",
    "| `a_i, b_i` | Parameters defining a connection |\n",
    "| `c1, c2` | Coefficients used to combine $\\nabla_0$, $\\Theta_1$ and $\\Theta_2$ |\n",
    "| `k1, k2` | Coefficients used to combine $\\hat\\nabla_0$, $\\hat\\Theta_1$ and $\\hat\\Theta_2$ |"
   ]
  },
  {
   "cell_type": "markdown",
   "metadata": {},
   "source": [
    "A connection in our family is given as\n",
    "\n",
    "$$\\nabla = d + \\frac{M}{(x-p)(x-t)}\\frac{dx}{y}, \\quad M=\\pmatrix{\n",
    "    \\alpha & \\beta \\\\\n",
    "    \\gamma & -\\alpha \\\\\n",
    "},$$\n",
    "\n",
    "where $\\alpha = a_0 + a_1x + a_2x^2 + a_3y$, and so on."
   ]
  },
  {
   "cell_type": "markdown",
   "metadata": {},
   "source": [
    "## Normal form for our family of connections\n",
    "\n",
    "We choose to use the following normal form:  \n",
    "`a_3 = 0, c_3 = b_3, c_2 = -b_2, c_1 = -b_1, c_0 = -b_0.` \n",
    "\n",
    "This means that the connection $\\nabla$ is invariant by the following transformation: Pull back $\\nabla$ by the elliptic involution and exchange the order of the standard basis of $\\mathcal{O}_C\\oplus\\mathcal{O}_C$.  \n",
    "In particular, we have the following: By definition `u` is the height of the parabolic over $(t,r)$, then in our normal form the parabolic over $(t,-r)$ is located at `1/u`."
   ]
  },
  {
   "cell_type": "code",
   "execution_count": 3,
   "metadata": {},
   "outputs": [],
   "source": [
    "a_3=0\n",
    "c_3=b_3\n",
    "c_2=-b_2\n",
    "c_1=-b_1\n",
    "c_0=-b_0"
   ]
  },
  {
   "cell_type": "code",
   "execution_count": 4,
   "metadata": {},
   "outputs": [],
   "source": [
    "a = a_0 + a_1*x + a_2*x^2 + a_3*y\n",
    "b = b_0 + b_1*x + b_2*x^2 + b_3*y\n",
    "c = c_0 + c_1*x + c_2*x^2 + c_3*y"
   ]
  },
  {
   "cell_type": "code",
   "execution_count": 5,
   "metadata": {},
   "outputs": [],
   "source": [
    "M = matrix([[a, b], [c, -a]])\n",
    "P = x*(x-1)*(x-L)\n",
    "dP = diff(P, x)"
   ]
  },
  {
   "cell_type": "markdown",
   "metadata": {},
   "source": [
    "### Auxiliary function `simplify_qr`\n",
    "\n",
    "I will use this function throughout the notebook to simplify powers of $q = \\sqrt{p(p-1)(p-\\lambda)}$ and $r = \\sqrt{t(t-1)(t-\\lambda)}$."
   ]
  },
  {
   "cell_type": "code",
   "execution_count": 168,
   "metadata": {},
   "outputs": [],
   "source": [
    "# Auxiliary function to simplify powers of q and r (up to degree 4)\n",
    "\n",
    "q2 = P.subs(x==p)\n",
    "r2 = P.subs(x==t)\n",
    "\n",
    "# Create dictionaries to pass onto the 'sage_eval' command\n",
    "dict_vars = {str(variable): variable for variable in variables}\n",
    "dict_vars['r2'] = r2\n",
    "dict_vars['q2']  = q2\n",
    "\n",
    "dict_params = dict_vars.copy()\n",
    "dict_params.update({str(param): param for param in parameters})\n",
    "\n",
    "def simplify_qr(expr, dictionary=dict_vars):\n",
    "    \"\"\"Convert expr to a string and replace powers of q and r\"\"\"\n",
    "    expr = expr.simplify_rational()\n",
    "    num = expr.numerator().expand()\n",
    "    str_num = str(num)\n",
    "    str_num = re.sub('q\\^2', 'q2', str_num)\n",
    "    str_num = re.sub('q\\^3', 'q*q2', str_num)\n",
    "    str_num = re.sub('q\\^4', 'q2^2', str_num)\n",
    "    str_num = re.sub('r\\^2', 'r2', str_num)\n",
    "    str_num = re.sub('r\\^3', 'r*r2', str_num)\n",
    "    str_num = re.sub('r\\^4', 'r2^2', str_num)\n",
    "    \n",
    "    den = expr.denominator().expand()\n",
    "    str_den = str(den)\n",
    "    str_den = re.sub('q\\^2', 'q2', str_den)\n",
    "    str_den = re.sub('q\\^3', 'q*q2', str_den)\n",
    "    str_den = re.sub('q\\^4', 'q2^2', str_den)\n",
    "    str_den = re.sub('r\\^2', 'r2', str_den)\n",
    "    str_den = re.sub('r\\^3', 'r*r2', str_den)\n",
    "    str_den = re.sub('r\\^4', 'r2^2', str_den)\n",
    "    \n",
    "    new_expr = sage_eval(str_num, locals=dictionary)/sage_eval(str_den, locals=dictionary)\n",
    "    try:\n",
    "        new_expr = new_expr.simplify_rational()\n",
    "    except AttributeError:\n",
    "        return new_expr\n",
    "    try:\n",
    "        new_expr = new_expr.factor()\n",
    "    except ArithmeticError:\n",
    "        return new_expr\n",
    "    \n",
    "    return new_expr"
   ]
  },
  {
   "cell_type": "markdown",
   "metadata": {},
   "source": [
    "## Computation of the residues\n",
    "\n",
    "The residues are given by the following formulas:\n",
    "\n",
    "$\\operatorname{Res}_{p_i}\\nabla = \\operatorname{Res}_{p_i} \\frac{M}{y(x-t)} \\frac{dx}{x-p} = \\frac{M(p_i)}{\\pm q(p-t)}$\n",
    "\n",
    "$\\operatorname{Res}_{t_i}\\nabla = \\operatorname{Res}_{t_i} \\frac{M}{y(x-p)} \\frac{dx}{x-t} = \\frac{M(t_i)}{\\pm r(t-p)}$"
   ]
  },
  {
   "cell_type": "code",
   "execution_count": 14,
   "metadata": {},
   "outputs": [],
   "source": [
    "Sing = [[x==p, y==q], [x==p, y==-q], [x==t, y==r], [x==t, y==-r]]"
   ]
  },
  {
   "cell_type": "code",
   "execution_count": 15,
   "metadata": {},
   "outputs": [],
   "source": [
    "Res = ['']*4\n",
    "\n",
    "Res[0] = (M/(y*(x-t))).subs(Sing[0])\n",
    "Res[1] = (M/(y*(x-t))).subs(Sing[1])\n",
    "Res[2] = (M/(y*(x-p))).subs(Sing[2])\n",
    "Res[3] = (M/(y*(x-p))).subs(Sing[3])"
   ]
  },
  {
   "cell_type": "markdown",
   "metadata": {},
   "source": [
    "## Linear conditions on the type of singularities\n",
    "\n",
    "The parameters `a_i, b_i` are subject to the following constrains:\n",
    "\n",
    "* The residue at $p_1$ has `(0,1)` as a parabolic direction with eigenvalue `1/2`,\n",
    "* The residue at $t_1$ has `(1,u)` as parabolic direction with eigenvalue `n/2`.\n",
    "\n",
    "By symmetry, this also fixes the type of singularities over $p_2$ and $t_2$."
   ]
  },
  {
   "cell_type": "code",
   "execution_count": 16,
   "metadata": {},
   "outputs": [],
   "source": [
    "# We get 5 equations besides the invariance conditions\n",
    "Eq = [0]*5"
   ]
  },
  {
   "cell_type": "markdown",
   "metadata": {},
   "source": [
    "Parabolic direction and eigenvalue over $p_1$:"
   ]
  },
  {
   "cell_type": "code",
   "execution_count": 17,
   "metadata": {},
   "outputs": [],
   "source": [
    "Eq[0] = Res[0][0][1].numerator()\n",
    "Eq[1] = (Res[0][1][1] - 1/2).simplify_rational().numerator()"
   ]
  },
  {
   "cell_type": "markdown",
   "metadata": {},
   "source": [
    "Parabolic direction and eigenvalue over $t_1$:"
   ]
  },
  {
   "cell_type": "code",
   "execution_count": 18,
   "metadata": {},
   "outputs": [],
   "source": [
    "V1 = Res[2]*vector([1, u]) - (n/2)*vector([1, u])"
   ]
  },
  {
   "cell_type": "code",
   "execution_count": 19,
   "metadata": {},
   "outputs": [],
   "source": [
    "Eq[2] = V1[0].simplify_rational().numerator()\n",
    "Eq[3] = V1[1].simplify_rational().numerator()"
   ]
  },
  {
   "cell_type": "markdown",
   "metadata": {},
   "source": [
    "There is one more linear condition that guarantees that the singularity over $p_1$ is apparent. To find it, let us expand $y=\\sqrt{P(x)}$ as a power series near $p_1$:  \n",
    "$ y(x) = q + \\frac{1}{2q}P'(p)(x-p) + \\ldots$"
   ]
  },
  {
   "cell_type": "code",
   "execution_count": 20,
   "metadata": {},
   "outputs": [],
   "source": [
    "# reacall: P = x*(x-1)*(x-L)\n",
    "l = diff(P, x).subs(x==p).expand()\n",
    "y_truncated = q + l*(x-p)/(2*q)"
   ]
  },
  {
   "cell_type": "code",
   "execution_count": 21,
   "metadata": {},
   "outputs": [],
   "source": [
    "C01 = (M[0][1]/(y*(x-t))).subs(y==y_truncated)"
   ]
  },
  {
   "cell_type": "code",
   "execution_count": 22,
   "metadata": {},
   "outputs": [],
   "source": [
    "constant_term = diff(C01, x).subs(x==p)"
   ]
  },
  {
   "cell_type": "code",
   "execution_count": 23,
   "metadata": {},
   "outputs": [],
   "source": [
    "# Simplify q^2 and q^3 using 'simplify_qr'\n",
    "Eq[4] = simplify_qr(constant_term, dictionary=dict_params).numerator() "
   ]
  },
  {
   "cell_type": "markdown",
   "metadata": {},
   "source": [
    "### The five linear conditions:"
   ]
  },
  {
   "cell_type": "code",
   "execution_count": 24,
   "metadata": {},
   "outputs": [
    {
     "name": "stdout",
     "output_type": "stream",
     "text": [
      "b_2*p^2 + b_1*p + b_3*q + b_0 \n",
      "\n",
      "-2*a_2*p^2 - 2*a_1*p - p*q + q*t - 2*a_0 \n",
      "\n",
      "-2*b_2*t^2*u - n*p*r + n*r*t - 2*a_2*t^2 - 2*b_3*r*u - 2*b_1*t*u - 2*a_1*t - 2*b_0*u - 2*a_0 \n",
      "\n",
      "-n*p*r*u + n*r*t*u + 2*a_2*t^2*u + 2*b_2*t^2 + 2*a_1*t*u - 2*b_3*r + 2*b_1*t + 2*a_0*u + 2*b_0 \n",
      "\n",
      "b_2*p^5 - 2*L*b_2*p^3*t + b_2*p^4*t - 2*L*b_1*p^3 - L*b_2*p^3 + 3*b_1*p^4 - 2*L*b_3*p^2*q + 2*b_3*p^3*q + 3*L*b_2*p^2*t - b_1*p^3*t - 2*b_2*p^3*t - 4*L*b_0*p^2 + L*b_1*p^2 + 5*b_0*p^3 - 2*b_1*p^3 + 2*L*b_3*p*q - 2*b_3*p^2*q + 2*L*b_0*p*t + L*b_1*p*t - 3*b_0*p^2*t + 3*L*b_0*p - 4*b_0*p^2 - L*b_0*t + 2*b_0*p*t \n",
      "\n"
     ]
    }
   ],
   "source": [
    "for e in Eq:\n",
    "    print e.factor(), '\\n'"
   ]
  },
  {
   "cell_type": "code",
   "execution_count": 25,
   "metadata": {},
   "outputs": [],
   "source": [
    "Sols = solve(Eq, [a_0, a_1, b_0, b_1, b_2])[0]  # a_2, b_3 are free"
   ]
  },
  {
   "cell_type": "code",
   "execution_count": 26,
   "metadata": {},
   "outputs": [
    {
     "name": "stdout",
     "output_type": "stream",
     "text": [
      "a_0 = 1/2*(n*p^2*r*u^2 + 2*a_2*p^2*t*u^2 - n*p*r*t*u^2 - 2*a_2*p*t^2*u^2 + p*q*t*u^2 - q*t^2*u^2 + n*p^2*r - 2*a_2*p^2*t - n*p*r*t + 2*a_2*p*t^2 + 4*b_3*p*r*u - p*q*t + q*t^2)/((p - t)*(u + 1)*(u - 1)) \n",
      "\n",
      "a_1 = -1/2*(2*a_2*p^2*u^2 + n*p*r*u^2 - n*r*t*u^2 - 2*a_2*t^2*u^2 + p*q*u^2 - q*t*u^2 - 2*a_2*p^2 + n*p*r - n*r*t + 2*a_2*t^2 + 4*b_3*r*u - p*q + q*t)/((p - t)*(u + 1)*(u - 1)) \n",
      "\n",
      "a_2 = a_2 \n",
      "\n",
      "b_0 = -1/2*(2*L*n*p^4*r*u - 2*n*p^5*r*u - 2*L*n*p^3*r*t*u + 2*n*p^4*r*t*u + 2*L*b_3*p^3*r*u^2 - 2*b_3*p^4*r*u^2 - 2*L*b_3*p^2*q*t*u^2 + b_3*p^3*q*t*u^2 + b_3*p^2*q*t^2*u^2 - 2*L*n*p^3*r*u + 2*n*p^4*r*u + 2*L*n*p^2*r*t*u - 2*n*p^3*r*t*u - 2*L*b_3*p^2*r*u^2 + 2*b_3*p^3*r*u^2 + 3*L*b_3*p*q*t*u^2 - 2*b_3*p^2*q*t*u^2 - L*b_3*q*t^2*u^2 + 2*L*b_3*p^3*r - 2*b_3*p^4*r + 2*L*b_3*p^2*q*t - b_3*p^3*q*t - b_3*p^2*q*t^2 - 2*L*b_3*p^2*r + 2*b_3*p^3*r - 3*L*b_3*p*q*t + 2*b_3*p^2*q*t + L*b_3*q*t^2)/((L - p)*(p - t)^2*(p - 1)*(u + 1)*(u - 1)) \n",
      "\n",
      "b_1 = 1/2*(4*L*n*p^4*r*u - 4*n*p^5*r*u - 4*L*n*p^3*r*t*u + 4*n*p^4*r*t*u - 2*L*b_3*p^3*q*u^2 + b_3*p^4*q*u^2 + 4*L*b_3*p^3*r*u^2 - 4*b_3*p^4*r*u^2 - 2*L*b_3*p*q*t^2*u^2 + 3*b_3*p^2*q*t^2*u^2 - 4*L*n*p^3*r*u + 4*n*p^4*r*u + 4*L*n*p^2*r*t*u - 4*n*p^3*r*t*u + 3*L*b_3*p^2*q*u^2 - 2*b_3*p^3*q*u^2 - 4*L*b_3*p^2*r*u^2 + 4*b_3*p^3*r*u^2 + L*b_3*q*t^2*u^2 - 2*b_3*p*q*t^2*u^2 + 2*L*b_3*p^3*q - b_3*p^4*q + 4*L*b_3*p^3*r - 4*b_3*p^4*r + 2*L*b_3*p*q*t^2 - 3*b_3*p^2*q*t^2 - 3*L*b_3*p^2*q + 2*b_3*p^3*q - 4*L*b_3*p^2*r + 4*b_3*p^3*r - L*b_3*q*t^2 + 2*b_3*p*q*t^2)/((L - p)*(p - t)^2*(p - 1)*p*(u + 1)*(u - 1)) \n",
      "\n",
      "b_2 = -1/2*(2*L*n*p^3*r*u - 2*n*p^4*r*u - 2*L*n*p^2*r*t*u + 2*n*p^3*r*t*u - b_3*p^3*q*u^2 + 2*L*b_3*p^2*r*u^2 - 2*b_3*p^3*r*u^2 - 2*L*b_3*p*q*t*u^2 + 3*b_3*p^2*q*t*u^2 - 2*L*n*p^2*r*u + 2*n*p^3*r*u + 2*L*n*p*r*t*u - 2*n*p^2*r*t*u + L*b_3*p*q*u^2 - 2*L*b_3*p*r*u^2 + 2*b_3*p^2*r*u^2 + L*b_3*q*t*u^2 - 2*b_3*p*q*t*u^2 + b_3*p^3*q + 2*L*b_3*p^2*r - 2*b_3*p^3*r + 2*L*b_3*p*q*t - 3*b_3*p^2*q*t - L*b_3*p*q - 2*L*b_3*p*r + 2*b_3*p^2*r - L*b_3*q*t + 2*b_3*p*q*t)/((L - p)*(p - t)^2*(p - 1)*p*(u + 1)*(u - 1)) \n",
      "\n",
      "b_3 = b_3 \n",
      "\n"
     ]
    }
   ],
   "source": [
    "# The values of the parameters in terms of a_2, b_3\n",
    "for param in parameters:\n",
    "    if param.subs(Sols) == 0:\n",
    "        print '{} = 0'.format(param), '\\n'\n",
    "    else:\n",
    "        print '{} ='.format(param), param.subs(Sols).simplify_rational().factor(), '\\n'"
   ]
  },
  {
   "cell_type": "markdown",
   "metadata": {},
   "source": [
    "**Remark:** The parameter `a_2` does not appear in the residues !"
   ]
  },
  {
   "cell_type": "code",
   "execution_count": 27,
   "metadata": {},
   "outputs": [
    {
     "name": "stdout",
     "output_type": "stream",
     "text": [
      "Residue at [x == p, y == q]:\n"
     ]
    },
    {
     "data": {
      "text/latex": [
       "$$\\left(\\begin{array}{rr}\n",
       "-\\frac{1}{2} & 0 \\\\\n",
       "\\frac{2 \\, b_{3}}{p - t} & \\frac{1}{2}\n",
       "\\end{array}\\right)$$"
      ],
      "text/plain": [
       "<IPython.core.display.Math object>"
      ]
     },
     "metadata": {},
     "output_type": "display_data"
    },
    {
     "name": "stdout",
     "output_type": "stream",
     "text": [
      "\n",
      "Residue at [x == p, y == -q]:\n"
     ]
    },
    {
     "data": {
      "text/latex": [
       "$$\\left(\\begin{array}{rr}\n",
       "\\frac{1}{2} & \\frac{2 \\, b_{3}}{p - t} \\\\\n",
       "0 & -\\frac{1}{2}\n",
       "\\end{array}\\right)$$"
      ],
      "text/plain": [
       "<IPython.core.display.Math object>"
      ]
     },
     "metadata": {},
     "output_type": "display_data"
    },
    {
     "name": "stdout",
     "output_type": "stream",
     "text": [
      "\n",
      "Residue at [x == t, y == r]:\n"
     ]
    },
    {
     "data": {
      "text/latex": [
       "$$\\left(\\begin{array}{rr}\n",
       "-\\frac{n p u^{2} - n t u^{2} + n p - n t + 4 \\, b_{3} u}{2 \\, {\\left(p - t\\right)} {\\left(u + 1\\right)} {\\left(u - 1\\right)}} & \\frac{n p u - n t u + 2 \\, b_{3}}{{\\left(p - t\\right)} {\\left(u + 1\\right)} {\\left(u - 1\\right)}} \\\\\n",
       "-\\frac{{\\left(n p - n t + 2 \\, b_{3} u\\right)} u}{{\\left(p - t\\right)} {\\left(u + 1\\right)} {\\left(u - 1\\right)}} & \\frac{n p u^{2} - n t u^{2} + n p - n t + 4 \\, b_{3} u}{2 \\, {\\left(p - t\\right)} {\\left(u + 1\\right)} {\\left(u - 1\\right)}}\n",
       "\\end{array}\\right)$$"
      ],
      "text/plain": [
       "<IPython.core.display.Math object>"
      ]
     },
     "metadata": {},
     "output_type": "display_data"
    },
    {
     "name": "stdout",
     "output_type": "stream",
     "text": [
      "\n",
      "Residue at [x == t, y == -r]:\n"
     ]
    },
    {
     "data": {
      "text/latex": [
       "$$\\left(\\begin{array}{rr}\n",
       "\\frac{n p u^{2} - n t u^{2} + n p - n t + 4 \\, b_{3} u}{2 \\, {\\left(p - t\\right)} {\\left(u + 1\\right)} {\\left(u - 1\\right)}} & -\\frac{{\\left(n p - n t + 2 \\, b_{3} u\\right)} u}{{\\left(p - t\\right)} {\\left(u + 1\\right)} {\\left(u - 1\\right)}} \\\\\n",
       "\\frac{n p u - n t u + 2 \\, b_{3}}{{\\left(p - t\\right)} {\\left(u + 1\\right)} {\\left(u - 1\\right)}} & -\\frac{n p u^{2} - n t u^{2} + n p - n t + 4 \\, b_{3} u}{2 \\, {\\left(p - t\\right)} {\\left(u + 1\\right)} {\\left(u - 1\\right)}}\n",
       "\\end{array}\\right)$$"
      ],
      "text/plain": [
       "<IPython.core.display.Math object>"
      ]
     },
     "metadata": {},
     "output_type": "display_data"
    },
    {
     "name": "stdout",
     "output_type": "stream",
     "text": [
      "\n"
     ]
    }
   ],
   "source": [
    "for k in range(4):\n",
    "    print 'Residue at {}:'.format(Sing[k])\n",
    "    DM(Res[k].subs(Sols).simplify_rational().factor())\n",
    "    print ''"
   ]
  },
  {
   "cell_type": "code",
   "execution_count": 28,
   "metadata": {
    "scrolled": true
   },
   "outputs": [
    {
     "name": "stdout",
     "output_type": "stream",
     "text": [
      "[(-1/2, [(1, -2*b_3/(p - t))], 1), (1/2, [(0, 1)], 1)]\n",
      "[(-1/2, [(1, -1/2*(p - t)/b_3)], 1), (1/2, [(1, 0)], 1)]\n",
      "[(-1/2*n, [(1, (n*p - n*t + 2*b_3*u)/((n*p - n*t)*u + 2*b_3))], 1), (1/2*n, [(1, u)], 1)]\n",
      "[(-1/2*n, [(1, ((n*p - n*t)*u + 2*b_3)/(n*p - n*t + 2*b_3*u))], 1), (1/2*n, [(1, 1/u)], 1)]\n"
     ]
    }
   ],
   "source": [
    "# Position of the eight singularities:\n",
    "for k in range(4):\n",
    "    print Res[k].subs(Sols).simplify_rational().factor().eigenvectors_right()"
   ]
  },
  {
   "cell_type": "code",
   "execution_count": 29,
   "metadata": {},
   "outputs": [
    {
     "name": "stdout",
     "output_type": "stream",
     "text": [
      "b_3 == 1/2*n*p - 1/2*n*t\n",
      "b_3 == -1/2*n*p + 1/2*n*t\n"
     ]
    }
   ],
   "source": [
    "# Values of b_3 needed to get singularities at z = +-1\n",
    "\n",
    "print solve((n*p - n*t + 2*b_3*u)/((n*p - n*t)*u + 2*b_3) - 1, b_3)[0]\n",
    "print solve((n*p - n*t + 2*b_3*u)/((n*p - n*t)*u + 2*b_3) + 1, b_3)[0]"
   ]
  },
  {
   "cell_type": "markdown",
   "metadata": {},
   "source": [
    "# Looking for the basis $\\nabla_0, \\Theta_1, \\Theta_2$ used by Loray-Saito"
   ]
  },
  {
   "cell_type": "markdown",
   "metadata": {},
   "source": [
    "We aim to find an explicit expression for the basis $\\nabla_0, \\Theta_1, \\Theta_2$ used by Loray-Saito over $\\mathbb{P}^1$ (after transporting these to the elliptic curve and normalizing as above).\n",
    "\n",
    "In order to do so, first we define $\\nabla_0$, $\\Theta_1^+$, $\\Theta_2^+$ which are characterized by a geometric property, given by the apparent map with respect to the section $z=1$.\n",
    "\n",
    "Given a parabolic structure $(p,q,u)$, we define objects characterized by the following properties:\n",
    "\n",
    "* $\\nabla_0$ is the only connection with apparent singularities at $x=\\lambda$ and $x=t$.\n",
    "* $\\Theta_1^+$ is the only Higgs field such that the connection $\\nabla_0^+ - \\Theta_1$ has apparent singularities at $w_\\infty$ and $x=\\lambda$.\n",
    "* $\\Theta_2^+$ is the only Higgs field such that the connection $\\nabla_0^+ - \\Theta_2$ has apparent singularities at $w_\\infty$ and $x=t$.\n",
    "\n",
    "**Remark:** This definition of the $\\Theta_i^+$ differs from the $\\Theta_i$ in Loray-Saito by a constant scalar factor. Indeed, using the variables $(u_1, u_2)$ introduced by LS to describe the parabolic structure over $\\mathbb{P}^1$, we have that\n",
    "\n",
    "$$ \\Theta_i^+ = \\frac{\\eta + 1}{2(u_i - t_i)}\\Theta_i . $$\n",
    "\n",
    "Later on we'll compute $u_i$ in terms of $(p,q,u)$ and we'll be able to recover $\\Theta_i$."
   ]
  },
  {
   "cell_type": "markdown",
   "metadata": {},
   "source": [
    "## Apparent map with respect to the section $\\{z=1\\}$\n",
    "\n",
    "We define an apparent map giving the divisor of tangencies between $\\nabla$ and the subbundle $z=1$. The divisor is of degree 4 and always contains two pairs of points in involution."
   ]
  },
  {
   "cell_type": "code",
   "execution_count": 30,
   "metadata": {},
   "outputs": [
    {
     "data": {
      "text/latex": [
       "$$\\left(\\begin{array}{rr}\n",
       "a_{2} x^{2} + a_{1} x + a_{0} & b_{2} x^{2} + b_{1} x + b_{3} y + b_{0} \\\\\n",
       "-b_{2} x^{2} - b_{1} x + b_{3} y - b_{0} & -a_{2} x^{2} - a_{1} x - a_{0}\n",
       "\\end{array}\\right)$$"
      ],
      "text/plain": [
       "<IPython.core.display.Math object>"
      ]
     },
     "metadata": {},
     "output_type": "display_data"
    }
   ],
   "source": [
    "# Recall that M is given as follos:\n",
    "DM(M)"
   ]
  },
  {
   "cell_type": "markdown",
   "metadata": {},
   "source": [
    "Therefore we have that\n",
    "\n",
    "$\\operatorname{App}(x,y) = 2(a_2 + b_2)x^2 + 2(a_1 + b_1)x + 2(a_0 + b_0).$\n",
    "\n",
    "Now we compute an explicit formula:"
   ]
  },
  {
   "cell_type": "code",
   "execution_count": 31,
   "metadata": {},
   "outputs": [],
   "source": [
    "vect = (M.subs(Sols)).simplify_rational()*vector((1,1))\n",
    "APP = (vect[0] - vect[1]).simplify_rational().numerator().factor()"
   ]
  },
  {
   "cell_type": "markdown",
   "metadata": {},
   "source": [
    "### Correct values of $b_3$ and $a_2$ needed to define $\\nabla_0$\n",
    "\n",
    "We seek for the conection $\\nabla_0$ which is characterized as the only connection with $\\operatorname{App}(\\nabla_0) \\sim (x-t)(x-\\lambda)$. In particular, this implies that the second singularities on the fibers over $(t,r)$ and $(t,-r)$ are on $z=1$, and the Riccati foliation has a double tangency with the line $\\{z=1\\}$ at $w_\\lambda$."
   ]
  },
  {
   "cell_type": "code",
   "execution_count": 32,
   "metadata": {},
   "outputs": [],
   "source": [
    "# Value of b_3 needed to have the second singularity over t at z=1 is:\n",
    "B3 = 1/2*(p - t)*n"
   ]
  },
  {
   "cell_type": "code",
   "execution_count": 33,
   "metadata": {
    "scrolled": true
   },
   "outputs": [
    {
     "data": {
      "text/plain": [
       "0"
      ]
     },
     "execution_count": 33,
     "metadata": {},
     "output_type": "execute_result"
    }
   ],
   "source": [
    "# Verify that APP vanishes at x=t when the value of b_3 is given by B3 defined above\n",
    "APP.subs(b_3 == B3).factor().subs(x==t)"
   ]
  },
  {
   "cell_type": "markdown",
   "metadata": {},
   "source": [
    "We now find the correct value of $a_2$ such that APP vanishes at `x = L`"
   ]
  },
  {
   "cell_type": "code",
   "execution_count": 34,
   "metadata": {
    "scrolled": true
   },
   "outputs": [
    {
     "data": {
      "text/plain": [
       "1/4*(n*p^3*q*u + 2*L*n*p^2*r*u - 2*n*p^3*r*u - 2*L*n*p*q*t*u + n*p^2*q*t*u - n*p^3*q + 2*L*n*p^2*r - 2*n*p^3*r + 2*L*n*p*q*t - n*p^2*q*t + L*n*p*q*u - 2*n*p^2*q*u + 2*p^3*q*u - 2*L*n*p*r*u + 2*n*p^2*r*u + L*n*q*t*u - 2*p^2*q*t*u - L*n*p*q + 2*n*p^2*q - 2*p^3*q - 2*L*n*p*r + 2*n*p^2*r - L*n*q*t + 2*p^2*q*t - 2*p^2*q*u + 2*p*q*t*u + 2*p^2*q - 2*p*q*t)/((L - p)*(p - t)*(p - 1)*p*(u - 1))"
      ]
     },
     "execution_count": 34,
     "metadata": {},
     "output_type": "execute_result"
    }
   ],
   "source": [
    "A2 = a_2.subs(solve(APP.subs([x == L, b_3 == B3]), a_2))\n",
    "A2 = A2.simplify_rational().factor()\n",
    "A2"
   ]
  },
  {
   "cell_type": "code",
   "execution_count": 35,
   "metadata": {},
   "outputs": [
    {
     "data": {
      "text/plain": [
       "(L - x)*(n + 1)*(p - t)^2*(p - 1)*p*q*(t - x)*(u + 1)*(u - 1)"
      ]
     },
     "execution_count": 35,
     "metadata": {},
     "output_type": "execute_result"
    }
   ],
   "source": [
    "# Verify that these choices of a_2, b_3 are the right ones:\n",
    "APP.subs([a_2 == A2, b_3 == B3]).factor()"
   ]
  },
  {
   "cell_type": "markdown",
   "metadata": {},
   "source": [
    "## Analysis of $\\nabla_0$"
   ]
  },
  {
   "cell_type": "code",
   "execution_count": 36,
   "metadata": {},
   "outputs": [],
   "source": [
    "nabla0 = solve(Eq + [b_3 - B3, a_2 - A2], parameters)[0]  # This is a list containing the correct value of the parameters a_i, b_i\n",
    "Nabla0 = M.subs(nabla0).simplify_rational().factor()  # This is the matrix M with those correct values substituted"
   ]
  },
  {
   "cell_type": "code",
   "execution_count": 37,
   "metadata": {},
   "outputs": [
    {
     "name": "stdout",
     "output_type": "stream",
     "text": [
      "a_0 = 1/4*(2*L*n*p^3*r*u - 2*n*p^4*r*u + n*p^3*q*t*u - 2*L*n*p*q*t^2*u + n*p^2*q*t^2*u + 2*L*n*p^3*r - 2*n*p^4*r - n*p^3*q*t + 2*L*n*p*q*t^2 - n*p^2*q*t^2 - 2*L*n*p^2*r*u + 2*n*p^3*r*u + L*n*p*q*t*u + 2*L*p^2*q*t*u - 2*n*p^2*q*t*u + L*n*q*t^2*u - 2*L*p*q*t^2*u - 2*L*n*p^2*r + 2*n*p^3*r - L*n*p*q*t - 2*L*p^2*q*t + 2*n*p^2*q*t - L*n*q*t^2 + 2*L*p*q*t^2 - 2*L*p*q*t*u + 2*L*q*t^2*u + 2*L*p*q*t - 2*L*q*t^2)/((L - p)*(p - t)*(p - 1)*(u - 1)) \n",
      "\n",
      "a_1 = -1/4*(n*p^4*q*u + 4*L*n*p^3*r*u - 4*n*p^4*r*u - 2*L*n*p^2*q*t*u + 2*n*p^3*q*t*u - 2*L*n*p*q*t^2*u + n*p^2*q*t^2*u - n*p^4*q + 4*L*n*p^3*r - 4*n*p^4*r + 2*L*n*p^2*q*t - 2*n*p^3*q*t + 2*L*n*p*q*t^2 - n*p^2*q*t^2 + L*n*p^2*q*u + 2*L*p^3*q*u - 2*n*p^3*q*u - 4*L*n*p^2*r*u + 4*n*p^3*r*u + 2*L*n*p*q*t*u - 2*L*p^2*q*t*u - 2*n*p^2*q*t*u + 2*p^3*q*t*u + L*n*q*t^2*u - 2*p^2*q*t^2*u - L*n*p^2*q - 2*L*p^3*q + 2*n*p^3*q - 4*L*n*p^2*r + 4*n*p^3*r - 2*L*n*p*q*t + 2*L*p^2*q*t + 2*n*p^2*q*t - 2*p^3*q*t - L*n*q*t^2 + 2*p^2*q*t^2 - 2*L*p^2*q*u + 2*L*p*q*t*u - 2*p^2*q*t*u + 2*p*q*t^2*u + 2*L*p^2*q - 2*L*p*q*t + 2*p^2*q*t - 2*p*q*t^2)/((L - p)*(p - t)*(p - 1)*p*(u - 1)) \n",
      "\n",
      "a_2 = 1/4*(n*p^3*q*u + 2*L*n*p^2*r*u - 2*n*p^3*r*u - 2*L*n*p*q*t*u + n*p^2*q*t*u - n*p^3*q + 2*L*n*p^2*r - 2*n*p^3*r + 2*L*n*p*q*t - n*p^2*q*t + L*n*p*q*u - 2*n*p^2*q*u + 2*p^3*q*u - 2*L*n*p*r*u + 2*n*p^2*r*u + L*n*q*t*u - 2*p^2*q*t*u - L*n*p*q + 2*n*p^2*q - 2*p^3*q - 2*L*n*p*r + 2*n*p^2*r - L*n*q*t + 2*p^2*q*t - 2*p^2*q*u + 2*p*q*t*u + 2*p^2*q - 2*p*q*t)/((L - p)*(p - t)*(p - 1)*p*(u - 1)) \n",
      "\n",
      "b_0 = -1/4*(2*L*p^3*r*u - 2*p^4*r*u - 2*L*p^2*q*t*u + p^3*q*t*u + p^2*q*t^2*u + 2*L*p^3*r - 2*p^4*r + 2*L*p^2*q*t - p^3*q*t - p^2*q*t^2 - 2*L*p^2*r*u + 2*p^3*r*u + 3*L*p*q*t*u - 2*p^2*q*t*u - L*q*t^2*u - 2*L*p^2*r + 2*p^3*r - 3*L*p*q*t + 2*p^2*q*t + L*q*t^2)*n/((L - p)*(p - t)*(p - 1)*(u - 1)) \n",
      "\n",
      "b_1 = -1/4*(2*L*p^3*q*u - p^4*q*u - 4*L*p^3*r*u + 4*p^4*r*u + 2*L*p*q*t^2*u - 3*p^2*q*t^2*u - 2*L*p^3*q + p^4*q - 4*L*p^3*r + 4*p^4*r - 2*L*p*q*t^2 + 3*p^2*q*t^2 - 3*L*p^2*q*u + 2*p^3*q*u + 4*L*p^2*r*u - 4*p^3*r*u - L*q*t^2*u + 2*p*q*t^2*u + 3*L*p^2*q - 2*p^3*q + 4*L*p^2*r - 4*p^3*r + L*q*t^2 - 2*p*q*t^2)*n/((L - p)*(p - t)*(p - 1)*p*(u - 1)) \n",
      "\n",
      "b_2 = 1/4*(p^3*q*u - 2*L*p^2*r*u + 2*p^3*r*u + 2*L*p*q*t*u - 3*p^2*q*t*u - p^3*q - 2*L*p^2*r + 2*p^3*r - 2*L*p*q*t + 3*p^2*q*t - L*p*q*u + 2*L*p*r*u - 2*p^2*r*u - L*q*t*u + 2*p*q*t*u + L*p*q + 2*L*p*r - 2*p^2*r + L*q*t - 2*p*q*t)*n/((L - p)*(p - t)*(p - 1)*p*(u - 1)) \n",
      "\n",
      "b_3 = 1/2*n*(p - t) \n",
      "\n"
     ]
    }
   ],
   "source": [
    "# The values of the parameters defining Nabla0\n",
    "for param in parameters:\n",
    "    if param.subs(nabla0) == 0:\n",
    "        print '{} = 0'.format(param), '\\n'\n",
    "    else:\n",
    "        print '{} ='.format(param), param.subs(nabla0).simplify_rational().factor(), '\\n'"
   ]
  },
  {
   "cell_type": "code",
   "execution_count": 38,
   "metadata": {
    "scrolled": false
   },
   "outputs": [
    {
     "name": "stdout",
     "output_type": "stream",
     "text": [
      "Residue at [x == p, y == q]:\n"
     ]
    },
    {
     "data": {
      "text/latex": [
       "$$\\left(\\begin{array}{rr}\n",
       "-\\frac{1}{2} & 0 \\\\\n",
       "n & \\frac{1}{2}\n",
       "\\end{array}\\right)$$"
      ],
      "text/plain": [
       "<IPython.core.display.Math object>"
      ]
     },
     "metadata": {},
     "output_type": "display_data"
    },
    {
     "name": "stdout",
     "output_type": "stream",
     "text": [
      "Eigenvectors: [(-1/2, [(1, -n)], 1), (1/2, [(0, 1)], 1)]\n",
      "\n",
      "\n",
      "Residue at [x == p, y == -q]:\n"
     ]
    },
    {
     "data": {
      "text/latex": [
       "$$\\left(\\begin{array}{rr}\n",
       "\\frac{1}{2} & n \\\\\n",
       "0 & -\\frac{1}{2}\n",
       "\\end{array}\\right)$$"
      ],
      "text/plain": [
       "<IPython.core.display.Math object>"
      ]
     },
     "metadata": {},
     "output_type": "display_data"
    },
    {
     "name": "stdout",
     "output_type": "stream",
     "text": [
      "Eigenvectors: [(-1/2, [(1, -1/n)], 1), (1/2, [(1, 0)], 1)]\n",
      "\n",
      "\n",
      "Residue at [x == t, y == r]:\n"
     ]
    },
    {
     "data": {
      "text/latex": [
       "$$\\left(\\begin{array}{rr}\n",
       "-\\frac{n {\\left(u + 1\\right)}}{2 \\, {\\left(u - 1\\right)}} & \\frac{n}{u - 1} \\\\\n",
       "-\\frac{n u}{u - 1} & \\frac{n {\\left(u + 1\\right)}}{2 \\, {\\left(u - 1\\right)}}\n",
       "\\end{array}\\right)$$"
      ],
      "text/plain": [
       "<IPython.core.display.Math object>"
      ]
     },
     "metadata": {},
     "output_type": "display_data"
    },
    {
     "name": "stdout",
     "output_type": "stream",
     "text": [
      "Eigenvectors: [(-1/2*n, [(1, 1)], 1), (1/2*n, [(1, u)], 1)]\n",
      "\n",
      "\n",
      "Residue at [x == t, y == -r]:\n"
     ]
    },
    {
     "data": {
      "text/latex": [
       "$$\\left(\\begin{array}{rr}\n",
       "\\frac{n {\\left(u + 1\\right)}}{2 \\, {\\left(u - 1\\right)}} & -\\frac{n u}{u - 1} \\\\\n",
       "\\frac{n}{u - 1} & -\\frac{n {\\left(u + 1\\right)}}{2 \\, {\\left(u - 1\\right)}}\n",
       "\\end{array}\\right)$$"
      ],
      "text/plain": [
       "<IPython.core.display.Math object>"
      ]
     },
     "metadata": {},
     "output_type": "display_data"
    },
    {
     "name": "stdout",
     "output_type": "stream",
     "text": [
      "Eigenvectors: [(-1/2*n, [(1, 1)], 1), (1/2*n, [(1, 1/u)], 1)]\n",
      "\n",
      "\n"
     ]
    }
   ],
   "source": [
    "# Residues of Nabla0\n",
    "for k in range(4):\n",
    "    print 'Residue at {}:'.format(Sing[k])\n",
    "    residue = Res[k].subs(nabla0).simplify_rational().factor()\n",
    "    DM(residue)\n",
    "    print 'Eigenvectors:', residue.eigenvectors_right()\n",
    "    print '\\n'"
   ]
  },
  {
   "cell_type": "markdown",
   "metadata": {},
   "source": [
    "## Apparent map once more\n",
    "\n",
    "I will first define naive candidates for $\\Theta_1$ and $\\Theta_2$ and then, via the apparent map, figure out which linear combinations of these are the right ones. "
   ]
  },
  {
   "cell_type": "code",
   "execution_count": 39,
   "metadata": {},
   "outputs": [],
   "source": [
    "to_zero = [a_0==0, a_1==0, a_2==0, b_0==0, b_1==0, b_2==0, b_3==0]\n",
    "EqHom = [eq - eq.subs(to_zero) for eq in Eq]"
   ]
  },
  {
   "cell_type": "code",
   "execution_count": 40,
   "metadata": {},
   "outputs": [],
   "source": [
    "theta1_naive = solve(EqHom + [b_3 - 1, a_2], parameters)[0]  # set b3=1, a2=0\n",
    "theta2_naive = solve(EqHom + [b_3, a_2 - 1], parameters)[0]  # set b3=0, a2=1"
   ]
  },
  {
   "cell_type": "code",
   "execution_count": 41,
   "metadata": {},
   "outputs": [],
   "source": [
    "Theta1_n = M.subs(theta1_naive).simplify_rational().factor()\n",
    "Theta2_n = M.subs(theta2_naive).simplify_rational().factor()"
   ]
  },
  {
   "cell_type": "code",
   "execution_count": 42,
   "metadata": {},
   "outputs": [],
   "source": [
    "Mbis = (Nabla0 + c1*Theta1_n + c2*Theta2_n).simplify_rational().factor()"
   ]
  },
  {
   "cell_type": "code",
   "execution_count": 43,
   "metadata": {},
   "outputs": [],
   "source": [
    "vect = Mbis*vector((1,1))\n",
    "APP_naive = (vect[0] - vect[1]).simplify_rational().numerator().factor()"
   ]
  },
  {
   "cell_type": "code",
   "execution_count": 44,
   "metadata": {},
   "outputs": [
    {
     "data": {
      "text/plain": [
       "[[c1 == 0, c2 == 0]]"
      ]
     },
     "execution_count": 44,
     "metadata": {},
     "output_type": "execute_result"
    }
   ],
   "source": [
    "# Check: this should return c1=0, c2=0\n",
    "solve([APP_naive.subs(x==t), APP_naive.subs(x==L)], [c1, c2])"
   ]
  },
  {
   "cell_type": "code",
   "execution_count": 45,
   "metadata": {},
   "outputs": [
    {
     "name": "stdout",
     "output_type": "stream",
     "text": [
      "[c1 == 0, c2 == -1/2*(n + 1)*q/(L - p)]\n"
     ]
    }
   ],
   "source": [
    "# Theta2 is defined by having apparent singularities at infinity and t\n",
    "SolsTheta2 = solve([diff(diff(APP_naive, x), x), APP_naive.subs(x==t)], [c1, c2])[0]\n",
    "print SolsTheta2"
   ]
  },
  {
   "cell_type": "code",
   "execution_count": 46,
   "metadata": {
    "scrolled": true
   },
   "outputs": [
    {
     "name": "stdout",
     "output_type": "stream",
     "text": [
      "c1 = -1/2*(L - t)*(n + 1)*(p - t)*q*(u + 1)/(L*q*u - L*r*u + p*r*u - q*t*u + L*q + L*r - p*r - q*t) \n",
      "\n",
      "c2 = -1/4*(L*p^3*q*u^2 + 2*L^2*p^2*r*u^2 - 4*L*p^3*r*u^2 + 2*p^4*r*u^2 - 2*L^2*p*q*t*u^2 + L*p^2*q*t*u^2 - p^3*q*t*u^2 + 2*L*p*q*t^2*u^2 - p^2*q*t^2*u^2 + 4*L*p^3*r*u - 4*p^4*r*u - 4*L*p^2*r*t*u + 4*p^3*r*t*u + L^2*p*q*u^2 - 2*L*p^2*q*u^2 - 2*L^2*p*r*u^2 + 4*L*p^2*r*u^2 - 2*p^3*r*u^2 + L^2*q*t*u^2 - L*p*q*t*u^2 + 2*p^2*q*t*u^2 - L*q*t^2*u^2 - L*p^3*q + 2*L^2*p^2*r - 4*L*p^3*r + 2*p^4*r + 2*L^2*p*q*t - L*p^2*q*t + p^3*q*t - 2*L*p*q*t^2 + p^2*q*t^2 - 4*L*p^2*r*u + 4*p^3*r*u + 4*L*p*r*t*u - 4*p^2*r*t*u - L^2*p*q + 2*L*p^2*q - 2*L^2*p*r + 4*L*p^2*r - 2*p^3*r - L^2*q*t + L*p*q*t - 2*p^2*q*t + L*q*t^2)*(n + 1)*q/((L*q*u - L*r*u + p*r*u - q*t*u + L*q + L*r - p*r - q*t)*(L - p)*(p - t)*(p - 1)*p*(u - 1)) \n",
      "\n"
     ]
    }
   ],
   "source": [
    "# Theta1 is defined by having apparent singularities at infinity and L\n",
    "SolsTheta1 = solve([diff(diff(APP_naive, x), x), APP_naive.subs(x==L)], [c1, c2])[0]\n",
    "\n",
    "print 'c1 =', c1.subs(SolsTheta1).simplify_rational().factor(), '\\n'\n",
    "print 'c2 =', c2.subs(SolsTheta1).simplify_rational().factor(), '\\n'"
   ]
  },
  {
   "cell_type": "markdown",
   "metadata": {},
   "source": [
    "# Definition of $\\Theta_1^+$ and $\\Theta_2^+$"
   ]
  },
  {
   "cell_type": "code",
   "execution_count": 47,
   "metadata": {},
   "outputs": [],
   "source": [
    "theta1plus = solve(EqHom + [b_3 + c1.subs(SolsTheta1), a_2 + c2.subs(SolsTheta1)], parameters)[0]\n",
    "Theta1plus = M.subs(theta1plus).simplify_rational().factor()"
   ]
  },
  {
   "cell_type": "code",
   "execution_count": 48,
   "metadata": {},
   "outputs": [],
   "source": [
    "theta2plus = solve(EqHom + [b_3, a_2 + c2.subs(SolsTheta2)], parameters)[0]\n",
    "Theta2plus = M.subs(theta2plus).simplify_rational().factor()"
   ]
  },
  {
   "cell_type": "markdown",
   "metadata": {},
   "source": [
    "**Remark:** The explicit expression of $\\Theta_2^+$ is given by:\n",
    "\n",
    "$$ \\Theta_2^+ = \\frac{q(\\eta+1)}{2(\\lambda-p)}\\pmatrix{1 & 0\\\\ 0 & -1}\\frac{dx}{y}.$$"
   ]
  },
  {
   "cell_type": "markdown",
   "metadata": {},
   "source": [
    "## Final version of the Apparent Map using the basis $\\nabla_0, \\Theta_1^+, \\Theta_2^+$"
   ]
  },
  {
   "cell_type": "code",
   "execution_count": 49,
   "metadata": {},
   "outputs": [],
   "source": [
    "c0 = var('c0')"
   ]
  },
  {
   "cell_type": "code",
   "execution_count": 50,
   "metadata": {},
   "outputs": [],
   "source": [
    "Nabla = c0*Nabla0 + c1*Theta1plus + c2*Theta2plus\n",
    "Nabla = Nabla.simplify_rational().factor()"
   ]
  },
  {
   "cell_type": "code",
   "execution_count": 51,
   "metadata": {},
   "outputs": [],
   "source": [
    "vect = Nabla*vector((1,1))\n",
    "APP = (vect[0] - vect[1]).simplify_rational().numerator().factor()"
   ]
  },
  {
   "cell_type": "code",
   "execution_count": 52,
   "metadata": {},
   "outputs": [
    {
     "name": "stdout",
     "output_type": "stream",
     "text": [
      "-(L^2*c1*p*r*u - L*c1*p^2*r*u - L^2*c0*q*t*u - L^2*c1*q*t*u - L*c2*p*q*t*u + L^2*c0*r*t*u - L*c0*p*r*t*u + L*c2*p*r*t*u - c2*p^2*r*t*u + L*c0*q*t^2*u + L*c1*q*t^2*u + c2*p*q*t^2*u + L^2*c0*q*u*x + L^2*c1*q*u*x + L*c2*p*q*u*x - L^2*c0*r*u*x - L^2*c1*r*u*x + L*c0*p*r*u*x - L*c2*p*r*u*x + c1*p^2*r*u*x + c2*p^2*r*u*x + L*c2*q*t*u*x - c2*p*q*t*u*x - L*c0*r*t*u*x - L*c2*r*t*u*x + c0*p*r*t*u*x + c2*p*r*t*u*x - c0*q*t^2*u*x - c1*q*t^2*u*x - c2*q*t^2*u*x - L*c0*q*u*x^2 - L*c1*q*u*x^2 - L*c2*q*u*x^2 + L*c0*r*u*x^2 + L*c1*r*u*x^2 + L*c2*r*u*x^2 - c0*p*r*u*x^2 - c1*p*r*u*x^2 - c2*p*r*u*x^2 + c0*q*t*u*x^2 + c1*q*t*u*x^2 + c2*q*t*u*x^2 - L^2*c1*p*r + L*c1*p^2*r - L^2*c0*q*t - L^2*c1*q*t - L*c2*p*q*t - L^2*c0*r*t + L*c0*p*r*t - L*c2*p*r*t + c2*p^2*r*t + L*c0*q*t^2 + L*c1*q*t^2 + c2*p*q*t^2 + L^2*c0*q*x + L^2*c1*q*x + L*c2*p*q*x + L^2*c0*r*x + L^2*c1*r*x - L*c0*p*r*x + L*c2*p*r*x - c1*p^2*r*x - c2*p^2*r*x + L*c2*q*t*x - c2*p*q*t*x + L*c0*r*t*x + L*c2*r*t*x - c0*p*r*t*x - c2*p*r*t*x - c0*q*t^2*x - c1*q*t^2*x - c2*q*t^2*x - L*c0*q*x^2 - L*c1*q*x^2 - L*c2*q*x^2 - L*c0*r*x^2 - L*c1*r*x^2 - L*c2*r*x^2 + c0*p*r*x^2 + c1*p*r*x^2 + c2*p*r*x^2 + c0*q*t*x^2 + c1*q*t*x^2 + c2*q*t*x^2)*(n + 1)*q\n"
     ]
    }
   ],
   "source": [
    "print APP"
   ]
  },
  {
   "cell_type": "markdown",
   "metadata": {},
   "source": [
    "The above polynomial can be written as:\n",
    "\n",
    "$$ c_0A_0(x-t)(x-\\lambda) + c_1A_1(x-\\lambda) + c_2A_2(x-t),$$\n",
    "\n",
    "with $A_0$ independent of $x$, and $A_1,A_2$ linear polynomials on $x$. \n",
    "\n",
    "We are interested in the roots of $A_1,A_2$ (the \"apparent singularities\" of $\\Theta_i$). In Loray-Saito these are called $\\mu_i$ and are given by the formula:\n",
    "\n",
    "$$ \\mu_i = \\frac{t_i(u_i-1)}{u_i - t_i} .$$\n",
    "\n",
    "In fact, we shall compute $\\mu_i$ and from these we will be able to recover $u_i$ in terms of our variables $(p,q,u)$."
   ]
  },
  {
   "cell_type": "code",
   "execution_count": 53,
   "metadata": {},
   "outputs": [],
   "source": [
    "APP0 = diff(APP, c0).simplify_rational().factor()\n",
    "APP1 = diff(APP, c1).simplify_rational().factor()\n",
    "APP2 = diff(APP, c2).simplify_rational().factor()"
   ]
  },
  {
   "cell_type": "code",
   "execution_count": 54,
   "metadata": {},
   "outputs": [
    {
     "data": {
      "text/plain": [
       "[x == p]"
      ]
     },
     "execution_count": 54,
     "metadata": {},
     "output_type": "execute_result"
    }
   ],
   "source": [
    "# Note that mu2 = p:\n",
    "solve((APP2/(x-t)).simplify_rational(), x)"
   ]
  },
  {
   "cell_type": "code",
   "execution_count": 133,
   "metadata": {},
   "outputs": [
    {
     "data": {
      "text/latex": [
       "$$-\\frac{L p r u - p^{2} r u - L q t u + q t^{2} u - L p r + p^{2} r - L q t + q t^{2}}{L q u - L r u + p r u - q t u + L q + L r - p r - q t}$$"
      ],
      "text/plain": [
       "<IPython.core.display.Math object>"
      ]
     },
     "metadata": {},
     "output_type": "display_data"
    }
   ],
   "source": [
    "# Definition of mu1\n",
    "sol_mu1 = solve((APP1/(x-L)).simplify_rational(), x)[0]\n",
    "\n",
    "mu1 = x.subs(sol_mu1).simplify_rational().factor()\n",
    "DM(mu1)"
   ]
  },
  {
   "cell_type": "markdown",
   "metadata": {},
   "source": [
    "Using the basis $\\nabla_0, \\Theta_1^+, \\Theta_2^+$, the apparent map is given by:\n",
    "\n",
    "$$\\operatorname{App}(\\nabla) = (x-t)(x-\\lambda) + c_1(x-\\lambda)(x-\\mu_1) + c_2(x-t)(x-\\mu_2),$$\n",
    "\n",
    "where $\\mu_1$ is computed above and $\\mu_2 = p$."
   ]
  },
  {
   "cell_type": "markdown",
   "metadata": {},
   "source": [
    "## The map $(u,p,q) \\mapsto (u_1,u_2)$"
   ]
  },
  {
   "cell_type": "code",
   "execution_count": 56,
   "metadata": {},
   "outputs": [],
   "source": [
    "var('u1 u2')\n",
    "t1 = t\n",
    "t2 = L"
   ]
  },
  {
   "cell_type": "code",
   "execution_count": 57,
   "metadata": {},
   "outputs": [],
   "source": [
    "# Use mu1, mu2 to solve for u1, u2\n",
    "Sols_u1u2 = solve([t1*(u1-1)/(u1-t1) == mu1, t2*(u2-1)/(u2-t2) == p], [u1,u2])[0]"
   ]
  },
  {
   "cell_type": "code",
   "execution_count": 58,
   "metadata": {},
   "outputs": [
    {
     "name": "stdout",
     "output_type": "stream",
     "text": [
      "u1 = (L*p*r*u - p^2*r*u - L*q*t*u + q*t^2*u - L*p*r + p^2*r - L*q*t + q*t^2 + L*q*u - L*r*u + p*r*u - q*t*u + L*q + L*r - p*r - q*t)*t/((L - p)*(p - t)*r*(u - 1)) \n",
      "\n",
      "u2 = -L*(p - 1)/(L - p)\n"
     ]
    }
   ],
   "source": [
    "print 'u1 =', u1.subs(Sols_u1u2).simplify_rational().factor(), '\\n'\n",
    "print 'u2 =', u2.subs(Sols_u1u2).simplify_rational().factor()"
   ]
  },
  {
   "cell_type": "markdown",
   "metadata": {},
   "source": [
    "We can do the following to avoid having `r` in the denominator of `u1`"
   ]
  },
  {
   "cell_type": "code",
   "execution_count": 59,
   "metadata": {},
   "outputs": [
    {
     "name": "stdout",
     "output_type": "stream",
     "text": [
      "u1 = (L*p*t*u - p^2*t*u - L*p*t + p^2*t + q*r*u - L*t*u + p*t*u + q*r + L*t - p*t)/((L - p)*(p - t)*(u - 1))\n"
     ]
    }
   ],
   "source": [
    "print 'u1 =', simplify_qr(u1.subs(Sols_u1u2)*r^2)/r2 "
   ]
  },
  {
   "cell_type": "markdown",
   "metadata": {},
   "source": [
    "## The map $(u_1,u_2) \\mapsto (p,q,u)$"
   ]
  },
  {
   "cell_type": "code",
   "execution_count": 60,
   "metadata": {},
   "outputs": [],
   "source": [
    "# We need to introduce the following variable\n",
    "v2 = var('v2')  # v2 = sqrt(u2*(u2-1)*(u2-L))"
   ]
  },
  {
   "cell_type": "code",
   "execution_count": 62,
   "metadata": {},
   "outputs": [],
   "source": [
    "# Use mu1, mu2 to solve for p,q,u\n",
    "Sols_pqu = solve([t1*(u1-1)/(u1-t1) == mu1.subs(q == (L^2 - L)*v2/(L^2 - 2*L*u2 + u2^2)), t2*(u2-1)/(u2-t2) == p], [u,p])[0]"
   ]
  },
  {
   "cell_type": "code",
   "execution_count": 63,
   "metadata": {},
   "outputs": [
    {
     "data": {
      "text/plain": [
       "[q == -(L^2 - L)*v2/(L^2 - 2*L*u2 + u2^2), q == (L^2 - L)*v2/(L^2 - 2*L*u2 + u2^2)]"
      ]
     },
     "execution_count": 63,
     "metadata": {},
     "output_type": "execute_result"
    }
   ],
   "source": [
    "# Write q in terms of v2\n",
    "\n",
    "# The quantity below is equal to one:\n",
    "expr = (q^2/(p*(p-1)*(p-L))) / (v2^2/(u2*(u2-1)*(u2-L)))\n",
    "\n",
    "# Substitute p for its formula in terms of u2\n",
    "expr = expr.subs(Sols_pqu)\n",
    "\n",
    "# Solve for q\n",
    "solve(expr == 1, q)  # Let's choose the second root"
   ]
  },
  {
   "cell_type": "code",
   "execution_count": 64,
   "metadata": {},
   "outputs": [
    {
     "name": "stdout",
     "output_type": "stream",
     "text": [
      "u = (L*r*t*u1 - L*r*t*u2 + L*r*u1*u2 - r*t*u1*u2 + L*t^2*v2 - t^3*v2 - L*r*u1 + r*t*u2 - L*t*v2 + t^2*v2)/(L*r*t*u1 - L*r*t*u2 + L*r*u1*u2 - r*t*u1*u2 - L*t^2*v2 + t^3*v2 - L*r*u1 + r*t*u2 + L*t*v2 - t^2*v2) \n",
      "\n",
      "p = -L*(u2 - 1)/(L - u2) \n",
      "\n",
      "q = (L - 1)*L*v2/(L - u2)^2\n"
     ]
    }
   ],
   "source": [
    "print 'u =', u.subs(Sols_pqu).simplify_rational().factor(), '\\n'\n",
    "print 'p =', p.subs(Sols_pqu).simplify_rational().factor(), '\\n'\n",
    "print 'q =', q.subs(q == (L^2 - L)*v2/(L^2 - 2*L*u2 + u2^2)).factor()"
   ]
  },
  {
   "cell_type": "markdown",
   "metadata": {},
   "source": [
    "## Recovery of the original Higgs fields $\\Theta_i$ in Loray-Saito\n",
    "\n",
    "Now that we have computed the value of $u_1$ in terms of our variables we can rescale the $\\Theta_i^+$ back to $\\Theta_i$."
   ]
  },
  {
   "cell_type": "code",
   "execution_count": 65,
   "metadata": {},
   "outputs": [],
   "source": [
    "rescale_factor1 = ((n + 1)/(2*(u1 - t1))).subs(Sols_u1u2).simplify_rational().factor()\n",
    "rescale_factor2 = ((n + 1)/(2*(u2 - t2))).subs(Sols_u1u2).simplify_rational().factor()"
   ]
  },
  {
   "cell_type": "code",
   "execution_count": 66,
   "metadata": {},
   "outputs": [],
   "source": [
    "Theta1 = (Theta1plus/rescale_factor1).simplify_rational().factor()\n",
    "\n",
    "Theta2 = (Theta2plus/rescale_factor2).simplify_rational().factor()"
   ]
  },
  {
   "cell_type": "markdown",
   "metadata": {},
   "source": [
    "# First automorphism of the familiy: Permuting the roles of $p_1 = (p,q)$ and $p_2=(p,-q)$\n",
    "\n",
    "Permuting the numbering of $p_1,p_2$ and then applying $z\\mapsto z^{-1}$ transforms a connection into an isomorphic one. In our family, this corresponds to the transformation:\n",
    "\n",
    "$M(u,p,q) \\longmapsto  \\mathrm{P}\\,M(u^{-1}, p, -q)\\,\\mathrm{P}^{-1} $,\n",
    "\n",
    "where $\\mathrm{P}$ is the permutation matrix that interchanges the two colums of $M$.\n",
    "\n",
    "**Remark:** The objects $\\nabla_0$, and $\\Theta_i^+$ constructed above are invariant under this transformation."
   ]
  },
  {
   "cell_type": "code",
   "execution_count": 70,
   "metadata": {},
   "outputs": [],
   "source": [
    "PM = matrix([(0,1), (1,0)])"
   ]
  },
  {
   "cell_type": "code",
   "execution_count": 71,
   "metadata": {},
   "outputs": [
    {
     "data": {
      "text/plain": [
       "True"
      ]
     },
     "execution_count": 71,
     "metadata": {},
     "output_type": "execute_result"
    }
   ],
   "source": [
    "# Nabla0plus is invariant\n",
    "(Nabla0 - PM*Nabla0.subs([q==-q, u==1/u])*PM).simplify_rational().factor() == 0"
   ]
  },
  {
   "cell_type": "code",
   "execution_count": 72,
   "metadata": {},
   "outputs": [
    {
     "data": {
      "text/plain": [
       "True"
      ]
     },
     "execution_count": 72,
     "metadata": {},
     "output_type": "execute_result"
    }
   ],
   "source": [
    "# Theta1plus is invariant\n",
    "(Theta1plus - PM*Theta1plus.subs([q==-q, u==1/u])*PM).simplify_rational().factor() == 0"
   ]
  },
  {
   "cell_type": "code",
   "execution_count": 73,
   "metadata": {},
   "outputs": [
    {
     "data": {
      "text/plain": [
       "True"
      ]
     },
     "execution_count": 73,
     "metadata": {},
     "output_type": "execute_result"
    }
   ],
   "source": [
    "# Theta2 is invariant\n",
    "(Theta2plus - PM*Theta2plus.subs([q==-q, u==1/u])*PM).simplify_rational().factor() == 0"
   ]
  },
  {
   "cell_type": "markdown",
   "metadata": {},
   "source": [
    "*Remark:* Also the expression for $\\mu_1$ is invariant under the substitution $(u,p,q)\\mapsto(1/u,p,-q)$."
   ]
  },
  {
   "cell_type": "code",
   "execution_count": 74,
   "metadata": {},
   "outputs": [
    {
     "data": {
      "text/plain": [
       "0"
      ]
     },
     "execution_count": 74,
     "metadata": {},
     "output_type": "execute_result"
    }
   ],
   "source": [
    "(mu1 - mu1.subs([q==-q, u==1/u])).simplify_rational()"
   ]
  },
  {
   "cell_type": "markdown",
   "metadata": {},
   "source": [
    "We don't need to define + and - versions of $\\Theta_2$, since the first expression is already invariant."
   ]
  },
  {
   "cell_type": "markdown",
   "metadata": {},
   "source": [
    "# Second automorphism of the familiy: The involution $\\tau\\;\\colon z \\mapsto -z$\n",
    "\n",
    "In our trivial bundle $\\mathbb{P}^1_z \\times C$ we have the bundle automorphism $\\tau\\colon z\\mapsto -z$. A connection $\\nabla$ is transformed to $\\tau^*\\nabla = \\Lambda\\nabla\\Lambda$, where $\\Lambda$ is the diagonal matrix $\\operatorname{diag}(1,-1)$.\n",
    "\n",
    "If the parabolic structure of $\\nabla$ was given by $(p,q,u)$, then the parabolic structure of $\\tau^*\\nabla$ will be $(p,q,-u)$.\n",
    "\n",
    "Our basic elements $\\nabla_0$ and $\\Theta_1$ are not equivariant with respect to $\\tau$:\n",
    "$$ \\tau^*\\nabla_0(p,q,u) \\neq \\nabla_0(p,q,-u), \\quad \\tau^*\\Theta_1(p,q,u) \\neq \\Theta_1(p,q,-u) . $$\n",
    "\n",
    "We will now introduce a new basis that is equivariant with respect to $\\tau$.\n",
    "\n",
    "$$ \\hat\\nabla_0(p,q,u) = \\frac{1}{2}\\left( \\nabla_0(p,q,u) + \\tau^*\\nabla_0(p,q,-u) \\right), \\quad \\hat\\Theta_1(p,q,u) = \\frac{1}{2}\\left( \\Theta_1(p,q,u) + \\tau^*\\Theta_1(p,q,-u) \\right), \\quad  \\hat\\Theta_2(p,q,u) = \\Theta_2(p,q,u) . $$"
   ]
  },
  {
   "cell_type": "code",
   "execution_count": 75,
   "metadata": {},
   "outputs": [],
   "source": [
    "Lambda = diagonal_matrix([1, -1])"
   ]
  },
  {
   "cell_type": "code",
   "execution_count": 76,
   "metadata": {},
   "outputs": [],
   "source": [
    "Nabla0_hat = (1/2)*(Nabla0 + Lambda*Nabla0.subs(u==-u)*Lambda).simplify_rational().factor()"
   ]
  },
  {
   "cell_type": "code",
   "execution_count": 77,
   "metadata": {},
   "outputs": [],
   "source": [
    "Theta1_hat = (1/2)*(Theta1 + Lambda*Theta1.subs(u==-u)*Lambda).simplify_rational().factor()"
   ]
  },
  {
   "cell_type": "code",
   "execution_count": 78,
   "metadata": {},
   "outputs": [],
   "source": [
    "Theta2_hat = Theta1"
   ]
  },
  {
   "cell_type": "markdown",
   "metadata": {},
   "source": [
    "Note that this basis has the following property:\n",
    "\n",
    "If $\\nabla = \\hat\\nabla_0(p,q,u) + k_1\\hat\\Theta_1(p,q,u) + k_2\\hat\\Theta_2(p,q,u)$,\n",
    "\n",
    "then $\\tau^*\\nabla = \\hat\\nabla_0(p,q,-u) + k_1\\hat\\Theta_1(p,q,-u) + k_2\\hat\\Theta_2(p,q,-u)$.\n",
    "\n",
    "This means that $\\tau$ acts on our family of connections as $(p,q,u,k_1,k_2) \\mapsto (p,q,-u,k_1,k_2)$. We will use this property to push our family and the symplectic 2-form onto the moduli space of connections."
   ]
  },
  {
   "cell_type": "markdown",
   "metadata": {},
   "source": [
    "## The change of basis $(\\nabla_0, \\Theta_1, \\Theta_2) \\mapsto (\\hat\\nabla_0, \\hat\\Theta_1, \\hat\\Theta_2)$\n",
    "\n",
    "We seek for a matrix T with the following property:\n",
    "\n",
    "$$ \\text{If }\\; \\nabla = \\nabla_0(p,q,u) + c_1\\Theta_1(p,q,u) + c_2\\Theta_2(p,q,u), \\;\\text{ then }\\; \\tau^*\\nabla = \\nabla_0(p,q,-u) + k_1\\Theta_1(p,q,-u) + k_2\\Theta_2(p,q,-u), $$\n",
    "\n",
    "where $(1, k_1, k_2)$ is the image of $(1, c_1, c_2)$ under the matrix $T$.\n",
    "\n",
    "In order to find $T$ we are going to look at the tangencies of a connection with the section $z = -1$, and use the fact that the points of tangency of $\\nabla$ with $z = 1$ are exactly the points of tangency of $\\tau^*\\nabla$ with $z = -1$."
   ]
  },
  {
   "cell_type": "code",
   "execution_count": 85,
   "metadata": {},
   "outputs": [
    {
     "data": {
      "text/plain": [
       "[  1   0   0]\n",
       "[T10 T11   0]\n",
       "[T20 T21   1]"
      ]
     },
     "execution_count": 85,
     "metadata": {},
     "output_type": "execute_result"
    }
   ],
   "source": [
    "var('T10 T11 T20 T21')\n",
    "T = matrix([(1, 0 ,0), (T10, T11, 0), (T20, T21, 1)])\n",
    "T"
   ]
  },
  {
   "cell_type": "code",
   "execution_count": 89,
   "metadata": {},
   "outputs": [],
   "source": [
    "k0, k1, k2 = list(T*vector([1, c1, c2]))"
   ]
  },
  {
   "cell_type": "raw",
   "metadata": {},
   "source": [
    "Nabla = Nabla0 + c1*Theta1 + c2*Theta2"
   ]
  },
  {
   "cell_type": "code",
   "execution_count": 104,
   "metadata": {},
   "outputs": [],
   "source": [
    "Nabla = Nabla0 + c1*Theta1plus/rescale_factor1 + c2*Theta2plus/rescale_factor2\n",
    "Nabla = Nabla.simplify_rational().factor()"
   ]
  },
  {
   "cell_type": "markdown",
   "metadata": {},
   "source": [
    "Tangencies of $\\nabla = \\nabla_0(p,q,u) + c_1\\Theta_1(p,q,u) + c_2\\Theta_2(p,q,u)$ with $z = 1$:"
   ]
  },
  {
   "cell_type": "code",
   "execution_count": 106,
   "metadata": {},
   "outputs": [],
   "source": [
    "vect = Nabla*vector((1,1))\n",
    "APPplus = (vect[0] - vect[1]).simplify_rational().numerator()"
   ]
  },
  {
   "cell_type": "markdown",
   "metadata": {},
   "source": [
    "Tangencies of $\\tau^*\\nabla = \\nabla_0(p,q,-u) + k_1\\Theta_1(p,q,-u) + k_2\\Theta_2(p,q,-u)$ with $z = -1$:"
   ]
  },
  {
   "cell_type": "code",
   "execution_count": 107,
   "metadata": {},
   "outputs": [],
   "source": [
    "vect = Nabla*vector((1,-1))\n",
    "APPminus = (vect[0] + vect[1])\n",
    "\n",
    "conjugate_APP = APPminus.subs(u==-u).subs([c1==k1, c2==k2]).simplify_rational().numerator()  # This should have the same zeros as APPplus of nabla"
   ]
  },
  {
   "cell_type": "markdown",
   "metadata": {},
   "source": [
    "### Comparison of the two polynomials"
   ]
  },
  {
   "cell_type": "code",
   "execution_count": 108,
   "metadata": {},
   "outputs": [],
   "source": [
    "ap0 = APPplus.subs(x==0)\n",
    "ap1 = diff(APPplus, x).subs(x==0)\n",
    "ap2 = diff(diff(APPplus/2, x), x)"
   ]
  },
  {
   "cell_type": "code",
   "execution_count": 109,
   "metadata": {},
   "outputs": [],
   "source": [
    "ac0 = conjugate_APP.subs(x==0)\n",
    "ac1 = diff(conjugate_APP, x).subs(x==0)\n",
    "ac2 = diff(diff(conjugate_APP/2, x), x)"
   ]
  },
  {
   "cell_type": "code",
   "execution_count": 110,
   "metadata": {},
   "outputs": [],
   "source": [
    "Eqn1 = ac2*ap1 - ap2*ac1\n",
    "Eqn2 = ac2*ap0 - ap2*ac0"
   ]
  },
  {
   "cell_type": "markdown",
   "metadata": {},
   "source": [
    "I want the above equations to be zero **for any** value of $c_1,c_2$.  \n",
    "The expressions `Eqn1` and `Eqn2` are quadratic in $c_1,c_2$, but we'll truncate the quadratic part first, solve the system and then show that the solutions found are general enough."
   ]
  },
  {
   "cell_type": "code",
   "execution_count": 111,
   "metadata": {},
   "outputs": [],
   "source": [
    "# Linear terms\n",
    "\n",
    "E1_00 = Eqn1.subs([c1==0, c2==0])\n",
    "E1_10 = diff(Eqn1, c1).subs([c1==0, c2==0])\n",
    "E2_00 = Eqn2.subs([c1==0, c2==0])\n",
    "E2_10 = diff(Eqn2, c1).subs([c1==0, c2==0])"
   ]
  },
  {
   "cell_type": "code",
   "execution_count": 112,
   "metadata": {},
   "outputs": [
    {
     "name": "stdout",
     "output_type": "stream",
     "text": [
      "0\n",
      "0\n",
      "CPU times: user 1min 51s, sys: 252 ms, total: 1min 51s\n",
      "Wall time: 1min 45s\n"
     ]
    }
   ],
   "source": [
    "%%time\n",
    "# This might take a while\n",
    "\n",
    "# Solve by column of T\n",
    "S0 = solve([E1_00, E2_00], [T10, T20])\n",
    "S1 = solve([E1_10.subs(S0), E2_10.subs(S0)], [T11, T21])\n",
    "\n",
    "# Verify that we got a complete solution\n",
    "print Eqn1.subs(S0).subs(S1).simplify_rational()\n",
    "print Eqn2.subs(S0).subs(S1).simplify_rational()"
   ]
  },
  {
   "cell_type": "markdown",
   "metadata": {},
   "source": [
    "### Final expression for the Conjugacy Matrix `CM`"
   ]
  },
  {
   "cell_type": "code",
   "execution_count": 113,
   "metadata": {},
   "outputs": [],
   "source": [
    "v0 = (1, simplify_qr(T10.subs(S0)*q^2/q2), simplify_qr(T20.subs(S0)*q^2/q2))\n",
    "v1 = (0, T11.subs(S1).factor(), simplify_qr(T21.subs(S1)*r^2/r2))\n",
    "v2 = (0, 0, 1)\n",
    "\n",
    "CM = matrix([v0, v1, v2]).transpose()"
   ]
  },
  {
   "cell_type": "code",
   "execution_count": 115,
   "metadata": {},
   "outputs": [
    {
     "data": {
      "text/latex": [
       "$$\\left(\\begin{array}{rrr}\n",
       "1 & 0 & 0 \\\\\n",
       "0 & 1 & 0 \\\\\n",
       "-\\frac{{\\left(L^{2} p^{2} t^{2} - L p^{3} t^{2} - L p^{2} t^{3} + p^{3} t^{3} - L^{2} p^{2} t + L p^{3} t - L^{2} p t^{2} + 2 \\, L p^{2} t^{2} - p^{3} t^{2} + L p t^{3} - p^{2} t^{3} - q^{2} r^{2} + L^{2} p t - L p^{2} t - L p t^{2} + p^{2} t^{2}\\right)} {\\left(p^{3} - 2 \\, L p t + p^{2} t + L p - 2 \\, p^{2} + L t\\right)} n}{{\\left(L - t\\right)} {\\left(L - 1\\right)} L {\\left(p - t\\right)} {\\left(p - 1\\right)}^{2} p^{2} {\\left(t - 1\\right)} t} & 0 & 1\n",
       "\\end{array}\\right)$$"
      ],
      "text/plain": [
       "<IPython.core.display.Math object>"
      ]
     },
     "metadata": {},
     "output_type": "display_data"
    }
   ],
   "source": [
    "# Let's verify that CM actually defines an involution\n",
    "DM((CM * CM.subs(u==-u)).simplify_rational().factor())"
   ]
  },
  {
   "cell_type": "code",
   "execution_count": 116,
   "metadata": {},
   "outputs": [
    {
     "data": {
      "text/plain": [
       "0"
      ]
     },
     "execution_count": 116,
     "metadata": {},
     "output_type": "execute_result"
    }
   ],
   "source": [
    "# The expression in the corner actually simplifies to zero:\n",
    "simplify_qr((CM * CM.subs(u==-u))[2][0])"
   ]
  },
  {
   "cell_type": "markdown",
   "metadata": {},
   "source": [
    "## The Base Change matrix `BC`"
   ]
  },
  {
   "cell_type": "code",
   "execution_count": 117,
   "metadata": {},
   "outputs": [],
   "source": [
    "BC = (identity_matrix(3) + CM.subs(u==-u))/2\n",
    "BC = BC.simplify_rational().factor()"
   ]
  },
  {
   "cell_type": "code",
   "execution_count": 118,
   "metadata": {},
   "outputs": [
    {
     "name": "stdout",
     "output_type": "stream",
     "text": [
      "row0 = (1, 0, 0) \n",
      "\n",
      "row1 = (-1/2*n*(p - t)*q*r*(u - 1)/((L - t)*(p - 1)*p*(t - 1)*t*(u + 1)), 2*u/(u + 1)^2, 0) \n",
      "\n",
      "row2 = (-1/4*(L*p^3*u - 2*L^2*p*t*u + L*p^2*t*u - p^3*t*u + 2*L*p*t^2*u - p^2*t^2*u + L*p^3 - 2*L^2*p*t + L*p^2*t - p^3*t + 2*L*p*t^2 - p^2*t^2 + L^2*p*u - 2*L*p^2*u - 2*L*q*r*u + 2*p*q*r*u + L^2*t*u - L*p*t*u + 2*p^2*t*u - L*t^2*u + L^2*p - 2*L*p^2 + 2*L*q*r - 2*p*q*r + L^2*t - L*p*t + 2*p^2*t - L*t^2)*(L - p)*n/((L - t)*(L - 1)*L*(p - t)*(p - 1)*p*(u + 1)), 1/2*(2*L^2*p^2*t^2*u^2 - 4*L*p^3*t^2*u^2 + 2*p^4*t^2*u^2 - p^3*q*r*u^2 - 2*L^2*p^2*t*u^2 + 4*L*p^3*t*u^2 - 2*p^4*t*u^2 + 2*L*p*q*r*t*u^2 - p^2*q*r*t*u^2 - 2*L^2*p*t^2*u^2 + 4*L*p^2*t^2*u^2 - 2*p^3*t^2*u^2 + 2*L^2*p^2*t^2 - 4*L*p^3*t^2 + 2*p^4*t^2 - L*p*q*r*u^2 + 2*p^2*q*r*u^2 + 2*L^2*p*t*u^2 - 4*L*p^2*t*u^2 + 2*p^3*t*u^2 - L*q*r*t*u^2 + p^3*q*r - 2*L^2*p^2*t + 4*L*p^3*t - 2*p^4*t - 2*L*p*q*r*t + p^2*q*r*t - 2*L^2*p*t^2 + 4*L*p^2*t^2 - 2*p^3*t^2 + L*p*q*r - 2*p^2*q*r + 2*L^2*p*t - 4*L*p^2*t + 2*p^3*t + L*q*r*t)/((L - 1)*L*(p - t)^2*(p - 1)*p*(u + 1)^2), 1) \n",
      "\n"
     ]
    }
   ],
   "source": [
    "# Print row by row to export:\n",
    "for k in range(3):\n",
    "    print 'row{} ='.format(k), BC[k], '\\n'"
   ]
  },
  {
   "cell_type": "markdown",
   "metadata": {},
   "source": [
    "# The map into the moduli space of parabolic bundles $\\mathbb{P}^1_z\\times\\mathbb{P}^1_w$."
   ]
  },
  {
   "cell_type": "markdown",
   "metadata": {},
   "source": [
    "Suppose we start with a parabolic bundle on $\\mathbb{P}^1$ having parabolic structure $(0,1,c,\\infty,l)$ over the points $0,1,\\lambda,\\infty,t$ respectively. After pulling back to the elliptic curve and mapping this parabolic bundle to its moduli space, we recover a point $(z,w) \\in \\mathbb{P}^1_z \\times \\mathbb{P}^1_w$. This point was explicitly computed by Nestor, and the values for $z,w$ are the following:"
   ]
  },
  {
   "cell_type": "code",
   "execution_count": 121,
   "metadata": {},
   "outputs": [],
   "source": [
    "var('w')\n",
    "dict_vars['w'] = w"
   ]
  },
  {
   "cell_type": "code",
   "execution_count": 122,
   "metadata": {},
   "outputs": [],
   "source": [
    "# Nestor's formula CORRECTED:\n",
    "zw_vals = [\n",
    "    z == t2*(u2-1)/(u2-t2),\n",
    "    w == (t2*u1*(t2*(u1-1) - t1*(u2-1) + u2 - u1))/(t2*(t1*(u1-u2) + u1*(u2-1)) - u2*t1*(u1-1))\n",
    "]"
   ]
  },
  {
   "cell_type": "markdown",
   "metadata": {},
   "source": [
    "Using the variables $\\mu_i$ (which represent the apparent singularities of $\\Theta_i$), we can rewrite the formulas for $z,w$ as follows:\n",
    "\n",
    "$$ z = \\mu_2, \\quad w = \\frac{(t_2\\mu_1 - t_1\\mu_2)(\\mu_1 - 1)}{(\\mu_1 - \\mu_2)(\\mu_1 - t_1)} . $$"
   ]
  },
  {
   "cell_type": "code",
   "execution_count": 132,
   "metadata": {},
   "outputs": [
    {
     "name": "stdout",
     "output_type": "stream",
     "text": [
      "z = Mu2\n",
      "w = (L*Mu1 - Mu2*t)*(Mu1 - 1)/((Mu1 - Mu2)*(Mu1 - t))\n"
     ]
    }
   ],
   "source": [
    "# Verify the above claim:\n",
    "var('Mu1 Mu2')\n",
    "to_mu = [u1==t1*(Mu1-1)/(Mu1-t1), u2==t2*(Mu2-1)/(Mu2-t2)]\n",
    "\n",
    "print 'z =', z.subs(zw_vals).subs(to_mu).simplify_rational().factor()\n",
    "print 'w =', w.subs(zw_vals).subs(to_mu).simplify_rational().factor()"
   ]
  },
  {
   "cell_type": "code",
   "execution_count": 135,
   "metadata": {},
   "outputs": [
    {
     "name": "stdout",
     "output_type": "stream",
     "text": [
      "(L*p*r*u - p^2*r*u - L*q*t*u + q*t^2*u - L*p*r + p^2*r - L*q*t + q*t^2 + L*q*u - L*r*u + p*r*u - q*t*u + L*q + L*r - p*r - q*t)*(p*r*u - q*t*u - p*r - q*t)/((p - t)^2*q*r*(u + 1)*(u - 1))\n"
     ]
    }
   ],
   "source": [
    "formula_w = w.subs(zw_vals).subs(to_mu).subs([Mu1==mu1, Mu2==p]).simplify_rational().factor()\n",
    "print formula_w"
   ]
  },
  {
   "cell_type": "markdown",
   "metadata": {},
   "source": [
    "Simplify the expression for `w` to avoid having `q` or `r` in the denominator"
   ]
  },
  {
   "cell_type": "code",
   "execution_count": 136,
   "metadata": {},
   "outputs": [],
   "source": [
    "formula_w = simplify_qr(formula_w*r^2*q^2/q2/r2)"
   ]
  },
  {
   "cell_type": "code",
   "execution_count": 137,
   "metadata": {},
   "outputs": [
    {
     "data": {
      "text/latex": [
       "$$-\\frac{2 \\, L p t u^{2} - p^{2} t u^{2} - p t^{2} u^{2} - L p u^{2} + 2 \\, q r u^{2} - L t u^{2} + 2 \\, p t u^{2} - 2 \\, L p t + p^{2} t + p t^{2} + L p + 2 \\, q r + L t - 2 \\, p t}{{\\left(p - t\\right)}^{2} {\\left(u + 1\\right)} {\\left(u - 1\\right)}}$$"
      ],
      "text/plain": [
       "<IPython.core.display.Math object>"
      ]
     },
     "metadata": {},
     "output_type": "display_data"
    }
   ],
   "source": [
    "DM(formula_w)"
   ]
  },
  {
   "cell_type": "markdown",
   "metadata": {},
   "source": [
    "The above expression is invariant under all automorphisms of our family (as expected):"
   ]
  },
  {
   "cell_type": "code",
   "execution_count": 143,
   "metadata": {},
   "outputs": [
    {
     "data": {
      "text/plain": [
       "0"
      ]
     },
     "execution_count": 143,
     "metadata": {},
     "output_type": "execute_result"
    }
   ],
   "source": [
    "(formula_w - formula_w.subs([u==1/u, q==-q])).simplify_rational()"
   ]
  },
  {
   "cell_type": "code",
   "execution_count": 144,
   "metadata": {},
   "outputs": [
    {
     "data": {
      "text/plain": [
       "0"
      ]
     },
     "execution_count": 144,
     "metadata": {},
     "output_type": "execute_result"
    }
   ],
   "source": [
    "(formula_w - formula_w.subs(u==-u)).simplify_rational()"
   ]
  },
  {
   "cell_type": "code",
   "execution_count": 145,
   "metadata": {
    "scrolled": true
   },
   "outputs": [
    {
     "data": {
      "text/plain": [
       "0"
      ]
     },
     "execution_count": 145,
     "metadata": {},
     "output_type": "execute_result"
    }
   ],
   "source": [
    "(formula_w - formula_w.subs([u==1/u, r==-r])).simplify_rational()"
   ]
  },
  {
   "cell_type": "markdown",
   "metadata": {},
   "source": [
    "# Computations for the pullback of the symplectic 2-form $\\omega$\n",
    "\n",
    "Let $\\Psi$ be the map from the family of connections on the elliptic curve onto the family of connections on $\\mathbb{P}^1$.\n",
    "\n",
    "Over $C$ we use the basis $\\hat\\nabla_0, \\hat\\Theta_1, \\hat\\Theta_2$ which is equivariant with respect to the involution $\\tau$. Using this basis, any connection is defined by parameters $p,q,u,\\kappa_1,\\kappa_2$. On $\\mathbb{P}^1 we use the basis introduced by Loray-Saito. Thus, our map looks like:\n",
    "\n",
    "$$ \\Psi \\colon (p,q,u,\\kappa_1,\\kappa_2) \\longmapsto (u_1, u_2, c_1, c_2), $$\n",
    "\n",
    "where the transformation on the $c_i$\n",
    "\n",
    "$$ (1, \\kappa_1, \\kappa_2) \\longmapsto (1, c_1, c_2), $$\n",
    "\n",
    "is given by the \"base change matrix\" `BC = (1/2)*(Identity + CM)`, where `CM` is the action of $\\tau$ on the coefficients $c_i$."
   ]
  },
  {
   "cell_type": "code",
   "execution_count": 149,
   "metadata": {},
   "outputs": [],
   "source": [
    "# Reset the variables k1,k2 and c1,c2\n",
    "del k1, k2, c1, c2\n",
    "\n",
    "k1, k2 = var('k1 k2')\n",
    "dict_vars['k1'] = k1\n",
    "dict_vars['k2'] = k2"
   ]
  },
  {
   "cell_type": "markdown",
   "metadata": {},
   "source": [
    "## Set the variables $(c_1, c_2) = \\operatorname{BC}(\\kappa_1, \\kappa_2)$"
   ]
  },
  {
   "cell_type": "code",
   "execution_count": 152,
   "metadata": {},
   "outputs": [],
   "source": [
    "c1 = (BC*vector([1, k1, k2]))[1]\n",
    "c2 = (BC*vector([1, k1, k2]))[2]"
   ]
  },
  {
   "cell_type": "markdown",
   "metadata": {},
   "source": [
    "## Computations for $\\omega_C = \\Psi^*(dc_1\\wedge du_1 + dc_2\\wedge du_2)$\n",
    "\n",
    "We'll store all differentials as dictionaries. For example, `dc1` will be a dictionary with keys: 'dk1', 'dk2', 'du', 'dp'; in such a way that `dc1['dk1']` gives the `dk1` coefficient in the differential `dc1`."
   ]
  },
  {
   "cell_type": "code",
   "execution_count": 154,
   "metadata": {},
   "outputs": [],
   "source": [
    "# Differential of q\n",
    "dq = dP.subs(x==p)*q/(2*P.subs(x==p))  # ie P'(p)/2q * q^2/P(p)"
   ]
  },
  {
   "cell_type": "code",
   "execution_count": 155,
   "metadata": {},
   "outputs": [],
   "source": [
    "# Compute dc1\n",
    "variable = c1\n",
    "\n",
    "num = variable.numerator()\n",
    "den = variable.denominator()\n",
    "\n",
    "# Derivative with respect to p\n",
    "\n",
    "assert diff(diff(num, q), q) == 0\n",
    "assert diff(den, q) == 0\n",
    "\n",
    "# Split into q-part and q-free-part\n",
    "num0 = num.subs(q==0)\n",
    "num1 = diff(num, q)\n",
    "\n",
    "# Compute derivatives wrt p\n",
    "dnum_dp = diff(num0, p) + q*diff(num1, p) + dq*num1\n",
    "dden_dp = diff(den, p)\n",
    "dvar_dp = (dnum_dp*den - num*dden_dp)/den^2\n",
    "dvar_dp = dvar_dp.simplify_rational().factor()\n",
    "\n",
    "# Save differential as a dictionary\n",
    "dc1 = {}\n",
    "dc1['dk1'] = diff(variable, k1).simplify_rational().factor()\n",
    "dc1['dk2'] = diff(variable, k2)  # this one is zero\n",
    "dc1['du'] = diff(variable, u).simplify_rational().factor()\n",
    "dc1['dp'] = dvar_dp"
   ]
  },
  {
   "cell_type": "code",
   "execution_count": 156,
   "metadata": {},
   "outputs": [],
   "source": [
    "# Compute dc2\n",
    "variable = c2\n",
    "variable = simplify_qr(variable)  # get rid of higher powers of q\n",
    "\n",
    "num = variable.numerator()\n",
    "den = variable.denominator()\n",
    "\n",
    "# Derivative with respect to p\n",
    "\n",
    "assert diff(diff(num, q), q) == 0\n",
    "assert diff(den, q) == 0\n",
    "\n",
    "# Split into q-part and q-free-part\n",
    "num0 = num.subs(q==0)\n",
    "num1 = diff(num, q)\n",
    "\n",
    "# Compute derivatives wrt p\n",
    "dnum_dp = diff(num0, p) + q*diff(num1, p) + dq*num1\n",
    "dden_dp = diff(den, p)\n",
    "dvar_dp = (dnum_dp*den - num*dden_dp)/den^2\n",
    "dvar_dp = dvar_dp.simplify_rational().factor()\n",
    "\n",
    "# Save differential as a dictionary\n",
    "dc2 = {}\n",
    "dc2['dk1'] = diff(variable, k1).simplify_rational().factor()\n",
    "dc2['dk2'] = diff(variable, k2).simplify_rational().factor()\n",
    "dc2['du'] = diff(variable, u).simplify_rational().factor()\n",
    "dc2['dp'] = dvar_dp"
   ]
  },
  {
   "cell_type": "code",
   "execution_count": 159,
   "metadata": {},
   "outputs": [],
   "source": [
    "# Compute du1\n",
    "variable = u1.subs(Sols_u1u2)  # formula for u1 found above\n",
    "variable = simplify_qr(variable*r^2/r2)  # get rid of r in the denominator\n",
    "\n",
    "num = variable.numerator()\n",
    "den = variable.denominator()\n",
    "\n",
    "# Derivative with respect to p\n",
    "\n",
    "assert diff(diff(num, q), q) == 0\n",
    "assert diff(den, q) == 0\n",
    "\n",
    "# Split into q-part and q-free-part\n",
    "num0 = num.subs(q==0)\n",
    "num1 = diff(num, q)\n",
    "\n",
    "# Compute derivatives wrt p\n",
    "dnum_dp = diff(num0, p) + q*diff(num1, p) + dq*num1\n",
    "dden_dp = diff(den, p)\n",
    "dvar_dp = (dnum_dp*den - num*dden_dp)/den^2\n",
    "dvar_dp = dvar_dp.simplify_rational().factor()\n",
    "\n",
    "# Save differential as a dictionary\n",
    "du1 = {}\n",
    "du1['dk1'] = 0\n",
    "du1['dk2'] = 0\n",
    "du1['du'] = diff(variable, u).simplify_rational().factor()\n",
    "du1['dp'] = dvar_dp"
   ]
  },
  {
   "cell_type": "code",
   "execution_count": 160,
   "metadata": {},
   "outputs": [],
   "source": [
    "# Compute du2\n",
    "variable = u2.subs(Sols_u1u2)  # formula for u2 found above\n",
    "\n",
    "# Save differential as a dictionary\n",
    "du2 = {}\n",
    "du2['dk1'] = 0\n",
    "du2['dk2'] = 0\n",
    "du2['du'] = 0\n",
    "du2['dp'] = diff(variable, p).simplify_rational().factor()"
   ]
  },
  {
   "cell_type": "markdown",
   "metadata": {},
   "source": [
    "**Putting it all together**"
   ]
  },
  {
   "cell_type": "code",
   "execution_count": 162,
   "metadata": {},
   "outputs": [],
   "source": [
    "keys = ['dk1^du', 'dk1^dp', 'dk2^du', 'dk2^dp', 'dk1^dk2', 'du^dp']"
   ]
  },
  {
   "cell_type": "code",
   "execution_count": 163,
   "metadata": {},
   "outputs": [],
   "source": [
    "# Initiallize omega to zeros\n",
    "omega = {key: 0 for key in keys}\n",
    "\n",
    "# Coming from dc1^du1\n",
    "omega['dk1^du'] += dc1['dk1'] * du1['du']\n",
    "omega['dk1^dp'] += dc1['dk1'] * du1['dp']\n",
    "omega['dk2^du'] += dc1['dk2'] * du1['du']\n",
    "omega['dk2^dp'] += dc1['dk2'] * du1['dp']\n",
    "omega['du^dp']  += dc1['du'] * du1['dp']\n",
    "omega['du^dp']  += - dc1['dp'] * du1['du']\n",
    "\n",
    "# Coming from dc2^du2\n",
    "omega['dk1^dp'] += dc2['dk1'] * du2['dp']\n",
    "omega['dk2^dp'] += dc2['dk2'] * du2['dp']\n",
    "omega['du^dp']  += dc2['du'] * du2['dp']"
   ]
  },
  {
   "cell_type": "code",
   "execution_count": 164,
   "metadata": {},
   "outputs": [],
   "source": [
    "# Simplify the above terms:\n",
    "for key in keys:\n",
    "    try:\n",
    "        omega[key] = omega[key].simplify_rational()\n",
    "    except:\n",
    "        next\n",
    "    try:\n",
    "        omega[key] = omega[key].factor()\n",
    "    except:\n",
    "        next"
   ]
  },
  {
   "cell_type": "code",
   "execution_count": 167,
   "metadata": {},
   "outputs": [
    {
     "data": {
      "text/plain": [
       "0"
      ]
     },
     "execution_count": 167,
     "metadata": {},
     "output_type": "execute_result"
    }
   ],
   "source": [
    "omega['du^dp']"
   ]
  },
  {
   "cell_type": "code",
   "execution_count": 169,
   "metadata": {
    "scrolled": true
   },
   "outputs": [],
   "source": [
    "# Simplify more\n",
    "omega['dk1^dp'] = simplify_qr(omega['dk1^dp']*r^2/r2)\n",
    "omega['du^dp'] = simplify_qr(omega['du^dp'])"
   ]
  },
  {
   "cell_type": "code",
   "execution_count": 170,
   "metadata": {},
   "outputs": [
    {
     "name": "stdout",
     "output_type": "stream",
     "text": [
      "dk1^du term:\n",
      "-4*q*r*u/((L - p)*(p - t)*(u + 1)^2*(u - 1)^2)\n",
      "\n",
      "dk1^dp term:\n",
      "-1/2*(2*L^2*p^2*t^2*u^2 - 4*L*p^3*t^2*u^2 + 2*p^4*t^2*u^2 - p^3*q*r*u^2 - 2*L^2*p^2*t*u^2 + 4*L*p^3*t*u^2 - 2*p^4*t*u^2 + 2*L*p*q*r*t*u^2 - p^2*q*r*t*u^2 - 2*L^2*p*t^2*u^2 + 4*L*p^2*t^2*u^2 - 2*p^3*t^2*u^2 - 2*L^2*p^2*t^2 + 4*L*p^3*t^2 - 2*p^4*t^2 - L*p*q*r*u^2 + 2*p^2*q*r*u^2 + 2*L^2*p*t*u^2 - 4*L*p^2*t*u^2 + 2*p^3*t*u^2 - L*q*r*t*u^2 - p^3*q*r + 2*L^2*p^2*t - 4*L*p^3*t + 2*p^4*t + 2*L*p*q*r*t - p^2*q*r*t + 2*L^2*p*t^2 - 4*L*p^2*t^2 + 2*p^3*t^2 - L*p*q*r + 2*p^2*q*r - 2*L^2*p*t + 4*L*p^2*t - 2*p^3*t - L*q*r*t)/((L - p)^2*(p - t)^2*(p - 1)*p*(u + 1)*(u - 1))\n",
      "\n",
      "dk2^du term:\n",
      "0\n",
      "\n",
      "dk2^dp term:\n",
      "-(L - 1)*L/(L - p)^2\n",
      "\n",
      "dk1^dk2 term:\n",
      "0\n",
      "\n",
      "du^dp term:\n",
      "0\n",
      "\n"
     ]
    }
   ],
   "source": [
    "# Print omega term by term\n",
    "for key in keys:\n",
    "    print '{} term:'.format(key)\n",
    "    print(omega[key])\n",
    "    print ''"
   ]
  },
  {
   "cell_type": "markdown",
   "metadata": {},
   "source": [
    "Invariance checks:"
   ]
  },
  {
   "cell_type": "code",
   "execution_count": 171,
   "metadata": {},
   "outputs": [
    {
     "name": "stdout",
     "output_type": "stream",
     "text": [
      "0\n",
      "0\n",
      "0\n"
     ]
    }
   ],
   "source": [
    "print (omega['dk1^du'] - (-1)*omega['dk1^du'].subs(u==-u)).simplify_rational()\n",
    "print (omega['dk1^dp'] - omega['dk1^dp'].subs(u==-u)).simplify_rational()\n",
    "print (omega['dk2^dp'] - omega['dk2^dp'].subs(u==-u)).simplify_rational()"
   ]
  },
  {
   "cell_type": "code",
   "execution_count": 172,
   "metadata": {},
   "outputs": [
    {
     "name": "stdout",
     "output_type": "stream",
     "text": [
      "0\n",
      "0\n",
      "0\n"
     ]
    }
   ],
   "source": [
    "print (omega['dk1^du'] - (-1/u^2)*omega['dk1^du'].subs([q==-q, u==1/u])).simplify_rational()\n",
    "print (omega['dk1^dp'] - omega['dk1^dp'].subs([q==-q, u==1/u])).simplify_rational()\n",
    "print (omega['dk2^dp'] - omega['dk2^dp'].subs([q==-q, u==1/u])).simplify_rational()"
   ]
  },
  {
   "cell_type": "markdown",
   "metadata": {},
   "source": [
    "# Rewrite everything in terms of the variable $\\mu = qr(u^2 + 1)/(u^2 - 1)$\n",
    "\n",
    "The expression $\\mu$ above is the simplest function that is invariant under all transformations:\n",
    "\n",
    "* `[q == -q, u == 1/u]`, corresponding to permuting the labels of the points $(p,q)$ and $(p,-q)$ and applying $z \\mapsto 1/z$.\n",
    "\n",
    "* `[u == -u]`, corresponding to the involution $\\tau: z \\mapsto -z$.\n",
    "\n",
    "* `[r == -r, u == 1/u]`, corresponding to permuting the labels of the points $(t,r)$ and $(t,-r)$.\n",
    "\n",
    "**Strategy:** If we use this variable $\\mu$ we should be able to express everything in terms of $p$ and $\\mu$ only, thus avoiding the \"square roots\" $q$ and $r$.\n",
    "\n",
    "Note that we have the following identity: \n",
    "\n",
    "$$ d\\mu = \\frac{d\\mu}{u}du + \\mu \\frac{dq}{q}. $$\n",
    "\n",
    "Then, unwinding all the expressions we get:\n",
    "\n",
    "$$d\\mu = -\\frac{4qru}{(u^2-1)^2}du + \\mu \\frac{P'(p)}{2P(p)}dp. $$\n",
    "\n",
    "Reorganizing, we obtain:\n",
    "\n",
    "$$-\\frac{4qru}{(u^2-1)^2}du = d\\mu - \\mu f(p)dp, $$\n",
    "\n",
    "where $f(p) = \\frac{P'(p)}{2P(p)}$."
   ]
  },
  {
   "cell_type": "code",
   "execution_count": 173,
   "metadata": {},
   "outputs": [],
   "source": [
    "mu = var('mu')  # represents q*r*(u^2 + 1)/(u^2 -1)\n",
    "dict_vars['mu'] = mu"
   ]
  },
  {
   "cell_type": "code",
   "execution_count": 174,
   "metadata": {},
   "outputs": [
    {
     "data": {
      "text/plain": [
       "-4*q*r*u/((u + 1)^2*(u - 1)^2)"
      ]
     },
     "execution_count": 174,
     "metadata": {},
     "output_type": "execute_result"
    }
   ],
   "source": [
    "m = q*r*(u^2 + 1)/(u^2 -1)\n",
    "diff(m, u).simplify_rational().factor()  # Note this is almost identical to the first term of omega!"
   ]
  },
  {
   "cell_type": "code",
   "execution_count": 176,
   "metadata": {},
   "outputs": [],
   "source": [
    "f = (dP/2/P).subs(x==p).simplify_rational().factor()"
   ]
  },
  {
   "cell_type": "markdown",
   "metadata": {},
   "source": [
    "### $\\omega$ in $\\mu,p$ variables"
   ]
  },
  {
   "cell_type": "code",
   "execution_count": 177,
   "metadata": {},
   "outputs": [],
   "source": [
    "mu_keys = ['dk1^dmu', 'dk1^dp', 'dk2^dmu', 'dk2^dp', 'dk1^dk2', 'dmu^dp']\n",
    "omega_mu = {key: 0 for key in mu_keys}"
   ]
  },
  {
   "cell_type": "code",
   "execution_count": 178,
   "metadata": {},
   "outputs": [],
   "source": [
    "# Coming from the dk1^du term in omega\n",
    "\n",
    "coefficient = omega['dk1^du'] / (-4*q*r*u/(u^2-1)^2)\n",
    "coefficient = coefficient.simplify_rational().factor()\n",
    "assert diff(coefficient, u) == 0\n",
    "\n",
    "omega_mu['dk1^dmu'] += coefficient\n",
    "omega_mu['dk1^dp']  += (-mu * f) * coefficient"
   ]
  },
  {
   "cell_type": "code",
   "execution_count": 179,
   "metadata": {},
   "outputs": [],
   "source": [
    "# Coming from the dk1^dp term in omega\n",
    "\n",
    "mu_part = diff(omega['dk1^dp'], q)/r/(u^2+1)*(u^2-1)\n",
    "mu_part = mu_part.simplify_rational().factor()\n",
    "assert diff(mu_part, u) == 0\n",
    "\n",
    "constant_term = omega['dk1^dp'].subs(q==0).simplify_rational().factor()\n",
    "assert diff(constant_term, u) == 0\n",
    "\n",
    "omega_mu['dk1^dp'] += mu*mu_part + constant_term"
   ]
  },
  {
   "cell_type": "code",
   "execution_count": 180,
   "metadata": {},
   "outputs": [],
   "source": [
    "# Coming from the dk2^dp term in omega\n",
    "\n",
    "omega_mu['dk2^dp'] = omega['dk2^dp']"
   ]
  },
  {
   "cell_type": "code",
   "execution_count": 182,
   "metadata": {},
   "outputs": [
    {
     "name": "stdout",
     "output_type": "stream",
     "text": [
      "dk1^dmu term:\n"
     ]
    },
    {
     "data": {
      "text/latex": [
       "$$\\frac{1}{{\\left(L - p\\right)} {\\left(p - t\\right)}}$$"
      ],
      "text/plain": [
       "<IPython.core.display.Math object>"
      ]
     },
     "metadata": {},
     "output_type": "display_data"
    },
    {
     "name": "stdout",
     "output_type": "stream",
     "text": [
      "\n",
      "dk1^dp term:\n"
     ]
    },
    {
     "data": {
      "text/latex": [
       "$$-\\frac{L^{2} t^{2} - 2 \\, L p t^{2} + p^{2} t^{2} - L^{2} t + 2 \\, L p t - p^{2} t + L \\mu - 2 \\, \\mu p + \\mu t}{{\\left(L - p\\right)}^{2} {\\left(p - t\\right)}^{2}}$$"
      ],
      "text/plain": [
       "<IPython.core.display.Math object>"
      ]
     },
     "metadata": {},
     "output_type": "display_data"
    },
    {
     "name": "stdout",
     "output_type": "stream",
     "text": [
      "\n",
      "dk2^dmu term:\n"
     ]
    },
    {
     "data": {
      "text/latex": [
       "$$0$$"
      ],
      "text/plain": [
       "<IPython.core.display.Math object>"
      ]
     },
     "metadata": {},
     "output_type": "display_data"
    },
    {
     "name": "stdout",
     "output_type": "stream",
     "text": [
      "\n",
      "dk2^dp term:\n"
     ]
    },
    {
     "data": {
      "text/latex": [
       "$$-\\frac{{\\left(L - 1\\right)} L}{{\\left(L - p\\right)}^{2}}$$"
      ],
      "text/plain": [
       "<IPython.core.display.Math object>"
      ]
     },
     "metadata": {},
     "output_type": "display_data"
    },
    {
     "name": "stdout",
     "output_type": "stream",
     "text": [
      "\n",
      "dk1^dk2 term:\n"
     ]
    },
    {
     "data": {
      "text/latex": [
       "$$0$$"
      ],
      "text/plain": [
       "<IPython.core.display.Math object>"
      ]
     },
     "metadata": {},
     "output_type": "display_data"
    },
    {
     "name": "stdout",
     "output_type": "stream",
     "text": [
      "\n",
      "dmu^dp term:\n"
     ]
    },
    {
     "data": {
      "text/latex": [
       "$$0$$"
      ],
      "text/plain": [
       "<IPython.core.display.Math object>"
      ]
     },
     "metadata": {},
     "output_type": "display_data"
    },
    {
     "name": "stdout",
     "output_type": "stream",
     "text": [
      "\n"
     ]
    }
   ],
   "source": [
    "# Simplify the above terms:\n",
    "for key in mu_keys:\n",
    "    try:\n",
    "        omega_mu[key] = omega_mu[key].simplify_rational().factor()\n",
    "    except:\n",
    "        next\n",
    "\n",
    "# Print omega_mu term by term\n",
    "for key in mu_keys:\n",
    "    print '{} term:'.format(key)\n",
    "    DM(omega_mu[key])\n",
    "    print ''"
   ]
  }
 ],
 "metadata": {
  "kernelspec": {
   "display_name": "SageMath 8.7.beta3",
   "language": "",
   "name": "sagemath"
  },
  "language_info": {
   "codemirror_mode": {
    "name": "ipython",
    "version": 2
   },
   "file_extension": ".py",
   "mimetype": "text/x-python",
   "name": "python",
   "nbconvert_exporter": "python",
   "pygments_lexer": "ipython2",
   "version": "2.7.15"
  }
 },
 "nbformat": 4,
 "nbformat_minor": 2
}
