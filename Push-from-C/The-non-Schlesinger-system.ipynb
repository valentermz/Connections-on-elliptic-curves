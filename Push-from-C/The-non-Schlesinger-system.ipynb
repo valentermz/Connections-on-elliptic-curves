{
 "cells": [
  {
   "cell_type": "markdown",
   "metadata": {},
   "source": [
    "# Isomonodromy equations in the resonant case\n",
    "\n",
    "The pushed connection $\\pi_*\\nabla$ has a resonant singularity at infinity. Here we try to write down the isomonodromy equations."
   ]
  },
  {
   "cell_type": "code",
   "execution_count": 2,
   "metadata": {},
   "outputs": [
    {
     "data": {
      "text/html": [
       "<style>.container { width:85% !important; }</style>"
      ],
      "text/plain": [
       "<IPython.core.display.HTML object>"
      ]
     },
     "metadata": {},
     "output_type": "display_data"
    }
   ],
   "source": [
    "from IPython.core.display import display, HTML, Math\n",
    "# Define the width of the cells\n",
    "display(HTML(\"<style>.container { width:85% !important; }</style>\"))\n",
    "\n",
    "def DM(expression):\n",
    "    \"\"\"Short for DisplayMath: converts symbolic expression into latex and displays it nicely\"\"\"\n",
    "    return display(Math(latex(expression)))"
   ]
  },
  {
   "cell_type": "markdown",
   "metadata": {},
   "source": [
    "## Variables"
   ]
  },
  {
   "cell_type": "code",
   "execution_count": 3,
   "metadata": {},
   "outputs": [],
   "source": [
    "x, L, t, r, n1, n2, z1, z2, c1, c2 = var('x L t r n1 n2 z1 z2 c1 c2')  # original variables from Universal Family"
   ]
  },
  {
   "cell_type": "markdown",
   "metadata": {},
   "source": [
    "| Variable | Meaning |\n",
    "| :---: | --- |\n",
    "| `(x,y)` | Coordinates on $\\mathbb{C}^2$ |\n",
    "| `P` | The polynomial $x(x-1)(x-\\lambda)$ defining the curve $C$ |\n",
    "| `L` | The number $\\lambda$ defining the curve |\n",
    "| `(t,r)` | The coordinates of the point $t_1$ |\n",
    "| `n1, n2` | Stand for $\\eta_i$, the exponents of the singularities over $t_i$ |\n",
    "| `z1, z2` | Coordinates used in the Fasarella-Loray model |\n",
    "| `c1, c2` | Coordinates used in the Fasarella-Loray model |"
   ]
  },
  {
   "cell_type": "markdown",
   "metadata": {},
   "source": [
    "## Bolibruchs description of an isomonodromic deformation\n",
    "\n",
    "According to Bolibruch, a general deformation of a Fuchsian system with no singularity at infinity is described as follows: \n",
    "\n",
    "An isomonodromic deformation the system $\\frac{dY}{dz} = \\left(\\sum_{k=0}^n\\frac{A_k}{z-a_k}\\right)Y$ is determined by an integrable 1-form $\\omega$ defined over the extended space $\\mathbb{P}^1\\times\\mathbb{D}^*(a_0)\\times\\ldots\\times\\mathbb{D}^*(a_n)$.\n",
    "\n",
    "Let $\\Gamma$ be such that $\\Gamma^{-1}A_\\infty\\Gamma$ is diagonal and thus constant. Then, up to replacing $\\Gamma$ by $\\Gamma C$ with $C$ diagonal, the 1-form $\\omega$ can be written as follows:\n",
    "\n",
    "$\\omega = \\sum_{k=0}^n\\frac{A_k}{z-a_k}d(z-a_k) + d\\Gamma\\Gamma^{-1} + \\sum_{i=2}^3\\frac{\\gamma_i}{z+1}da_k$.\n",
    "\n",
    "The $\\gamma_k$ above are holomorphic, and only appear around $a=-1$ since it is the only singularity with a *resonant* residue.\n",
    "\n",
    "Moreover, if the monodromy is irreducible the above expression is unique modulo a scalar term $\\frac{df}{f}I$, with $f$ a holomorphic function on $a$.\n",
    "\n",
    "Let us expand the integrability condition $d\\omega = \\omega\\wedge\\omega$\n",
    "\n",
    "$ d\\omega = \\sum dA_k\\wedge\\frac{d(z-a_k)}{z-a_k} + d(d\\Gamma\\Gamma^{-1}) - \\sum\\frac{\\gamma_i}{(z+1)^2}dz\\wedge da_i + \\sum \\frac{d\\gamma_i}{z+1}\\wedge da_i $\n",
    "\n",
    "**Note:** It can be checked that in general $d\\Gamma\\Gamma^{-1}$ is an integrable form, ie $d(d\\Gamma\\Gamma^{-1}) = d\\Gamma\\Gamma^{-1}\\wedge d\\Gamma\\Gamma^{-1} $, thus these two terms appearing in $d\\omega$ and $\\omega\\wedge\\omega$ cancell each other out.\n",
    "\n",
    "### Taking residues at $a_k\\neq-1$:\n",
    "\n",
    "$\\operatorname{Res}_{a_k}d\\omega = dA_k$,\n",
    "\n",
    "$\\operatorname{Res}_{a_k}\\omega\\wedge\\omega = $\n",
    "\n",
    "$ - \\sum_{j\\neq k} \\frac{[A_k, A_j]}{a_k-a_j} d(a_k-a_j)$ \n",
    "\n",
    "$ - [A_k, d\\Gamma\\Gamma^{-1}]$\n",
    "\n",
    "$ -  \\sum_i \\frac{[A_k, \\gamma_i]}{a_k+1}da_i$\n",
    "\n",
    "**Note:** I don't need to look at $dA_{-1}$ since $A_{-1} = -\\sum A_k$\n",
    "\n",
    "### Comparing the terms of order -2 around $z=-1$\n",
    "\n",
    "$- \\sum_j\\gamma_j\\frac{dz\\wedge da_j}{(z+1)^2} = \\sum_j [A_{-1}, \\gamma_j]\\frac{dz\\wedge da_j}{(z+1)^2} + \\frac{[\\gamma_2,\\gamma_3]}{(z+1)^2}da_2\\wedge da_3$\n",
    "\n",
    "Splitting terms that have or don't have $dz$ we get:\n",
    "\n",
    "* $\\gamma_i + [A_{-1}, \\gamma_i] = 0$,\n",
    "\n",
    "* $[\\gamma_2, \\gamma_3] = 0$"
   ]
  },
  {
   "cell_type": "markdown",
   "metadata": {},
   "source": [
    "## Applying the above theory to the Universal Family\n",
    "\n",
    "In order to derive isomonodromy equations we want to have all the singularities in a single affine chart. The change of coordinates $x \\mapsto z = \\frac{x}{2-x}$ fixes 0 and 1 while mappint $\\infty$ to -1.\n",
    "\n",
    "Thus, we introduce new variables $a_i$ in such a way that the singularities are now at the points $\\{0, 1, a_1, a_2, a_3\\}$, with $a_1 = -1$."
   ]
  },
  {
   "cell_type": "code",
   "execution_count": 4,
   "metadata": {},
   "outputs": [],
   "source": [
    "a2 = L/(2-L)\n",
    "a3 = t/(2-t)"
   ]
  },
  {
   "cell_type": "code",
   "execution_count": 7,
   "metadata": {},
   "outputs": [],
   "source": [
    "# The real value of r, a2, a3\n",
    "sing = [0, 1, a2, a3, -1]\n",
    "f = x*(x-1)*(x-L)\n",
    "df = diff(f, x)\n",
    "\n",
    "rval  = [r==sqrt(f.subs(x==t))]\n",
    "a2val = [a2==L/(2-L)]\n",
    "a3val = [a3==t/(2-t)]"
   ]
  },
  {
   "cell_type": "markdown",
   "metadata": {},
   "source": [
    "### Test example"
   ]
  },
  {
   "cell_type": "code",
   "execution_count": 9,
   "metadata": {},
   "outputs": [
    {
     "name": "stdout",
     "output_type": "stream",
     "text": [
      "[L == (1219/84), t == (3/7), n1 == (11/17), n2 == (-13/53), z1 == (-31/24), z2 == (1/71), c1 == (-37/11), c2 == (17/31), r == (13/7), -L/(L - 2) == (-1219/1051), -t/(t - 2) == (3/11)]\n"
     ]
    }
   ],
   "source": [
    "test_vals = [L == 1219/84, t == 3/7, n1 == 11/17, n2 == -13/53, z1 == -31/24, z2 == 1/71, c1 == -37/11, c2 == 17/31]\n",
    "test_vals.append(r == r.subs(rval).subs(test_vals))\n",
    "test_vals.append(a2 == a2.subs(a2val).subs(test_vals))\n",
    "test_vals.append(a3 == a3.subs(a3val).subs(test_vals))\n",
    "print test_vals"
   ]
  },
  {
   "cell_type": "markdown",
   "metadata": {},
   "source": [
    "## Import the Fuchsian system\n",
    "\n",
    "In $z(x) = \\frac{x}{2-x}$ coordinates we have:\n",
    "\n",
    "$\\frac{dY}{dz} = \\left(\\sum_{k=0}^4\\frac{A_k}{z-a_k}\\right)Y, \\;$ where $\\; a_k = 0, 1, z(\\lambda), z(t), -1$."
   ]
  },
  {
   "cell_type": "code",
   "execution_count": 10,
   "metadata": {},
   "outputs": [],
   "source": [
    "A = ['']*5\n",
    "\n",
    "A[0] = [(1/4*(4*c1*t*z1 - 4*c1*z1^2 + 4*c2*t*z2 - 4*c2*z2^2 - n1*t - n2*t + 2*n1*z1 + 2*n2*z2)/t, -1/4*(2*L*c1*z1^2 - 2*c1*t*z1^2 - 2*L*c2*z2^2 + 2*c2*t*z2^2 + 2*L*c1*t - 2*L*c2*t - 4*L*c1*z1 - L*n1*z1 + n1*t*z1 + 2*c1*z1^2 + 4*L*c2*z2 + L*n2*z2 - n2*t*z2 - 2*c2*z2^2 + L*n1 - L*n2 - n1*z1 + n2*z2)/(L*r), 0, 1/4*(4*c1*t*z1 - 4*c1*z1^2 + 4*c2*t*z2 - 4*c2*z2^2 - n1*t - n2*t + 2*n1*z1 + 2*n2*z2 - t)/(L*t)), (0, -1/4, 0, 0), (-1/4*(2*L*c1*z1^2 - 2*c1*t*z1^2 - 2*L*c2*z2^2 + 2*c2*t*z2^2 + 2*L*c1*t - 2*L*c2*t - 4*L*c1*z1 - L*n1*z1 + n1*t*z1 + 2*c1*z1^2 + 4*L*c2*z2 + L*n2*z2 - n2*t*z2 - 2*c2*z2^2 + L*n1 - L*n2 - n1*z1 + n2*z2)/r, 1/4*(4*L*c1*z1 - 4*c1*z1^2 + 4*L*c2*z2 - 4*c2*z2^2 - 4*L*c1 - 4*L*c2 - L*n1 - L*n2 + 4*c1*z1 + 2*n1*z1 + 4*c2*z2 + 2*n2*z2 - L - n1 - n2 - 1)/L, 1/4, -1/4*(2*L*c1*z1^2 - 2*c1*t*z1^2 - 2*L*c2*z2^2 + 2*c2*t*z2^2 + 2*L*c1*t - 2*L*c2*t - 4*L*c1*z1 - L*n1*z1 + n1*t*z1 + 2*c1*z1^2 + 4*L*c2*z2 + L*n2*z2 - n2*t*z2 - 2*c2*z2^2 + L*n1 - L*n2 - n1*z1 + n2*z2)/(L*r)), (-1/4*(4*c1*t*z1 - 4*c1*z1^2 + 4*c2*t*z2 - 4*c2*z2^2 - n1*t - n2*t + 2*n1*z1 + 2*n2*z2 + t)*L/t, 1/4*(2*L*c1*z1^2 - 2*c1*t*z1^2 - 2*L*c2*z2^2 + 2*c2*t*z2^2 + 2*L*c1*t - 2*L*c2*t - 4*L*c1*z1 - L*n1*z1 + n1*t*z1 + 2*c1*z1^2 + 4*L*c2*z2 + L*n2*z2 - n2*t*z2 - 2*c2*z2^2 + L*n1 - L*n2 - n1*z1 + n2*z2)/r, 0, -1/4*(4*c1*t*z1 - 4*c1*z1^2 + 4*c2*t*z2 - 4*c2*z2^2 - n1*t - n2*t + 2*n1*z1 + 2*n2*z2)/t)] \n",
    "A[1] = [(1/4, 1/4*(2*L*c1*z1^2 - 2*c1*t*z1^2 - 2*L*c2*z2^2 + 2*c2*t*z2^2 - 2*L*c1*t + 2*L*c2*t - L*n1*z1 + 4*c1*t*z1 + n1*t*z1 - 2*c1*z1^2 + L*n2*z2 - 4*c2*t*z2 - n2*t*z2 + 2*c2*z2^2 - n1*t + n2*t + n1*z1 - n2*z2)/((L - 1)*r), 1/4*(2*L*c1*t^2*z1^2 - 2*c1*t^3*z1^2 - 2*L*c2*t^2*z2^2 + 2*c2*t^3*z2^2 + 2*L*c1*t^3 - 2*L*c2*t^3 - L*n1*t^2*z1 - 4*c1*t^3*z1 + n1*t^3*z1 + 4*c1*r^2*z1^2 - 2*L*c1*t*z1^2 + 4*c1*t^2*z1^2 + L*n2*t^2*z2 + 4*c2*t^3*z2 - n2*t^3*z2 - 4*c2*r^2*z2^2 + 2*L*c2*t*z2^2 - 4*c2*t^2*z2^2 - 2*L*c1*t^2 + 2*L*c2*t^2 + n1*t^3 - n2*t^3 - 2*n1*r^2*z1 + L*n1*t*z1 + 4*c1*t^2*z1 - 2*n1*t^2*z1 - 2*c1*t*z1^2 + 2*n2*r^2*z2 - L*n2*t*z2 - 4*c2*t^2*z2 + 2*n2*t^2*z2 + 2*c2*t*z2^2 - n1*t^2 + n2*t^2 + n1*t*z1 - n2*t*z2)/((L - 1)*r*(t - 1)*t), -1/4*(4*c1*t*z1 - 4*c1*z1^2 + 4*c2*t*z2 - 4*c2*z2^2 - 4*c1*t - 4*c2*t - n1*t - n2*t + 4*c1*z1 + 2*n1*z1 + 4*c2*z2 + 2*n2*z2 - n1 - n2 - t + 1)/((L - 1)*(t - 1))), (0, -1/4*(4*L*c1*z1 - 4*c1*z1^2 + 4*L*c2*z2 - 4*c2*z2^2 - L*n1 - L*n2 + 2*n1*z1 + 2*n2*z2 + 1)/(L - 1), 1/4*(4*L*c1*z1 - 4*c1*z1^2 + 4*L*c2*z2 - 4*c2*z2^2 - L*n1 - L*n2 + 2*n1*z1 + 2*n2*z2 + L)/(L - 1), -1/4*(2*L*c1*t^2*z1^2 - 2*c1*t^3*z1^2 - 2*L*c2*t^2*z2^2 + 2*c2*t^3*z2^2 + 2*L*c1*t^3 - 2*L*c2*t^3 - L*n1*t^2*z1 - 4*c1*t^3*z1 + n1*t^3*z1 + 4*c1*r^2*z1^2 - 2*L*c1*t*z1^2 + 4*c1*t^2*z1^2 + L*n2*t^2*z2 + 4*c2*t^3*z2 - n2*t^3*z2 - 4*c2*r^2*z2^2 + 2*L*c2*t*z2^2 - 4*c2*t^2*z2^2 - 2*L*c1*t^2 + 2*L*c2*t^2 + n1*t^3 - n2*t^3 - 2*n1*r^2*z1 + L*n1*t*z1 + 4*c1*t^2*z1 - 2*n1*t^2*z1 - 2*c1*t*z1^2 + 2*n2*r^2*z2 - L*n2*t*z2 - 4*c2*t^2*z2 + 2*n2*t^2*z2 + 2*c2*t*z2^2 - n1*t^2 + n2*t^2 + n1*t*z1 - n2*t*z2)/((L - 1)*r*(t - 1)*t)), (0, -1/4*(4*L*c1*z1 - 4*c1*z1^2 + 4*L*c2*z2 - 4*c2*z2^2 - L*n1 - L*n2 + 2*n1*z1 + 2*n2*z2 - L + 2)/(L - 1), 1/4*(4*L*c1*z1 - 4*c1*z1^2 + 4*L*c2*z2 - 4*c2*z2^2 - L*n1 - L*n2 + 2*n1*z1 + 2*n2*z2 + 1)/(L - 1), 1/4*(2*L*c1*z1^2 - 2*c1*t*z1^2 - 2*L*c2*z2^2 + 2*c2*t*z2^2 - 2*L*c1*t + 2*L*c2*t - L*n1*z1 + 4*c1*t*z1 + n1*t*z1 - 2*c1*z1^2 + L*n2*z2 - 4*c2*t*z2 - n2*t*z2 + 2*c2*z2^2 - n1*t + n2*t + n1*z1 - n2*z2)/((L - 1)*r)), (0, 0, 0, -1/4)] \n",
    "A[2] = [(1/4, -1/4*(4*L*c1*t*z1 - 2*L*c1*z1^2 - 2*c1*t*z1^2 - 4*L*c2*t*z2 + 2*L*c2*z2^2 + 2*c2*t*z2^2 - 2*L*c1*t + 2*L*c2*t - L*n1*t + L*n2*t + L*n1*z1 + n1*t*z1 + 2*c1*z1^2 - L*n2*z2 - n2*t*z2 - 2*c2*z2^2 - n1*z1 + n2*z2)/((L - 1)*L*r), 1/4*(4*L^2*c1*t^2*z1 - 4*L*c1*t^3*z1 - 2*L^2*c1*t*z1^2 + 4*L*c1*t^2*z1^2 - 2*c1*t^3*z1^2 - 4*L^2*c2*t^2*z2 + 4*L*c2*t^3*z2 + 2*L^2*c2*t*z2^2 - 4*L*c2*t^2*z2^2 + 2*c2*t^3*z2^2 - 2*L^2*c1*t^2 + 2*L^2*c2*t^2 - L^2*n1*t^2 + L^2*n2*t^2 + 2*L*c1*t^3 - 2*L*c2*t^3 + L*n1*t^3 - L*n2*t^3 + L^2*n1*t*z1 - 2*L*n1*t^2*z1 + n1*t^3*z1 + 4*c1*r^2*z1^2 - 2*L*c1*t*z1^2 + 2*c1*t^2*z1^2 - L^2*n2*t*z2 + 2*L*n2*t^2*z2 - n2*t^3*z2 - 4*c2*r^2*z2^2 + 2*L*c2*t*z2^2 - 2*c2*t^2*z2^2 - 2*n1*r^2*z1 + L*n1*t*z1 - n1*t^2*z1 + 2*n2*r^2*z2 - L*n2*t*z2 + n2*t^2*z2)/((L - t)*(L - 1)*r*t), 1/4*(4*L*c1*t + 4*L*c2*t - 4*L*c1*z1 - 4*c1*t*z1 + 4*c1*z1^2 - 4*L*c2*z2 - 4*c2*t*z2 + 4*c2*z2^2 + L*n1 + L*n2 + n1*t + n2*t - 2*n1*z1 - 2*n2*z2 - L + t)/((L - t)*(L - 1)*L)), (0, -1/4*(4*c1*z1^2 + 4*c2*z2^2 - 4*c1*z1 - 2*n1*z1 - 4*c2*z2 - 2*n2*z2 - L + n1 + n2)/(L - 1), 1/4*(4*c1*z1^2 + 4*c2*z2^2 - 4*c1*z1 - 2*n1*z1 - 4*c2*z2 - 2*n2*z2 + n1 + n2 - 1)*L/(L - 1), -1/4*(4*L^2*c1*t^2*z1 - 4*L*c1*t^3*z1 - 2*L^2*c1*t*z1^2 + 4*L*c1*t^2*z1^2 - 2*c1*t^3*z1^2 - 4*L^2*c2*t^2*z2 + 4*L*c2*t^3*z2 + 2*L^2*c2*t*z2^2 - 4*L*c2*t^2*z2^2 + 2*c2*t^3*z2^2 - 2*L^2*c1*t^2 + 2*L^2*c2*t^2 - L^2*n1*t^2 + L^2*n2*t^2 + 2*L*c1*t^3 - 2*L*c2*t^3 + L*n1*t^3 - L*n2*t^3 + L^2*n1*t*z1 - 2*L*n1*t^2*z1 + n1*t^3*z1 + 4*c1*r^2*z1^2 - 2*L*c1*t*z1^2 + 2*c1*t^2*z1^2 - L^2*n2*t*z2 + 2*L*n2*t^2*z2 - n2*t^3*z2 - 4*c2*r^2*z2^2 + 2*L*c2*t*z2^2 - 2*c2*t^2*z2^2 - 2*n1*r^2*z1 + L*n1*t*z1 - n1*t^2*z1 + 2*n2*r^2*z2 - L*n2*t*z2 + n2*t^2*z2)/((L - t)*(L - 1)*r*t)), (0, -1/4*(4*c1*z1^2 + 4*c2*z2^2 - 4*c1*z1 - 2*n1*z1 - 4*c2*z2 - 2*n2*z2 - 2*L + n1 + n2 + 1)/((L - 1)*L), 1/4*(4*c1*z1^2 + 4*c2*z2^2 - 4*c1*z1 - 2*n1*z1 - 4*c2*z2 - 2*n2*z2 - L + n1 + n2)/(L - 1), -1/4*(4*L*c1*t*z1 - 2*L*c1*z1^2 - 2*c1*t*z1^2 - 4*L*c2*t*z2 + 2*L*c2*z2^2 + 2*c2*t*z2^2 - 2*L*c1*t + 2*L*c2*t - L*n1*t + L*n2*t + L*n1*z1 + n1*t*z1 + 2*c1*z1^2 - L*n2*z2 - n2*t*z2 - 2*c2*z2^2 - n1*z1 + n2*z2)/((L - 1)*L*r)), (0, 0, 0, -1/4)] \n",
    "A[3] = [(-1/4*(4*c1*t*z1 - 4*c1*z1^2 + 4*c2*t*z2 - 4*c2*z2^2 - n1*t - n2*t + 2*n1*z1 + 2*n2*z2)/t, 1/4*(4*c1*t - 4*c2*t - 4*c1*z1 + 4*c2*z2 + n1 - n2)/r, -1/4*(4*L*c1*t^3*z1 - 4*c1*t^4*z1 - 4*L*c2*t^3*z2 + 4*c2*t^4*z2 - L*n1*t^3 + L*n2*t^3 + n1*t^4 - n2*t^4 - 4*L*c1*t^2*z1 + 4*c1*t^3*z1 + 4*c1*r^2*z1^2 + 4*L*c2*t^2*z2 - 4*c2*t^3*z2 - 4*c2*r^2*z2^2 + L*n1*t^2 - L*n2*t^2 - n1*t^3 + n2*t^3 - 2*n1*r^2*z1 + 2*n2*r^2*z2)/((L - t)*r*(t - 1)*t), -1/2*(2*c1*t^2 + 2*c2*t^2 - 4*c1*t*z1 + 2*c1*z1^2 - 4*c2*t*z2 + 2*c2*z2^2 + n1*t + n2*t - n1*z1 - n2*z2)/((L - t)*(t - 1)*t)), (-1/2*(2*c1*z1^2 - 2*c2*z2^2 - n1*z1 + n2*z2)*r/t, c1*z1 + c2*z2 - 1/4*n1 - 1/4*n2, -c1*z1^2 - c2*z2^2 + 1/2*n1*z1 + 1/2*n2*z2, 1/4*(4*L*c1*t^3*z1 - 4*c1*t^4*z1 - 4*L*c2*t^3*z2 + 4*c2*t^4*z2 - L*n1*t^3 + L*n2*t^3 + n1*t^4 - n2*t^4 - 4*L*c1*t^2*z1 + 4*c1*t^3*z1 + 4*c1*r^2*z1^2 + 4*L*c2*t^2*z2 - 4*c2*t^3*z2 - 4*c2*r^2*z2^2 + L*n1*t^2 - L*n2*t^2 - n1*t^3 + n2*t^3 - 2*n1*r^2*z1 + 2*n2*r^2*z2)/((L - t)*r*(t - 1)*t)), (1/4*(4*c1*z1 - 4*c2*z2 - n1 + n2)*(L - t)*(t - 1)/r, c1 + c2, -c1*z1 - c2*z2 + 1/4*n1 + 1/4*n2, 1/4*(4*c1*t - 4*c2*t - 4*c1*z1 + 4*c2*z2 + n1 - n2)/r), (1/2*(2*c1*z1^2 + 2*c2*z2^2 - n1*z1 - n2*z2)*(L - t)*(t - 1)/t, -1/4*(4*c1*z1 - 4*c2*z2 - n1 + n2)*(L - t)*(t - 1)/r, -1/2*(2*c1*z1^2 - 2*c2*z2^2 - n1*z1 + n2*z2)*r/t, 1/4*(4*c1*t*z1 - 4*c1*z1^2 + 4*c2*t*z2 - 4*c2*z2^2 - n1*t - n2*t + 2*n1*z1 + 2*n2*z2)/t)] \n",
    "A[4] = [(-1/2, 0, 0, 0), (1/2*(2*c1*z1^2 - 2*c2*z2^2 - n1*z1 + n2*z2)*r/t, 0, 0, 0), (-1/4*(4*L*c1*t*z1 - 4*c1*t^2*z1 - 2*L*c1*z1^2 + 2*c1*t*z1^2 - 4*L*c2*t*z2 + 4*c2*t^2*z2 + 2*L*c2*z2^2 - 2*c2*t*z2^2 - 2*L*c1*t + 2*L*c2*t - L*n1*t + L*n2*t + n1*t^2 - n2*t^2 + L*n1*z1 + 4*c1*t*z1 - n1*t*z1 - 2*c1*z1^2 - L*n2*z2 - 4*c2*t*z2 + n2*t*z2 + 2*c2*z2^2 - n1*t + n2*t + n1*z1 - n2*z2)/r, 0, 0, 0), (-L*c1*z1^2 + c1*t*z1^2 - L*c2*z2^2 + c2*t*z2^2 + L*c1*z1 + 1/2*L*n1*z1 - 1/2*n1*t*z1 - c1*z1^2 + L*c2*z2 + 1/2*L*n2*z2 - 1/2*n2*t*z2 - c2*z2^2 - 1/4*L*n1 - 1/4*L*n2 + 1/2*n1*z1 + 1/2*n2*z2 + 1/4*L, 1/4*(4*L*c1*t*z1 - 4*c1*t^2*z1 - 2*L*c1*z1^2 + 2*c1*t*z1^2 - 4*L*c2*t*z2 + 4*c2*t^2*z2 + 2*L*c2*z2^2 - 2*c2*t*z2^2 - 2*L*c1*t + 2*L*c2*t - L*n1*t + L*n2*t + n1*t^2 - n2*t^2 + L*n1*z1 + 4*c1*t*z1 - n1*t*z1 - 2*c1*z1^2 - L*n2*z2 - 4*c2*t*z2 + n2*t*z2 + 2*c2*z2^2 - n1*t + n2*t + n1*z1 - n2*z2)/r, 1/2*(2*c1*z1^2 - 2*c2*z2^2 - n1*z1 + n2*z2)*r/t, 1/2)] \n",
    "\n",
    "for k in range(5):\n",
    "    A[k] = matrix(A[k])"
   ]
  },
  {
   "cell_type": "markdown",
   "metadata": {},
   "source": [
    "## The matrix $d\\Gamma\\Gamma^{-1}$\n",
    "\n",
    "Let us introduce variables $f_1,f_2,f_3$ appearing in the first column of $A_\\infty$"
   ]
  },
  {
   "cell_type": "code",
   "execution_count": 11,
   "metadata": {},
   "outputs": [
    {
     "name": "stdout",
     "output_type": "stream",
     "text": [
      "True\n"
     ]
    }
   ],
   "source": [
    "f1, f2, f3 = var('f1 f2 f3')\n",
    "\n",
    "# values of the auxiliary variables\n",
    "dictGamma = {\n",
    "    f1:1/2*(2*c1*z1^2 - 2*c2*z2^2 - n1*z1 + n2*z2)*r/t,\n",
    "    f2:-1/4*(4*L*c1*t*z1 - 4*c1*t^2*z1 - 2*L*c1*z1^2 + 2*c1*t*z1^2 - 4*L*c2*t*z2 + 4*c2*t^2*z2 + 2*L*c2*z2^2 - 2*c2*t*z2^2 - 2*L*c1*t + 2*L*c2*t - L*n1*t + L*n2*t + n1*t^2 - n2*t^2 + L*n1*z1 + 4*c1*t*z1 - n1*t*z1 - 2*c1*z1^2 - L*n2*z2 - 4*c2*t*z2 + n2*t*z2 + 2*c2*z2^2 - n1*t + n2*t + n1*z1 - n2*z2)/r,\n",
    "    f3:-(L*c1*z1^2 - c1*t*z1^2 + L*c2*z2^2 - c2*t*z2^2 - L*c1*z1 - 1/2*L*n1*z1 + 1/2*n1*t*z1 + c1*z1^2 - L*c2*z2 - 1/2*L*n2*z2 + 1/2*n2*t*z2 + c2*z2^2 + 1/4*L*n1 + 1/4*L*n2 - 1/2*n1*z1 - 1/2*n2*z2 - 1/4*L)\n",
    "}\n",
    "\n",
    "# A[-1] is given as follows\n",
    "Af = matrix([\n",
    "    (-1/2, 0,  0,  0),\n",
    "    (f1,   0,  0,  0),\n",
    "    (f2,   0,  0,  0),\n",
    "    (f3, -f2, f1, 1/2)\n",
    "]).subs(dictGamma) \n",
    "\n",
    "print Af == A[-1]"
   ]
  },
  {
   "cell_type": "code",
   "execution_count": 12,
   "metadata": {},
   "outputs": [
    {
     "data": {
      "text/plain": [
       "[                        0                         0                         0                         0]\n",
       "[                   -2*df1                         0                         0                         0]\n",
       "[                   -2*df2                         0                         0                         0]\n",
       "[4*df2*f1 - 4*df1*f2 - df3                     2*df2                    -2*df1                         0]"
      ]
     },
     "execution_count": 12,
     "metadata": {},
     "output_type": "execute_result"
    }
   ],
   "source": [
    "# Define Gamma and dGamma in terms of f1,f2,f3\n",
    "Gamma = matrix([\n",
    "        (1,     0,     0,   0),\n",
    "        (-2*f1, 1,     0,   0),\n",
    "        (-2*f2, 0,     1,   0),\n",
    "        (-f3,  2*f2, -2*f1, 1)\n",
    "    ])\n",
    "\n",
    "df1, df2, df3 = var('df1 df2 df3')  # auxiliary variables\n",
    "dGamma = matrix([\n",
    "        (0,      0,      0,    0),\n",
    "        (-2*df1, 0,      0,    0),\n",
    "        (-2*df2, 0,      0,    0),\n",
    "        (-df3,  2*df2, -2*df1, 0)\n",
    "    ])\n",
    "\n",
    "dGGi = dGamma*~Gamma; dGGi"
   ]
  },
  {
   "cell_type": "markdown",
   "metadata": {},
   "source": [
    "## Import the matrices $\\gamma_i$\n",
    "\n",
    "We introduce scalars $w_2,w_3$ such that $\\gamma_i = w_i\\gamma$, for a fixed $\\gamma$."
   ]
  },
  {
   "cell_type": "code",
   "execution_count": 13,
   "metadata": {},
   "outputs": [],
   "source": [
    "w2 = -1/16*(4*c1*z1^2 + 4*c2*z2^2 - 4*c1*z1 - 2*n1*z1 - 4*c2*z2 - 2*n2*z2 + n1 + n2 - 1)*(L - 2)*t/((2*c1*z1^2 - 2*c2*z2^2 - n1*z1 + n2*z2)^2*(L - t)*(L - 1)*(t - 1))\n",
    "\n",
    "w3 = 1/8*(2*c1*z1^2 + 2*c2*z2^2 - n1*z1 - n2*z2)*(t - 2)/((2*c1*z1^2 - 2*c2*z2^2 - n1*z1 + n2*z2)^2*(L - t)*(t - 1))\n",
    "\n",
    "gamma = matrix([(4*L*c1*z1^2 - 4*c1*t*z1^2 + 4*L*c2*z2^2 - 4*c2*t*z2^2 - 4*L*c1*z1 - 2*L*n1*z1 + 2*n1*t*z1 + 4*c1*z1^2 - 4*L*c2*z2 - 2*L*n2*z2 + 2*n2*t*z2 + 4*c2*z2^2 + L*n1 + L*n2 - 2*n1*z1 - 2*n2*z2 - L, -2*(4*L*c1*t*z1 - 4*c1*t^2*z1 - 2*L*c1*z1^2 + 2*c1*t*z1^2 - 4*L*c2*t*z2 + 4*c2*t^2*z2 + 2*L*c2*z2^2 - 2*c2*t*z2^2 - 2*L*c1*t + 2*L*c2*t - L*n1*t + L*n2*t + n1*t^2 - n2*t^2 + L*n1*z1 + 4*c1*t*z1 - n1*t*z1 - 2*c1*z1^2 - L*n2*z2 - 4*c2*t*z2 + n2*t*z2 + 2*c2*z2^2 - n1*t + n2*t + n1*z1 - n2*z2)/r, -4*(2*c1*z1^2 - 2*c2*z2^2 - n1*z1 + n2*z2)*r/t, -4), (-(4*L*c1*z1^2 - 4*c1*t*z1^2 + 4*L*c2*z2^2 - 4*c2*t*z2^2 - 4*L*c1*z1 - 2*L*n1*z1 + 2*n1*t*z1 + 4*c1*z1^2 - 4*L*c2*z2 - 2*L*n2*z2 + 2*n2*t*z2 + 4*c2*z2^2 + L*n1 + L*n2 - 2*n1*z1 - 2*n2*z2 - L)*(2*c1*z1^2 - 2*c2*z2^2 - n1*z1 + n2*z2)*r/t, 2*(4*L*c1*t*z1 - 4*c1*t^2*z1 - 2*L*c1*z1^2 + 2*c1*t*z1^2 - 4*L*c2*t*z2 + 4*c2*t^2*z2 + 2*L*c2*z2^2 - 2*c2*t*z2^2 - 2*L*c1*t + 2*L*c2*t - L*n1*t + L*n2*t + n1*t^2 - n2*t^2 + L*n1*z1 + 4*c1*t*z1 - n1*t*z1 - 2*c1*z1^2 - L*n2*z2 - 4*c2*t*z2 + n2*t*z2 + 2*c2*z2^2 - n1*t + n2*t + n1*z1 - n2*z2)*(2*c1*z1^2 - 2*c2*z2^2 - n1*z1 + n2*z2)/t, 4*(2*c1*z1^2 - 2*c2*z2^2 - n1*z1 + n2*z2)^2*r^2/t^2, 4*(2*c1*z1^2 - 2*c2*z2^2 - n1*z1 + n2*z2)*r/t), (1/2*(4*L*c1*t*z1 - 4*c1*t^2*z1 - 2*L*c1*z1^2 + 2*c1*t*z1^2 - 4*L*c2*t*z2 + 4*c2*t^2*z2 + 2*L*c2*z2^2 - 2*c2*t*z2^2 - 2*L*c1*t + 2*L*c2*t - L*n1*t + L*n2*t + n1*t^2 - n2*t^2 + L*n1*z1 + 4*c1*t*z1 - n1*t*z1 - 2*c1*z1^2 - L*n2*z2 - 4*c2*t*z2 + n2*t*z2 + 2*c2*z2^2 - n1*t + n2*t + n1*z1 - n2*z2)*(4*L*c1*z1^2 - 4*c1*t*z1^2 + 4*L*c2*z2^2 - 4*c2*t*z2^2 - 4*L*c1*z1 - 2*L*n1*z1 + 2*n1*t*z1 + 4*c1*z1^2 - 4*L*c2*z2 - 2*L*n2*z2 + 2*n2*t*z2 + 4*c2*z2^2 + L*n1 + L*n2 - 2*n1*z1 - 2*n2*z2 - L)/r, -(4*L*c1*t*z1 - 4*c1*t^2*z1 - 2*L*c1*z1^2 + 2*c1*t*z1^2 - 4*L*c2*t*z2 + 4*c2*t^2*z2 + 2*L*c2*z2^2 - 2*c2*t*z2^2 - 2*L*c1*t + 2*L*c2*t - L*n1*t + L*n2*t + n1*t^2 - n2*t^2 + L*n1*z1 + 4*c1*t*z1 - n1*t*z1 - 2*c1*z1^2 - L*n2*z2 - 4*c2*t*z2 + n2*t*z2 + 2*c2*z2^2 - n1*t + n2*t + n1*z1 - n2*z2)^2/r^2, -2*(4*L*c1*t*z1 - 4*c1*t^2*z1 - 2*L*c1*z1^2 + 2*c1*t*z1^2 - 4*L*c2*t*z2 + 4*c2*t^2*z2 + 2*L*c2*z2^2 - 2*c2*t*z2^2 - 2*L*c1*t + 2*L*c2*t - L*n1*t + L*n2*t + n1*t^2 - n2*t^2 + L*n1*z1 + 4*c1*t*z1 - n1*t*z1 - 2*c1*z1^2 - L*n2*z2 - 4*c2*t*z2 + n2*t*z2 + 2*c2*z2^2 - n1*t + n2*t + n1*z1 - n2*z2)*(2*c1*z1^2 - 2*c2*z2^2 - n1*z1 + n2*z2)/t, -2*(4*L*c1*t*z1 - 4*c1*t^2*z1 - 2*L*c1*z1^2 + 2*c1*t*z1^2 - 4*L*c2*t*z2 + 4*c2*t^2*z2 + 2*L*c2*z2^2 - 2*c2*t*z2^2 - 2*L*c1*t + 2*L*c2*t - L*n1*t + L*n2*t + n1*t^2 - n2*t^2 + L*n1*z1 + 4*c1*t*z1 - n1*t*z1 - 2*c1*z1^2 - L*n2*z2 - 4*c2*t*z2 + n2*t*z2 + 2*c2*z2^2 - n1*t + n2*t + n1*z1 - n2*z2)/r), (1/4*(4*L*c1*z1^2 - 4*c1*t*z1^2 + 4*L*c2*z2^2 - 4*c2*t*z2^2 - 4*L*c1*z1 - 2*L*n1*z1 + 2*n1*t*z1 + 4*c1*z1^2 - 4*L*c2*z2 - 2*L*n2*z2 + 2*n2*t*z2 + 4*c2*z2^2 + L*n1 + L*n2 - 2*n1*z1 - 2*n2*z2 - L)^2, -1/2*(4*L*c1*t*z1 - 4*c1*t^2*z1 - 2*L*c1*z1^2 + 2*c1*t*z1^2 - 4*L*c2*t*z2 + 4*c2*t^2*z2 + 2*L*c2*z2^2 - 2*c2*t*z2^2 - 2*L*c1*t + 2*L*c2*t - L*n1*t + L*n2*t + n1*t^2 - n2*t^2 + L*n1*z1 + 4*c1*t*z1 - n1*t*z1 - 2*c1*z1^2 - L*n2*z2 - 4*c2*t*z2 + n2*t*z2 + 2*c2*z2^2 - n1*t + n2*t + n1*z1 - n2*z2)*(4*L*c1*z1^2 - 4*c1*t*z1^2 + 4*L*c2*z2^2 - 4*c2*t*z2^2 - 4*L*c1*z1 - 2*L*n1*z1 + 2*n1*t*z1 + 4*c1*z1^2 - 4*L*c2*z2 - 2*L*n2*z2 + 2*n2*t*z2 + 4*c2*z2^2 + L*n1 + L*n2 - 2*n1*z1 - 2*n2*z2 - L)/r, -(4*L*c1*z1^2 - 4*c1*t*z1^2 + 4*L*c2*z2^2 - 4*c2*t*z2^2 - 4*L*c1*z1 - 2*L*n1*z1 + 2*n1*t*z1 + 4*c1*z1^2 - 4*L*c2*z2 - 2*L*n2*z2 + 2*n2*t*z2 + 4*c2*z2^2 + L*n1 + L*n2 - 2*n1*z1 - 2*n2*z2 - L)*(2*c1*z1^2 - 2*c2*z2^2 - n1*z1 + n2*z2)*r/t, -4*L*c1*z1^2 + 4*c1*t*z1^2 - 4*L*c2*z2^2 + 4*c2*t*z2^2 + 4*L*c1*z1 + 2*L*n1*z1 - 2*n1*t*z1 - 4*c1*z1^2 + 4*L*c2*z2 + 2*L*n2*z2 - 2*n2*t*z2 - 4*c2*z2^2 - L*n1 - L*n2 + 2*n1*z1 + 2*n2*z2 + L)])"
   ]
  },
  {
   "cell_type": "markdown",
   "metadata": {},
   "source": [
    "## Brackets among residues\n",
    "\n",
    "Let us define a dictionary containing each brackent $[A_i,A_j]$ under the key $(i,j)$."
   ]
  },
  {
   "cell_type": "code",
   "execution_count": 14,
   "metadata": {},
   "outputs": [
    {
     "name": "stdout",
     "output_type": "stream",
     "text": [
      "keys: [(0, 0), (0, 1), (0, 2), (0, 3), (1, 0), (1, 1), (1, 2), (1, 3), (2, 0), (2, 1), (2, 2), (2, 3), (3, 0), (3, 1), (3, 2), (3, 3)] \n",
      "\n",
      "CPU times: user 37.2 s, sys: 224 ms, total: 37.4 s\n",
      "Wall time: 33.7 s\n"
     ]
    }
   ],
   "source": [
    "%%time\n",
    "#best: 33.4s // 57.1s\n",
    "\n",
    "brkt_dict = {}\n",
    "\n",
    "for i in range(4):\n",
    "    for j in range(4):\n",
    "        if i < j:\n",
    "            bracket = (A[i]*A[j] - A[j]*A[i]).simplify_rational().factor()\n",
    "            brkt_dict.update({(i,j): bracket})\n",
    "            \n",
    "for i in range(4):\n",
    "    for j in range(4):\n",
    "        if i > j:\n",
    "            bracket = -brkt_dict[(j,i)]\n",
    "            brkt_dict.update({(i,j): bracket})\n",
    "    \n",
    "for i in range(4):\n",
    "    brkt_dict.update({(i,i): matrix(4)})\n",
    "            \n",
    "print 'keys:', sorted(brkt_dict.keys()), '\\n'"
   ]
  },
  {
   "cell_type": "code",
   "execution_count": 15,
   "metadata": {},
   "outputs": [
    {
     "name": "stdout",
     "output_type": "stream",
     "text": [
      "CPU times: user 1.95 s, sys: 4 ms, total: 1.96 s\n",
      "Wall time: 1.79 s\n"
     ]
    }
   ],
   "source": [
    "%%time\n",
    "bracket = A[0]*dGGi - dGGi*A[0]\n",
    "bracket.subs(dictGamma).simplify_rational().factor()\n",
    "brkt_dict.update({(0, 'G'): bracket})"
   ]
  },
  {
   "cell_type": "code",
   "execution_count": 16,
   "metadata": {},
   "outputs": [
    {
     "name": "stdout",
     "output_type": "stream",
     "text": [
      "CPU times: user 40 s, sys: 144 ms, total: 40.2 s\n",
      "Wall time: 36.4 s\n"
     ]
    }
   ],
   "source": [
    "%%time\n",
    "bracket = A[0]*gamma - gamma*A[0]\n",
    "bracket = bracket.simplify_rational().factor()\n",
    "bracket = w3*bracket\n",
    "brkt_dict.update({(0, 'g3'): bracket})"
   ]
  },
  {
   "cell_type": "markdown",
   "metadata": {},
   "source": [
    "### One particular equation:\n",
    "\n",
    "$\\frac{\\partial A_0}{\\partial a_3} = \\frac{[A_0,A_3]}{-a_3} - [A_0, \\frac{\\partial\\Gamma}{\\partial a_3}\\Gamma^{-1}] - [A_0, \\gamma_3]$"
   ]
  },
  {
   "cell_type": "code",
   "execution_count": 17,
   "metadata": {
    "scrolled": false
   },
   "outputs": [
    {
     "name": "stdout",
     "output_type": "stream",
     "text": [
      "CPU times: user 1min 25s, sys: 236 ms, total: 1min 26s\n",
      "Wall time: 1min 13s\n"
     ]
    }
   ],
   "source": [
    "%%time\n",
    "rhs = brkt_dict[(0, 3)]/-a3 - brkt_dict[(0, 'G')] - brkt_dict[(0, 'g3')]\n",
    "rhs = rhs.simplify_rational()"
   ]
  },
  {
   "cell_type": "code",
   "execution_count": 18,
   "metadata": {},
   "outputs": [
    {
     "data": {
      "text/plain": [
       "0"
      ]
     },
     "execution_count": 18,
     "metadata": {},
     "output_type": "execute_result"
    }
   ],
   "source": [
    "# Test:\n",
    "rhs[1][2].subs(rval).simplify_rational()"
   ]
  }
 ],
 "metadata": {
  "kernelspec": {
   "display_name": "SageMath 8.7.beta3",
   "language": "",
   "name": "sagemath"
  },
  "language_info": {
   "codemirror_mode": {
    "name": "ipython",
    "version": 2
   },
   "file_extension": ".py",
   "mimetype": "text/x-python",
   "name": "python",
   "nbconvert_exporter": "python",
   "pygments_lexer": "ipython2",
   "version": "2.7.15"
  }
 },
 "nbformat": 4,
 "nbformat_minor": 2
}
